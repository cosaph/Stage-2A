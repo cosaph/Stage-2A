{
 "cells": [
  {
   "cell_type": "code",
   "execution_count": 10,
   "metadata": {},
   "outputs": [],
   "source": [
    "import pandas as pd\n",
    "import numpy as np\n",
    "import matplotlib.pyplot as plt"
   ]
  },
  {
   "cell_type": "code",
   "execution_count": 11,
   "metadata": {},
   "outputs": [],
   "source": [
    "data_pro = pd.read_csv('/Users/cosaph/Desktop/fc servette/Coralie/Match_player/Export Servette Pro - all games.csv')\n",
    "\n",
    "\n",
    "data_M21 = pd.read_csv('/Users/cosaph/Desktop/fc servette/Coralie/Match_player/Servette Academy M21 - Match 23_24.csv')\n",
    "correspondance_M21 = pd.read_csv('/Users/cosaph/Desktop/fc servette/Coralie/corespondance/Servette Academy M21 - Correspondance.csv')\n",
    "\n",
    "data_M19 = pd.read_csv('/Users/cosaph/Desktop/fc servette/Coralie/Match_player/Servette Academy M19 - Match 23_24.csv')\n",
    "correspondance_M19 = pd.read_csv('/Users/cosaph/Desktop/fc servette/Coralie/corespondance/Servette Academy M19 - Correspondance.csv')\n",
    "\n",
    "data_M21 = pd.merge(data_M21, correspondance_M21, on='PLAYER_ID', how='left')\n",
    "data_M19 = pd.merge(data_M19, correspondance_M19, on='PLAYER_ID', how='left')\n",
    "\n",
    "position = pd.read_csv('/Users/cosaph/Desktop/fc servette/Coralie/sfc.csv')"
   ]
  },
  {
   "cell_type": "code",
   "execution_count": 12,
   "metadata": {},
   "outputs": [],
   "source": [
    "# supprimer les colonnes inutiles RPE,Sensations,Sommeil, VENUE,Forme physique,Humeur, Puissance métabolique\n",
    "\n",
    "data_pro = data_pro.drop(['RPE','Sensations','Sommeil','VENUE','Forme physique','Humeur','Puissance métabolique', 'OPPONENT'], axis=1)\n",
    "\n",
    "# pour les M21 THEME,TYPE_ID,OPPONENT,VENUE\n",
    "\n",
    "data_M21 = data_M21.drop(['THEME','TYPE_ID','OPPONENT','VENUE', 'Distance explosive', \"Temps d'activité\"], axis=1)\n",
    "data_M19 = data_M19.drop(['OPPONENT','TYPE_ID','VENUE', 'Distance explosive', \"Temps d'activité\"], axis=1)\n"
   ]
  },
  {
   "cell_type": "code",
   "execution_count": 13,
   "metadata": {},
   "outputs": [],
   "source": [
    "# enlever les lignes ou duration < 30\n",
    "data_pro = data_pro[data_pro['DURATION'] > 30]\n",
    "data_M21 = data_M21[data_M21['DURATION'] > 30]\n",
    "data_M19 = data_M19[data_M19['DURATION'] > 30]\n"
   ]
  },
  {
   "cell_type": "code",
   "execution_count": 14,
   "metadata": {},
   "outputs": [],
   "source": [
    "# prendre les noms des joueurs GK \n",
    "\n",
    "position = position[position['Profil'] == 'GK']\n",
    "#print(position)\n",
    "\n",
    "# concaténeer le nom et le prénom sous la forme L.Besson\n",
    "\n",
    "#position['Nom'] = position['Prenom'].str[0] + '.' + position['Nom']\n",
    "#print(position['Nom'])\n",
    "\n",
    "# delete J.Mall, J.Frick, L.Besson, M.AUBERT, M.LAPIERRE, A.OMERAGIC, J.TOMAS\n",
    "\n",
    "data_pro = data_pro[~data_pro['PLAYER_NAME'].isin(['J.Mall', 'J.Frick', 'L.Besson', 'M.AUBERT', 'M.LAPIERRE', 'A.OMERAGIC', 'J.TOMAS'])]\n",
    "data_M21 = data_M21[~data_M21['PLAYER_NAME'].isin(['J.Mall', 'J.Frick', 'L.Besson', 'M.AUBERT', 'M.LAPIERRE', 'A.OMERAGIC', 'J.TOMAS'])]\n",
    "data_M19 = data_M19[~data_M19['PLAYER_NAME'].isin(['J.Mall', 'J.Frick', 'L.Besson', 'M.AUBERT', 'M.LAPIERRE', 'A.OMERAGIC', 'J.TOMAS'])]"
   ]
  },
  {
   "cell_type": "code",
   "execution_count": 15,
   "metadata": {},
   "outputs": [],
   "source": [
    "# delete de data_pro les joueus de position['Nom']\n",
    "\n",
    "data_pro = data_pro[~data_pro['PLAYER_NAME'].isin(position['Nom'])]\n",
    "\n",
    "# delete de data_M21 les joueus de position['Nom']\n",
    "\n",
    "data_M21 = data_M21[~data_M21['PLAYER_NAME'].isin(position['Nom'])]\n"
   ]
  },
  {
   "cell_type": "code",
   "execution_count": 16,
   "metadata": {},
   "outputs": [],
   "source": [
    "# Pour toutes les colonnes dont il est question de distance et de nombre \n",
    "# on va diviser la variable / temps de jeu * 90\n",
    "\n",
    "# ces variables sont Distance [15-20]km/h,Distance [20-25]km/h,Distance [25-40]km/h Distance totale Nb acc [4/5] ms²,Nb dec [-5/-4] ms²,Nombre de sprints\n",
    "\n",
    "# drop data_pro['Distance [15-20]km/h']\n",
    "data_pro = data_pro.drop(['Distance [15-20]km/h'], axis=1)\n",
    "\n",
    "data_pro['Distance [20-25]km/h'] = data_pro['Distance [20-25]km/h'] / data_pro['DURATION'] * 90\n",
    "data_pro['Distance [25-40]km/h'] = data_pro['Distance [25-40]km/h'] / data_pro['DURATION'] * 90\n",
    "data_pro['Distance totale'] = data_pro['Distance totale'] / data_pro['DURATION'] * 90\n",
    "data_pro['Nb acc [4/5] ms²'] = data_pro['Nb acc [4/5] ms²'] / data_pro['DURATION'] * 90\n",
    "data_pro['Nb dec [-5/-4] ms²'] = data_pro['Nb dec [-5/-4] ms²'] / data_pro['DURATION'] * 90\n",
    "data_pro['Nombre de sprints'] = data_pro['Nombre de sprints'] / data_pro['DURATION'] * 90\n",
    "\n",
    "\n",
    "# Drop FC max et FC moyenne\n",
    "data_pro = data_pro.drop(['FC max', 'FC moyenne'], axis=1)\n",
    "# pour les M21 Distance totale,Distance ≥ 20 km/h,Distance ≥ 25 km/h,Nb acc  ≥ 3.0m/s²,Nb acc [3/4] ms²,Nb acc [4/5] ms²,Nb acc [5/6] ms²,Nb dec  ≥ 3.0m/s²,Nb dec [-4/-3] ms²,Nb dec [-5/-4] ms²,Nb dec [-6/-5] ms²,Nb dec ≤ -3.0m/s²,Nombre d'efforts explosifs,Nombre d'entrées >20km/h,Nombre d'entrées >25km/h,Nombre de sprints\n",
    "\n",
    "data_M21['Distance totale'] = data_M21['Distance totale'] / data_M21['DURATION'] * 90\n",
    "data_M21['Distance [20-25]km/h'] = data_M21['Distance ≥ 20 km/h'] / data_M21['DURATION'] * 90\n",
    "data_M21['Distance [25-40]km/h'] = data_M21['Distance ≥ 25 km/h'] / data_M21['DURATION'] * 90\n",
    "\n",
    "data_M21 = data_M21.drop(['Nb acc  ≥ 3.0m/s²', 'Nb acc [3/4] ms²', 'Nb acc [5/6] ms²'], axis=1)\n",
    "\n",
    "data_M21['Nb acc [4/5] ms²'] = data_M21['Nb acc [4/5] ms²'] / data_M21['DURATION'] * 90\n",
    "\n",
    "data_M21 = data_M21.drop(['Nb dec  ≥ 3.0m/s²', 'Nb dec [-4/-3] ms²', 'Nb dec [-6/-5] ms²', 'Nb dec ≤ -3.0m/s²', 'Nombre d\\'efforts explosifs', 'Nombre d\\'entrées >20km/h', 'Nombre d\\'entrées >25km/h'], axis=1)\n",
    "\n",
    "data_M21['Nb dec [-5/-4] ms²'] = data_M21['Nb dec [-5/-4] ms²'] / data_M21['DURATION'] * 90\n",
    "data_M21['Nombre de sprints'] = data_M21['Nombre de sprints'] / data_M21['DURATION'] * 90\n",
    "\n",
    "# pour les M19 Distance totale,Distance ≥ 20 km/h,Distance ≥ 25 km/h,Nb acc  ≥ 3.0m/s²,Nb acc [3/4] ms²,Nb acc [4/5] ms²,Nb acc [5/6] ms²,Nb dec  ≥ 3.0m/s²,Nb dec [-4/-3] ms²,Nb dec [-5/-4] ms²,Nb dec [-6/-5] ms²,Nb dec ≤ -3.0m/s²,Nombre d'efforts explosifs,Nombre d'entrées >20km/h,Nombre d'entrées >25km/h,Nombre de sprints\n",
    "\n",
    "data_M19['Distance totale'] = data_M19['Distance totale'] / data_M19['DURATION'] * 90\n",
    "data_M19['Distance [20-25]km/h'] = data_M19['Distance ≥ 20 km/h'] / data_M19['DURATION'] * 90\n",
    "data_M19['Distance [25-40]km/h'] = data_M19['Distance ≥ 25 km/h'] / data_M19['DURATION'] * 90\n",
    "\n",
    "data_M19 = data_M19.drop(['Nb acc  ≥ 3.0m/s²', 'Nb acc [3/4] ms²', 'Nb acc [5/6] ms²'], axis=1)\n",
    "\n",
    "data_M19['Nb acc [4/5] ms²'] = data_M19['Nb acc [4/5] ms²'] / data_M19['DURATION'] * 90\n",
    "data_M19 = data_M19.drop(['Nb dec  ≥ 3.0m/s²', 'Nb dec [-4/-3] ms²', 'Nb dec [-6/-5] ms²', 'Nb dec ≤ -3.0m/s²', 'Nombre d\\'efforts explosifs', 'Nombre d\\'entrées >20km/h', 'Nombre d\\'entrées >25km/h'], axis=1)\n",
    "\n",
    "data_M19['Nb dec [-5/-4] ms²'] = data_M19['Nb dec [-5/-4] ms²'] / data_M19['DURATION'] * 90\n",
    "data_M19['Nombre de sprints'] = data_M19['Nombre de sprints'] / data_M19['DURATION'] * 90\n",
    "\n",
    "# drop Distance [0-7]km/h,Distance [15-20]km/h,Distance [3-7]km/h,Distance [7-15]km/h\n",
    "\n",
    "data_M21 = data_M21.drop(['Distance [0-7]km/h', 'Distance [15-20]km/h', 'Distance [3-7]km/h', 'Distance [7-15]km/h', 'Distance ≥ 20 km/h', 'Distance ≥ 25 km/h'], axis=1)\n",
    "data_M19 = data_M19.drop(['Distance [0-7]km/h', 'Distance [15-20]km/h', 'Distance [3-7]km/h', 'Distance [7-15]km/h', 'Distance ≥ 20 km/h','Distance ≥ 25 km/h'], axis=1)\n",
    "\n",
    "\n",
    "# distance m/min ??\n"
   ]
  },
  {
   "cell_type": "code",
   "execution_count": 17,
   "metadata": {},
   "outputs": [],
   "source": [
    "data_M21['Accélération max'] = data_M21['Peak accel']\n",
    "data_M21['Décélération max'] = data_M21['Peak decel']\n",
    "\n",
    "data_M19['Accélération max'] = data_M19['Peak accel']\n",
    "data_M19['Décélération max'] = data_M19['Peak decel']\n",
    "\n",
    "# drop Peak accel, Peak decel\n",
    "\n",
    "data_M21 = data_M21.drop(['Peak accel','Peak decel'], axis=1)\n",
    "data_M19 = data_M19.drop(['Peak accel','Peak decel'], axis=1)\n"
   ]
  },
  {
   "cell_type": "code",
   "execution_count": 18,
   "metadata": {},
   "outputs": [],
   "source": [
    "# save the data in a new csv file\n",
    "\n",
    "data_pro.to_csv('data_pro.csv', index=False)\n",
    "data_M21.to_csv('data_M21.csv', index=False)\n",
    "data_M19.to_csv('data_M19.csv', index=False)\n",
    "\n",
    "# merge data_pro and data_M21 and data_M19\n",
    "\n",
    "data = pd.concat([data_pro, data_M21, data_M19])\n",
    "\n",
    "data.to_csv('data.csv', index=False)\n"
   ]
  }
 ],
 "metadata": {
  "kernelspec": {
   "display_name": "mon_env",
   "language": "python",
   "name": "python3"
  },
  "language_info": {
   "codemirror_mode": {
    "name": "ipython",
    "version": 3
   },
   "file_extension": ".py",
   "mimetype": "text/x-python",
   "name": "python",
   "nbconvert_exporter": "python",
   "pygments_lexer": "ipython3",
   "version": "3.12.0"
  }
 },
 "nbformat": 4,
 "nbformat_minor": 2
}
