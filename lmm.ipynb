{
 "cells": [
  {
   "cell_type": "code",
   "execution_count": 234,
   "metadata": {},
   "outputs": [],
   "source": [
    "import pandas as pd\n",
    "import numpy as np\n",
    "import matplotlib.pyplot as plt\n",
    "import statsmodels.api as sm\n",
    "import statsmodels.formula.api as smf"
   ]
  },
  {
   "cell_type": "code",
   "execution_count": 235,
   "metadata": {},
   "outputs": [],
   "source": [
    "data = pd.read_csv('/Users/cosaph/Desktop/fc servette/data_management/data.csv')\n",
    "#print(data.head())"
   ]
  },
  {
   "cell_type": "code",
   "execution_count": 236,
   "metadata": {},
   "outputs": [
    {
     "name": "stdout",
     "output_type": "stream",
     "text": [
      "1076\n"
     ]
    }
   ],
   "source": [
    "print(len(data['PLAYER_NAME']))"
   ]
  },
  {
   "cell_type": "code",
   "execution_count": 237,
   "metadata": {},
   "outputs": [],
   "source": [
    "# toutes mes va \n",
    "# Accélération max,Distance [20-25]km/h,\n",
    "# Distance [25-40]km/h,Distance m/min,Distance totale,Décélération max,Nb acc [4/5] ms²,\n",
    "# Nb dec [-5/-4] ms²,Nombre de sprints,Vmax,Distance en sprint\n",
    "\n",
    "data['Accélération_max'] = data['Accélération max']\n",
    "data['Distance_20_25km_h'] = data['Distance [20-25]km/h']\n",
    "\n",
    "data['Distance_2540km_h'] = data['Distance [25-40]km/h']\n",
    "data['Distancemmin'] = data['Distance m/min']\n",
    "data['Distance_totale'] = data['Distance totale']\n",
    "data['Deceleration_max'] = data['Décélération max']\n",
    "data['Nb_acc_4_5ms'] = data['Nb acc [4/5] ms²']\n",
    "\n",
    "data['Nb_dec_5_4ms'] = data['Nb dec [-5/-4] ms²']\n",
    "data['Nombre_de_sprints'] = data['Nombre de sprints']\n",
    "#data['Distance_en_sprint'] = data['Distance en sprint']"
   ]
  },
  {
   "cell_type": "code",
   "execution_count": 238,
   "metadata": {},
   "outputs": [
    {
     "data": {
      "text/plain": [
       "' # pour le min group size , on va enlever les joueurs qui ont moins de 10 matchs\\n\\ngroup_sizes = data.groupby(\"PLAYER_NAME\").size()\\n#print(group_sizes)\\n\\ndata = data[data[\"PLAYER_NAME\"].isin(group_sizes[group_sizes > 22].index)]\\n\\n# pour le max group size , on va enlever les joueurs qui ont plus de 50 matchs\\n\\ngroup_sizes = data.groupby(\"PLAYER_NAME\").size()\\n#print(group_sizes)\\n\\n#data = data[data[\"PLAYER_NAME\"].isin(group_sizes[group_sizes < 50].index)] '"
      ]
     },
     "execution_count": 238,
     "metadata": {},
     "output_type": "execute_result"
    }
   ],
   "source": [
    "\"\"\" # pour le min group size , on va enlever les joueurs qui ont moins de 10 matchs\n",
    "\n",
    "group_sizes = data.groupby(\"PLAYER_NAME\").size()\n",
    "#print(group_sizes)\n",
    "\n",
    "data = data[data[\"PLAYER_NAME\"].isin(group_sizes[group_sizes > 22].index)]\n",
    "\n",
    "# pour le max group size , on va enlever les joueurs qui ont plus de 50 matchs\n",
    "\n",
    "group_sizes = data.groupby(\"PLAYER_NAME\").size()\n",
    "#print(group_sizes)\n",
    "\n",
    "#data = data[data[\"PLAYER_NAME\"].isin(group_sizes[group_sizes < 50].index)] \"\"\""
   ]
  },
  {
   "cell_type": "code",
   "execution_count": 239,
   "metadata": {},
   "outputs": [
    {
     "name": "stdout",
     "output_type": "stream",
     "text": [
      "Index(['SESSION_ID', 'PLAYER_ID', 'PLAYER_NAME', 'ATTENDANCE', 'DURATION',\n",
      "       'DATE', 'TEAM_ID', 'TYPE_ID', 'Accélération max',\n",
      "       'Distance [20-25]km/h', 'Distance [25-40]km/h', 'Distance m/min',\n",
      "       'Distance totale', 'Décélération max', 'Nb acc [4/5] ms²',\n",
      "       'Nb dec [-5/-4] ms²', 'Nombre de sprints', 'Vmax', 'Distance en sprint',\n",
      "       'Durée', 'Accélération_max', 'Distance_20_25km_h', 'Distance_2540km_h',\n",
      "       'Distancemmin', 'Distance_totale', 'Deceleration_max', 'Nb_acc_4_5ms',\n",
      "       'Nb_dec_5_4ms', 'Nombre_de_sprints'],\n",
      "      dtype='object')\n"
     ]
    }
   ],
   "source": [
    "print(data.columns)"
   ]
  },
  {
   "cell_type": "markdown",
   "metadata": {},
   "source": [
    "Distancemmin + Nombre_de_sprints + Accélération_max + Nb_acc_4_5ms + Vmax "
   ]
  },
  {
   "cell_type": "code",
   "execution_count": 262,
   "metadata": {},
   "outputs": [
    {
     "name": "stdout",
     "output_type": "stream",
     "text": [
      "Optimization terminated successfully.\n",
      "         Current function value: 0.263842\n",
      "         Iterations 8\n",
      "                           Logit Regression Results                           \n",
      "==============================================================================\n",
      "Dep. Variable:                  label   No. Observations:                 1076\n",
      "Model:                          Logit   Df Residuals:                     1068\n",
      "Method:                           MLE   Df Model:                            7\n",
      "Date:                Thu, 27 Jun 2024   Pseudo R-squ.:                  0.6164\n",
      "Time:                        10:28:54   Log-Likelihood:                -283.89\n",
      "converged:                       True   LL-Null:                       -739.99\n",
      "Covariance Type:            nonrobust   LLR p-value:                1.122e-192\n",
      "======================================================================================\n",
      "                         coef    std err          z      P>|z|      [0.025      0.975]\n",
      "--------------------------------------------------------------------------------------\n",
      "Intercept            -11.3666      1.253     -9.071      0.000     -13.823      -8.911\n",
      "Distance_20_25km_h    -0.0151      0.001    -13.831      0.000      -0.017      -0.013\n",
      "Distance_2540km_h      0.0209      0.002      9.519      0.000       0.017       0.025\n",
      "Distancemmin           0.1258      0.011     11.788      0.000       0.105       0.147\n",
      "Deceleration_max       0.4121      0.115      3.597      0.000       0.188       0.637\n",
      "Nb_acc_4_5ms          -0.0815      0.019     -4.394      0.000      -0.118      -0.045\n",
      "Nb_dec_5_4ms           0.0580      0.017      3.330      0.001       0.024       0.092\n",
      "Nombre_de_sprints      0.1967      0.022      8.951      0.000       0.154       0.240\n",
      "======================================================================================\n",
      "AIC: 583.788223885841\n",
      "BIC: 623.6362698116149\n",
      "Null deviance: 1479.9735966869625\n",
      "Residual deviance: 567.788223885841\n"
     ]
    }
   ],
   "source": [
    "\n",
    "# label = 1 si le joueur est Servette PRO 0 sinon\n",
    "\n",
    "data['label'] = np.where(data['TEAM_ID'] == 'Servette PRO', 1, 0)\n",
    "\n",
    "## modèle logistique simple\n",
    "model = smf.logit(\"label ~  Distance_20_25km_h + Distance_2540km_h + Distancemmin + Deceleration_max + Nb_acc_4_5ms + Nb_dec_5_4ms + Nombre_de_sprints \", data=data)\n",
    "results = model.fit()\n",
    "print(results.summary())\n",
    "\n",
    "print(\"AIC:\", results.aic)\n",
    "print(\"BIC:\", results.bic)\n",
    "\n",
    "# null deviance  'LogitResults' object has no attribute 'null_deviance'\n",
    "\n",
    "#null deviance = -2 * log likelihood du modèle nul\n",
    "\n",
    "null_deviance = -2 * results.llnull\n",
    "print(\"Null deviance:\", null_deviance)\n",
    "\n",
    "# residual deviance = -2 * log likelihood du modèle complet\n",
    "residual_deviance = -2 * results.llf\n",
    "print(\"Residual deviance:\", residual_deviance)\n",
    "\n",
    "\n"
   ]
  },
  {
   "cell_type": "code",
   "execution_count": 264,
   "metadata": {},
   "outputs": [
    {
     "name": "stdout",
     "output_type": "stream",
     "text": [
      "Chi-deux Statistic: 912.19\n",
      "Degrees of Freedom: 10\n",
      "P-value: 0.000e+00\n",
      "Le modèle est significatif au niveau de 5%.\n"
     ]
    }
   ],
   "source": [
    "import scipy.stats as stats\n",
    "\n",
    "# Données du modèle\n",
    "null_deviance = 1479.97\n",
    "residual_deviance = 567.78\n",
    "df_model = 10\n",
    "\n",
    "# Calcul de la statistique du chi-deux\n",
    "chi2_stat = null_deviance - residual_deviance\n",
    "\n",
    "# Calcul du p-value\n",
    "p_value = 1 - stats.chi2.cdf(chi2_stat, df_model)\n",
    "\n",
    "print(f\"Chi-deux Statistic: {chi2_stat:.2f}\")\n",
    "print(f\"Degrees of Freedom: {df_model}\")\n",
    "print(f\"P-value: {p_value:.3e}\")\n",
    "\n",
    "# Interprétation\n",
    "if p_value < 0.05:\n",
    "    print(\"Le modèle est significatif au niveau de 5%.\")\n",
    "else:\n",
    "    print(\"Le modèle n'est pas significatif au niveau de 5%.\")\n"
   ]
  },
  {
   "cell_type": "code",
   "execution_count": 242,
   "metadata": {},
   "outputs": [
    {
     "name": "stdout",
     "output_type": "stream",
     "text": [
      "                            OLS Regression Results                            \n",
      "==============================================================================\n",
      "Dep. Variable:                  label   R-squared:                       0.317\n",
      "Model:                            OLS   Adj. R-squared:                  0.313\n",
      "Method:                 Least Squares   F-statistic:                     82.62\n",
      "Date:                Thu, 27 Jun 2024   Prob (F-statistic):           5.27e-85\n",
      "Time:                        10:27:06   Log-Likelihood:                -570.11\n",
      "No. Observations:                1076   AIC:                             1154.\n",
      "Df Residuals:                    1069   BIC:                             1189.\n",
      "Df Model:                           6                                         \n",
      "Covariance Type:            nonrobust                                         \n",
      "=====================================================================================\n",
      "                        coef    std err          t      P>|t|      [0.025      0.975]\n",
      "-------------------------------------------------------------------------------------\n",
      "Intercept            -0.9328      0.133     -6.998      0.000      -1.194      -0.671\n",
      "Distancemmin          0.0109      0.001     14.738      0.000       0.009       0.012\n",
      "Nombre_de_sprints     0.0174      0.002     10.459      0.000       0.014       0.021\n",
      "Accélération_max      0.0494      0.019      2.639      0.008       0.013       0.086\n",
      "Deceleration_max      0.0454      0.013      3.511      0.000       0.020       0.071\n",
      "Nb_acc_4_5ms         -0.0183      0.002     -9.659      0.000      -0.022      -0.015\n",
      "Nb_dec_5_4ms         -0.0033      0.002     -1.854      0.064      -0.007       0.000\n",
      "==============================================================================\n",
      "Omnibus:                       79.346   Durbin-Watson:                   0.538\n",
      "Prob(Omnibus):                  0.000   Jarque-Bera (JB):               27.456\n",
      "Skew:                          -0.042   Prob(JB):                     1.09e-06\n",
      "Kurtosis:                       2.222   Cond. No.                     1.09e+03\n",
      "==============================================================================\n",
      "\n",
      "Notes:\n",
      "[1] Standard Errors assume that the covariance matrix of the errors is correctly specified.\n",
      "[2] The condition number is large, 1.09e+03. This might indicate that there are\n",
      "strong multicollinearity or other numerical problems.\n"
     ]
    }
   ],
   "source": [
    "# modele linéaire \n",
    "model_lin = smf.ols(\"label ~ Distancemmin + Nombre_de_sprints + Accélération_max + Deceleration_max + Nb_acc_4_5ms + Nb_dec_5_4ms + Nombre_de_sprints \", data)\n",
    "results_lin = model_lin.fit()\n",
    "print(results_lin.summary())"
   ]
  },
  {
   "cell_type": "code",
   "execution_count": 243,
   "metadata": {},
   "outputs": [
    {
     "name": "stdout",
     "output_type": "stream",
     "text": [
      "-----------------\n"
     ]
    },
    {
     "name": "stdout",
     "output_type": "stream",
     "text": [
      "3      0.999844\n",
      "10     0.784407\n",
      "20     0.999738\n",
      "82     0.879031\n",
      "90     0.853679\n",
      "94     0.818316\n",
      "116    0.935140\n",
      "120    0.954905\n",
      "128    0.985370\n",
      "141    0.998763\n",
      "149    0.999862\n",
      "156    0.990530\n",
      "218    0.813440\n",
      "234    0.516117\n",
      "239    0.785898\n",
      "254    0.999722\n",
      "264    0.996001\n",
      "268    0.417926\n",
      "281    0.565133\n",
      "289    0.944206\n",
      "300    0.986350\n",
      "306    0.972715\n",
      "325    0.806550\n",
      "332    0.999976\n",
      "343    0.996052\n",
      "354    0.997942\n",
      "367    0.999975\n",
      "381    0.993317\n",
      "390    0.555057\n",
      "395    0.848850\n",
      "406    0.999031\n",
      "414    0.968997\n",
      "427    0.998970\n",
      "441    0.993548\n",
      "449    0.884895\n",
      "457    0.930678\n",
      "dtype: float64\n",
      "-----------------\n"
     ]
    }
   ],
   "source": [
    "\n",
    "\n",
    "data_player = data[data['PLAYER_NAME'] == 'A.Antunes']\n",
    "# mettre les données dans le model\n",
    "# voir la proba que le joueur soit pro\n",
    "\n",
    "#print(results_lmm.predict(data_player))\n",
    "\n",
    "print('-----------------')\n",
    "print(results.predict(data_player))\n",
    "\n",
    "# ajouter le results dans le dataframe data.csv dans la colonne proba_pro\n",
    "\n",
    "data['proba_pro'] = results.predict(data)\n",
    "\n",
    "# save the data\n",
    "data.to_csv('data_model.csv', index=False)\n",
    "\n",
    "print('-----------------')\n",
    "#print(results_lin.predict(data_player))\n"
   ]
  },
  {
   "cell_type": "code",
   "execution_count": 244,
   "metadata": {},
   "outputs": [
    {
     "data": {
      "application/vnd.plotly.v1+json": {
       "config": {
        "plotlyServerURL": "https://plot.ly"
       },
       "data": [
        {
         "hovertemplate": "<b>%{hovertext}</b><br><br>months=%{x}<br>Probability (proba_pro)=%{y}<br>Team ID=%{marker.color}<extra></extra>",
         "hovertext": [
          "S.Rouiller",
          "B.Mazikou",
          "Y.Severin",
          "A.Antunes",
          "T.Cognat",
          "D.Douline",
          "E.Crivelli",
          "K.Tsunemoto",
          "E.Crivelli",
          "Y.Severin",
          "A.Antunes",
          "T.Cognat",
          "J.Guillemenot",
          "S.Rouiller",
          "D.Douline",
          "A.Baron",
          "K.Tsunemoto",
          "B.Mazikou",
          "D.Kutesa",
          "Y.Severin",
          "A.Antunes",
          "T.Cognat",
          "B.Mazikou",
          "D.Douline",
          "S.Rouiller",
          "S.Rouiller",
          "G.Ondoua",
          "D.Kutesa",
          "E.Crivelli",
          "J.Guillemenot",
          "D.Douline",
          "Y.Severin",
          "A.Baron",
          "D.Douline",
          "J.Guillemenot",
          "T.Cognat",
          "Y.Severin",
          "B.Mazikou",
          "S.Rouiller",
          "J.Guillemenot",
          "T.Cognat",
          "E.Crivelli",
          "D.Douline",
          "G.Ondoua",
          "S.Rouiller",
          "A.Baron",
          "D.Kutesa",
          "G.Ondoua",
          "J.Guillemenot",
          "B.Mazikou",
          "Y.Severin",
          "E.Crivelli",
          "S.Rouiller",
          "T.Cognat",
          "S.Lele diba",
          "M.Stevanovic",
          "T.Cognat",
          "J.Guillemenot",
          "D.Douline",
          "A.Baron",
          "E.Crivelli",
          "B.Mazikou",
          "A.Baron",
          "S.Rouiller",
          "B.Mazikou",
          "D.Kutesa",
          "E.Crivelli",
          "Y.Severin",
          "T.Cognat",
          "J.Guillemenot",
          "E.Crivelli",
          "G.Ondoua",
          "T.Cognat",
          "D.Douline",
          "S.Rouiller",
          "A.Baron",
          "Y.Severin",
          "D.Kutesa",
          "B.Mazikou",
          "T.Cognat",
          "S.Rouiller",
          "M.Stevanovic",
          "A.Antunes",
          "Y.Severin",
          "D.Douline",
          "T.Cognat",
          "D.Douline",
          "S.Rouiller",
          "M.Stevanovic",
          "Y.Severin",
          "A.Antunes",
          "B.Mazikou",
          "A.Baron",
          "T.Cognat",
          "A.Antunes",
          "Y.Severin",
          "E.Crivelli",
          "G.Ondoua",
          "M.Stevanovic",
          "S.Rouiller",
          "D.Kutesa",
          "T.Cognat",
          "E.Crivelli",
          "D.Kutesa",
          "G.Ondoua",
          "B.Mazikou",
          "M.Stevanovic",
          "S.Rouiller",
          "Y.Severin",
          "D.Douline",
          "J.Guillemenot",
          "T.Cognat",
          "K.Tsunemoto",
          "Y.Severin",
          "B.Mazikou",
          "M.Stevanovic",
          "A.Antunes",
          "T.Cognat",
          "E.Crivelli",
          "Y.Severin",
          "A.Antunes",
          "K.Tsunemoto",
          "J.Guillemenot",
          "B.Mazikou",
          "M.Stevanovic",
          "G.Ondoua",
          "K.Tsunemoto",
          "T.Cognat",
          "A.Antunes",
          "Y.Severin",
          "E.Crivelli",
          "B.Mazikou",
          "M.Stevanovic",
          "D.Douline",
          "Y.Severin",
          "B.Mazikou",
          "M.Stevanovic",
          "D.Kutesa",
          "S.Rouiller",
          "K.Tsunemoto",
          "T.Cognat",
          "A.Antunes",
          "D.Douline",
          "D.Douline",
          "E.Crivelli",
          "M.Stevanovic",
          "B.Mazikou",
          "G.Ondoua",
          "J.Guillemenot",
          "A.Antunes",
          "Y.Severin",
          "G.Ondoua",
          "M.Stevanovic",
          "B.Mazikou",
          "S.Rouiller",
          "Y.Severin",
          "A.Antunes",
          "T.Cognat",
          "K.Tsunemoto",
          "D.Douline",
          "B.Mazikou",
          "M.Stevanovic",
          "S.Rouiller",
          "E.Crivelli",
          "S.Lele diba",
          "K.Tsunemoto",
          "T.Magnin",
          "T.Cognat",
          "J.Guillemenot",
          "G.Ondoua",
          "S.Rouiller",
          "T.Cognat",
          "D.Douline",
          "Y.Severin",
          "K.Tsunemoto",
          "D.Kutesa",
          "G.Ondoua",
          "B.Mazikou",
          "M.Stevanovic",
          "T.Cognat",
          "T.Magnin",
          "Y.Severin",
          "E.Crivelli",
          "D.Kutesa",
          "G.Ondoua",
          "M.Stevanovic",
          "S.Rouiller",
          "B.Mazikou",
          "S.Rouiller",
          "B.Mazikou",
          "D.Kutesa",
          "E.Crivelli",
          "S.Lele diba",
          "Y.Severin",
          "K.Tsunemoto",
          "J.Guillemenot",
          "T.Cognat",
          "A.Baron",
          "J.Guillemenot",
          "K.Tsunemoto",
          "Y.Severin",
          "D.Kutesa",
          "G.Ondoua",
          "S.Rouiller",
          "T.Cognat",
          "G.Ondoua",
          "M.Stevanovic",
          "S.Rouiller",
          "T.Cognat",
          "K.Tsunemoto",
          "Y.Severin",
          "A.Baron",
          "S.Rouiller",
          "M.Stevanovic",
          "B.Mazikou",
          "G.Ondoua",
          "D.Kutesa",
          "Y.Severin",
          "A.Antunes",
          "T.Cognat",
          "K.Tsunemoto",
          "J.Guillemenot",
          "A.Baron",
          "K.Tsunemoto",
          "T.Cognat",
          "Y.Severin",
          "D.Kutesa",
          "G.Ondoua",
          "M.Stevanovic",
          "S.Rouiller",
          "S.Lele diba",
          "M.Stevanovic",
          "G.Ondoua",
          "T.Magnin",
          "A.Antunes",
          "T.Cognat",
          "K.Tsunemoto",
          "A.Baron",
          "Y.Severin",
          "A.Antunes",
          "K.Tsunemoto",
          "T.Cognat",
          "G.Ondoua",
          "D.Kutesa",
          "B.Mazikou",
          "M.Stevanovic",
          "S.Rouiller",
          "Y.Severin",
          "D.Kutesa",
          "B.Mazikou",
          "M.Stevanovic",
          "S.Rouiller",
          "Y.Severin",
          "T.Magnin",
          "A.Antunes",
          "T.Cognat",
          "K.Tsunemoto",
          "J.Guillemenot",
          "D.Kutesa",
          "G.Ondoua",
          "B.Mazikou",
          "M.Stevanovic",
          "S.Rouiller",
          "Y.Severin",
          "A.Antunes",
          "T.Cognat",
          "K.Tsunemoto",
          "J.Guillemenot",
          "A.Antunes",
          "T.Magnin",
          "Y.Severin",
          "E.Crivelli",
          "D.Kutesa",
          "G.Ondoua",
          "T.Cognat",
          "K.Tsunemoto",
          "J.Guillemenot",
          "S.Rouiller",
          "B.Mazikou",
          "K.Tsunemoto",
          "T.Cognat",
          "A.Antunes",
          "Y.Severin",
          "E.Crivelli",
          "G.Ondoua",
          "B.Mazikou",
          "S.Rouiller",
          "K.Tsunemoto",
          "T.Cognat",
          "A.Antunes",
          "T.Magnin",
          "Y.Severin",
          "D.Kutesa",
          "G.Ondoua",
          "B.Mazikou",
          "S.Rouiller",
          "B.Mazikou",
          "M.Stevanovic",
          "J.Guillemenot",
          "K.Tsunemoto",
          "A.Antunes",
          "T.Cognat",
          "Y.Severin",
          "E.Crivelli",
          "G.Ondoua",
          "T.Magnin",
          "A.Antunes",
          "J.Guillemenot",
          "K.Tsunemoto",
          "T.Cognat",
          "M.Stevanovic",
          "B.Mazikou",
          "G.Ondoua",
          "D.Kutesa",
          "D.Bronn",
          "S.Rouiller",
          "Y.Severin",
          "M.Stevanovic",
          "K.Tsunemoto",
          "S.Rouiller",
          "T.Cognat",
          "T.Magnin",
          "E.Crivelli",
          "G.Ondoua",
          "B.Mazikou",
          "A.Antunes",
          "S.Rouiller",
          "M.Stevanovic",
          "B.Mazikou",
          "G.Ondoua",
          "D.Kutesa",
          "Y.Severin",
          "A.Antunes",
          "T.Cognat",
          "K.Tsunemoto",
          "M.Stevanovic",
          "A.Baron",
          "G.Ondoua",
          "Y.Severin",
          "T.Magnin",
          "T.Cognat",
          "J.Guillemenot",
          "D.Bronn",
          "A.Antunes",
          "M.Stevanovic",
          "S.Rouiller",
          "G.Ondoua",
          "D.Kutesa",
          "E.Crivelli",
          "T.Magnin",
          "B.Mazikou",
          "T.Cognat",
          "K.Tsunemoto",
          "D.Bronn",
          "A.Antunes",
          "G.Ondoua",
          "D.Kutesa",
          "E.Crivelli",
          "Y.Severin",
          "T.Magnin",
          "S.Lele diba",
          "K.Tsunemoto",
          "J.Guillemenot",
          "M.Stevanovic",
          "S.Rouiller",
          "J.Guillemenot",
          "T.Cognat",
          "A.Antunes",
          "Y.Severin",
          "D.Kutesa",
          "G.Ondoua",
          "B.Mazikou",
          "M.Stevanovic",
          "S.Rouiller",
          "K.Tsunemoto",
          "S.Rouiller",
          "M.Stevanovic",
          "B.Mazikou",
          "D.Kutesa",
          "G.Ondoua",
          "Y.Severin",
          "A.Antunes",
          "T.Cognat",
          "K.Tsunemoto",
          "S.Rouiller",
          "M.Stevanovic",
          "B.Mazikou",
          "G.Ondoua",
          "K.Tsunemoto",
          "T.Cognat",
          "A.Antunes",
          "Y.Severin",
          "D.Bronn",
          "D.Douline",
          "T.Cognat",
          "A.Antunes",
          "S.Rouiller",
          "M.Stevanovic",
          "B.Mazikou",
          "E.Crivelli",
          "T.Magnin",
          "S.Rouiller",
          "M.Stevanovic",
          "B.Mazikou",
          "G.Ondoua",
          "E.Crivelli",
          "A.Antunes",
          "Y.Severin",
          "T.Cognat",
          "K.Tsunemoto",
          "J.Guillemenot",
          "A.Baron",
          "K.Tsunemoto",
          "T.Cognat",
          "A.Antunes",
          "Y.Severin",
          "D.Kutesa",
          "G.Ondoua",
          "B.Mazikou",
          "M.Stevanovic",
          "S.Rouiller",
          "S.Rouiller",
          "M.Stevanovic",
          "B.Mazikou",
          "D.Kutesa",
          "Y.Severin",
          "T.Cognat",
          "A.Antunes",
          "D.Bronn",
          "K.Tsunemoto",
          "Y.Severin",
          "K.Tsunemoto",
          "D.Bronn",
          "T.Cognat",
          "B.Mazikou",
          "M.Stevanovic",
          "S.Rouiller",
          "M.Stevanovic",
          "S.Rouiller",
          "E.Crivelli",
          "Y.Severin",
          "A.Antunes",
          "T.Cognat",
          "K.Tsunemoto",
          "D.Douline",
          "D.Bronn",
          "J.Guillemenot",
          "K.Tsunemoto",
          "T.Magnin",
          "A.Antunes",
          "Y.Severin",
          "M.Stevanovic",
          "S.Rouiller",
          "T.Cognat",
          "S.Rouiller",
          "Y.Severin",
          "T.Magnin",
          "A.Antunes",
          "T.Cognat",
          "M.Stevanovic",
          "J.Guillemenot",
          "D.Douline",
          "A.Baron",
          "D.Bronn",
          "D.Douline",
          "J.Guillemenot",
          "K.Tsunemoto",
          "T.Magnin",
          "G.Ondoua",
          "B.Mazikou",
          "M.Stevanovic",
          "T.Cognat",
          "S.Rouiller",
          "T.Magnin",
          "B.Mazikou",
          "G.Ondoua",
          "Y.Severin",
          "T.Cognat",
          "J.Guillemenot",
          "D.Bronn",
          "K.Tsunemoto",
          "M.Stevanovic",
          "J.Simo",
          "P.Weber",
          "O.Sene",
          "A.Salihi",
          "M.Rizvanovic",
          "R.Guillaume",
          "M.Leclercq",
          "L.Scandurra",
          "L.Srdanovic",
          "L.Zuka",
          "L.Sestito",
          "A.Dias patricio",
          "M.Clavel",
          "A.Mhoumadi",
          "O.Daf",
          "S.Fankhauser",
          "L.Ndema",
          "C.Routis",
          "R.Benammar",
          "O.Sene",
          "M.Clavel",
          "C.Routis",
          "R.Benammar",
          "S.Fankhauser",
          "O.Daf",
          "P.Weber",
          "A.Dias patricio",
          "L.Ndema",
          "L.Zuka",
          "L.Sestito",
          "J.Simo",
          "A.Salihi",
          "M.Rizvanovic",
          "M.Leclercq",
          "L.Srdanovic",
          "R.Guillaume",
          "L.Sestito",
          "L.Srdanovic",
          "L.Zuka",
          "C.Routis",
          "L.Ndema",
          "M.Rizvanovic",
          "O.Daf",
          "P.Weber",
          "O.Sene",
          "J.Simo",
          "L.Srdanovic",
          "L.Scandurra",
          "A.Salihi",
          "L.Zuka",
          "L.Sestito",
          "A.Dias patricio",
          "J.Simo",
          "C.Routis",
          "O.Sene",
          "P.Weber",
          "J.Simo",
          "A.Mhoumadi",
          "V.Tritten",
          "L.Sestito",
          "L.Ndema",
          "L.Zuka",
          "C.Routis",
          "V.Tritten",
          "L.Ndema",
          "C.Routis",
          "A.Mhoumadi",
          "A.Dias patricio",
          "L.Zuka",
          "M.Leclercq",
          "R.Guillaume",
          "M.Rizvanovic",
          "J.Simo",
          "L.Srdanovic",
          "L.Scandurra",
          "J.Simo",
          "O.Sene",
          "R.Guillaume",
          "L.Srdanovic",
          "A.Mhoumadi",
          "C.Routis",
          "O.Daf",
          "V.Tritten",
          "P.Weber",
          "R.Benammar",
          "L.Scandurra",
          "A.Salihi",
          "P.Weber",
          "V.Tritten",
          "M.Rizvanovic",
          "J.Simo",
          "L.Sestito",
          "A.Mhoumadi",
          "C.Routis",
          "L.Srdanovic",
          "P.Weber",
          "J.Simo",
          "M.Rizvanovic",
          "L.Srdanovic",
          "L.Sestito",
          "A.Mhoumadi",
          "C.Routis",
          "S.Fankhauser",
          "V.Tritten",
          "O.Sene",
          "P.Weber",
          "S.Fankhauser",
          "L.Ndema",
          "C.Routis",
          "A.Mhoumadi",
          "O.Sene",
          "I.Kaloga",
          "L.Sestito",
          "L.Scandurra",
          "J.Simo",
          "V.Tritten",
          "F.Annor-mensah",
          "O.Daf",
          "I.Kaloga",
          "S.Fankhauser",
          "C.Routis",
          "J.Simo",
          "M.Rizvanovic",
          "L.Zuka",
          "T.Ouattara",
          "P.Weber",
          "V.Tritten",
          "F.Annor-mensah",
          "L.Ndema",
          "T.Ouattara",
          "B.Fofana",
          "P.Weber",
          "V.Tritten",
          "O.Daf",
          "F.Annor-mensah",
          "N.Henchoz",
          "C.Routis",
          "I.Kaloga",
          "S.Lele diba",
          "L.Zuka",
          "M.Rizvanovic",
          "J.Simo",
          "L.Zuka",
          "L.Ndema",
          "J.Simo",
          "M.Rizvanovic",
          "I.Kaloga",
          "C.Routis",
          "O.Sene",
          "N.Henchoz",
          "F.Annor-mensah",
          "O.Daf",
          "P.Weber",
          "B.Fofana",
          "T.Ouattara",
          "O.Sene",
          "P.Weber",
          "V.Tritten",
          "F.Annor-mensah",
          "N.Henchoz",
          "C.Routis",
          "L.Srdanovic",
          "M.Rizvanovic",
          "I.Kaloga",
          "V.Berhami",
          "A.Mhoumadi",
          "A.Dias patricio",
          "L.Ndema",
          "O.Sene",
          "P.Weber",
          "S.Fankhauser",
          "N.Henchoz",
          "H.Touati",
          "V.Berhami",
          "A.Dias patricio",
          "I.Kaloga",
          "J.Simo",
          "L.Zuka",
          "O.Sene",
          "T.Ouattara",
          "B.Fofana",
          "P.Weber",
          "V.Tritten",
          "C.Routis",
          "N.Henchoz",
          "L.Ndema",
          "J.Simo",
          "L.Scandurra",
          "V.Berhami",
          "S.Fankhauser",
          "O.Sene",
          "B.Fofana",
          "S.Lele diba",
          "A.Dias patricio",
          "I.Kaloga",
          "T.Ouattara",
          "V.Berhami",
          "L.Ndema",
          "N.Henchoz",
          "S.Fankhauser",
          "P.Weber",
          "J.Simo",
          "A.Lyng",
          "P.Weber",
          "M.Diallo",
          "T.Ouattara",
          "B.Fofana",
          "V.Tritten",
          "N.Henchoz",
          "S.Fankhauser",
          "V.Berhami",
          "I.Kaloga",
          "R.Rodelin",
          "S.Fankhauser",
          "R.Benammar",
          "P.Weber",
          "A.Dias patricio",
          "I.Kaloga",
          "C.Routis",
          "V.Tritten",
          "O.Sene",
          "T.Ouattara",
          "A.Lyng",
          "J.Simo",
          "M.Rizvanovic",
          "L.Zuka",
          "I.Kaloga",
          "V.Berhami",
          "N.Henchoz",
          "P.Weber",
          "O.Daf",
          "V.Tritten",
          "T.Ouattara",
          "S.Fankhauser",
          "J.Simo",
          "M.Diallo",
          "A.Lyng",
          "O.Sene",
          "L.Zuka",
          "I.Kaloga",
          "T.Magnin",
          "R.Benammar",
          "H.Touati",
          "N.Henchoz",
          "S.Fankhauser",
          "P.Weber",
          "O.Sene",
          "M.Leclercq",
          "J.Simo",
          "R.Abdullah",
          "O.Sene",
          "P.Weber",
          "J.Simo",
          "M.Rizvanovic",
          "M.Leclercq",
          "L.Scandurra",
          "I.Petrisot",
          "R.Guillaume",
          "L.Zuka",
          "Y.Lahiouel",
          "N.Vlasenko",
          "S.Fankhauser",
          "R.Benammar",
          "F.Annor-mensah",
          "V.Berhami",
          "I.Kaloga",
          "L.Sestito",
          "C.Routis",
          "N.Vlasenko",
          "Y.Lahiouel",
          "V.Tritten",
          "P.Weber",
          "O.Sene",
          "V.Berhami",
          "O.Daf",
          "J.Simo",
          "M.Rizvanovic",
          "M.Clavel",
          "M.Leclercq",
          "R.Guillaume",
          "I.Kaloga",
          "F.Annor-mensah",
          "S.Fankhauser",
          "R.Benammar",
          "C.Routis",
          "L.Sestito",
          "L.Zuka",
          "P.Weber",
          "R.Guillaume",
          "M.Leclercq",
          "L.Zuka",
          "I.Kaloga",
          "V.Berhami",
          "M.Rizvanovic",
          "S.Fankhauser",
          "F.Annor-mensah",
          "O.Daf",
          "N.Vlasenko",
          "Y.Lahiouel",
          "V.Tritten",
          "O.Sene",
          "C.Routis",
          "J.Simo",
          "O.Sene",
          "P.Weber",
          "L.Sestito",
          "J.Simo",
          "M.Leclercq",
          "L.Zuka",
          "A.Dias patricio",
          "I.Kaloga",
          "S.Fankhauser",
          "F.Annor-mensah",
          "N.Vlasenko",
          "Y.Lahiouel",
          "V.Tritten",
          "J.Simo",
          "I.Petrisot",
          "L.Sestito",
          "I.Kaloga",
          "V.Berhami",
          "S.Fankhauser",
          "N.Vlasenko",
          "Y.Lahiouel",
          "R.Abdullah",
          "V.Tritten",
          "C.Routis",
          "O.Sene",
          "L.Sestito",
          "V.Tritten",
          "R.Abdullah",
          "Y.Lahiouel",
          "N.Vlasenko",
          "S.Fankhauser",
          "I.Kaloga",
          "L.Zuka",
          "I.Petrisot",
          "J.Simo",
          "R.Guillaume",
          "J.Simo",
          "V.Berhami",
          "I.Petrisot",
          "R.Abdullah",
          "Y.Lahiouel",
          "N.Vlasenko",
          "V.Tritten",
          "F.Annor-mensah",
          "S.Fankhauser",
          "A.Lyng",
          "A.Lyng",
          "V.Tritten",
          "T.Ouattara",
          "Y.Lahiouel",
          "N.Vlasenko",
          "S.Baddy",
          "S.Fankhauser",
          "I.Kaloga",
          "S.Lele diba",
          "J.Simo",
          "V.Berhami",
          "J.Simo",
          "L.Scandurra",
          "I.Petrisot",
          "L.Sestito",
          "I.Kaloga",
          "A.Lyng",
          "S.Baddy",
          "N.Vlasenko",
          "Y.Lahiouel",
          "R.Abdullah",
          "V.Tritten",
          "T.Ouattara",
          "O.Sene",
          "S.Fankhauser",
          "V.Tritten",
          "R.Abdullah",
          "N.Vlasenko",
          "S.Baddy",
          "S.Fankhauser",
          "V.Berhami",
          "L.Sestito",
          "M.Leclercq",
          "J.Simo",
          "O.Sene",
          "T.Ouattara",
          "O.Sene",
          "V.Tritten",
          "J.Simo",
          "I.Petrisot",
          "L.Sestito",
          "I.Kaloga",
          "V.Berhami",
          "S.Lele diba",
          "S.Baddy",
          "N.Vlasenko",
          "Y.Lahiouel",
          "R.Abdullah",
          "S.Fankhauser",
          "V.Tritten",
          "Y.Lahiouel",
          "N.Vlasenko",
          "S.Baddy",
          "F.Annor-mensah",
          "S.Fankhauser",
          "I.Kaloga",
          "S.Lele diba",
          "L.Sestito",
          "M.Leclercq",
          "A.Lyng",
          "R.Abdullah",
          "V.Berhami",
          "O.Sene",
          "A.Lyng",
          "L.Zuka",
          "I.Kaloga",
          "F.Annor-mensah",
          "S.Fankhauser",
          "Y.Lahiouel",
          "R.Abdullah",
          "V.Tritten",
          "O.Sene",
          "M.Rizvanovic",
          "J.Simo",
          "N.Vlasenko",
          "A.Lyng",
          "M.Leclercq",
          "L.Zuka",
          "L.Sestito",
          "I.Kaloga",
          "O.Sene",
          "C.Routis",
          "S.Fankhauser",
          "F.Annor-mensah",
          "S.Baddy",
          "N.Vlasenko",
          "V.Berhami",
          "V.Tritten",
          "R.Abdullah",
          "Y.Lahiouel",
          "Y.Lahiouel",
          "J.Simo",
          "S.Lele diba",
          "I.Kaloga",
          "V.Berhami",
          "S.Fankhauser",
          "V.Tritten",
          "R.Abdullah",
          "N.Vlasenko",
          "O.Sene",
          "M.Rizvanovic",
          "J.Simo",
          "N.Vlasenko",
          "L.Sestito",
          "O.Sene",
          "R.Abdullah",
          "Y.Lahiouel",
          "S.Baddy",
          "T.Ouattara",
          "V.Berhami",
          "I.Kaloga",
          "S.Lele diba",
          "C.Routis",
          "J.Simo",
          "L.Sestito",
          "I.Kaloga",
          "V.Berhami",
          "S.Fankhauser",
          "S.Baddy",
          "N.Vlasenko",
          "T.Ouattara",
          "O.Sene",
          "T.Ouattara",
          "Y.Lahiouel",
          "N.Vlasenko",
          "S.Baddy",
          "R.Abdullah",
          "M.Clavel",
          "V.Berhami",
          "I.Kaloga",
          "A.Dias patricio",
          "L.Sestito",
          "M.Rizvanovic",
          "J.Simo",
          "A.Lyng",
          "R.Gaud",
          "A.Selimi",
          "M.Anselme",
          "R.Ouchard",
          "E.Tsimba",
          "I.Ouchard",
          "M.Ishuayed",
          "M.Batista",
          "L.Tafaj",
          "R.Ouchard",
          "K.Pereira",
          "I.Ouchard",
          "N.Heller",
          "M.Miguel",
          "M.Anselme",
          "M.Ishuayed",
          "L.Tafaj",
          "M.Batista",
          "J.Fonseca costa",
          "M.Anselme",
          "A.Selimi",
          "M.Miguel",
          "K.Tologo",
          "N.Heller",
          "R.Philippin",
          "M.Batista",
          "L.Tafaj",
          "F.Ortiz",
          "K.Pereira",
          "L.Vilar",
          "L.Vilar",
          "E.Januario",
          "K.Pereira",
          "R.Gaud",
          "M.Anselme",
          "K.Tologo",
          "E.Tsimba",
          "R.Philippin",
          "M.Ishuayed",
          "M.Batista",
          "A.Selimi",
          "F.Ortiz",
          "K.Pereira",
          "M.Anselme",
          "A.Selimi",
          "K.Tologo",
          "E.Tsimba",
          "M.Ishuayed",
          "M.Batista",
          "L.Tafaj",
          "R.Gaud",
          "N.Heller",
          "R.Gaud",
          "K.Pereira",
          "M.Anselme",
          "A.Selimi",
          "K.Tologo",
          "E.Tsimba",
          "R.Philippin",
          "M.Miguel",
          "M.Anselme",
          "R.Gaud",
          "E.Salihu",
          "L.Vilar",
          "A.Selimi",
          "N.Heller",
          "K.Pereira",
          "K.Tologo",
          "M.Batista",
          "E.Tsimba",
          "R.Philippin",
          "E.Tsimba",
          "J.Fonseca costa",
          "M.Ishuayed",
          "R.Philippin",
          "I.Ouchard",
          "K.Tologo",
          "L.Vilar",
          "A.Selimi",
          "K.Pereira",
          "E.Salihu",
          "M.Miguel",
          "M.Batista",
          "R.Ouchard",
          "L.Tafaj",
          "N.Heller",
          "K.Tologo",
          "M.Miguel",
          "A.Selimi",
          "K.Pereira",
          "L.Scandurra",
          "L.Vilar",
          "E.Tsimba",
          "M.Rizvanovic",
          "R.Gaud",
          "J.Fonseca costa",
          "M.Ishuayed",
          "D.Trillo",
          "M.Ishuayed",
          "R.Benammar",
          "L.Tafaj",
          "R.Philippin",
          "K.Pereira",
          "A.Selimi",
          "M.Anselme",
          "N.Heller",
          "M.Rizvanovic",
          "M.Miguel",
          "L.Scandurra",
          "D.Trillo"
         ],
         "legendgroup": "",
         "marker": {
          "color": [
           0,
           0,
           0,
           0,
           0,
           0,
           0,
           0,
           0,
           0,
           0,
           0,
           0,
           0,
           0,
           0,
           0,
           0,
           0,
           0,
           0,
           0,
           0,
           0,
           0,
           0,
           0,
           0,
           0,
           0,
           0,
           0,
           0,
           0,
           0,
           0,
           0,
           0,
           0,
           0,
           0,
           0,
           0,
           0,
           0,
           0,
           0,
           0,
           0,
           0,
           0,
           0,
           0,
           0,
           0,
           0,
           0,
           0,
           0,
           0,
           0,
           0,
           0,
           0,
           0,
           0,
           0,
           0,
           0,
           0,
           0,
           0,
           0,
           0,
           0,
           0,
           0,
           0,
           0,
           0,
           0,
           0,
           0,
           0,
           0,
           0,
           0,
           0,
           0,
           0,
           0,
           0,
           0,
           0,
           0,
           0,
           0,
           0,
           0,
           0,
           0,
           0,
           0,
           0,
           0,
           0,
           0,
           0,
           0,
           0,
           0,
           0,
           0,
           0,
           0,
           0,
           0,
           0,
           0,
           0,
           0,
           0,
           0,
           0,
           0,
           0,
           0,
           0,
           0,
           0,
           0,
           0,
           0,
           0,
           0,
           0,
           0,
           0,
           0,
           0,
           0,
           0,
           0,
           0,
           0,
           0,
           0,
           0,
           0,
           0,
           0,
           0,
           0,
           0,
           0,
           0,
           0,
           0,
           0,
           0,
           0,
           0,
           0,
           0,
           0,
           0,
           0,
           0,
           0,
           0,
           0,
           0,
           0,
           0,
           0,
           0,
           0,
           0,
           0,
           0,
           0,
           0,
           0,
           0,
           0,
           0,
           0,
           0,
           0,
           0,
           0,
           0,
           0,
           0,
           0,
           0,
           0,
           0,
           0,
           0,
           0,
           0,
           0,
           0,
           0,
           0,
           0,
           0,
           0,
           0,
           0,
           0,
           0,
           0,
           0,
           0,
           0,
           0,
           0,
           0,
           0,
           0,
           0,
           0,
           0,
           0,
           0,
           0,
           0,
           0,
           0,
           0,
           0,
           0,
           0,
           0,
           0,
           0,
           0,
           0,
           0,
           0,
           0,
           0,
           0,
           0,
           0,
           0,
           0,
           0,
           0,
           0,
           0,
           0,
           0,
           0,
           0,
           0,
           0,
           0,
           0,
           0,
           0,
           0,
           0,
           0,
           0,
           0,
           0,
           0,
           0,
           0,
           0,
           0,
           0,
           0,
           0,
           0,
           0,
           0,
           0,
           0,
           0,
           0,
           0,
           0,
           0,
           0,
           0,
           0,
           0,
           0,
           0,
           0,
           0,
           0,
           0,
           0,
           0,
           0,
           0,
           0,
           0,
           0,
           0,
           0,
           0,
           0,
           0,
           0,
           0,
           0,
           0,
           0,
           0,
           0,
           0,
           0,
           0,
           0,
           0,
           0,
           0,
           0,
           0,
           0,
           0,
           0,
           0,
           0,
           0,
           0,
           0,
           0,
           0,
           0,
           0,
           0,
           0,
           0,
           0,
           0,
           0,
           0,
           0,
           0,
           0,
           0,
           0,
           0,
           0,
           0,
           0,
           0,
           0,
           0,
           0,
           0,
           0,
           0,
           0,
           0,
           0,
           0,
           0,
           0,
           0,
           0,
           0,
           0,
           0,
           0,
           0,
           0,
           0,
           0,
           0,
           0,
           0,
           0,
           0,
           0,
           0,
           0,
           0,
           0,
           0,
           0,
           0,
           0,
           0,
           0,
           0,
           0,
           0,
           0,
           0,
           0,
           0,
           0,
           0,
           0,
           0,
           0,
           0,
           0,
           0,
           0,
           0,
           0,
           0,
           0,
           0,
           0,
           0,
           0,
           0,
           0,
           0,
           0,
           0,
           0,
           0,
           0,
           0,
           0,
           0,
           0,
           0,
           0,
           0,
           0,
           0,
           0,
           0,
           0,
           0,
           0,
           0,
           0,
           0,
           0,
           0,
           0,
           0,
           0,
           0,
           0,
           0,
           0,
           0,
           0,
           0,
           0,
           0,
           0,
           0,
           0,
           0,
           0,
           0,
           0,
           0,
           0,
           0,
           0,
           0,
           0,
           0,
           0,
           0,
           0,
           0,
           0,
           0,
           0,
           0,
           0,
           0,
           0,
           0,
           0,
           1,
           1,
           1,
           1,
           1,
           1,
           1,
           1,
           1,
           1,
           1,
           1,
           1,
           1,
           1,
           1,
           1,
           1,
           1,
           1,
           1,
           1,
           1,
           1,
           1,
           1,
           1,
           1,
           1,
           1,
           1,
           1,
           1,
           1,
           1,
           1,
           1,
           1,
           1,
           1,
           1,
           1,
           1,
           1,
           1,
           1,
           1,
           1,
           1,
           1,
           1,
           1,
           1,
           1,
           1,
           1,
           1,
           1,
           1,
           1,
           1,
           1,
           1,
           1,
           1,
           1,
           1,
           1,
           1,
           1,
           1,
           1,
           1,
           1,
           1,
           1,
           1,
           1,
           1,
           1,
           1,
           1,
           1,
           1,
           1,
           1,
           1,
           1,
           1,
           1,
           1,
           1,
           1,
           1,
           1,
           1,
           1,
           1,
           1,
           1,
           1,
           1,
           1,
           1,
           1,
           1,
           1,
           1,
           1,
           1,
           1,
           1,
           1,
           1,
           1,
           1,
           1,
           1,
           1,
           1,
           1,
           1,
           1,
           1,
           1,
           1,
           1,
           1,
           1,
           1,
           1,
           1,
           1,
           1,
           1,
           1,
           1,
           1,
           1,
           1,
           1,
           1,
           1,
           1,
           1,
           1,
           1,
           1,
           1,
           1,
           1,
           1,
           1,
           1,
           1,
           1,
           1,
           1,
           1,
           1,
           1,
           1,
           1,
           1,
           1,
           1,
           1,
           1,
           1,
           1,
           1,
           1,
           1,
           1,
           1,
           1,
           1,
           1,
           1,
           1,
           1,
           1,
           1,
           1,
           1,
           1,
           1,
           1,
           1,
           1,
           1,
           1,
           1,
           1,
           1,
           1,
           1,
           1,
           1,
           1,
           1,
           1,
           1,
           1,
           1,
           1,
           1,
           1,
           1,
           1,
           1,
           1,
           1,
           1,
           1,
           1,
           1,
           1,
           1,
           1,
           1,
           1,
           1,
           1,
           1,
           1,
           1,
           1,
           1,
           1,
           1,
           1,
           1,
           1,
           1,
           1,
           1,
           1,
           1,
           1,
           1,
           1,
           1,
           1,
           1,
           1,
           1,
           1,
           1,
           1,
           1,
           1,
           1,
           1,
           1,
           1,
           1,
           1,
           1,
           1,
           1,
           1,
           1,
           1,
           1,
           1,
           1,
           1,
           1,
           1,
           1,
           1,
           1,
           1,
           1,
           1,
           1,
           1,
           1,
           1,
           1,
           1,
           1,
           1,
           1,
           1,
           1,
           1,
           1,
           1,
           1,
           1,
           1,
           1,
           1,
           1,
           1,
           1,
           1,
           1,
           1,
           1,
           1,
           1,
           1,
           1,
           1,
           1,
           1,
           1,
           1,
           1,
           1,
           1,
           1,
           1,
           1,
           1,
           1,
           1,
           1,
           1,
           1,
           1,
           1,
           1,
           1,
           1,
           1,
           1,
           1,
           1,
           1,
           1,
           1,
           1,
           1,
           1,
           1,
           1,
           1,
           1,
           1,
           1,
           1,
           1,
           1,
           1,
           1,
           1,
           1,
           1,
           1,
           1,
           1,
           1,
           1,
           1,
           1,
           1,
           1,
           1,
           1,
           1,
           1,
           1,
           1,
           1,
           1,
           1,
           1,
           1,
           1,
           1,
           1,
           1,
           1,
           1,
           1,
           1,
           1,
           1,
           1,
           1,
           1,
           1,
           1,
           1,
           1,
           1,
           1,
           1,
           1,
           1,
           1,
           1,
           1,
           1,
           1,
           1,
           1,
           1,
           1,
           1,
           1,
           1,
           1,
           1,
           1,
           1,
           1,
           1,
           1,
           1,
           1,
           1,
           1,
           1,
           1,
           1,
           1,
           1,
           1,
           1,
           1,
           1,
           1,
           1,
           1,
           1,
           1,
           1,
           1,
           1,
           1,
           1,
           1,
           1,
           1,
           1,
           1,
           1,
           1,
           1,
           1,
           1,
           1,
           1,
           1,
           1,
           1,
           1,
           1,
           1,
           1,
           1,
           1,
           1,
           1,
           1,
           1,
           1,
           1,
           1,
           1,
           1,
           1,
           1,
           1,
           1,
           1,
           1,
           1,
           1,
           1,
           1,
           1,
           1,
           1,
           1,
           1,
           1,
           1,
           1,
           2,
           2,
           2,
           2,
           2,
           2,
           2,
           2,
           2,
           2,
           2,
           2,
           2,
           2,
           2,
           2,
           2,
           2,
           2,
           2,
           2,
           2,
           2,
           2,
           2,
           2,
           2,
           2,
           2,
           2,
           2,
           2,
           2,
           2,
           2,
           2,
           2,
           2,
           2,
           2,
           2,
           2,
           2,
           2,
           2,
           2,
           2,
           2,
           2,
           2,
           2,
           2,
           2,
           2,
           2,
           2,
           2,
           2,
           2,
           2,
           2,
           2,
           2,
           2,
           2,
           2,
           2,
           2,
           2,
           2,
           2,
           2,
           2,
           2,
           2,
           2,
           2,
           2,
           2,
           2,
           2,
           2,
           2,
           2,
           2,
           2,
           2,
           2,
           2,
           2,
           2,
           2,
           2,
           2,
           2,
           2,
           2,
           2,
           2,
           2,
           2,
           2,
           2,
           2,
           2,
           2,
           2,
           2,
           2,
           2
          ],
          "coloraxis": "coloraxis",
          "symbol": "circle"
         },
         "mode": "markers",
         "name": "",
         "showlegend": false,
         "type": "scattergl",
         "x": [
          "2023-07-25T20:30:00",
          "2023-07-25T20:30:00",
          "2023-07-25T20:30:00",
          "2023-07-25T20:30:00",
          "2023-07-25T20:30:00",
          "2023-07-25T20:30:00",
          "2023-07-25T20:30:00",
          "2023-07-25T20:30:00",
          "2023-07-29T20:30:00",
          "2023-07-29T20:30:00",
          "2023-07-29T20:30:00",
          "2023-07-29T20:30:00",
          "2023-07-29T20:30:00",
          "2023-07-29T20:30:00",
          "2023-07-29T20:30:00",
          "2023-07-29T20:30:00",
          "2023-07-29T20:30:00",
          "2023-07-29T20:30:00",
          "2023-08-02T19:00:00",
          "2023-08-02T19:00:00",
          "2023-08-02T19:00:00",
          "2023-08-02T19:00:00",
          "2023-08-02T19:00:00",
          "2023-08-02T19:00:00",
          "2023-08-02T19:00:00",
          "2023-08-05T18:00:00",
          "2023-08-05T18:00:00",
          "2023-08-05T18:00:00",
          "2023-08-05T18:00:00",
          "2023-08-05T18:00:00",
          "2023-08-05T18:00:00",
          "2023-08-05T18:00:00",
          "2023-08-05T18:00:00",
          "2023-08-09T19:45:00",
          "2023-08-09T19:45:00",
          "2023-08-09T19:45:00",
          "2023-08-09T19:45:00",
          "2023-08-09T19:45:00",
          "2023-08-09T19:45:00",
          "2023-08-12T20:30:00",
          "2023-08-12T20:30:00",
          "2023-08-12T20:30:00",
          "2023-08-12T20:30:00",
          "2023-08-12T20:30:00",
          "2023-08-12T20:30:00",
          "2023-08-12T20:30:00",
          "2023-08-12T20:30:00",
          "2023-08-15T20:30:00",
          "2023-08-15T20:30:00",
          "2023-08-15T20:30:00",
          "2023-08-15T20:30:00",
          "2023-08-15T20:30:00",
          "2023-08-15T20:30:00",
          "2023-08-15T20:30:00",
          "2023-08-19T18:00:00",
          "2023-08-19T18:00:00",
          "2023-08-19T18:00:00",
          "2023-08-19T18:00:00",
          "2023-08-19T18:00:00",
          "2023-08-19T18:00:00",
          "2023-08-19T18:00:00",
          "2023-08-19T18:00:00",
          "2023-08-26T18:00:00",
          "2023-08-26T18:00:00",
          "2023-08-26T18:00:00",
          "2023-08-26T18:00:00",
          "2023-08-26T18:00:00",
          "2023-08-26T18:00:00",
          "2023-08-26T18:00:00",
          "2023-08-26T18:00:00",
          "2023-09-03T14:15:00",
          "2023-09-03T14:15:00",
          "2023-09-03T14:15:00",
          "2023-09-03T14:15:00",
          "2023-09-03T14:15:00",
          "2023-09-03T14:15:00",
          "2023-09-03T14:15:00",
          "2023-09-16T19:00:00",
          "2023-09-16T19:00:00",
          "2023-09-16T19:00:00",
          "2023-09-16T19:00:00",
          "2023-09-16T19:00:00",
          "2023-09-16T19:00:00",
          "2023-09-16T19:00:00",
          "2023-09-16T19:00:00",
          "2023-09-21T18:45:00",
          "2023-09-21T18:45:00",
          "2023-09-21T18:45:00",
          "2023-09-21T18:45:00",
          "2023-09-21T18:45:00",
          "2023-09-21T18:45:00",
          "2023-09-21T18:45:00",
          "2023-09-24T16:30:00",
          "2023-09-24T16:30:00",
          "2023-09-24T16:30:00",
          "2023-09-24T16:30:00",
          "2023-09-24T16:30:00",
          "2023-09-24T16:30:00",
          "2023-09-24T16:30:00",
          "2023-09-24T16:30:00",
          "2023-09-24T16:30:00",
          "2023-09-27T20:30:00",
          "2023-09-27T20:30:00",
          "2023-09-27T20:30:00",
          "2023-09-27T20:30:00",
          "2023-09-27T20:30:00",
          "2023-09-27T20:30:00",
          "2023-09-27T20:30:00",
          "2023-09-27T20:30:00",
          "2023-09-30T18:30:00",
          "2023-09-30T18:30:00",
          "2023-09-30T18:30:00",
          "2023-09-30T18:30:00",
          "2023-09-30T18:30:00",
          "2023-09-30T18:30:00",
          "2023-09-30T18:30:00",
          "2023-09-30T18:30:00",
          "2023-10-05T21:00:00",
          "2023-10-05T21:00:00",
          "2023-10-05T21:00:00",
          "2023-10-05T21:00:00",
          "2023-10-05T21:00:00",
          "2023-10-05T21:00:00",
          "2023-10-05T21:00:00",
          "2023-10-05T21:00:00",
          "2023-10-05T21:00:00",
          "2023-10-08T14:15:00",
          "2023-10-08T14:15:00",
          "2023-10-08T14:15:00",
          "2023-10-08T14:15:00",
          "2023-10-08T14:15:00",
          "2023-10-08T14:15:00",
          "2023-10-08T14:15:00",
          "2023-10-08T14:15:00",
          "2023-10-21T20:30:00",
          "2023-10-21T20:30:00",
          "2023-10-21T20:30:00",
          "2023-10-21T20:30:00",
          "2023-10-21T20:30:00",
          "2023-10-21T20:30:00",
          "2023-10-21T20:30:00",
          "2023-10-21T20:30:00",
          "2023-10-21T20:30:00",
          "2023-10-26T21:00:00",
          "2023-10-26T21:00:00",
          "2023-10-26T21:00:00",
          "2023-10-26T21:00:00",
          "2023-10-26T21:00:00",
          "2023-10-26T21:00:00",
          "2023-10-26T21:00:00",
          "2023-10-26T21:00:00",
          "2023-10-29T16:30:00",
          "2023-10-29T16:30:00",
          "2023-10-29T16:30:00",
          "2023-10-29T16:30:00",
          "2023-10-29T16:30:00",
          "2023-10-29T16:30:00",
          "2023-10-29T16:30:00",
          "2023-10-29T16:30:00",
          "2023-10-29T16:30:00",
          "2023-11-01T19:30:00",
          "2023-11-01T19:30:00",
          "2023-11-01T19:30:00",
          "2023-11-01T19:30:00",
          "2023-11-01T19:30:00",
          "2023-11-01T19:30:00",
          "2023-11-01T19:30:00",
          "2023-11-01T19:30:00",
          "2023-11-01T19:30:00",
          "2023-11-01T19:30:00",
          "2023-11-04T20:30:00",
          "2023-11-04T20:30:00",
          "2023-11-04T20:30:00",
          "2023-11-04T20:30:00",
          "2023-11-04T20:30:00",
          "2023-11-04T20:30:00",
          "2023-11-04T20:30:00",
          "2023-11-04T20:30:00",
          "2023-11-04T20:30:00",
          "2023-11-09T18:45:00",
          "2023-11-09T18:45:00",
          "2023-11-09T18:45:00",
          "2023-11-09T18:45:00",
          "2023-11-09T18:45:00",
          "2023-11-09T18:45:00",
          "2023-11-09T18:45:00",
          "2023-11-09T18:45:00",
          "2023-11-09T18:45:00",
          "2023-11-12T16:30:00",
          "2023-11-12T16:30:00",
          "2023-11-12T16:30:00",
          "2023-11-12T16:30:00",
          "2023-11-12T16:30:00",
          "2023-11-12T16:30:00",
          "2023-11-12T16:30:00",
          "2023-11-12T16:30:00",
          "2023-11-12T16:30:00",
          "2023-11-26T16:30:00",
          "2023-11-26T16:30:00",
          "2023-11-26T16:30:00",
          "2023-11-26T16:30:00",
          "2023-11-26T16:30:00",
          "2023-11-26T16:30:00",
          "2023-11-26T16:30:00",
          "2023-11-26T16:30:00",
          "2023-11-30T21:00:00",
          "2023-11-30T21:00:00",
          "2023-11-30T21:00:00",
          "2023-11-30T21:00:00",
          "2023-11-30T21:00:00",
          "2023-11-30T21:00:00",
          "2023-11-30T21:00:00",
          "2023-12-03T16:30:00",
          "2023-12-03T16:30:00",
          "2023-12-03T16:30:00",
          "2023-12-03T16:30:00",
          "2023-12-03T16:30:00",
          "2023-12-03T16:30:00",
          "2023-12-03T16:30:00",
          "2023-12-03T16:30:00",
          "2023-12-03T16:30:00",
          "2023-12-03T16:30:00",
          "2023-12-09T20:30:00",
          "2023-12-09T20:30:00",
          "2023-12-09T20:30:00",
          "2023-12-09T20:30:00",
          "2023-12-09T20:30:00",
          "2023-12-09T20:30:00",
          "2023-12-09T20:30:00",
          "2023-12-09T20:30:00",
          "2023-12-14T18:45:00",
          "2023-12-14T18:45:00",
          "2023-12-14T18:45:00",
          "2023-12-14T18:45:00",
          "2023-12-14T18:45:00",
          "2023-12-14T18:45:00",
          "2023-12-14T18:45:00",
          "2023-12-14T18:45:00",
          "2023-12-14T18:45:00",
          "2023-12-17T16:30:00",
          "2023-12-17T16:30:00",
          "2023-12-17T16:30:00",
          "2023-12-17T16:30:00",
          "2023-12-17T16:30:00",
          "2023-12-17T16:30:00",
          "2023-12-17T16:30:00",
          "2023-12-17T16:30:00",
          "2023-12-17T16:30:00",
          "2024-01-23T19:00:00",
          "2024-01-23T19:00:00",
          "2024-01-23T19:00:00",
          "2024-01-23T19:00:00",
          "2024-01-23T19:00:00",
          "2024-01-23T19:00:00",
          "2024-01-23T19:00:00",
          "2024-01-23T19:00:00",
          "2024-01-23T19:00:00",
          "2024-01-23T19:00:00",
          "2024-01-27T18:00:00",
          "2024-01-27T18:00:00",
          "2024-01-27T18:00:00",
          "2024-01-27T18:00:00",
          "2024-01-27T18:00:00",
          "2024-01-27T18:00:00",
          "2024-01-27T18:00:00",
          "2024-01-27T18:00:00",
          "2024-01-27T18:00:00",
          "2024-01-27T18:00:00",
          "2024-01-31T20:30:00",
          "2024-01-31T20:30:00",
          "2024-01-31T20:30:00",
          "2024-01-31T20:30:00",
          "2024-01-31T20:30:00",
          "2024-01-31T20:30:00",
          "2024-01-31T20:30:00",
          "2024-01-31T20:30:00",
          "2024-01-31T20:30:00",
          "2024-01-31T20:30:00",
          "2024-01-31T20:30:00",
          "2024-02-04T16:30:00",
          "2024-02-04T16:30:00",
          "2024-02-04T16:30:00",
          "2024-02-04T16:30:00",
          "2024-02-04T16:30:00",
          "2024-02-04T16:30:00",
          "2024-02-04T16:30:00",
          "2024-02-04T16:30:00",
          "2024-02-11T16:30:00",
          "2024-02-11T16:30:00",
          "2024-02-11T16:30:00",
          "2024-02-11T16:30:00",
          "2024-02-11T16:30:00",
          "2024-02-11T16:30:00",
          "2024-02-11T16:30:00",
          "2024-02-11T16:30:00",
          "2024-02-15T21:00:00",
          "2024-02-15T21:00:00",
          "2024-02-15T21:00:00",
          "2024-02-15T21:00:00",
          "2024-02-15T21:00:00",
          "2024-02-15T21:00:00",
          "2024-02-15T21:00:00",
          "2024-02-15T21:00:00",
          "2024-02-15T21:00:00",
          "2024-02-15T21:00:00",
          "2024-02-15T21:00:00",
          "2024-02-18T16:30:00",
          "2024-02-18T16:30:00",
          "2024-02-18T16:30:00",
          "2024-02-18T16:30:00",
          "2024-02-18T16:30:00",
          "2024-02-18T16:30:00",
          "2024-02-18T16:30:00",
          "2024-02-18T16:30:00",
          "2024-02-18T16:30:00",
          "2024-02-18T16:30:00",
          "2024-02-22T18:45:00",
          "2024-02-22T18:45:00",
          "2024-02-22T18:45:00",
          "2024-02-22T18:45:00",
          "2024-02-22T18:45:00",
          "2024-02-22T18:45:00",
          "2024-02-22T18:45:00",
          "2024-02-22T18:45:00",
          "2024-02-22T18:45:00",
          "2024-02-22T18:45:00",
          "2024-02-25T16:30:00",
          "2024-02-25T16:30:00",
          "2024-02-25T16:30:00",
          "2024-02-25T16:30:00",
          "2024-02-25T16:30:00",
          "2024-02-25T16:30:00",
          "2024-02-25T16:30:00",
          "2024-02-25T16:30:00",
          "2024-02-25T16:30:00",
          "2024-02-28T20:15:00",
          "2024-02-28T20:15:00",
          "2024-02-28T20:15:00",
          "2024-02-28T20:15:00",
          "2024-02-28T20:15:00",
          "2024-02-28T20:15:00",
          "2024-02-28T20:15:00",
          "2024-02-28T20:15:00",
          "2024-02-28T20:15:00",
          "2024-03-02T18:00:00",
          "2024-03-02T18:00:00",
          "2024-03-02T18:00:00",
          "2024-03-02T18:00:00",
          "2024-03-02T18:00:00",
          "2024-03-02T18:00:00",
          "2024-03-02T18:00:00",
          "2024-03-02T18:00:00",
          "2024-03-02T18:00:00",
          "2024-03-02T18:00:00",
          "2024-03-02T18:00:00",
          "2024-03-07T21:00:00",
          "2024-03-07T21:00:00",
          "2024-03-07T21:00:00",
          "2024-03-07T21:00:00",
          "2024-03-07T21:00:00",
          "2024-03-07T21:00:00",
          "2024-03-07T21:00:00",
          "2024-03-07T21:00:00",
          "2024-03-07T21:00:00",
          "2024-03-07T21:00:00",
          "2024-03-14T18:45:00",
          "2024-03-14T18:45:00",
          "2024-03-14T18:45:00",
          "2024-03-14T18:45:00",
          "2024-03-14T18:45:00",
          "2024-03-14T18:45:00",
          "2024-03-14T18:45:00",
          "2024-03-14T18:45:00",
          "2024-03-14T18:45:00",
          "2024-03-14T18:45:00",
          "2024-03-17T16:30:00",
          "2024-03-17T16:30:00",
          "2024-03-17T16:30:00",
          "2024-03-17T16:30:00",
          "2024-03-17T16:30:00",
          "2024-03-17T16:30:00",
          "2024-03-17T16:30:00",
          "2024-03-17T16:30:00",
          "2024-03-17T16:30:00",
          "2024-03-30T18:00:00",
          "2024-03-30T18:00:00",
          "2024-03-30T18:00:00",
          "2024-03-30T18:00:00",
          "2024-03-30T18:00:00",
          "2024-03-30T18:00:00",
          "2024-03-30T18:00:00",
          "2024-03-30T18:00:00",
          "2024-04-03T20:30:00",
          "2024-04-03T20:30:00",
          "2024-04-03T20:30:00",
          "2024-04-03T20:30:00",
          "2024-04-03T20:30:00",
          "2024-04-03T20:30:00",
          "2024-04-03T20:30:00",
          "2024-04-03T20:30:00",
          "2024-04-03T20:30:00",
          "2024-04-06T20:30:00",
          "2024-04-06T20:30:00",
          "2024-04-06T20:30:00",
          "2024-04-06T20:30:00",
          "2024-04-06T20:30:00",
          "2024-04-06T20:30:00",
          "2024-04-06T20:30:00",
          "2024-04-06T20:30:00",
          "2024-04-06T20:30:00",
          "2024-04-06T20:30:00",
          "2024-04-14T14:15:00",
          "2024-04-14T14:15:00",
          "2024-04-14T14:15:00",
          "2024-04-14T14:15:00",
          "2024-04-14T14:15:00",
          "2024-04-14T14:15:00",
          "2024-04-14T14:15:00",
          "2024-04-14T14:15:00",
          "2024-04-14T14:15:00",
          "2024-04-14T14:15:00",
          "2024-04-20T18:00:00",
          "2024-04-20T18:00:00",
          "2024-04-20T18:00:00",
          "2024-04-20T18:00:00",
          "2024-04-20T18:00:00",
          "2024-04-20T18:00:00",
          "2024-04-20T18:00:00",
          "2024-04-20T18:00:00",
          "2024-04-20T18:00:00",
          "2024-04-28T16:30:00",
          "2024-04-28T16:30:00",
          "2024-04-28T16:30:00",
          "2024-04-28T16:30:00",
          "2024-04-28T16:30:00",
          "2024-04-28T16:30:00",
          "2024-04-28T16:30:00",
          "2024-05-04T18:00:00",
          "2024-05-04T18:00:00",
          "2024-05-04T18:00:00",
          "2024-05-04T18:00:00",
          "2024-05-04T18:00:00",
          "2024-05-04T18:00:00",
          "2024-05-04T18:00:00",
          "2024-05-04T18:00:00",
          "2024-05-12T16:30:00",
          "2024-05-12T16:30:00",
          "2024-05-12T16:30:00",
          "2024-05-12T16:30:00",
          "2024-05-12T16:30:00",
          "2024-05-12T16:30:00",
          "2024-05-12T16:30:00",
          "2024-05-12T16:30:00",
          "2024-05-12T16:30:00",
          "2024-05-15T20:30:00",
          "2024-05-15T20:30:00",
          "2024-05-15T20:30:00",
          "2024-05-15T20:30:00",
          "2024-05-15T20:30:00",
          "2024-05-15T20:30:00",
          "2024-05-15T20:30:00",
          "2024-05-15T20:30:00",
          "2024-05-15T20:30:00",
          "2024-05-20T18:00:00",
          "2024-05-20T18:00:00",
          "2024-05-20T18:00:00",
          "2024-05-20T18:00:00",
          "2024-05-20T18:00:00",
          "2024-05-20T18:00:00",
          "2024-05-20T18:00:00",
          "2024-05-20T18:00:00",
          "2024-05-20T18:00:00",
          "2024-05-20T18:00:00",
          "2024-05-25T20:30:00",
          "2024-05-25T20:30:00",
          "2024-05-25T20:30:00",
          "2024-05-25T20:30:00",
          "2024-05-25T20:30:00",
          "2024-05-25T20:30:00",
          "2024-05-25T20:30:00",
          "2024-05-25T20:30:00",
          "2024-05-25T20:30:00",
          "2023-07-19T19:30:00",
          "2023-07-19T19:30:00",
          "2023-07-19T19:30:00",
          "2023-07-19T19:30:00",
          "2023-07-19T19:30:00",
          "2023-07-19T19:30:00",
          "2023-07-19T19:30:00",
          "2023-07-19T19:30:00",
          "2023-07-19T19:30:00",
          "2023-07-19T19:30:00",
          "2023-07-19T19:30:00",
          "2023-07-19T19:30:00",
          "2023-07-19T19:30:00",
          "2023-07-19T19:30:00",
          "2023-07-19T19:30:00",
          "2023-07-19T19:30:00",
          "2023-07-19T19:30:00",
          "2023-07-19T19:30:00",
          "2023-07-19T19:30:00",
          "2023-07-22T14:00:00",
          "2023-07-22T14:00:00",
          "2023-07-22T14:00:00",
          "2023-07-22T14:00:00",
          "2023-07-22T14:00:00",
          "2023-07-22T14:00:00",
          "2023-07-22T14:00:00",
          "2023-07-22T14:00:00",
          "2023-07-22T14:00:00",
          "2023-07-22T14:00:00",
          "2023-07-22T14:00:00",
          "2023-07-22T14:00:00",
          "2023-07-22T14:00:00",
          "2023-07-22T14:00:00",
          "2023-07-22T14:00:00",
          "2023-07-22T14:00:00",
          "2023-07-22T14:00:00",
          "2023-07-26T19:30:00",
          "2023-07-26T19:30:00",
          "2023-07-26T19:30:00",
          "2023-07-26T19:30:00",
          "2023-07-26T19:30:00",
          "2023-07-26T19:30:00",
          "2023-07-26T19:30:00",
          "2023-07-26T19:30:00",
          "2023-07-26T19:30:00",
          "2023-07-26T19:30:00",
          "2023-07-29T14:00:00",
          "2023-07-29T14:00:00",
          "2023-07-29T14:00:00",
          "2023-07-29T17:00:00",
          "2023-07-29T17:00:00",
          "2023-07-29T17:00:00",
          "2023-07-29T17:00:00",
          "2023-07-29T17:00:00",
          "2023-07-29T17:00:00",
          "2023-07-29T17:00:00",
          "2023-08-06T18:50:05",
          "2023-08-06T18:50:05",
          "2023-08-06T18:50:05",
          "2023-08-06T18:50:05",
          "2023-08-06T18:50:05",
          "2023-08-06T18:50:05",
          "2023-08-06T18:50:05",
          "2023-08-12T15:00:00",
          "2023-08-12T15:00:00",
          "2023-08-12T15:00:00",
          "2023-08-12T15:00:00",
          "2023-08-12T15:00:00",
          "2023-08-12T15:00:00",
          "2023-08-12T15:00:00",
          "2023-08-12T15:00:00",
          "2023-08-12T15:00:00",
          "2023-08-12T15:00:00",
          "2023-08-12T19:04:02",
          "2023-08-12T19:04:02",
          "2023-08-20T16:00:00",
          "2023-08-20T16:00:00",
          "2023-08-20T16:00:00",
          "2023-08-20T16:00:00",
          "2023-08-20T16:00:00",
          "2023-08-20T16:00:00",
          "2023-08-20T16:00:00",
          "2023-08-20T16:00:00",
          "2023-08-20T16:00:00",
          "2023-08-26T12:00:00",
          "2023-08-26T12:00:00",
          "2023-08-26T12:00:00",
          "2023-08-26T18:16:00",
          "2023-08-26T18:16:00",
          "2023-08-26T18:16:00",
          "2023-08-26T18:16:00",
          "2023-08-26T18:16:00",
          "2023-08-26T18:16:00",
          "2023-08-26T18:16:00",
          "2023-08-26T18:16:00",
          "2023-09-03T16:00:00",
          "2023-09-03T16:00:00",
          "2023-09-03T16:00:00",
          "2023-09-03T16:00:00",
          "2023-09-03T16:00:00",
          "2023-09-03T16:00:00",
          "2023-09-03T16:00:00",
          "2023-09-03T16:00:00",
          "2023-09-03T16:00:00",
          "2023-09-03T16:00:00",
          "2023-09-09T16:00:00",
          "2023-09-09T16:00:00",
          "2023-09-09T16:00:00",
          "2023-09-09T16:00:00",
          "2023-09-09T16:00:00",
          "2023-09-09T16:00:00",
          "2023-09-09T16:00:00",
          "2023-09-09T16:00:00",
          "2023-09-09T16:00:00",
          "2023-09-09T16:00:00",
          "2023-09-09T16:00:00",
          "2023-09-09T16:00:00",
          "2023-09-09T16:00:00",
          "2023-09-17T16:00:00",
          "2023-09-17T16:00:00",
          "2023-09-17T16:00:00",
          "2023-09-17T16:00:00",
          "2023-09-17T16:00:00",
          "2023-09-17T16:00:00",
          "2023-09-17T16:00:00",
          "2023-09-17T16:00:00",
          "2023-09-17T16:00:00",
          "2023-09-17T16:00:00",
          "2023-09-17T16:00:00",
          "2023-09-24T17:00:00",
          "2023-09-24T17:00:00",
          "2023-09-24T17:00:00",
          "2023-09-24T17:00:00",
          "2023-09-24T17:00:00",
          "2023-09-24T17:00:00",
          "2023-09-24T17:00:00",
          "2023-09-24T17:00:00",
          "2023-09-24T17:00:00",
          "2023-09-24T17:00:00",
          "2023-09-24T17:00:00",
          "2023-09-24T17:00:00",
          "2023-09-24T17:00:00",
          "2023-10-01T16:00:00",
          "2023-10-01T16:00:00",
          "2023-10-01T16:00:00",
          "2023-10-01T16:00:00",
          "2023-10-01T16:00:00",
          "2023-10-01T16:00:00",
          "2023-10-01T16:00:00",
          "2023-10-01T16:00:00",
          "2023-10-01T16:00:00",
          "2023-10-01T16:00:00",
          "2023-10-01T16:00:00",
          "2023-10-01T16:00:00",
          "2023-10-01T16:00:00",
          "2023-10-08T16:00:00",
          "2023-10-08T16:00:00",
          "2023-10-08T16:00:00",
          "2023-10-08T16:00:00",
          "2023-10-08T16:00:00",
          "2023-10-08T16:00:00",
          "2023-10-08T16:00:00",
          "2023-10-08T16:00:00",
          "2023-10-08T16:00:00",
          "2023-10-08T16:00:00",
          "2023-10-08T16:00:00",
          "2023-10-08T16:00:00",
          "2023-10-14T15:00:00",
          "2023-10-14T15:00:00",
          "2023-10-14T15:00:00",
          "2023-10-14T15:00:00",
          "2023-10-14T15:00:00",
          "2023-10-14T15:00:00",
          "2023-10-14T15:00:00",
          "2023-10-14T15:00:00",
          "2023-10-14T15:00:00",
          "2023-10-14T15:00:00",
          "2023-10-14T15:00:00",
          "2023-10-18T20:30:00",
          "2023-10-18T20:30:00",
          "2023-10-18T20:30:00",
          "2023-10-18T20:30:00",
          "2023-10-18T20:30:00",
          "2023-10-18T20:30:00",
          "2023-10-18T20:30:00",
          "2023-10-18T20:30:00",
          "2023-10-18T20:30:00",
          "2023-10-18T20:30:00",
          "2023-10-18T20:30:00",
          "2023-10-18T20:30:00",
          "2023-10-21T15:00:00",
          "2023-10-21T15:00:00",
          "2023-10-21T15:00:00",
          "2023-10-21T15:00:00",
          "2023-10-21T15:00:00",
          "2023-10-21T15:00:00",
          "2023-10-21T15:00:00",
          "2023-10-21T15:00:00",
          "2023-10-21T15:00:00",
          "2023-10-21T15:00:00",
          "2023-10-21T15:00:00",
          "2023-10-29T16:00:00",
          "2023-10-29T16:00:00",
          "2023-10-29T16:00:00",
          "2023-10-29T16:00:00",
          "2023-10-29T16:00:00",
          "2023-10-29T16:00:00",
          "2023-10-29T16:00:00",
          "2023-10-29T16:00:00",
          "2023-10-29T16:00:00",
          "2023-10-29T16:00:00",
          "2023-10-29T16:00:00",
          "2023-10-29T16:00:00",
          "2023-11-04T16:00:00",
          "2023-11-04T16:00:00",
          "2023-11-04T16:00:00",
          "2023-11-04T16:00:00",
          "2023-11-04T16:00:00",
          "2023-11-04T16:00:00",
          "2023-11-04T16:00:00",
          "2023-11-04T16:00:00",
          "2023-11-04T16:00:00",
          "2023-11-04T16:00:00",
          "2023-11-04T16:00:00",
          "2023-11-04T16:00:00",
          "2023-11-04T16:00:00",
          "2023-11-11T13:30:00",
          "2023-11-11T13:30:00",
          "2023-11-11T13:30:00",
          "2023-11-11T13:30:00",
          "2023-11-11T13:30:00",
          "2023-11-11T13:30:00",
          "2023-11-11T13:30:00",
          "2023-11-11T13:30:00",
          "2023-11-11T13:30:00",
          "2023-11-11T13:30:00",
          "2023-11-11T13:30:00",
          "2023-11-11T13:30:00",
          "2023-11-18T17:00:00",
          "2023-11-18T17:00:00",
          "2023-11-18T17:00:00",
          "2023-11-18T17:00:00",
          "2023-11-18T17:00:00",
          "2023-11-18T17:00:00",
          "2023-11-18T17:00:00",
          "2023-11-18T17:00:00",
          "2023-11-18T17:00:00",
          "2023-11-18T17:00:00",
          "2023-11-18T17:00:00",
          "2024-01-19T18:00:00",
          "2024-01-19T18:00:00",
          "2024-01-19T18:00:00",
          "2024-01-19T18:00:00",
          "2024-01-19T18:00:00",
          "2024-01-19T18:00:00",
          "2024-01-19T18:00:00",
          "2024-01-19T18:00:00",
          "2024-01-19T18:00:00",
          "2024-01-19T18:00:00",
          "2024-01-19T18:00:00",
          "2024-01-19T18:00:00",
          "2024-01-19T18:00:00",
          "2024-01-19T18:00:00",
          "2024-01-19T18:00:00",
          "2024-01-19T18:00:00",
          "2024-01-19T18:00:00",
          "2024-01-19T18:00:00",
          "2024-01-19T18:00:00",
          "2024-01-27T13:00:00",
          "2024-01-27T13:00:00",
          "2024-01-27T13:00:00",
          "2024-01-27T13:00:00",
          "2024-01-27T13:00:00",
          "2024-01-27T13:00:00",
          "2024-01-27T13:00:00",
          "2024-01-27T13:00:00",
          "2024-01-27T13:00:00",
          "2024-01-27T13:00:00",
          "2024-01-27T13:00:00",
          "2024-01-27T13:00:00",
          "2024-01-27T13:00:00",
          "2024-01-27T13:00:00",
          "2024-01-27T13:00:00",
          "2024-01-27T13:00:00",
          "2024-01-27T13:00:00",
          "2024-01-27T13:00:00",
          "2024-01-27T13:00:00",
          "2024-01-31T14:00:00",
          "2024-01-31T14:00:00",
          "2024-01-31T14:00:00",
          "2024-01-31T14:00:00",
          "2024-01-31T14:00:00",
          "2024-01-31T14:00:00",
          "2024-01-31T14:00:00",
          "2024-01-31T14:00:00",
          "2024-01-31T14:00:00",
          "2024-01-31T14:00:00",
          "2024-01-31T14:00:00",
          "2024-01-31T14:00:00",
          "2024-01-31T14:00:00",
          "2024-01-31T14:00:00",
          "2024-01-31T14:00:00",
          "2024-01-31T14:00:00",
          "2024-02-03T13:00:00",
          "2024-02-03T13:00:00",
          "2024-02-03T13:00:00",
          "2024-02-03T13:00:00",
          "2024-02-03T13:00:00",
          "2024-02-03T13:00:00",
          "2024-02-03T13:00:00",
          "2024-02-03T13:00:00",
          "2024-02-03T13:00:00",
          "2024-02-03T13:00:00",
          "2024-02-03T13:00:00",
          "2024-02-03T13:00:00",
          "2024-02-03T13:00:00",
          "2024-02-10T15:00:00",
          "2024-02-10T15:00:00",
          "2024-02-10T15:00:00",
          "2024-02-10T15:00:00",
          "2024-02-10T15:00:00",
          "2024-02-10T15:00:00",
          "2024-02-10T15:00:00",
          "2024-02-10T15:00:00",
          "2024-02-10T15:00:00",
          "2024-02-10T15:00:00",
          "2024-02-10T15:00:00",
          "2024-02-18T16:00:00",
          "2024-02-18T16:00:00",
          "2024-02-18T16:00:00",
          "2024-02-18T16:00:00",
          "2024-02-18T16:00:00",
          "2024-02-18T16:00:00",
          "2024-02-18T16:00:00",
          "2024-02-18T16:00:00",
          "2024-02-18T16:00:00",
          "2024-02-18T16:00:00",
          "2024-02-18T16:00:00",
          "2024-02-18T16:00:00",
          "2024-02-24T15:00:00",
          "2024-02-24T15:00:00",
          "2024-02-24T15:00:00",
          "2024-02-24T15:00:00",
          "2024-02-24T15:00:00",
          "2024-02-24T15:00:00",
          "2024-02-24T15:00:00",
          "2024-02-24T15:00:00",
          "2024-02-24T15:00:00",
          "2024-02-24T15:00:00",
          "2024-03-03T16:00:00",
          "2024-03-03T16:00:00",
          "2024-03-03T16:00:00",
          "2024-03-03T16:00:00",
          "2024-03-03T16:00:00",
          "2024-03-03T16:00:00",
          "2024-03-03T16:00:00",
          "2024-03-03T16:00:00",
          "2024-03-03T16:00:00",
          "2024-03-03T16:00:00",
          "2024-03-03T16:00:00",
          "2024-03-09T15:00:00",
          "2024-03-09T15:00:00",
          "2024-03-09T15:00:00",
          "2024-03-09T15:00:00",
          "2024-03-09T15:00:00",
          "2024-03-09T15:00:00",
          "2024-03-09T15:00:00",
          "2024-03-09T15:00:00",
          "2024-03-09T15:00:00",
          "2024-03-09T15:00:00",
          "2024-03-09T15:00:00",
          "2024-03-09T15:00:00",
          "2024-03-09T15:00:00",
          "2024-03-09T15:00:00",
          "2024-03-17T16:00:00",
          "2024-03-17T16:00:00",
          "2024-03-17T16:00:00",
          "2024-03-17T16:00:00",
          "2024-03-17T16:00:00",
          "2024-03-17T16:00:00",
          "2024-03-17T16:00:00",
          "2024-03-17T16:00:00",
          "2024-03-17T16:00:00",
          "2024-03-17T16:00:00",
          "2024-03-17T16:00:00",
          "2024-03-23T17:00:00",
          "2024-03-23T17:00:00",
          "2024-03-23T17:00:00",
          "2024-03-23T17:00:00",
          "2024-03-23T17:00:00",
          "2024-03-23T17:00:00",
          "2024-03-23T17:00:00",
          "2024-03-23T17:00:00",
          "2024-03-23T17:00:00",
          "2024-03-23T17:00:00",
          "2024-03-23T17:00:00",
          "2024-03-23T17:00:00",
          "2024-03-23T17:00:00",
          "2024-03-31T16:00:00",
          "2024-03-31T16:00:00",
          "2024-03-31T16:00:00",
          "2024-03-31T16:00:00",
          "2024-03-31T16:00:00",
          "2024-03-31T16:00:00",
          "2024-03-31T16:00:00",
          "2024-03-31T16:00:00",
          "2024-03-31T16:00:00",
          "2024-03-31T16:00:00",
          "2024-03-31T16:00:00",
          "2024-03-31T16:00:00",
          "2024-03-31T16:00:00",
          "2024-03-31T16:00:00",
          "2024-04-06T17:30:00",
          "2024-04-06T17:30:00",
          "2024-04-06T17:30:00",
          "2024-04-06T17:30:00",
          "2024-04-06T17:30:00",
          "2024-04-06T17:30:00",
          "2024-04-06T17:30:00",
          "2024-04-06T17:30:00",
          "2024-04-06T17:30:00",
          "2024-04-06T17:30:00",
          "2024-04-06T17:30:00",
          "2024-04-06T17:30:00",
          "2024-04-13T16:00:00",
          "2024-04-13T16:00:00",
          "2024-04-13T16:00:00",
          "2024-04-13T16:00:00",
          "2024-04-13T16:00:00",
          "2024-04-13T16:00:00",
          "2024-04-13T16:00:00",
          "2024-04-13T16:00:00",
          "2024-04-13T16:00:00",
          "2024-04-13T16:00:00",
          "2024-04-13T16:00:00",
          "2024-04-13T16:00:00",
          "2024-04-13T16:00:00",
          "2024-04-13T16:00:00",
          "2024-04-13T16:00:00",
          "2024-04-17T20:30:00",
          "2024-04-17T20:30:00",
          "2024-04-17T20:30:00",
          "2024-04-17T20:30:00",
          "2024-04-17T20:30:00",
          "2024-04-17T20:30:00",
          "2024-04-17T20:30:00",
          "2024-04-17T20:30:00",
          "2024-04-17T20:30:00",
          "2024-04-17T20:30:00",
          "2024-04-21T15:00:00",
          "2024-04-21T15:00:00",
          "2024-04-21T15:00:00",
          "2024-04-21T15:00:00",
          "2024-04-21T15:00:00",
          "2024-04-21T15:00:00",
          "2024-04-21T15:00:00",
          "2024-04-21T15:00:00",
          "2024-04-21T15:00:00",
          "2024-04-21T15:00:00",
          "2024-04-21T15:00:00",
          "2024-04-21T15:00:00",
          "2024-04-28T17:30:00",
          "2024-04-28T17:30:00",
          "2024-04-28T17:30:00",
          "2024-04-28T17:30:00",
          "2024-04-28T17:30:00",
          "2024-04-28T17:30:00",
          "2024-04-28T17:30:00",
          "2024-04-28T17:30:00",
          "2024-04-28T17:30:00",
          "2024-04-28T17:30:00",
          "2024-05-04T16:00:00",
          "2024-05-04T16:00:00",
          "2024-05-04T16:00:00",
          "2024-05-04T16:00:00",
          "2024-05-04T16:00:00",
          "2024-05-04T16:00:00",
          "2024-05-04T16:00:00",
          "2024-05-04T16:00:00",
          "2024-05-04T16:00:00",
          "2024-05-04T16:00:00",
          "2024-05-04T16:00:00",
          "2024-05-04T16:00:00",
          "2024-05-04T16:00:00",
          "2023-09-02T17:00:00",
          "2023-09-02T17:00:00",
          "2023-09-02T17:00:00",
          "2023-09-02T17:00:00",
          "2023-09-02T17:00:00",
          "2023-09-02T17:00:00",
          "2023-09-02T17:00:00",
          "2023-09-02T17:00:00",
          "2023-09-02T17:00:00",
          "2023-09-09T14:00:00",
          "2023-09-09T14:00:00",
          "2023-09-09T14:00:00",
          "2023-09-09T14:00:00",
          "2023-09-09T14:00:00",
          "2023-09-09T14:00:00",
          "2023-09-09T14:00:00",
          "2023-09-09T14:00:00",
          "2023-09-09T14:00:00",
          "2023-09-09T14:00:00",
          "2023-10-14T05:32:03",
          "2023-10-14T05:32:03",
          "2023-10-14T05:32:03",
          "2023-10-14T05:32:03",
          "2023-10-14T05:32:03",
          "2023-10-14T05:32:03",
          "2023-10-14T05:32:03",
          "2023-10-14T05:32:03",
          "2023-10-14T05:32:03",
          "2023-10-14T05:32:03",
          "2023-10-14T05:32:03",
          "2023-10-21T15:00:00",
          "2023-10-21T15:00:00",
          "2023-10-21T15:00:00",
          "2023-10-21T15:00:00",
          "2023-10-21T15:00:00",
          "2023-10-21T15:00:00",
          "2023-10-21T15:00:00",
          "2023-10-21T15:00:00",
          "2023-10-21T15:00:00",
          "2023-10-21T15:00:00",
          "2023-10-21T15:00:00",
          "2023-10-28T17:00:00",
          "2023-10-28T17:00:00",
          "2023-10-28T17:00:00",
          "2023-10-28T17:00:00",
          "2023-10-28T17:00:00",
          "2023-10-28T17:00:00",
          "2023-10-28T17:00:00",
          "2023-10-28T17:00:00",
          "2023-10-28T17:00:00",
          "2023-10-28T17:00:00",
          "2023-11-04T17:00:00",
          "2023-11-04T17:00:00",
          "2023-11-04T17:00:00",
          "2023-11-04T17:00:00",
          "2023-11-04T17:00:00",
          "2023-11-04T17:00:00",
          "2023-11-04T17:00:00",
          "2023-11-04T17:00:00",
          "2023-11-04T17:00:00",
          "2023-11-11T16:30:00",
          "2023-11-11T16:30:00",
          "2023-11-11T16:30:00",
          "2023-11-11T16:30:00",
          "2023-11-11T16:30:00",
          "2023-11-11T16:30:00",
          "2023-11-11T16:30:00",
          "2023-11-11T16:30:00",
          "2023-11-11T16:30:00",
          "2023-11-11T16:30:00",
          "2023-11-11T16:30:00",
          "2024-01-20T13:00:00",
          "2024-01-20T13:00:00",
          "2024-01-20T13:00:00",
          "2024-01-20T13:00:00",
          "2024-01-20T13:00:00",
          "2024-01-20T13:00:00",
          "2024-01-20T13:00:00",
          "2024-01-20T13:00:00",
          "2024-01-20T13:00:00",
          "2024-01-20T13:00:00",
          "2024-01-20T13:00:00",
          "2024-01-20T13:00:00",
          "2024-01-20T13:00:00",
          "2024-01-20T13:00:00",
          "2024-01-20T13:00:00",
          "2024-02-17T14:00:00",
          "2024-02-17T14:00:00",
          "2024-02-17T14:00:00",
          "2024-02-17T14:00:00",
          "2024-02-17T14:00:00",
          "2024-02-17T14:00:00",
          "2024-02-17T14:00:00",
          "2024-02-17T14:00:00",
          "2024-02-17T14:00:00",
          "2024-02-17T14:00:00",
          "2024-02-17T14:00:00",
          "2024-03-23T13:30:00",
          "2024-03-23T14:30:00",
          "2024-03-23T14:30:00",
          "2024-03-23T14:30:00",
          "2024-03-23T14:30:00",
          "2024-03-23T14:30:00",
          "2024-03-23T14:30:00",
          "2024-03-23T14:30:00",
          "2024-03-23T14:30:00",
          "2024-03-23T14:30:00",
          "2024-03-23T14:30:00",
          "2024-03-23T14:30:00",
          "2024-03-26T14:00:00"
         ],
         "xaxis": "x",
         "y": [
          0.9388269675515871,
          0.9973665903314812,
          0.9481985403185901,
          0.9998442947687136,
          0.9963456024793285,
          0.5911317683419585,
          0.9994037719703505,
          0.9452686820099495,
          0.9268062563025898,
          0.7940049893810606,
          0.7844069086054517,
          0.6465626286150176,
          0.9559430551806748,
          0.7671262090114603,
          0.8436252841614591,
          0.9924106518060634,
          0.704796810482504,
          0.9250991224788002,
          0.8802549251948653,
          0.8354646328828779,
          0.9997376375571015,
          0.84211456292141,
          0.9766830062590303,
          0.6172572131421105,
          0.6991976093506183,
          0.5726162491372112,
          0.7845431017577461,
          0.9344821966990124,
          0.8140031457636046,
          0.9189655007711794,
          0.8269322825114729,
          0.47477356561469897,
          0.8405940751699118,
          0.09645109448509254,
          0.9962954160509944,
          0.4278224938727327,
          0.9802903950971696,
          0.960662265558168,
          0.9778532585764244,
          0.6997735094169215,
          0.9885713832928807,
          0.9716642705441745,
          0.6153493226303797,
          0.9238718322824506,
          0.9880994233357908,
          0.9739944211407047,
          0.9791686943283571,
          0.43336647144244833,
          0.9985911004903705,
          0.4614582088337629,
          0.4021833234494368,
          0.825569027054787,
          0.8279239506021703,
          0.9903664765199914,
          0.848879371567718,
          0.20868920412770128,
          0.9980581323042764,
          0.9686979005603853,
          0.9597800851634821,
          0.9238885775210789,
          0.6455294286065508,
          0.7476489513570814,
          0.9795300955065336,
          0.9203689183117009,
          0.9491307431772342,
          0.5999042232354044,
          0.3978585285838446,
          0.8473230755045531,
          0.6054131467303068,
          0.7335275261267127,
          0.9685111213292115,
          0.6284350339791148,
          0.514304727435629,
          0.8683097284237907,
          0.4667924456717979,
          0.914301925562865,
          0.8375205305841469,
          0.9945981168478566,
          0.9431850486551652,
          0.916489477085389,
          0.9878091696135228,
          0.8302251953227963,
          0.87903057785262,
          0.796103827084744,
          0.9866035908988441,
          0.8163781387228548,
          0.4479083700586614,
          0.978649137672521,
          0.9049042646227425,
          0.9878236566096747,
          0.8536792650324484,
          0.9922075834099291,
          0.5396422620510258,
          0.9992955262855365,
          0.8183156420589796,
          0.48613780067717566,
          0.9836678905278621,
          0.8411496369962848,
          0.9958226548004119,
          0.999818624289952,
          0.9889675629818978,
          0.859383513173216,
          0.7102105273935548,
          0.9146837464856604,
          0.8884563643595965,
          0.9235327282591408,
          0.9854501541160419,
          0.4230884504421842,
          0.8152604550569033,
          0.6362749478398255,
          0.024528005378744104,
          0.9906880584403764,
          0.9857207954498354,
          0.9535782593131037,
          0.967504498800011,
          0.12422522336601227,
          0.9351401718818758,
          0.9898338994199477,
          0.7037680961504413,
          0.8729262089058608,
          0.9549054781136563,
          0.9980770933176718,
          0.9869869219132152,
          0.6340697354794714,
          0.8742587372799348,
          0.5961244778016724,
          0.9286306605416361,
          0.6906578263331267,
          0.9853704755287661,
          0.8456000659831375,
          0.9986766192074604,
          0.7805703317793417,
          0.9957385985731763,
          0.9818020783701399,
          0.948415736553941,
          0.7524283805029739,
          0.8015043325516469,
          0.9654690901913355,
          0.9652902190518245,
          0.9329089133057845,
          0.9776821747826941,
          0.9987631064590519,
          0.9788537785183283,
          0.9773408321218471,
          0.7269750880633699,
          0.9854441796645148,
          0.9101002695088093,
          0.9328492850524132,
          0.7894620184801234,
          0.9998615498581997,
          0.9248985545629287,
          0.9918039608488304,
          0.823055419488139,
          0.9620827539511655,
          0.9916882834502863,
          0.8348556473239881,
          0.9905298374250131,
          0.929678061701996,
          0.9908940131341719,
          0.05099790271744594,
          0.9702878599947311,
          0.9686784839345243,
          0.9954598752218268,
          0.8817721219626163,
          0.9469109741389218,
          0.994173825391623,
          0.10268585005154073,
          0.5856256676547592,
          0.9867367873665502,
          0.99259481169024,
          0.8596879295615703,
          0.9255783335454876,
          0.9928624971969371,
          0.9429229405126042,
          0.9821978999842071,
          0.9798249162657431,
          0.17762942006673113,
          0.9789608226595691,
          0.997537461739572,
          0.39496314084639744,
          0.1383651560413177,
          0.9058719138709972,
          0.4868144199587121,
          0.6613511495873544,
          0.5648810385407549,
          0.695192998329064,
          0.8499847718772187,
          0.9823510965280767,
          0.8652988295460151,
          0.9409234500274487,
          0.8899441998032598,
          0.1795639108751617,
          0.9366742703936947,
          0.45360219630124554,
          0.9274064971772398,
          0.9900699759670089,
          0.9586976585076811,
          0.6863857647590587,
          0.6848100048351883,
          0.9974895319495852,
          0.5745991308384921,
          0.6540133404281478,
          0.7458809869549815,
          0.9354297153429568,
          0.9470605186100326,
          0.6225139061504396,
          0.9783428291495758,
          0.8921009067981205,
          0.8287284471373295,
          0.9976495282283778,
          0.9305338021639024,
          0.8322411408370002,
          0.9411480723739957,
          0.9999262521784605,
          0.9895342666744754,
          0.9731272501162027,
          0.9994600468251499,
          0.9257545512799357,
          0.8134402129974653,
          0.568692082133213,
          0.9429633478853694,
          0.9949841779674814,
          0.6415600308806221,
          0.967033856063435,
          0.038231359867795196,
          0.7595576586071454,
          0.9758898506873454,
          0.8334329067142883,
          0.6439419538102332,
          0.640818669496448,
          0.975736424149437,
          0.7091687521015125,
          0.37710976903513777,
          0.624906135696078,
          0.5161168059667793,
          0.9858373515405415,
          0.001534361496862147,
          0.9325346417462648,
          0.6907278524192171,
          0.785898328930858,
          0.9965684975467517,
          0.360311390609958,
          0.6889169202687182,
          0.42790655585872484,
          0.6149250967770377,
          0.7855641997382454,
          0.5604810661077069,
          0.4024525781512998,
          0.9794283583243527,
          0.9604890029726475,
          0.9537797284080194,
          0.9451594768171295,
          0.9164102691476876,
          0.9011495034139567,
          0.9997224445900291,
          0.9751933669778781,
          0.9956127687492141,
          0.9886897999071226,
          0.8544302523467547,
          0.9210139146959241,
          0.9567289516291825,
          0.9523897617577995,
          0.9889109126033584,
          0.6777244409911932,
          0.996001395646886,
          0.5365849352524638,
          0.9394202702870021,
          0.9288659809631494,
          0.4179257006961773,
          0.999399389810545,
          0.8546593982116734,
          0.9918936569193141,
          0.9856441995589589,
          0.906774257826774,
          0.9950791691317844,
          0.9146037417258799,
          0.9999220385180979,
          0.8974950321846188,
          0.9915535626815836,
          0.7482392305033649,
          0.5747697406164654,
          0.5651331652159758,
          0.9749194174122326,
          0.9045058291508353,
          0.07361831166563136,
          0.8895101977683324,
          0.9942332063018178,
          0.8512392912012378,
          0.749179228745691,
          0.9442063213690524,
          0.2446716717911368,
          0.9675378542897435,
          0.9881083053421739,
          0.35016077328197287,
          0.9369466878523677,
          0.35776765321733195,
          0.5405415860502983,
          0.9836254371020887,
          0.7825299040730286,
          0.9860837997533792,
          0.9863498795189289,
          0.1837534502674172,
          0.8661786717608708,
          0.9951986679813124,
          0.7271766291428431,
          0.6447853802862823,
          0.9727152050142398,
          0.9823818207950937,
          0.792554131841033,
          0.31521357477132994,
          0.9843881037346216,
          0.950316754557994,
          0.9646284015071608,
          0.9594530744435824,
          0.2646951886024474,
          0.8924887016313052,
          0.8085795174545347,
          0.9737995336044473,
          0.9905641809230189,
          0.9239748862292365,
          0.9932442240988674,
          0.9698693985842485,
          0.9964965607978854,
          0.006374248391898862,
          0.00007442992543722383,
          0.8065498443774007,
          0.9962541200193451,
          0.9937906207463953,
          0.9967295083458484,
          0.960676997055868,
          0.9997464348052432,
          0.8994858986371737,
          0.9999757164543108,
          0.8282023176769985,
          0.9047975945884152,
          0.9771214750724035,
          0.8019973519653448,
          0.9458123682262339,
          0.9244126337478614,
          0.9833423509448311,
          0.9906630543806233,
          0.809701685243706,
          0.9976479248329763,
          0.9960524307276858,
          0.8146855403218846,
          0.9701785114728579,
          0.404425222593953,
          0.7166122172910804,
          0.8693833257640173,
          0.737855165047726,
          0.9745436382135111,
          0.6578179078967271,
          0.9964244671360907,
          0.7486349406315804,
          0.9979423604396174,
          0.7671067655469591,
          0.9983686054833125,
          0.9882423313702139,
          0.975868564338499,
          0.9190959820989395,
          0.847646312147462,
          0.44533273859659755,
          0.9966892224024813,
          0.9934611561765386,
          0.9095518220610523,
          0.999988755743565,
          0.9618395856506112,
          0.9999750744430372,
          0.9585770128999209,
          0.9920380942127038,
          0.8947880867410908,
          0.9361541789286669,
          0.9999876704420089,
          0.9860459792319898,
          0.9991373922742173,
          0.9856778223528994,
          0.10395718269583185,
          0.9989885315465276,
          0.9987349537249681,
          0.9713785050964567,
          0.9704710134944706,
          0.9933173895854868,
          0.593395814211459,
          0.9995546418359411,
          0.9168874334562968,
          0.837487064579161,
          0.9972647882352668,
          0.7236730273295169,
          0.9992324351079185,
          0.1871973187301973,
          0.555056883593056,
          0.611727781670799,
          0.7768891679000869,
          0.9927608210126618,
          0.1449181140245487,
          0.848849827523265,
          0.9914753463132471,
          0.7607029011955809,
          0.411404594554509,
          0.2901980355181916,
          0.9796337906681417,
          0.9946060527936352,
          0.9161447411501787,
          0.4731816050560504,
          0.5719572015857922,
          0.9832100586858066,
          0.9990308399416158,
          0.9904876462791607,
          0.9271909041934769,
          0.8027186345282666,
          0.9994791534164247,
          0.9954085410964744,
          0.9486414231497131,
          0.0254439104249135,
          0.968996679982205,
          0.9923278416331303,
          0.9502056783902496,
          0.6892054132016348,
          0.9436998372121186,
          0.9509662077985496,
          0.999240643727327,
          0.8140725632421544,
          0.9682886220890959,
          0.9984537344474217,
          0.6509882853968131,
          0.9676660887805528,
          0.9666876121093771,
          0.9989700592595885,
          0.9353492717617323,
          0.9523355052870807,
          0.5950576086260067,
          0.980989247605166,
          0.9817414438524065,
          0.04463757222408101,
          0.9673648631077545,
          0.9270225901816591,
          0.8038304910558526,
          0.4237875521416453,
          0.9752369562781341,
          0.7728199473750034,
          0.7722945056929612,
          0.9935481574818654,
          0.9992366567039352,
          0.9924155581292989,
          0.9865613093730625,
          0.8289434764258145,
          0.562176353258152,
          0.9991058181439024,
          0.06083165320116568,
          0.8848951005236275,
          0.8442743086317431,
          0.999051698133922,
          0.9845312122358153,
          0.8904267031268308,
          0.7008655456413001,
          0.6708082288431306,
          0.9892295002744494,
          0.9306777226947729,
          0.8218639197026513,
          0.8416791047073011,
          0.9468349141760887,
          0.998569052661264,
          0.9798666431284021,
          0.9713622928467922,
          0.9991023656423285,
          0.045496482056162434,
          0.859227319610436,
          0.9976321704822316,
          0.9167686530148124,
          0.9997566720237796,
          0.9996464704394655,
          0.9660796614093953,
          0.9951789415408098,
          0.7279144913293519,
          0.8377176775576727,
          0.6841071396097851,
          0.8824798582238866,
          0.998118070066099,
          0.985178345440532,
          0.9715568094165351,
          0.7738508445193075,
          0.9837017507713584,
          0.936966318767658,
          0.23384470690796488,
          0.014926358605178311,
          0.9422095643140455,
          0.3392445670907518,
          0.8477338824063053,
          0.18944608614729866,
          0.2626337143377651,
          0.6635027992790388,
          0.2460682869538276,
          0.9864799669174811,
          0.5556301260845742,
          0.06934127505582612,
          0.2747616305940092,
          0.4430957204994873,
          0.000928677673233943,
          0.6723001038838449,
          0.3145401382408867,
          0.1744149873164725,
          0.00014811576281492547,
          0.01859519312706493,
          0.3218785668833992,
          0.02033847202253456,
          0.0026333131577889204,
          0.023772139010831302,
          0.2948961225858207,
          0.17359307040226915,
          0.010165680144262572,
          0.005521491811672186,
          0.00007084221874031933,
          0.00023844745472803512,
          0.862946973716702,
          0.026744651649116238,
          0.04651546864113596,
          0.655363057217574,
          0.4680722327032135,
          0.006660553749384957,
          0.01483619042944306,
          0.00009314471425213095,
          0.0015130127628399557,
          0.000008020713584853544,
          0.16891996276332474,
          0.000011100498980808453,
          0.0006961596973678793,
          0.0016534077402585278,
          0.9126097638234335,
          0.7258663101778464,
          0.8028272953797783,
          0.5526438600727022,
          0.000044558600493548064,
          0.06963421461677749,
          0.001169379946651548,
          0.004345516184310921,
          0.0030895121170866784,
          0.0002983118844476203,
          0.06824687381098857,
          0.1109127783598998,
          0.0005722361733686441,
          0.0010091119608719025,
          0.001897968204950583,
          0.006705193561450488,
          0.0010225309074545273,
          0.03491019827309713,
          0.0001345254407199165,
          0.0013197114681340926,
          0.4024104208237711,
          0.02968776652453926,
          0.004052680421626026,
          0.005489441328426162,
          0.19844203080230977,
          0.029376008415963505,
          0.08389278317948345,
          0.09646918776427445,
          0.00005212639639519609,
          0.008816258755429126,
          0.1281641503331229,
          0.00005490503426399718,
          0.03645717651589858,
          0.013117694682338626,
          0.007295956952939935,
          0.024567679174713274,
          0.0011787828294175838,
          0.0006388170145646949,
          0.00559872361077294,
          0.06694865834044644,
          0.04937016502524247,
          0.048813639088399606,
          0.002458121069071798,
          0.0018192140593991544,
          0.19089747281210623,
          0.7864853893122643,
          0.014408046673280286,
          0.0018114791320415133,
          0.15152502902526171,
          0.024607190612879724,
          0.70289350119884,
          0.005113662895685676,
          0.00018813372627606072,
          0.0009831966402693404,
          0.027298362492354428,
          0.0006719319509994975,
          0.026669667114505694,
          0.00021078342170350413,
          0.0058006121164025275,
          0.0019422935100145977,
          0.0002846827853242861,
          0.0042732790231444,
          0.01356436811675559,
          0.14427474988222955,
          0.1489010905913358,
          0.0005652356891346396,
          0.01153594756340794,
          0.04344535158243863,
          0.21767704744275437,
          0.4187107942260094,
          0.00014295656206407886,
          0.015070351049387172,
          0.08457670358004064,
          0.013246517828993293,
          0.025291480709425298,
          0.000473789973682104,
          0.10989389872100509,
          0.037853209573653956,
          0.0006520546229942133,
          0.0020135645915244087,
          0.00030506129493624066,
          0.00006288841453479939,
          0.0037314367592157765,
          0.003223466456355513,
          0.005270272361576551,
          0.7803149822929893,
          0.02530870995384939,
          0.151907663803837,
          0.03752802342480539,
          0.026263950446632923,
          0.05029987516565005,
          0.03569526582363912,
          0.00005990020120457724,
          0.036583431209031375,
          0.5128202750004888,
          0.09535090586117514,
          0.17823932310148438,
          0.021309604877585736,
          0.00017605598203751188,
          0.07637210967120626,
          0.003142359415618064,
          0.007768792712574442,
          0.028003963910337645,
          0.002124052516665523,
          0.020736149875459634,
          0.003788052858404688,
          0.013736707702397615,
          0.0004045773920505234,
          0.18310339837313572,
          0.1726391897088657,
          0.002326707322080187,
          0.023239213943661106,
          0.0021246149843705845,
          0.2524592093578492,
          0.5180915646716907,
          0.02699809498275499,
          0.0000438875457533464,
          0.5123043537110377,
          0.15941626483254562,
          0.04568053320921998,
          0.18546195318618097,
          0.0021514690317587085,
          0.0006146095190107924,
          0.008205959502087102,
          0.011634148276733973,
          0.03005899842406832,
          0.07087820920799795,
          0.002239013621000859,
          0.004663075746899631,
          0.026009092620672795,
          0.019053152881474168,
          0.16193661216924585,
          0.00009274394115192377,
          0.0024087957487707082,
          0.0020360819768198337,
          0.3179452208876273,
          0.0005284445331479431,
          0.008722321133646448,
          0.05041744869195175,
          0.02246635527033238,
          0.015320343917165014,
          0.01621529989596818,
          0.01521805903199157,
          0.02235179136630845,
          0.011135061197448223,
          5.983132733730951e-8,
          0.3956671209086302,
          0.18327503871754208,
          0.1337903110163012,
          0.023251888221196827,
          0.04408391065427772,
          0.005925164980519203,
          0.00003727384316982102,
          0.2216529004918039,
          0.026816543580274597,
          0.0024339848263602287,
          0.21250795126491526,
          0.036908319089411376,
          0.007195235629150585,
          0.5779754485834654,
          0.0012435565099703865,
          0.31628173781418856,
          0.013013988209037687,
          0.1182168204104252,
          0.004101572315724244,
          0.004303682781108345,
          0.12668855265285034,
          0.0182281757888502,
          0.0179160064522801,
          0.005393648552376155,
          0.001753664616416802,
          0.05818845712523231,
          0.013154538095714536,
          0.008269883226987958,
          0.0008065174375059734,
          0.005972016756487302,
          0.009753803411760223,
          0.000029364945907167513,
          0.007984076012767087,
          0.03682686362990839,
          0.00026822233334055355,
          0.0070587836865556525,
          0.021684008783980222,
          0.059190838626367155,
          0.15932444903517284,
          0.22361736754350678,
          0.0006296031107454701,
          0.00001551861131645743,
          0.030095032352092557,
          0.018047874502110154,
          0.3329115519637929,
          0.000012641559361074606,
          0.0000013270154009592541,
          0.00035309583919181326,
          0.007959634245259545,
          0.075265772717818,
          0.0819943191284986,
          0.034197941560378864,
          0.04531620252590076,
          0.018615851029155847,
          0.14801104133512683,
          0.000324376440417077,
          0.010167291063391693,
          0.06072617477656243,
          0.8176598089898734,
          0.0007340037522711228,
          0.3600616011652355,
          0.000015184556436130315,
          0.032603937861687325,
          0.8791106558885248,
          0.19699616391816013,
          0.14564306757152545,
          0.0009383697720939596,
          0.00034529618939185895,
          0.036873714226834206,
          0.0005705423779811786,
          0.2393336495022439,
          0.4987366017262403,
          0.22041999827196188,
          0.07935938942683636,
          0.00004929070808286539,
          0.4753646006761556,
          0.0652141034222263,
          0.3515014406631235,
          0.038940862098152035,
          0.03529819055663243,
          0.17074317809704162,
          0.0019313028696196994,
          0.3726161520619185,
          0.00004246263424011821,
          0.30577825995003804,
          0.2171487109850408,
          0.24943326873344676,
          0.004708707479150427,
          0.03595627565892206,
          0.006484955999000865,
          0.12449969847885109,
          0.005359671851690655,
          0.002619899615201969,
          0.41211317317471924,
          0.1524165551697099,
          0.06039969938537654,
          0.00004311484511583202,
          0.0359423649825636,
          0.2429907961942172,
          0.11837241080180659,
          0.00043861337938518643,
          0.007482481186972853,
          0.06368621041849097,
          0.020691878844269266,
          0.060866973501152714,
          0.0005613950180926897,
          0.8473803827130327,
          0.016005998828784073,
          0.07225197351048092,
          0.00193206577311281,
          0.027159303191833302,
          0.0025115231651117657,
          0.006492295829793593,
          0.10831056631797946,
          0.0000027043896321115737,
          0.00033679215896034194,
          0.16754333365881052,
          0.0009850815761133246,
          0.013071334680807567,
          0.00011505782307682629,
          0.00016421404888658218,
          0.000003675130546519775,
          0.08314563099763922,
          0.00035341092483846863,
          0.0006874034259358707,
          0.599955896342118,
          0.01937843699208707,
          0.08141177086972066,
          0.0031265656397181547,
          0.5384151832822086,
          0.02589047692812976,
          0.01849875501187713,
          0.47411547724131287,
          0.8177120482984668,
          0.008855552951672778,
          0.8199861852178948,
          0.013013391197864307,
          0.18256278953499872,
          0.07570015409167079,
          0.004095738162906862,
          0.008083703911249771,
          0.3553935459100768,
          0.006411735186635457,
          0.021325730070719848,
          0.05509385314913386,
          0.007790210545244077,
          0.029044357424672707,
          0.008283877402116422,
          0.5779778694516844,
          0.25859649021155023,
          0.01053153424350831,
          0.03261277490295604,
          0.12204760730676294,
          0.39637691704295047,
          0.398402716729849,
          0.12930871810992897,
          0.04825700063595221,
          0.000028443021848245966,
          0.005482187660118084,
          0.0626193884389878,
          0.02632613934147877,
          0.2773457977579455,
          0.2849787402744948,
          0.7771410540154363,
          0.48553367076023646,
          0.4921238419095289,
          0.23133808134673206,
          0.31782402676925137,
          0.29406424519981006,
          0.6249754392906179,
          0.00018737801327318963,
          0.2506266669374389,
          0.1768766858432491,
          0.16132098909272014,
          0.04118851363922114,
          0.10593110619021787,
          0.27962144327614763,
          0.36860898604271036,
          0.8728273659082398,
          0.08295620231824387,
          0.00043686233101102,
          0.0020564986155816264,
          0.06515129791104866,
          0.0356431525240948,
          0.7213569555766103,
          0.5066294155169038,
          0.5740313098531541,
          0.10620796277003992,
          0.19238592150398426,
          0.04368508445760538,
          0.319912051393804,
          0.21213269316848143,
          0.0047975505330180674,
          0.007655153345454578,
          0.009225380503245029,
          0.0689132927188647,
          0.07410583801284758,
          0.3401825144703088,
          0.00035915469520073176,
          0.0000627716271295507,
          0.5955264607892866,
          0.04952341043289398,
          0.8036016365227758,
          0.21606550603121802,
          0.6491175941316832,
          0.846111389670529,
          0.017727748866499544,
          0.32674967626518325,
          0.6439193735130837,
          0.20118569556121269,
          0.002092118310031291,
          0.006741245138624904,
          0.07313790834528906,
          0.0007781174462172624,
          0.1982675026611012,
          0.0007052667584824703,
          0.09942763500765732,
          0.0006947281575041733,
          0.6863945080200522,
          0.006865343882326846,
          0.06442628439516575,
          0.0000021447612365645443,
          0.0021101267567784736,
          0.0014122379928292786,
          0.015322300115871207,
          0.12652670379702044,
          0.05405521756227628,
          0.7151462678680905,
          0.006173784758292,
          0.0003499973314629355,
          0.6985507092696168,
          0.3004035486874051,
          0.20641510746296354,
          0.19069547664085654,
          0.8567089635641568,
          0.0007396321511167616,
          0.40208692236039895,
          0.05386905988879777,
          0.014845924528593395,
          0.12547617474090608,
          0.4294063346975564,
          0.025027196159942967,
          0.8602283559735973,
          0.4848219349653231,
          0.20608354374724122,
          0.017714531822429817,
          0.026947788731856978,
          0.5548531910045384,
          0.002575566519308553,
          0.15475088752660346,
          0.228127667748016,
          0.024488697090463352,
          0.015341313392115122,
          0.07970755139115794,
          0.01609912509814533,
          0.8418784884795829,
          0.7165708530408467,
          0.0024605673017727755,
          0.08411501298317488,
          0.02700814395728999,
          0.11148935869972908,
          0.00440196101997701,
          0.00010083462276735435,
          0.318717695101052,
          0.484927173419246,
          0.8236899075990882,
          0.07017967334558341,
          0.11495347991257142,
          0.0004573300951191147,
          0.5118288511763713,
          0.26049563620651656,
          0.06886355172049019,
          0.009860612903310527,
          0.00005572415149097217,
          0.00011522921323585972,
          0.008570840174547038,
          0.005124940760795161,
          0.11818252749748302,
          0.0025178778697296793,
          0.001994443978815271,
          0.05237219282463614,
          0.38618151956736047,
          0.2357083829964052,
          0.007107851666494279,
          0.6025935281595279,
          0.12763239326823927,
          0.08043362291478703,
          0.08945787434389697,
          0.0015146420466719324,
          0.007714478872078709,
          0.4728725373763384,
          0.16885369889049917,
          0.01099396921538116,
          0.6041936792415612,
          0.005248425622212628,
          0.07379079242844916,
          0.050421580641159175,
          0.04204704955979783,
          0.008336124254079988,
          0.00006247687791234284,
          0.05023520729926902,
          0.6041936792415612,
          0.025883191721536084,
          0.018412626793725514,
          0.022752013345726047,
          0.07996240022034246,
          0.0019053758833184303,
          0.061092498608467646,
          0.00039465139356619053,
          0.08497839665725158,
          0.020031959361829995,
          0.0038623765471058826,
          0.14907996713704014,
          0.0016566057841224406,
          0.09342448492286709,
          0.007516414427920781,
          0.008873648890276888,
          0.6100511937895097,
          0.011759563758478152,
          0.1891691440282798,
          0.00003737752603708292,
          0.13296139582458383,
          0.00001589097586454516,
          0.00002750319197173317,
          1.7691239834903843e-7,
          0.46165025634901663,
          0.10890258143591278,
          0.006780202703141975,
          0.03216414816031315,
          0.05752038927935008,
          0.6217093459818188,
          0.00004479482610466349,
          0.07832499793593468,
          0.4892041588955105,
          0.06564644660834763,
          0.2800882635643225,
          0.3904268367893661,
          0.46995891913240756,
          0.00001912305485545059,
          0.04514654049000718,
          0.0012950500564801763,
          0.0000022954697053900146,
          0.46840529856751434,
          0.5668654517172604,
          0.6702072321200251,
          0.6233526255380584,
          9.288325706592257e-7,
          0.005200725803802042,
          0.008399456856113034,
          0.008377253177362539,
          0.002072680010591775,
          0.24323410443295151,
          0.05292094422690455,
          0.009232598404660909,
          0.5007441067264868,
          0.0011420517277883745,
          0.00015396793497717467,
          0.0006246141575102462,
          0.6666124309138217,
          0.3881579895966209,
          0.0009299546745407631,
          0.0011782290154857048,
          0.00004109160927651342,
          0.14624349736908795,
          0.008638409487868905,
          0.006400541679626355,
          0.00017363606891916098,
          0.0104654877076651,
          0.0007849622162397259,
          0.0001020235908841395,
          0.0170382084005526,
          0.05124084831752414,
          0.01144693121673542,
          0.031637591277574574,
          0.05395557109782829,
          0.012439812614881899,
          0.00044905637408428084,
          0.02322267317573356,
          0.1397333302605426,
          0.0012706510726259131,
          0.0000752945759638092,
          0.4115496087540258,
          0.20810375951944013,
          0.02783531679541003,
          0.00014763485062826352,
          0.004726083214566474,
          0.021443640471447048,
          0.10712025891097622,
          0.03512920462116393,
          0.00033959542725929705,
          0.022618769381269943,
          0.019985259620773067,
          0.02943153762449776,
          0.04848729668171548,
          0.24232328512812937,
          0.023920191339917327,
          0.49357195331812126,
          0.00012080809563882161,
          0.0006438456969706962,
          0.012657604278159984,
          0.05881393563252557,
          0.701329642569213,
          0.010800032110887358
         ],
         "yaxis": "y"
        }
       ],
       "layout": {
        "coloraxis": {
         "colorbar": {
          "ticktext": [
           "Servette PRO",
           "M21",
           "M19"
          ],
          "tickvals": [
           0,
           1,
           2
          ],
          "title": {
           "text": "Team ID"
          }
         },
         "colorscale": [
          [
           0,
           "#440154"
          ],
          [
           0.1111111111111111,
           "#482878"
          ],
          [
           0.2222222222222222,
           "#3e4989"
          ],
          [
           0.3333333333333333,
           "#31688e"
          ],
          [
           0.4444444444444444,
           "#26828e"
          ],
          [
           0.5555555555555556,
           "#1f9e89"
          ],
          [
           0.6666666666666666,
           "#35b779"
          ],
          [
           0.7777777777777778,
           "#6ece58"
          ],
          [
           0.8888888888888888,
           "#b5de2b"
          ],
          [
           1,
           "#fde725"
          ]
         ]
        },
        "legend": {
         "tracegroupgap": 0
        },
        "template": {
         "data": {
          "bar": [
           {
            "error_x": {
             "color": "#2a3f5f"
            },
            "error_y": {
             "color": "#2a3f5f"
            },
            "marker": {
             "line": {
              "color": "#E5ECF6",
              "width": 0.5
             },
             "pattern": {
              "fillmode": "overlay",
              "size": 10,
              "solidity": 0.2
             }
            },
            "type": "bar"
           }
          ],
          "barpolar": [
           {
            "marker": {
             "line": {
              "color": "#E5ECF6",
              "width": 0.5
             },
             "pattern": {
              "fillmode": "overlay",
              "size": 10,
              "solidity": 0.2
             }
            },
            "type": "barpolar"
           }
          ],
          "carpet": [
           {
            "aaxis": {
             "endlinecolor": "#2a3f5f",
             "gridcolor": "white",
             "linecolor": "white",
             "minorgridcolor": "white",
             "startlinecolor": "#2a3f5f"
            },
            "baxis": {
             "endlinecolor": "#2a3f5f",
             "gridcolor": "white",
             "linecolor": "white",
             "minorgridcolor": "white",
             "startlinecolor": "#2a3f5f"
            },
            "type": "carpet"
           }
          ],
          "choropleth": [
           {
            "colorbar": {
             "outlinewidth": 0,
             "ticks": ""
            },
            "type": "choropleth"
           }
          ],
          "contour": [
           {
            "colorbar": {
             "outlinewidth": 0,
             "ticks": ""
            },
            "colorscale": [
             [
              0,
              "#0d0887"
             ],
             [
              0.1111111111111111,
              "#46039f"
             ],
             [
              0.2222222222222222,
              "#7201a8"
             ],
             [
              0.3333333333333333,
              "#9c179e"
             ],
             [
              0.4444444444444444,
              "#bd3786"
             ],
             [
              0.5555555555555556,
              "#d8576b"
             ],
             [
              0.6666666666666666,
              "#ed7953"
             ],
             [
              0.7777777777777778,
              "#fb9f3a"
             ],
             [
              0.8888888888888888,
              "#fdca26"
             ],
             [
              1,
              "#f0f921"
             ]
            ],
            "type": "contour"
           }
          ],
          "contourcarpet": [
           {
            "colorbar": {
             "outlinewidth": 0,
             "ticks": ""
            },
            "type": "contourcarpet"
           }
          ],
          "heatmap": [
           {
            "colorbar": {
             "outlinewidth": 0,
             "ticks": ""
            },
            "colorscale": [
             [
              0,
              "#0d0887"
             ],
             [
              0.1111111111111111,
              "#46039f"
             ],
             [
              0.2222222222222222,
              "#7201a8"
             ],
             [
              0.3333333333333333,
              "#9c179e"
             ],
             [
              0.4444444444444444,
              "#bd3786"
             ],
             [
              0.5555555555555556,
              "#d8576b"
             ],
             [
              0.6666666666666666,
              "#ed7953"
             ],
             [
              0.7777777777777778,
              "#fb9f3a"
             ],
             [
              0.8888888888888888,
              "#fdca26"
             ],
             [
              1,
              "#f0f921"
             ]
            ],
            "type": "heatmap"
           }
          ],
          "heatmapgl": [
           {
            "colorbar": {
             "outlinewidth": 0,
             "ticks": ""
            },
            "colorscale": [
             [
              0,
              "#0d0887"
             ],
             [
              0.1111111111111111,
              "#46039f"
             ],
             [
              0.2222222222222222,
              "#7201a8"
             ],
             [
              0.3333333333333333,
              "#9c179e"
             ],
             [
              0.4444444444444444,
              "#bd3786"
             ],
             [
              0.5555555555555556,
              "#d8576b"
             ],
             [
              0.6666666666666666,
              "#ed7953"
             ],
             [
              0.7777777777777778,
              "#fb9f3a"
             ],
             [
              0.8888888888888888,
              "#fdca26"
             ],
             [
              1,
              "#f0f921"
             ]
            ],
            "type": "heatmapgl"
           }
          ],
          "histogram": [
           {
            "marker": {
             "pattern": {
              "fillmode": "overlay",
              "size": 10,
              "solidity": 0.2
             }
            },
            "type": "histogram"
           }
          ],
          "histogram2d": [
           {
            "colorbar": {
             "outlinewidth": 0,
             "ticks": ""
            },
            "colorscale": [
             [
              0,
              "#0d0887"
             ],
             [
              0.1111111111111111,
              "#46039f"
             ],
             [
              0.2222222222222222,
              "#7201a8"
             ],
             [
              0.3333333333333333,
              "#9c179e"
             ],
             [
              0.4444444444444444,
              "#bd3786"
             ],
             [
              0.5555555555555556,
              "#d8576b"
             ],
             [
              0.6666666666666666,
              "#ed7953"
             ],
             [
              0.7777777777777778,
              "#fb9f3a"
             ],
             [
              0.8888888888888888,
              "#fdca26"
             ],
             [
              1,
              "#f0f921"
             ]
            ],
            "type": "histogram2d"
           }
          ],
          "histogram2dcontour": [
           {
            "colorbar": {
             "outlinewidth": 0,
             "ticks": ""
            },
            "colorscale": [
             [
              0,
              "#0d0887"
             ],
             [
              0.1111111111111111,
              "#46039f"
             ],
             [
              0.2222222222222222,
              "#7201a8"
             ],
             [
              0.3333333333333333,
              "#9c179e"
             ],
             [
              0.4444444444444444,
              "#bd3786"
             ],
             [
              0.5555555555555556,
              "#d8576b"
             ],
             [
              0.6666666666666666,
              "#ed7953"
             ],
             [
              0.7777777777777778,
              "#fb9f3a"
             ],
             [
              0.8888888888888888,
              "#fdca26"
             ],
             [
              1,
              "#f0f921"
             ]
            ],
            "type": "histogram2dcontour"
           }
          ],
          "mesh3d": [
           {
            "colorbar": {
             "outlinewidth": 0,
             "ticks": ""
            },
            "type": "mesh3d"
           }
          ],
          "parcoords": [
           {
            "line": {
             "colorbar": {
              "outlinewidth": 0,
              "ticks": ""
             }
            },
            "type": "parcoords"
           }
          ],
          "pie": [
           {
            "automargin": true,
            "type": "pie"
           }
          ],
          "scatter": [
           {
            "fillpattern": {
             "fillmode": "overlay",
             "size": 10,
             "solidity": 0.2
            },
            "type": "scatter"
           }
          ],
          "scatter3d": [
           {
            "line": {
             "colorbar": {
              "outlinewidth": 0,
              "ticks": ""
             }
            },
            "marker": {
             "colorbar": {
              "outlinewidth": 0,
              "ticks": ""
             }
            },
            "type": "scatter3d"
           }
          ],
          "scattercarpet": [
           {
            "marker": {
             "colorbar": {
              "outlinewidth": 0,
              "ticks": ""
             }
            },
            "type": "scattercarpet"
           }
          ],
          "scattergeo": [
           {
            "marker": {
             "colorbar": {
              "outlinewidth": 0,
              "ticks": ""
             }
            },
            "type": "scattergeo"
           }
          ],
          "scattergl": [
           {
            "marker": {
             "colorbar": {
              "outlinewidth": 0,
              "ticks": ""
             }
            },
            "type": "scattergl"
           }
          ],
          "scattermapbox": [
           {
            "marker": {
             "colorbar": {
              "outlinewidth": 0,
              "ticks": ""
             }
            },
            "type": "scattermapbox"
           }
          ],
          "scatterpolar": [
           {
            "marker": {
             "colorbar": {
              "outlinewidth": 0,
              "ticks": ""
             }
            },
            "type": "scatterpolar"
           }
          ],
          "scatterpolargl": [
           {
            "marker": {
             "colorbar": {
              "outlinewidth": 0,
              "ticks": ""
             }
            },
            "type": "scatterpolargl"
           }
          ],
          "scatterternary": [
           {
            "marker": {
             "colorbar": {
              "outlinewidth": 0,
              "ticks": ""
             }
            },
            "type": "scatterternary"
           }
          ],
          "surface": [
           {
            "colorbar": {
             "outlinewidth": 0,
             "ticks": ""
            },
            "colorscale": [
             [
              0,
              "#0d0887"
             ],
             [
              0.1111111111111111,
              "#46039f"
             ],
             [
              0.2222222222222222,
              "#7201a8"
             ],
             [
              0.3333333333333333,
              "#9c179e"
             ],
             [
              0.4444444444444444,
              "#bd3786"
             ],
             [
              0.5555555555555556,
              "#d8576b"
             ],
             [
              0.6666666666666666,
              "#ed7953"
             ],
             [
              0.7777777777777778,
              "#fb9f3a"
             ],
             [
              0.8888888888888888,
              "#fdca26"
             ],
             [
              1,
              "#f0f921"
             ]
            ],
            "type": "surface"
           }
          ],
          "table": [
           {
            "cells": {
             "fill": {
              "color": "#EBF0F8"
             },
             "line": {
              "color": "white"
             }
            },
            "header": {
             "fill": {
              "color": "#C8D4E3"
             },
             "line": {
              "color": "white"
             }
            },
            "type": "table"
           }
          ]
         },
         "layout": {
          "annotationdefaults": {
           "arrowcolor": "#2a3f5f",
           "arrowhead": 0,
           "arrowwidth": 1
          },
          "autotypenumbers": "strict",
          "coloraxis": {
           "colorbar": {
            "outlinewidth": 0,
            "ticks": ""
           }
          },
          "colorscale": {
           "diverging": [
            [
             0,
             "#8e0152"
            ],
            [
             0.1,
             "#c51b7d"
            ],
            [
             0.2,
             "#de77ae"
            ],
            [
             0.3,
             "#f1b6da"
            ],
            [
             0.4,
             "#fde0ef"
            ],
            [
             0.5,
             "#f7f7f7"
            ],
            [
             0.6,
             "#e6f5d0"
            ],
            [
             0.7,
             "#b8e186"
            ],
            [
             0.8,
             "#7fbc41"
            ],
            [
             0.9,
             "#4d9221"
            ],
            [
             1,
             "#276419"
            ]
           ],
           "sequential": [
            [
             0,
             "#0d0887"
            ],
            [
             0.1111111111111111,
             "#46039f"
            ],
            [
             0.2222222222222222,
             "#7201a8"
            ],
            [
             0.3333333333333333,
             "#9c179e"
            ],
            [
             0.4444444444444444,
             "#bd3786"
            ],
            [
             0.5555555555555556,
             "#d8576b"
            ],
            [
             0.6666666666666666,
             "#ed7953"
            ],
            [
             0.7777777777777778,
             "#fb9f3a"
            ],
            [
             0.8888888888888888,
             "#fdca26"
            ],
            [
             1,
             "#f0f921"
            ]
           ],
           "sequentialminus": [
            [
             0,
             "#0d0887"
            ],
            [
             0.1111111111111111,
             "#46039f"
            ],
            [
             0.2222222222222222,
             "#7201a8"
            ],
            [
             0.3333333333333333,
             "#9c179e"
            ],
            [
             0.4444444444444444,
             "#bd3786"
            ],
            [
             0.5555555555555556,
             "#d8576b"
            ],
            [
             0.6666666666666666,
             "#ed7953"
            ],
            [
             0.7777777777777778,
             "#fb9f3a"
            ],
            [
             0.8888888888888888,
             "#fdca26"
            ],
            [
             1,
             "#f0f921"
            ]
           ]
          },
          "colorway": [
           "#636efa",
           "#EF553B",
           "#00cc96",
           "#ab63fa",
           "#FFA15A",
           "#19d3f3",
           "#FF6692",
           "#B6E880",
           "#FF97FF",
           "#FECB52"
          ],
          "font": {
           "color": "#2a3f5f"
          },
          "geo": {
           "bgcolor": "white",
           "lakecolor": "white",
           "landcolor": "#E5ECF6",
           "showlakes": true,
           "showland": true,
           "subunitcolor": "white"
          },
          "hoverlabel": {
           "align": "left"
          },
          "hovermode": "closest",
          "mapbox": {
           "style": "light"
          },
          "paper_bgcolor": "white",
          "plot_bgcolor": "#E5ECF6",
          "polar": {
           "angularaxis": {
            "gridcolor": "white",
            "linecolor": "white",
            "ticks": ""
           },
           "bgcolor": "#E5ECF6",
           "radialaxis": {
            "gridcolor": "white",
            "linecolor": "white",
            "ticks": ""
           }
          },
          "scene": {
           "xaxis": {
            "backgroundcolor": "#E5ECF6",
            "gridcolor": "white",
            "gridwidth": 2,
            "linecolor": "white",
            "showbackground": true,
            "ticks": "",
            "zerolinecolor": "white"
           },
           "yaxis": {
            "backgroundcolor": "#E5ECF6",
            "gridcolor": "white",
            "gridwidth": 2,
            "linecolor": "white",
            "showbackground": true,
            "ticks": "",
            "zerolinecolor": "white"
           },
           "zaxis": {
            "backgroundcolor": "#E5ECF6",
            "gridcolor": "white",
            "gridwidth": 2,
            "linecolor": "white",
            "showbackground": true,
            "ticks": "",
            "zerolinecolor": "white"
           }
          },
          "shapedefaults": {
           "line": {
            "color": "#2a3f5f"
           }
          },
          "ternary": {
           "aaxis": {
            "gridcolor": "white",
            "linecolor": "white",
            "ticks": ""
           },
           "baxis": {
            "gridcolor": "white",
            "linecolor": "white",
            "ticks": ""
           },
           "bgcolor": "#E5ECF6",
           "caxis": {
            "gridcolor": "white",
            "linecolor": "white",
            "ticks": ""
           }
          },
          "title": {
           "x": 0.05
          },
          "xaxis": {
           "automargin": true,
           "gridcolor": "white",
           "linecolor": "white",
           "ticks": "",
           "title": {
            "standoff": 15
           },
           "zerolinecolor": "white",
           "zerolinewidth": 2
          },
          "yaxis": {
           "automargin": true,
           "gridcolor": "white",
           "linecolor": "white",
           "ticks": "",
           "title": {
            "standoff": 15
           },
           "zerolinecolor": "white",
           "zerolinewidth": 2
          }
         }
        },
        "title": {
         "text": "Probability by Date and Team"
        },
        "xaxis": {
         "anchor": "y",
         "domain": [
          0,
          1
         ],
         "title": {
          "text": "months"
         }
        },
        "yaxis": {
         "anchor": "x",
         "domain": [
          0,
          1
         ],
         "title": {
          "text": "Probability (proba_pro)"
         }
        }
       }
      }
     },
     "metadata": {},
     "output_type": "display_data"
    }
   ],
   "source": [
    "import plotly.express as px\n",
    "import pandas as pd\n",
    "\n",
    "# Assurez-vous que la colonne DATE est au format datetime\n",
    "data['months'] = pd.to_datetime(data['DATE'])\n",
    "\n",
    "# Calculez la moyenne de proba_pro pour chaque joueur (si nécessaire pour un autre graphique)\n",
    "proba_means = data.groupby('PLAYER_NAME')['proba_pro'].mean()\n",
    "\n",
    "# Mettez en correspondance TEAM_ID à des valeurs numériques\n",
    "team_id_mapping = {team: idx for idx, team in enumerate(data['TEAM_ID'].unique())}\n",
    "data['TEAM_ID_NUMERIC'] = data['TEAM_ID'].map(team_id_mapping)\n",
    "\n",
    "# Créez le graphique avec Plotly\n",
    "fig = px.scatter(\n",
    "    data,\n",
    "    x='months',\n",
    "    y='proba_pro',\n",
    "    color='TEAM_ID_NUMERIC',\n",
    "    color_continuous_scale='Viridis',  # Utilisation de la carte de couleurs Viridis\n",
    "    hover_name='PLAYER_NAME',\n",
    "    labels={\n",
    "        'DATE': 'Date',\n",
    "        'proba_pro': 'Probability (proba_pro)',\n",
    "        'TEAM_ID_NUMERIC': 'Team ID'\n",
    "    },\n",
    "    title='Probability by Date and Team'\n",
    ")\n",
    "\n",
    "# Ajouter une légende pour les équipes\n",
    "fig.update_layout(coloraxis_colorbar=dict(\n",
    "    title='Team ID',\n",
    "    tickvals=list(team_id_mapping.values()),\n",
    "    ticktext=list(team_id_mapping.keys())\n",
    "))\n",
    "\n",
    "fig.show()\n"
   ]
  },
  {
   "cell_type": "code",
   "execution_count": 245,
   "metadata": {},
   "outputs": [
    {
     "name": "stdout",
     "output_type": "stream",
     "text": [
      "PLAYER_NAME\n",
      "A.Antunes          0.893637\n",
      "A.Baron            0.859597\n",
      "A.Dias patricio    0.096917\n",
      "A.Lyng             0.028604\n",
      "A.Mhoumadi         0.081146\n",
      "                     ...   \n",
      "T.Ouattara         0.028325\n",
      "V.Berhami          0.143342\n",
      "V.Tritten          0.051662\n",
      "Y.Lahiouel         0.257375\n",
      "Y.Severin          0.818611\n",
      "Name: proba_pro, Length: 71, dtype: float64\n"
     ]
    }
   ],
   "source": [
    "\n",
    "\n",
    "print(proba_means)"
   ]
  },
  {
   "cell_type": "code",
   "execution_count": 246,
   "metadata": {},
   "outputs": [
    {
     "data": {
      "application/vnd.plotly.v1+json": {
       "config": {
        "plotlyServerURL": "https://plot.ly"
       },
       "data": [
        {
         "alignmentgroup": "True",
         "hovertemplate": "<b>%{hovertext}</b><br><br>Player Name=%{x}<br>Mean Probability (proba_pro)=%{y}<extra></extra>",
         "hovertext": [
          "K.Tsunemoto"
         ],
         "legendgroup": "K.Tsunemoto",
         "marker": {
          "color": "#636efa",
          "pattern": {
           "shape": ""
          }
         },
         "name": "K.Tsunemoto",
         "offsetgroup": "K.Tsunemoto",
         "orientation": "v",
         "showlegend": true,
         "textposition": "auto",
         "type": "bar",
         "x": [
          "K.Tsunemoto"
         ],
         "xaxis": "x",
         "y": [
          0.899089351301618
         ],
         "yaxis": "y"
        },
        {
         "alignmentgroup": "True",
         "hovertemplate": "<b>%{hovertext}</b><br><br>Player Name=%{x}<br>Mean Probability (proba_pro)=%{y}<extra></extra>",
         "hovertext": [
          "A.Antunes"
         ],
         "legendgroup": "A.Antunes",
         "marker": {
          "color": "#EF553B",
          "pattern": {
           "shape": ""
          }
         },
         "name": "A.Antunes",
         "offsetgroup": "A.Antunes",
         "orientation": "v",
         "showlegend": true,
         "textposition": "auto",
         "type": "bar",
         "x": [
          "A.Antunes"
         ],
         "xaxis": "x",
         "y": [
          0.8936370136698835
         ],
         "yaxis": "y"
        },
        {
         "alignmentgroup": "True",
         "hovertemplate": "<b>%{hovertext}</b><br><br>Player Name=%{x}<br>Mean Probability (proba_pro)=%{y}<extra></extra>",
         "hovertext": [
          "D.Kutesa"
         ],
         "legendgroup": "D.Kutesa",
         "marker": {
          "color": "#00cc96",
          "pattern": {
           "shape": ""
          }
         },
         "name": "D.Kutesa",
         "offsetgroup": "D.Kutesa",
         "orientation": "v",
         "showlegend": true,
         "textposition": "auto",
         "type": "bar",
         "x": [
          "D.Kutesa"
         ],
         "xaxis": "x",
         "y": [
          0.8859139657311225
         ],
         "yaxis": "y"
        },
        {
         "alignmentgroup": "True",
         "hovertemplate": "<b>%{hovertext}</b><br><br>Player Name=%{x}<br>Mean Probability (proba_pro)=%{y}<extra></extra>",
         "hovertext": [
          "S.Rouiller"
         ],
         "legendgroup": "S.Rouiller",
         "marker": {
          "color": "#ab63fa",
          "pattern": {
           "shape": ""
          }
         },
         "name": "S.Rouiller",
         "offsetgroup": "S.Rouiller",
         "orientation": "v",
         "showlegend": true,
         "textposition": "auto",
         "type": "bar",
         "x": [
          "S.Rouiller"
         ],
         "xaxis": "x",
         "y": [
          0.871070044843531
         ],
         "yaxis": "y"
        },
        {
         "alignmentgroup": "True",
         "hovertemplate": "<b>%{hovertext}</b><br><br>Player Name=%{x}<br>Mean Probability (proba_pro)=%{y}<extra></extra>",
         "hovertext": [
          "B.Mazikou"
         ],
         "legendgroup": "B.Mazikou",
         "marker": {
          "color": "#FFA15A",
          "pattern": {
           "shape": ""
          }
         },
         "name": "B.Mazikou",
         "offsetgroup": "B.Mazikou",
         "orientation": "v",
         "showlegend": true,
         "textposition": "auto",
         "type": "bar",
         "x": [
          "B.Mazikou"
         ],
         "xaxis": "x",
         "y": [
          0.8600508003254732
         ],
         "yaxis": "y"
        },
        {
         "alignmentgroup": "True",
         "hovertemplate": "<b>%{hovertext}</b><br><br>Player Name=%{x}<br>Mean Probability (proba_pro)=%{y}<extra></extra>",
         "hovertext": [
          "A.Baron"
         ],
         "legendgroup": "A.Baron",
         "marker": {
          "color": "#19d3f3",
          "pattern": {
           "shape": ""
          }
         },
         "name": "A.Baron",
         "offsetgroup": "A.Baron",
         "orientation": "v",
         "showlegend": true,
         "textposition": "auto",
         "type": "bar",
         "x": [
          "A.Baron"
         ],
         "xaxis": "x",
         "y": [
          0.8595968659408106
         ],
         "yaxis": "y"
        },
        {
         "alignmentgroup": "True",
         "hovertemplate": "<b>%{hovertext}</b><br><br>Player Name=%{x}<br>Mean Probability (proba_pro)=%{y}<extra></extra>",
         "hovertext": [
          "M.Stevanovic"
         ],
         "legendgroup": "M.Stevanovic",
         "marker": {
          "color": "#FF6692",
          "pattern": {
           "shape": ""
          }
         },
         "name": "M.Stevanovic",
         "offsetgroup": "M.Stevanovic",
         "orientation": "v",
         "showlegend": true,
         "textposition": "auto",
         "type": "bar",
         "x": [
          "M.Stevanovic"
         ],
         "xaxis": "x",
         "y": [
          0.8450520928815674
         ],
         "yaxis": "y"
        },
        {
         "alignmentgroup": "True",
         "hovertemplate": "<b>%{hovertext}</b><br><br>Player Name=%{x}<br>Mean Probability (proba_pro)=%{y}<extra></extra>",
         "hovertext": [
          "J.Guillemenot"
         ],
         "legendgroup": "J.Guillemenot",
         "marker": {
          "color": "#B6E880",
          "pattern": {
           "shape": ""
          }
         },
         "name": "J.Guillemenot",
         "offsetgroup": "J.Guillemenot",
         "orientation": "v",
         "showlegend": true,
         "textposition": "auto",
         "type": "bar",
         "x": [
          "J.Guillemenot"
         ],
         "xaxis": "x",
         "y": [
          0.8428631983888576
         ],
         "yaxis": "y"
        },
        {
         "alignmentgroup": "True",
         "hovertemplate": "<b>%{hovertext}</b><br><br>Player Name=%{x}<br>Mean Probability (proba_pro)=%{y}<extra></extra>",
         "hovertext": [
          "D.Bronn"
         ],
         "legendgroup": "D.Bronn",
         "marker": {
          "color": "#FF97FF",
          "pattern": {
           "shape": ""
          }
         },
         "name": "D.Bronn",
         "offsetgroup": "D.Bronn",
         "orientation": "v",
         "showlegend": true,
         "textposition": "auto",
         "type": "bar",
         "x": [
          "D.Bronn"
         ],
         "xaxis": "x",
         "y": [
          0.8307578351411524
         ],
         "yaxis": "y"
        },
        {
         "alignmentgroup": "True",
         "hovertemplate": "<b>%{hovertext}</b><br><br>Player Name=%{x}<br>Mean Probability (proba_pro)=%{y}<extra></extra>",
         "hovertext": [
          "Y.Severin"
         ],
         "legendgroup": "Y.Severin",
         "marker": {
          "color": "#FECB52",
          "pattern": {
           "shape": ""
          }
         },
         "name": "Y.Severin",
         "offsetgroup": "Y.Severin",
         "orientation": "v",
         "showlegend": true,
         "textposition": "auto",
         "type": "bar",
         "x": [
          "Y.Severin"
         ],
         "xaxis": "x",
         "y": [
          0.8186110510378346
         ],
         "yaxis": "y"
        },
        {
         "alignmentgroup": "True",
         "hovertemplate": "<b>%{hovertext}</b><br><br>Player Name=%{x}<br>Mean Probability (proba_pro)=%{y}<extra></extra>",
         "hovertext": [
          "E.Crivelli"
         ],
         "legendgroup": "E.Crivelli",
         "marker": {
          "color": "#636efa",
          "pattern": {
           "shape": ""
          }
         },
         "name": "E.Crivelli",
         "offsetgroup": "E.Crivelli",
         "orientation": "v",
         "showlegend": true,
         "textposition": "auto",
         "type": "bar",
         "x": [
          "E.Crivelli"
         ],
         "xaxis": "x",
         "y": [
          0.8005097055142748
         ],
         "yaxis": "y"
        },
        {
         "alignmentgroup": "True",
         "hovertemplate": "<b>%{hovertext}</b><br><br>Player Name=%{x}<br>Mean Probability (proba_pro)=%{y}<extra></extra>",
         "hovertext": [
          "D.Douline"
         ],
         "legendgroup": "D.Douline",
         "marker": {
          "color": "#EF553B",
          "pattern": {
           "shape": ""
          }
         },
         "name": "D.Douline",
         "offsetgroup": "D.Douline",
         "orientation": "v",
         "showlegend": true,
         "textposition": "auto",
         "type": "bar",
         "x": [
          "D.Douline"
         ],
         "xaxis": "x",
         "y": [
          0.7724237162635547
         ],
         "yaxis": "y"
        },
        {
         "alignmentgroup": "True",
         "hovertemplate": "<b>%{hovertext}</b><br><br>Player Name=%{x}<br>Mean Probability (proba_pro)=%{y}<extra></extra>",
         "hovertext": [
          "T.Cognat"
         ],
         "legendgroup": "T.Cognat",
         "marker": {
          "color": "#00cc96",
          "pattern": {
           "shape": ""
          }
         },
         "name": "T.Cognat",
         "offsetgroup": "T.Cognat",
         "orientation": "v",
         "showlegend": true,
         "textposition": "auto",
         "type": "bar",
         "x": [
          "T.Cognat"
         ],
         "xaxis": "x",
         "y": [
          0.7326943960185333
         ],
         "yaxis": "y"
        },
        {
         "alignmentgroup": "True",
         "hovertemplate": "<b>%{hovertext}</b><br><br>Player Name=%{x}<br>Mean Probability (proba_pro)=%{y}<extra></extra>",
         "hovertext": [
          "G.Ondoua"
         ],
         "legendgroup": "G.Ondoua",
         "marker": {
          "color": "#ab63fa",
          "pattern": {
           "shape": ""
          }
         },
         "name": "G.Ondoua",
         "offsetgroup": "G.Ondoua",
         "orientation": "v",
         "showlegend": true,
         "textposition": "auto",
         "type": "bar",
         "x": [
          "G.Ondoua"
         ],
         "xaxis": "x",
         "y": [
          0.7076759191825656
         ],
         "yaxis": "y"
        },
        {
         "alignmentgroup": "True",
         "hovertemplate": "<b>%{hovertext}</b><br><br>Player Name=%{x}<br>Mean Probability (proba_pro)=%{y}<extra></extra>",
         "hovertext": [
          "T.Magnin"
         ],
         "legendgroup": "T.Magnin",
         "marker": {
          "color": "#FFA15A",
          "pattern": {
           "shape": ""
          }
         },
         "name": "T.Magnin",
         "offsetgroup": "T.Magnin",
         "orientation": "v",
         "showlegend": true,
         "textposition": "auto",
         "type": "bar",
         "x": [
          "T.Magnin"
         ],
         "xaxis": "x",
         "y": [
          0.6527431389670447
         ],
         "yaxis": "y"
        },
        {
         "alignmentgroup": "True",
         "hovertemplate": "<b>%{hovertext}</b><br><br>Player Name=%{x}<br>Mean Probability (proba_pro)=%{y}<extra></extra>",
         "hovertext": [
          "A.Salihi"
         ],
         "legendgroup": "A.Salihi",
         "marker": {
          "color": "#19d3f3",
          "pattern": {
           "shape": ""
          }
         },
         "name": "A.Salihi",
         "offsetgroup": "A.Salihi",
         "orientation": "v",
         "showlegend": true,
         "textposition": "auto",
         "type": "bar",
         "x": [
          "A.Salihi"
         ],
         "xaxis": "x",
         "y": [
          0.6016535092979624
         ],
         "yaxis": "y"
        },
        {
         "alignmentgroup": "True",
         "hovertemplate": "<b>%{hovertext}</b><br><br>Player Name=%{x}<br>Mean Probability (proba_pro)=%{y}<extra></extra>",
         "hovertext": [
          "R.Abdullah"
         ],
         "legendgroup": "R.Abdullah",
         "marker": {
          "color": "#FF6692",
          "pattern": {
           "shape": ""
          }
         },
         "name": "R.Abdullah",
         "offsetgroup": "R.Abdullah",
         "orientation": "v",
         "showlegend": true,
         "textposition": "auto",
         "type": "bar",
         "x": [
          "R.Abdullah"
         ],
         "xaxis": "x",
         "y": [
          0.5618503352207497
         ],
         "yaxis": "y"
        },
        {
         "alignmentgroup": "True",
         "hovertemplate": "<b>%{hovertext}</b><br><br>Player Name=%{x}<br>Mean Probability (proba_pro)=%{y}<extra></extra>",
         "hovertext": [
          "S.Lele diba"
         ],
         "legendgroup": "S.Lele diba",
         "marker": {
          "color": "#B6E880",
          "pattern": {
           "shape": ""
          }
         },
         "name": "S.Lele diba",
         "offsetgroup": "S.Lele diba",
         "orientation": "v",
         "showlegend": true,
         "textposition": "auto",
         "type": "bar",
         "x": [
          "S.Lele diba"
         ],
         "xaxis": "x",
         "y": [
          0.49956594464074344
         ],
         "yaxis": "y"
        },
        {
         "alignmentgroup": "True",
         "hovertemplate": "<b>%{hovertext}</b><br><br>Player Name=%{x}<br>Mean Probability (proba_pro)=%{y}<extra></extra>",
         "hovertext": [
          "M.Diallo"
         ],
         "legendgroup": "M.Diallo",
         "marker": {
          "color": "#FF97FF",
          "pattern": {
           "shape": ""
          }
         },
         "name": "M.Diallo",
         "offsetgroup": "M.Diallo",
         "orientation": "v",
         "showlegend": true,
         "textposition": "auto",
         "type": "bar",
         "x": [
          "M.Diallo"
         ],
         "xaxis": "x",
         "y": [
          0.4554435002736291
         ],
         "yaxis": "y"
        },
        {
         "alignmentgroup": "True",
         "hovertemplate": "<b>%{hovertext}</b><br><br>Player Name=%{x}<br>Mean Probability (proba_pro)=%{y}<extra></extra>",
         "hovertext": [
          "S.Baddy"
         ],
         "legendgroup": "S.Baddy",
         "marker": {
          "color": "#FECB52",
          "pattern": {
           "shape": ""
          }
         },
         "name": "S.Baddy",
         "offsetgroup": "S.Baddy",
         "orientation": "v",
         "showlegend": true,
         "textposition": "auto",
         "type": "bar",
         "x": [
          "S.Baddy"
         ],
         "xaxis": "x",
         "y": [
          0.43988314232128783
         ],
         "yaxis": "y"
        },
        {
         "alignmentgroup": "True",
         "hovertemplate": "<b>%{hovertext}</b><br><br>Player Name=%{x}<br>Mean Probability (proba_pro)=%{y}<extra></extra>",
         "hovertext": [
          "R.Gaud"
         ],
         "legendgroup": "R.Gaud",
         "marker": {
          "color": "#636efa",
          "pattern": {
           "shape": ""
          }
         },
         "name": "R.Gaud",
         "offsetgroup": "R.Gaud",
         "orientation": "v",
         "showlegend": true,
         "textposition": "auto",
         "type": "bar",
         "x": [
          "R.Gaud"
         ],
         "xaxis": "x",
         "y": [
          0.418529783928376
         ],
         "yaxis": "y"
        },
        {
         "alignmentgroup": "True",
         "hovertemplate": "<b>%{hovertext}</b><br><br>Player Name=%{x}<br>Mean Probability (proba_pro)=%{y}<extra></extra>",
         "hovertext": [
          "B.Fofana"
         ],
         "legendgroup": "B.Fofana",
         "marker": {
          "color": "#EF553B",
          "pattern": {
           "shape": ""
          }
         },
         "name": "B.Fofana",
         "offsetgroup": "B.Fofana",
         "orientation": "v",
         "showlegend": true,
         "textposition": "auto",
         "type": "bar",
         "x": [
          "B.Fofana"
         ],
         "xaxis": "x",
         "y": [
          0.39866249205531423
         ],
         "yaxis": "y"
        },
        {
         "alignmentgroup": "True",
         "hovertemplate": "<b>%{hovertext}</b><br><br>Player Name=%{x}<br>Mean Probability (proba_pro)=%{y}<extra></extra>",
         "hovertext": [
          "R.Philippin"
         ],
         "legendgroup": "R.Philippin",
         "marker": {
          "color": "#00cc96",
          "pattern": {
           "shape": ""
          }
         },
         "name": "R.Philippin",
         "offsetgroup": "R.Philippin",
         "orientation": "v",
         "showlegend": true,
         "textposition": "auto",
         "type": "bar",
         "x": [
          "R.Philippin"
         ],
         "xaxis": "x",
         "y": [
          0.31233781906819374
         ],
         "yaxis": "y"
        },
        {
         "alignmentgroup": "True",
         "hovertemplate": "<b>%{hovertext}</b><br><br>Player Name=%{x}<br>Mean Probability (proba_pro)=%{y}<extra></extra>",
         "hovertext": [
          "N.Vlasenko"
         ],
         "legendgroup": "N.Vlasenko",
         "marker": {
          "color": "#ab63fa",
          "pattern": {
           "shape": ""
          }
         },
         "name": "N.Vlasenko",
         "offsetgroup": "N.Vlasenko",
         "orientation": "v",
         "showlegend": true,
         "textposition": "auto",
         "type": "bar",
         "x": [
          "N.Vlasenko"
         ],
         "xaxis": "x",
         "y": [
          0.3008075655577449
         ],
         "yaxis": "y"
        },
        {
         "alignmentgroup": "True",
         "hovertemplate": "<b>%{hovertext}</b><br><br>Player Name=%{x}<br>Mean Probability (proba_pro)=%{y}<extra></extra>",
         "hovertext": [
          "M.Leclercq"
         ],
         "legendgroup": "M.Leclercq",
         "marker": {
          "color": "#FFA15A",
          "pattern": {
           "shape": ""
          }
         },
         "name": "M.Leclercq",
         "offsetgroup": "M.Leclercq",
         "orientation": "v",
         "showlegend": true,
         "textposition": "auto",
         "type": "bar",
         "x": [
          "M.Leclercq"
         ],
         "xaxis": "x",
         "y": [
          0.2740884563491325
         ],
         "yaxis": "y"
        },
        {
         "alignmentgroup": "True",
         "hovertemplate": "<b>%{hovertext}</b><br><br>Player Name=%{x}<br>Mean Probability (proba_pro)=%{y}<extra></extra>",
         "hovertext": [
          "N.Heller"
         ],
         "legendgroup": "N.Heller",
         "marker": {
          "color": "#19d3f3",
          "pattern": {
           "shape": ""
          }
         },
         "name": "N.Heller",
         "offsetgroup": "N.Heller",
         "orientation": "v",
         "showlegend": true,
         "textposition": "auto",
         "type": "bar",
         "x": [
          "N.Heller"
         ],
         "xaxis": "x",
         "y": [
          0.2610054813503299
         ],
         "yaxis": "y"
        },
        {
         "alignmentgroup": "True",
         "hovertemplate": "<b>%{hovertext}</b><br><br>Player Name=%{x}<br>Mean Probability (proba_pro)=%{y}<extra></extra>",
         "hovertext": [
          "Y.Lahiouel"
         ],
         "legendgroup": "Y.Lahiouel",
         "marker": {
          "color": "#FF6692",
          "pattern": {
           "shape": ""
          }
         },
         "name": "Y.Lahiouel",
         "offsetgroup": "Y.Lahiouel",
         "orientation": "v",
         "showlegend": true,
         "textposition": "auto",
         "type": "bar",
         "x": [
          "Y.Lahiouel"
         ],
         "xaxis": "x",
         "y": [
          0.25737532462850543
         ],
         "yaxis": "y"
        },
        {
         "alignmentgroup": "True",
         "hovertemplate": "<b>%{hovertext}</b><br><br>Player Name=%{x}<br>Mean Probability (proba_pro)=%{y}<extra></extra>",
         "hovertext": [
          "L.Tafaj"
         ],
         "legendgroup": "L.Tafaj",
         "marker": {
          "color": "#B6E880",
          "pattern": {
           "shape": ""
          }
         },
         "name": "L.Tafaj",
         "offsetgroup": "L.Tafaj",
         "orientation": "v",
         "showlegend": true,
         "textposition": "auto",
         "type": "bar",
         "x": [
          "L.Tafaj"
         ],
         "xaxis": "x",
         "y": [
          0.2364094147253427
         ],
         "yaxis": "y"
        },
        {
         "alignmentgroup": "True",
         "hovertemplate": "<b>%{hovertext}</b><br><br>Player Name=%{x}<br>Mean Probability (proba_pro)=%{y}<extra></extra>",
         "hovertext": [
          "L.Srdanovic"
         ],
         "legendgroup": "L.Srdanovic",
         "marker": {
          "color": "#FF97FF",
          "pattern": {
           "shape": ""
          }
         },
         "name": "L.Srdanovic",
         "offsetgroup": "L.Srdanovic",
         "orientation": "v",
         "showlegend": true,
         "textposition": "auto",
         "type": "bar",
         "x": [
          "L.Srdanovic"
         ],
         "xaxis": "x",
         "y": [
          0.2331524947757265
         ],
         "yaxis": "y"
        },
        {
         "alignmentgroup": "True",
         "hovertemplate": "<b>%{hovertext}</b><br><br>Player Name=%{x}<br>Mean Probability (proba_pro)=%{y}<extra></extra>",
         "hovertext": [
          "L.Scandurra"
         ],
         "legendgroup": "L.Scandurra",
         "marker": {
          "color": "#FECB52",
          "pattern": {
           "shape": ""
          }
         },
         "name": "L.Scandurra",
         "offsetgroup": "L.Scandurra",
         "orientation": "v",
         "showlegend": true,
         "textposition": "auto",
         "type": "bar",
         "x": [
          "L.Scandurra"
         ],
         "xaxis": "x",
         "y": [
          0.22828910412690173
         ],
         "yaxis": "y"
        },
        {
         "alignmentgroup": "True",
         "hovertemplate": "<b>%{hovertext}</b><br><br>Player Name=%{x}<br>Mean Probability (proba_pro)=%{y}<extra></extra>",
         "hovertext": [
          "J.Simo"
         ],
         "legendgroup": "J.Simo",
         "marker": {
          "color": "#636efa",
          "pattern": {
           "shape": ""
          }
         },
         "name": "J.Simo",
         "offsetgroup": "J.Simo",
         "orientation": "v",
         "showlegend": true,
         "textposition": "auto",
         "type": "bar",
         "x": [
          "J.Simo"
         ],
         "xaxis": "x",
         "y": [
          0.2201850582945474
         ],
         "yaxis": "y"
        },
        {
         "alignmentgroup": "True",
         "hovertemplate": "<b>%{hovertext}</b><br><br>Player Name=%{x}<br>Mean Probability (proba_pro)=%{y}<extra></extra>",
         "hovertext": [
          "A.Selimi"
         ],
         "legendgroup": "A.Selimi",
         "marker": {
          "color": "#EF553B",
          "pattern": {
           "shape": ""
          }
         },
         "name": "A.Selimi",
         "offsetgroup": "A.Selimi",
         "orientation": "v",
         "showlegend": true,
         "textposition": "auto",
         "type": "bar",
         "x": [
          "A.Selimi"
         ],
         "xaxis": "x",
         "y": [
          0.2146060656486164
         ],
         "yaxis": "y"
        },
        {
         "alignmentgroup": "True",
         "hovertemplate": "<b>%{hovertext}</b><br><br>Player Name=%{x}<br>Mean Probability (proba_pro)=%{y}<extra></extra>",
         "hovertext": [
          "R.Guillaume"
         ],
         "legendgroup": "R.Guillaume",
         "marker": {
          "color": "#00cc96",
          "pattern": {
           "shape": ""
          }
         },
         "name": "R.Guillaume",
         "offsetgroup": "R.Guillaume",
         "orientation": "v",
         "showlegend": true,
         "textposition": "auto",
         "type": "bar",
         "x": [
          "R.Guillaume"
         ],
         "xaxis": "x",
         "y": [
          0.18284502348213463
         ],
         "yaxis": "y"
        },
        {
         "alignmentgroup": "True",
         "hovertemplate": "<b>%{hovertext}</b><br><br>Player Name=%{x}<br>Mean Probability (proba_pro)=%{y}<extra></extra>",
         "hovertext": [
          "K.Pereira"
         ],
         "legendgroup": "K.Pereira",
         "marker": {
          "color": "#ab63fa",
          "pattern": {
           "shape": ""
          }
         },
         "name": "K.Pereira",
         "offsetgroup": "K.Pereira",
         "orientation": "v",
         "showlegend": true,
         "textposition": "auto",
         "type": "bar",
         "x": [
          "K.Pereira"
         ],
         "xaxis": "x",
         "y": [
          0.16941581589299254
         ],
         "yaxis": "y"
        },
        {
         "alignmentgroup": "True",
         "hovertemplate": "<b>%{hovertext}</b><br><br>Player Name=%{x}<br>Mean Probability (proba_pro)=%{y}<extra></extra>",
         "hovertext": [
          "M.Rizvanovic"
         ],
         "legendgroup": "M.Rizvanovic",
         "marker": {
          "color": "#FFA15A",
          "pattern": {
           "shape": ""
          }
         },
         "name": "M.Rizvanovic",
         "offsetgroup": "M.Rizvanovic",
         "orientation": "v",
         "showlegend": true,
         "textposition": "auto",
         "type": "bar",
         "x": [
          "M.Rizvanovic"
         ],
         "xaxis": "x",
         "y": [
          0.16307598037138987
         ],
         "yaxis": "y"
        },
        {
         "alignmentgroup": "True",
         "hovertemplate": "<b>%{hovertext}</b><br><br>Player Name=%{x}<br>Mean Probability (proba_pro)=%{y}<extra></extra>",
         "hovertext": [
          "C.Routis"
         ],
         "legendgroup": "C.Routis",
         "marker": {
          "color": "#19d3f3",
          "pattern": {
           "shape": ""
          }
         },
         "name": "C.Routis",
         "offsetgroup": "C.Routis",
         "orientation": "v",
         "showlegend": true,
         "textposition": "auto",
         "type": "bar",
         "x": [
          "C.Routis"
         ],
         "xaxis": "x",
         "y": [
          0.14934918167551095
         ],
         "yaxis": "y"
        },
        {
         "alignmentgroup": "True",
         "hovertemplate": "<b>%{hovertext}</b><br><br>Player Name=%{x}<br>Mean Probability (proba_pro)=%{y}<extra></extra>",
         "hovertext": [
          "V.Berhami"
         ],
         "legendgroup": "V.Berhami",
         "marker": {
          "color": "#FF6692",
          "pattern": {
           "shape": ""
          }
         },
         "name": "V.Berhami",
         "offsetgroup": "V.Berhami",
         "orientation": "v",
         "showlegend": true,
         "textposition": "auto",
         "type": "bar",
         "x": [
          "V.Berhami"
         ],
         "xaxis": "x",
         "y": [
          0.14334235567964404
         ],
         "yaxis": "y"
        },
        {
         "alignmentgroup": "True",
         "hovertemplate": "<b>%{hovertext}</b><br><br>Player Name=%{x}<br>Mean Probability (proba_pro)=%{y}<extra></extra>",
         "hovertext": [
          "I.Petrisot"
         ],
         "legendgroup": "I.Petrisot",
         "marker": {
          "color": "#B6E880",
          "pattern": {
           "shape": ""
          }
         },
         "name": "I.Petrisot",
         "offsetgroup": "I.Petrisot",
         "orientation": "v",
         "showlegend": true,
         "textposition": "auto",
         "type": "bar",
         "x": [
          "I.Petrisot"
         ],
         "xaxis": "x",
         "y": [
          0.12902540512668545
         ],
         "yaxis": "y"
        },
        {
         "alignmentgroup": "True",
         "hovertemplate": "<b>%{hovertext}</b><br><br>Player Name=%{x}<br>Mean Probability (proba_pro)=%{y}<extra></extra>",
         "hovertext": [
          "L.Sestito"
         ],
         "legendgroup": "L.Sestito",
         "marker": {
          "color": "#FF97FF",
          "pattern": {
           "shape": ""
          }
         },
         "name": "L.Sestito",
         "offsetgroup": "L.Sestito",
         "orientation": "v",
         "showlegend": true,
         "textposition": "auto",
         "type": "bar",
         "x": [
          "L.Sestito"
         ],
         "xaxis": "x",
         "y": [
          0.12796875685742512
         ],
         "yaxis": "y"
        },
        {
         "alignmentgroup": "True",
         "hovertemplate": "<b>%{hovertext}</b><br><br>Player Name=%{x}<br>Mean Probability (proba_pro)=%{y}<extra></extra>",
         "hovertext": [
          "N.Henchoz"
         ],
         "legendgroup": "N.Henchoz",
         "marker": {
          "color": "#FECB52",
          "pattern": {
           "shape": ""
          }
         },
         "name": "N.Henchoz",
         "offsetgroup": "N.Henchoz",
         "orientation": "v",
         "showlegend": true,
         "textposition": "auto",
         "type": "bar",
         "x": [
          "N.Henchoz"
         ],
         "xaxis": "x",
         "y": [
          0.12520543513840307
         ],
         "yaxis": "y"
        },
        {
         "alignmentgroup": "True",
         "hovertemplate": "<b>%{hovertext}</b><br><br>Player Name=%{x}<br>Mean Probability (proba_pro)=%{y}<extra></extra>",
         "hovertext": [
          "M.Clavel"
         ],
         "legendgroup": "M.Clavel",
         "marker": {
          "color": "#636efa",
          "pattern": {
           "shape": ""
          }
         },
         "name": "M.Clavel",
         "offsetgroup": "M.Clavel",
         "orientation": "v",
         "showlegend": true,
         "textposition": "auto",
         "type": "bar",
         "x": [
          "M.Clavel"
         ],
         "xaxis": "x",
         "y": [
          0.11625053254614427
         ],
         "yaxis": "y"
        },
        {
         "alignmentgroup": "True",
         "hovertemplate": "<b>%{hovertext}</b><br><br>Player Name=%{x}<br>Mean Probability (proba_pro)=%{y}<extra></extra>",
         "hovertext": [
          "R.Benammar"
         ],
         "legendgroup": "R.Benammar",
         "marker": {
          "color": "#EF553B",
          "pattern": {
           "shape": ""
          }
         },
         "name": "R.Benammar",
         "offsetgroup": "R.Benammar",
         "orientation": "v",
         "showlegend": true,
         "textposition": "auto",
         "type": "bar",
         "x": [
          "R.Benammar"
         ],
         "xaxis": "x",
         "y": [
          0.10998476554078354
         ],
         "yaxis": "y"
        },
        {
         "alignmentgroup": "True",
         "hovertemplate": "<b>%{hovertext}</b><br><br>Player Name=%{x}<br>Mean Probability (proba_pro)=%{y}<extra></extra>",
         "hovertext": [
          "P.Weber"
         ],
         "legendgroup": "P.Weber",
         "marker": {
          "color": "#00cc96",
          "pattern": {
           "shape": ""
          }
         },
         "name": "P.Weber",
         "offsetgroup": "P.Weber",
         "orientation": "v",
         "showlegend": true,
         "textposition": "auto",
         "type": "bar",
         "x": [
          "P.Weber"
         ],
         "xaxis": "x",
         "y": [
          0.10122677751861434
         ],
         "yaxis": "y"
        },
        {
         "alignmentgroup": "True",
         "hovertemplate": "<b>%{hovertext}</b><br><br>Player Name=%{x}<br>Mean Probability (proba_pro)=%{y}<extra></extra>",
         "hovertext": [
          "A.Dias patricio"
         ],
         "legendgroup": "A.Dias patricio",
         "marker": {
          "color": "#ab63fa",
          "pattern": {
           "shape": ""
          }
         },
         "name": "A.Dias patricio",
         "offsetgroup": "A.Dias patricio",
         "orientation": "v",
         "showlegend": true,
         "textposition": "auto",
         "type": "bar",
         "x": [
          "A.Dias patricio"
         ],
         "xaxis": "x",
         "y": [
          0.09691705633765654
         ],
         "yaxis": "y"
        },
        {
         "alignmentgroup": "True",
         "hovertemplate": "<b>%{hovertext}</b><br><br>Player Name=%{x}<br>Mean Probability (proba_pro)=%{y}<extra></extra>",
         "hovertext": [
          "M.Anselme"
         ],
         "legendgroup": "M.Anselme",
         "marker": {
          "color": "#FFA15A",
          "pattern": {
           "shape": ""
          }
         },
         "name": "M.Anselme",
         "offsetgroup": "M.Anselme",
         "orientation": "v",
         "showlegend": true,
         "textposition": "auto",
         "type": "bar",
         "x": [
          "M.Anselme"
         ],
         "xaxis": "x",
         "y": [
          0.08696555374632085
         ],
         "yaxis": "y"
        },
        {
         "alignmentgroup": "True",
         "hovertemplate": "<b>%{hovertext}</b><br><br>Player Name=%{x}<br>Mean Probability (proba_pro)=%{y}<extra></extra>",
         "hovertext": [
          "O.Daf"
         ],
         "legendgroup": "O.Daf",
         "marker": {
          "color": "#19d3f3",
          "pattern": {
           "shape": ""
          }
         },
         "name": "O.Daf",
         "offsetgroup": "O.Daf",
         "orientation": "v",
         "showlegend": true,
         "textposition": "auto",
         "type": "bar",
         "x": [
          "O.Daf"
         ],
         "xaxis": "x",
         "y": [
          0.08281204027418002
         ],
         "yaxis": "y"
        },
        {
         "alignmentgroup": "True",
         "hovertemplate": "<b>%{hovertext}</b><br><br>Player Name=%{x}<br>Mean Probability (proba_pro)=%{y}<extra></extra>",
         "hovertext": [
          "A.Mhoumadi"
         ],
         "legendgroup": "A.Mhoumadi",
         "marker": {
          "color": "#FF6692",
          "pattern": {
           "shape": ""
          }
         },
         "name": "A.Mhoumadi",
         "offsetgroup": "A.Mhoumadi",
         "orientation": "v",
         "showlegend": true,
         "textposition": "auto",
         "type": "bar",
         "x": [
          "A.Mhoumadi"
         ],
         "xaxis": "x",
         "y": [
          0.08114550563817685
         ],
         "yaxis": "y"
        },
        {
         "alignmentgroup": "True",
         "hovertemplate": "<b>%{hovertext}</b><br><br>Player Name=%{x}<br>Mean Probability (proba_pro)=%{y}<extra></extra>",
         "hovertext": [
          "S.Fankhauser"
         ],
         "legendgroup": "S.Fankhauser",
         "marker": {
          "color": "#B6E880",
          "pattern": {
           "shape": ""
          }
         },
         "name": "S.Fankhauser",
         "offsetgroup": "S.Fankhauser",
         "orientation": "v",
         "showlegend": true,
         "textposition": "auto",
         "type": "bar",
         "x": [
          "S.Fankhauser"
         ],
         "xaxis": "x",
         "y": [
          0.0682198301802694
         ],
         "yaxis": "y"
        },
        {
         "alignmentgroup": "True",
         "hovertemplate": "<b>%{hovertext}</b><br><br>Player Name=%{x}<br>Mean Probability (proba_pro)=%{y}<extra></extra>",
         "hovertext": [
          "F.Annor-mensah"
         ],
         "legendgroup": "F.Annor-mensah",
         "marker": {
          "color": "#FF97FF",
          "pattern": {
           "shape": ""
          }
         },
         "name": "F.Annor-mensah",
         "offsetgroup": "F.Annor-mensah",
         "orientation": "v",
         "showlegend": true,
         "textposition": "auto",
         "type": "bar",
         "x": [
          "F.Annor-mensah"
         ],
         "xaxis": "x",
         "y": [
          0.06796175425987462
         ],
         "yaxis": "y"
        },
        {
         "alignmentgroup": "True",
         "hovertemplate": "<b>%{hovertext}</b><br><br>Player Name=%{x}<br>Mean Probability (proba_pro)=%{y}<extra></extra>",
         "hovertext": [
          "L.Ndema"
         ],
         "legendgroup": "L.Ndema",
         "marker": {
          "color": "#FECB52",
          "pattern": {
           "shape": ""
          }
         },
         "name": "L.Ndema",
         "offsetgroup": "L.Ndema",
         "orientation": "v",
         "showlegend": true,
         "textposition": "auto",
         "type": "bar",
         "x": [
          "L.Ndema"
         ],
         "xaxis": "x",
         "y": [
          0.06576680250961556
         ],
         "yaxis": "y"
        },
        {
         "alignmentgroup": "True",
         "hovertemplate": "<b>%{hovertext}</b><br><br>Player Name=%{x}<br>Mean Probability (proba_pro)=%{y}<extra></extra>",
         "hovertext": [
          "L.Zuka"
         ],
         "legendgroup": "L.Zuka",
         "marker": {
          "color": "#636efa",
          "pattern": {
           "shape": ""
          }
         },
         "name": "L.Zuka",
         "offsetgroup": "L.Zuka",
         "orientation": "v",
         "showlegend": true,
         "textposition": "auto",
         "type": "bar",
         "x": [
          "L.Zuka"
         ],
         "xaxis": "x",
         "y": [
          0.05430429215476824
         ],
         "yaxis": "y"
        },
        {
         "alignmentgroup": "True",
         "hovertemplate": "<b>%{hovertext}</b><br><br>Player Name=%{x}<br>Mean Probability (proba_pro)=%{y}<extra></extra>",
         "hovertext": [
          "V.Tritten"
         ],
         "legendgroup": "V.Tritten",
         "marker": {
          "color": "#EF553B",
          "pattern": {
           "shape": ""
          }
         },
         "name": "V.Tritten",
         "offsetgroup": "V.Tritten",
         "orientation": "v",
         "showlegend": true,
         "textposition": "auto",
         "type": "bar",
         "x": [
          "V.Tritten"
         ],
         "xaxis": "x",
         "y": [
          0.05166214738734013
         ],
         "yaxis": "y"
        },
        {
         "alignmentgroup": "True",
         "hovertemplate": "<b>%{hovertext}</b><br><br>Player Name=%{x}<br>Mean Probability (proba_pro)=%{y}<extra></extra>",
         "hovertext": [
          "I.Kaloga"
         ],
         "legendgroup": "I.Kaloga",
         "marker": {
          "color": "#00cc96",
          "pattern": {
           "shape": ""
          }
         },
         "name": "I.Kaloga",
         "offsetgroup": "I.Kaloga",
         "orientation": "v",
         "showlegend": true,
         "textposition": "auto",
         "type": "bar",
         "x": [
          "I.Kaloga"
         ],
         "xaxis": "x",
         "y": [
          0.04610225296962792
         ],
         "yaxis": "y"
        },
        {
         "alignmentgroup": "True",
         "hovertemplate": "<b>%{hovertext}</b><br><br>Player Name=%{x}<br>Mean Probability (proba_pro)=%{y}<extra></extra>",
         "hovertext": [
          "M.Miguel"
         ],
         "legendgroup": "M.Miguel",
         "marker": {
          "color": "#ab63fa",
          "pattern": {
           "shape": ""
          }
         },
         "name": "M.Miguel",
         "offsetgroup": "M.Miguel",
         "orientation": "v",
         "showlegend": true,
         "textposition": "auto",
         "type": "bar",
         "x": [
          "M.Miguel"
         ],
         "xaxis": "x",
         "y": [
          0.04351593438990129
         ],
         "yaxis": "y"
        },
        {
         "alignmentgroup": "True",
         "hovertemplate": "<b>%{hovertext}</b><br><br>Player Name=%{x}<br>Mean Probability (proba_pro)=%{y}<extra></extra>",
         "hovertext": [
          "F.Ortiz"
         ],
         "legendgroup": "F.Ortiz",
         "marker": {
          "color": "#FFA15A",
          "pattern": {
           "shape": ""
          }
         },
         "name": "F.Ortiz",
         "offsetgroup": "F.Ortiz",
         "orientation": "v",
         "showlegend": true,
         "textposition": "auto",
         "type": "bar",
         "x": [
          "F.Ortiz"
         ],
         "xaxis": "x",
         "y": [
          0.03284191206719236
         ],
         "yaxis": "y"
        },
        {
         "alignmentgroup": "True",
         "hovertemplate": "<b>%{hovertext}</b><br><br>Player Name=%{x}<br>Mean Probability (proba_pro)=%{y}<extra></extra>",
         "hovertext": [
          "A.Lyng"
         ],
         "legendgroup": "A.Lyng",
         "marker": {
          "color": "#19d3f3",
          "pattern": {
           "shape": ""
          }
         },
         "name": "A.Lyng",
         "offsetgroup": "A.Lyng",
         "orientation": "v",
         "showlegend": true,
         "textposition": "auto",
         "type": "bar",
         "x": [
          "A.Lyng"
         ],
         "xaxis": "x",
         "y": [
          0.028603578869084555
         ],
         "yaxis": "y"
        },
        {
         "alignmentgroup": "True",
         "hovertemplate": "<b>%{hovertext}</b><br><br>Player Name=%{x}<br>Mean Probability (proba_pro)=%{y}<extra></extra>",
         "hovertext": [
          "T.Ouattara"
         ],
         "legendgroup": "T.Ouattara",
         "marker": {
          "color": "#FF6692",
          "pattern": {
           "shape": ""
          }
         },
         "name": "T.Ouattara",
         "offsetgroup": "T.Ouattara",
         "orientation": "v",
         "showlegend": true,
         "textposition": "auto",
         "type": "bar",
         "x": [
          "T.Ouattara"
         ],
         "xaxis": "x",
         "y": [
          0.028324556920286063
         ],
         "yaxis": "y"
        },
        {
         "alignmentgroup": "True",
         "hovertemplate": "<b>%{hovertext}</b><br><br>Player Name=%{x}<br>Mean Probability (proba_pro)=%{y}<extra></extra>",
         "hovertext": [
          "R.Ouchard"
         ],
         "legendgroup": "R.Ouchard",
         "marker": {
          "color": "#B6E880",
          "pattern": {
           "shape": ""
          }
         },
         "name": "R.Ouchard",
         "offsetgroup": "R.Ouchard",
         "orientation": "v",
         "showlegend": true,
         "textposition": "auto",
         "type": "bar",
         "x": [
          "R.Ouchard"
         ],
         "xaxis": "x",
         "y": [
          0.025584609578926512
         ],
         "yaxis": "y"
        },
        {
         "alignmentgroup": "True",
         "hovertemplate": "<b>%{hovertext}</b><br><br>Player Name=%{x}<br>Mean Probability (proba_pro)=%{y}<extra></extra>",
         "hovertext": [
          "M.Batista"
         ],
         "legendgroup": "M.Batista",
         "marker": {
          "color": "#FF97FF",
          "pattern": {
           "shape": ""
          }
         },
         "name": "M.Batista",
         "offsetgroup": "M.Batista",
         "orientation": "v",
         "showlegend": true,
         "textposition": "auto",
         "type": "bar",
         "x": [
          "M.Batista"
         ],
         "xaxis": "x",
         "y": [
          0.024853152207940692
         ],
         "yaxis": "y"
        },
        {
         "alignmentgroup": "True",
         "hovertemplate": "<b>%{hovertext}</b><br><br>Player Name=%{x}<br>Mean Probability (proba_pro)=%{y}<extra></extra>",
         "hovertext": [
          "E.Tsimba"
         ],
         "legendgroup": "E.Tsimba",
         "marker": {
          "color": "#FECB52",
          "pattern": {
           "shape": ""
          }
         },
         "name": "E.Tsimba",
         "offsetgroup": "E.Tsimba",
         "orientation": "v",
         "showlegend": true,
         "textposition": "auto",
         "type": "bar",
         "x": [
          "E.Tsimba"
         ],
         "xaxis": "x",
         "y": [
          0.02288460623592268
         ],
         "yaxis": "y"
        },
        {
         "alignmentgroup": "True",
         "hovertemplate": "<b>%{hovertext}</b><br><br>Player Name=%{x}<br>Mean Probability (proba_pro)=%{y}<extra></extra>",
         "hovertext": [
          "R.Rodelin"
         ],
         "legendgroup": "R.Rodelin",
         "marker": {
          "color": "#636efa",
          "pattern": {
           "shape": ""
          }
         },
         "name": "R.Rodelin",
         "offsetgroup": "R.Rodelin",
         "orientation": "v",
         "showlegend": true,
         "textposition": "auto",
         "type": "bar",
         "x": [
          "R.Rodelin"
         ],
         "xaxis": "x",
         "y": [
          0.0182281757888502
         ],
         "yaxis": "y"
        },
        {
         "alignmentgroup": "True",
         "hovertemplate": "<b>%{hovertext}</b><br><br>Player Name=%{x}<br>Mean Probability (proba_pro)=%{y}<extra></extra>",
         "hovertext": [
          "H.Touati"
         ],
         "legendgroup": "H.Touati",
         "marker": {
          "color": "#EF553B",
          "pattern": {
           "shape": ""
          }
         },
         "name": "H.Touati",
         "offsetgroup": "H.Touati",
         "orientation": "v",
         "showlegend": true,
         "textposition": "auto",
         "type": "bar",
         "x": [
          "H.Touati"
         ],
         "xaxis": "x",
         "y": [
          0.018218477590689862
         ],
         "yaxis": "y"
        },
        {
         "alignmentgroup": "True",
         "hovertemplate": "<b>%{hovertext}</b><br><br>Player Name=%{x}<br>Mean Probability (proba_pro)=%{y}<extra></extra>",
         "hovertext": [
          "D.Trillo"
         ],
         "legendgroup": "D.Trillo",
         "marker": {
          "color": "#00cc96",
          "pattern": {
           "shape": ""
          }
         },
         "name": "D.Trillo",
         "offsetgroup": "D.Trillo",
         "orientation": "v",
         "showlegend": true,
         "textposition": "auto",
         "type": "bar",
         "x": [
          "D.Trillo"
         ],
         "xaxis": "x",
         "y": [
          0.01670940074607865
         ],
         "yaxis": "y"
        },
        {
         "alignmentgroup": "True",
         "hovertemplate": "<b>%{hovertext}</b><br><br>Player Name=%{x}<br>Mean Probability (proba_pro)=%{y}<extra></extra>",
         "hovertext": [
          "E.Salihu"
         ],
         "legendgroup": "E.Salihu",
         "marker": {
          "color": "#ab63fa",
          "pattern": {
           "shape": ""
          }
         },
         "name": "E.Salihu",
         "offsetgroup": "E.Salihu",
         "orientation": "v",
         "showlegend": true,
         "textposition": "auto",
         "type": "bar",
         "x": [
          "E.Salihu"
         ],
         "xaxis": "x",
         "y": [
          0.016389821502681475
         ],
         "yaxis": "y"
        },
        {
         "alignmentgroup": "True",
         "hovertemplate": "<b>%{hovertext}</b><br><br>Player Name=%{x}<br>Mean Probability (proba_pro)=%{y}<extra></extra>",
         "hovertext": [
          "J.Fonseca costa"
         ],
         "legendgroup": "J.Fonseca costa",
         "marker": {
          "color": "#FFA15A",
          "pattern": {
           "shape": ""
          }
         },
         "name": "J.Fonseca costa",
         "offsetgroup": "J.Fonseca costa",
         "orientation": "v",
         "showlegend": true,
         "textposition": "auto",
         "type": "bar",
         "x": [
          "J.Fonseca costa"
         ],
         "xaxis": "x",
         "y": [
          0.01513070761596539
         ],
         "yaxis": "y"
        },
        {
         "alignmentgroup": "True",
         "hovertemplate": "<b>%{hovertext}</b><br><br>Player Name=%{x}<br>Mean Probability (proba_pro)=%{y}<extra></extra>",
         "hovertext": [
          "I.Ouchard"
         ],
         "legendgroup": "I.Ouchard",
         "marker": {
          "color": "#19d3f3",
          "pattern": {
           "shape": ""
          }
         },
         "name": "I.Ouchard",
         "offsetgroup": "I.Ouchard",
         "orientation": "v",
         "showlegend": true,
         "textposition": "auto",
         "type": "bar",
         "x": [
          "I.Ouchard"
         ],
         "xaxis": "x",
         "y": [
          0.010624366605348587
         ],
         "yaxis": "y"
        },
        {
         "alignmentgroup": "True",
         "hovertemplate": "<b>%{hovertext}</b><br><br>Player Name=%{x}<br>Mean Probability (proba_pro)=%{y}<extra></extra>",
         "hovertext": [
          "K.Tologo"
         ],
         "legendgroup": "K.Tologo",
         "marker": {
          "color": "#FF6692",
          "pattern": {
           "shape": ""
          }
         },
         "name": "K.Tologo",
         "offsetgroup": "K.Tologo",
         "orientation": "v",
         "showlegend": true,
         "textposition": "auto",
         "type": "bar",
         "x": [
          "K.Tologo"
         ],
         "xaxis": "x",
         "y": [
          0.007197081165500391
         ],
         "yaxis": "y"
        },
        {
         "alignmentgroup": "True",
         "hovertemplate": "<b>%{hovertext}</b><br><br>Player Name=%{x}<br>Mean Probability (proba_pro)=%{y}<extra></extra>",
         "hovertext": [
          "O.Sene"
         ],
         "legendgroup": "O.Sene",
         "marker": {
          "color": "#B6E880",
          "pattern": {
           "shape": ""
          }
         },
         "name": "O.Sene",
         "offsetgroup": "O.Sene",
         "orientation": "v",
         "showlegend": true,
         "textposition": "auto",
         "type": "bar",
         "x": [
          "O.Sene"
         ],
         "xaxis": "x",
         "y": [
          0.0057004298135321565
         ],
         "yaxis": "y"
        },
        {
         "alignmentgroup": "True",
         "hovertemplate": "<b>%{hovertext}</b><br><br>Player Name=%{x}<br>Mean Probability (proba_pro)=%{y}<extra></extra>",
         "hovertext": [
          "L.Vilar"
         ],
         "legendgroup": "L.Vilar",
         "marker": {
          "color": "#FF97FF",
          "pattern": {
           "shape": ""
          }
         },
         "name": "L.Vilar",
         "offsetgroup": "L.Vilar",
         "orientation": "v",
         "showlegend": true,
         "textposition": "auto",
         "type": "bar",
         "x": [
          "L.Vilar"
         ],
         "xaxis": "x",
         "y": [
          0.0034766410707988632
         ],
         "yaxis": "y"
        },
        {
         "alignmentgroup": "True",
         "hovertemplate": "<b>%{hovertext}</b><br><br>Player Name=%{x}<br>Mean Probability (proba_pro)=%{y}<extra></extra>",
         "hovertext": [
          "M.Ishuayed"
         ],
         "legendgroup": "M.Ishuayed",
         "marker": {
          "color": "#FECB52",
          "pattern": {
           "shape": ""
          }
         },
         "name": "M.Ishuayed",
         "offsetgroup": "M.Ishuayed",
         "orientation": "v",
         "showlegend": true,
         "textposition": "auto",
         "type": "bar",
         "x": [
          "M.Ishuayed"
         ],
         "xaxis": "x",
         "y": [
          0.0031850663244307
         ],
         "yaxis": "y"
        },
        {
         "alignmentgroup": "True",
         "hovertemplate": "<b>%{hovertext}</b><br><br>Player Name=%{x}<br>Mean Probability (proba_pro)=%{y}<extra></extra>",
         "hovertext": [
          "E.Januario"
         ],
         "legendgroup": "E.Januario",
         "marker": {
          "color": "#636efa",
          "pattern": {
           "shape": ""
          }
         },
         "name": "E.Januario",
         "offsetgroup": "E.Januario",
         "orientation": "v",
         "showlegend": true,
         "textposition": "auto",
         "type": "bar",
         "x": [
          "E.Januario"
         ],
         "xaxis": "x",
         "y": [
          1.7691239834903843e-7
         ],
         "yaxis": "y"
        }
       ],
       "layout": {
        "barmode": "relative",
        "height": 800,
        "legend": {
         "title": {
          "text": "Player Name"
         },
         "tracegroupgap": 0
        },
        "template": {
         "data": {
          "bar": [
           {
            "error_x": {
             "color": "#2a3f5f"
            },
            "error_y": {
             "color": "#2a3f5f"
            },
            "marker": {
             "line": {
              "color": "#E5ECF6",
              "width": 0.5
             },
             "pattern": {
              "fillmode": "overlay",
              "size": 10,
              "solidity": 0.2
             }
            },
            "type": "bar"
           }
          ],
          "barpolar": [
           {
            "marker": {
             "line": {
              "color": "#E5ECF6",
              "width": 0.5
             },
             "pattern": {
              "fillmode": "overlay",
              "size": 10,
              "solidity": 0.2
             }
            },
            "type": "barpolar"
           }
          ],
          "carpet": [
           {
            "aaxis": {
             "endlinecolor": "#2a3f5f",
             "gridcolor": "white",
             "linecolor": "white",
             "minorgridcolor": "white",
             "startlinecolor": "#2a3f5f"
            },
            "baxis": {
             "endlinecolor": "#2a3f5f",
             "gridcolor": "white",
             "linecolor": "white",
             "minorgridcolor": "white",
             "startlinecolor": "#2a3f5f"
            },
            "type": "carpet"
           }
          ],
          "choropleth": [
           {
            "colorbar": {
             "outlinewidth": 0,
             "ticks": ""
            },
            "type": "choropleth"
           }
          ],
          "contour": [
           {
            "colorbar": {
             "outlinewidth": 0,
             "ticks": ""
            },
            "colorscale": [
             [
              0,
              "#0d0887"
             ],
             [
              0.1111111111111111,
              "#46039f"
             ],
             [
              0.2222222222222222,
              "#7201a8"
             ],
             [
              0.3333333333333333,
              "#9c179e"
             ],
             [
              0.4444444444444444,
              "#bd3786"
             ],
             [
              0.5555555555555556,
              "#d8576b"
             ],
             [
              0.6666666666666666,
              "#ed7953"
             ],
             [
              0.7777777777777778,
              "#fb9f3a"
             ],
             [
              0.8888888888888888,
              "#fdca26"
             ],
             [
              1,
              "#f0f921"
             ]
            ],
            "type": "contour"
           }
          ],
          "contourcarpet": [
           {
            "colorbar": {
             "outlinewidth": 0,
             "ticks": ""
            },
            "type": "contourcarpet"
           }
          ],
          "heatmap": [
           {
            "colorbar": {
             "outlinewidth": 0,
             "ticks": ""
            },
            "colorscale": [
             [
              0,
              "#0d0887"
             ],
             [
              0.1111111111111111,
              "#46039f"
             ],
             [
              0.2222222222222222,
              "#7201a8"
             ],
             [
              0.3333333333333333,
              "#9c179e"
             ],
             [
              0.4444444444444444,
              "#bd3786"
             ],
             [
              0.5555555555555556,
              "#d8576b"
             ],
             [
              0.6666666666666666,
              "#ed7953"
             ],
             [
              0.7777777777777778,
              "#fb9f3a"
             ],
             [
              0.8888888888888888,
              "#fdca26"
             ],
             [
              1,
              "#f0f921"
             ]
            ],
            "type": "heatmap"
           }
          ],
          "heatmapgl": [
           {
            "colorbar": {
             "outlinewidth": 0,
             "ticks": ""
            },
            "colorscale": [
             [
              0,
              "#0d0887"
             ],
             [
              0.1111111111111111,
              "#46039f"
             ],
             [
              0.2222222222222222,
              "#7201a8"
             ],
             [
              0.3333333333333333,
              "#9c179e"
             ],
             [
              0.4444444444444444,
              "#bd3786"
             ],
             [
              0.5555555555555556,
              "#d8576b"
             ],
             [
              0.6666666666666666,
              "#ed7953"
             ],
             [
              0.7777777777777778,
              "#fb9f3a"
             ],
             [
              0.8888888888888888,
              "#fdca26"
             ],
             [
              1,
              "#f0f921"
             ]
            ],
            "type": "heatmapgl"
           }
          ],
          "histogram": [
           {
            "marker": {
             "pattern": {
              "fillmode": "overlay",
              "size": 10,
              "solidity": 0.2
             }
            },
            "type": "histogram"
           }
          ],
          "histogram2d": [
           {
            "colorbar": {
             "outlinewidth": 0,
             "ticks": ""
            },
            "colorscale": [
             [
              0,
              "#0d0887"
             ],
             [
              0.1111111111111111,
              "#46039f"
             ],
             [
              0.2222222222222222,
              "#7201a8"
             ],
             [
              0.3333333333333333,
              "#9c179e"
             ],
             [
              0.4444444444444444,
              "#bd3786"
             ],
             [
              0.5555555555555556,
              "#d8576b"
             ],
             [
              0.6666666666666666,
              "#ed7953"
             ],
             [
              0.7777777777777778,
              "#fb9f3a"
             ],
             [
              0.8888888888888888,
              "#fdca26"
             ],
             [
              1,
              "#f0f921"
             ]
            ],
            "type": "histogram2d"
           }
          ],
          "histogram2dcontour": [
           {
            "colorbar": {
             "outlinewidth": 0,
             "ticks": ""
            },
            "colorscale": [
             [
              0,
              "#0d0887"
             ],
             [
              0.1111111111111111,
              "#46039f"
             ],
             [
              0.2222222222222222,
              "#7201a8"
             ],
             [
              0.3333333333333333,
              "#9c179e"
             ],
             [
              0.4444444444444444,
              "#bd3786"
             ],
             [
              0.5555555555555556,
              "#d8576b"
             ],
             [
              0.6666666666666666,
              "#ed7953"
             ],
             [
              0.7777777777777778,
              "#fb9f3a"
             ],
             [
              0.8888888888888888,
              "#fdca26"
             ],
             [
              1,
              "#f0f921"
             ]
            ],
            "type": "histogram2dcontour"
           }
          ],
          "mesh3d": [
           {
            "colorbar": {
             "outlinewidth": 0,
             "ticks": ""
            },
            "type": "mesh3d"
           }
          ],
          "parcoords": [
           {
            "line": {
             "colorbar": {
              "outlinewidth": 0,
              "ticks": ""
             }
            },
            "type": "parcoords"
           }
          ],
          "pie": [
           {
            "automargin": true,
            "type": "pie"
           }
          ],
          "scatter": [
           {
            "fillpattern": {
             "fillmode": "overlay",
             "size": 10,
             "solidity": 0.2
            },
            "type": "scatter"
           }
          ],
          "scatter3d": [
           {
            "line": {
             "colorbar": {
              "outlinewidth": 0,
              "ticks": ""
             }
            },
            "marker": {
             "colorbar": {
              "outlinewidth": 0,
              "ticks": ""
             }
            },
            "type": "scatter3d"
           }
          ],
          "scattercarpet": [
           {
            "marker": {
             "colorbar": {
              "outlinewidth": 0,
              "ticks": ""
             }
            },
            "type": "scattercarpet"
           }
          ],
          "scattergeo": [
           {
            "marker": {
             "colorbar": {
              "outlinewidth": 0,
              "ticks": ""
             }
            },
            "type": "scattergeo"
           }
          ],
          "scattergl": [
           {
            "marker": {
             "colorbar": {
              "outlinewidth": 0,
              "ticks": ""
             }
            },
            "type": "scattergl"
           }
          ],
          "scattermapbox": [
           {
            "marker": {
             "colorbar": {
              "outlinewidth": 0,
              "ticks": ""
             }
            },
            "type": "scattermapbox"
           }
          ],
          "scatterpolar": [
           {
            "marker": {
             "colorbar": {
              "outlinewidth": 0,
              "ticks": ""
             }
            },
            "type": "scatterpolar"
           }
          ],
          "scatterpolargl": [
           {
            "marker": {
             "colorbar": {
              "outlinewidth": 0,
              "ticks": ""
             }
            },
            "type": "scatterpolargl"
           }
          ],
          "scatterternary": [
           {
            "marker": {
             "colorbar": {
              "outlinewidth": 0,
              "ticks": ""
             }
            },
            "type": "scatterternary"
           }
          ],
          "surface": [
           {
            "colorbar": {
             "outlinewidth": 0,
             "ticks": ""
            },
            "colorscale": [
             [
              0,
              "#0d0887"
             ],
             [
              0.1111111111111111,
              "#46039f"
             ],
             [
              0.2222222222222222,
              "#7201a8"
             ],
             [
              0.3333333333333333,
              "#9c179e"
             ],
             [
              0.4444444444444444,
              "#bd3786"
             ],
             [
              0.5555555555555556,
              "#d8576b"
             ],
             [
              0.6666666666666666,
              "#ed7953"
             ],
             [
              0.7777777777777778,
              "#fb9f3a"
             ],
             [
              0.8888888888888888,
              "#fdca26"
             ],
             [
              1,
              "#f0f921"
             ]
            ],
            "type": "surface"
           }
          ],
          "table": [
           {
            "cells": {
             "fill": {
              "color": "#EBF0F8"
             },
             "line": {
              "color": "white"
             }
            },
            "header": {
             "fill": {
              "color": "#C8D4E3"
             },
             "line": {
              "color": "white"
             }
            },
            "type": "table"
           }
          ]
         },
         "layout": {
          "annotationdefaults": {
           "arrowcolor": "#2a3f5f",
           "arrowhead": 0,
           "arrowwidth": 1
          },
          "autotypenumbers": "strict",
          "coloraxis": {
           "colorbar": {
            "outlinewidth": 0,
            "ticks": ""
           }
          },
          "colorscale": {
           "diverging": [
            [
             0,
             "#8e0152"
            ],
            [
             0.1,
             "#c51b7d"
            ],
            [
             0.2,
             "#de77ae"
            ],
            [
             0.3,
             "#f1b6da"
            ],
            [
             0.4,
             "#fde0ef"
            ],
            [
             0.5,
             "#f7f7f7"
            ],
            [
             0.6,
             "#e6f5d0"
            ],
            [
             0.7,
             "#b8e186"
            ],
            [
             0.8,
             "#7fbc41"
            ],
            [
             0.9,
             "#4d9221"
            ],
            [
             1,
             "#276419"
            ]
           ],
           "sequential": [
            [
             0,
             "#0d0887"
            ],
            [
             0.1111111111111111,
             "#46039f"
            ],
            [
             0.2222222222222222,
             "#7201a8"
            ],
            [
             0.3333333333333333,
             "#9c179e"
            ],
            [
             0.4444444444444444,
             "#bd3786"
            ],
            [
             0.5555555555555556,
             "#d8576b"
            ],
            [
             0.6666666666666666,
             "#ed7953"
            ],
            [
             0.7777777777777778,
             "#fb9f3a"
            ],
            [
             0.8888888888888888,
             "#fdca26"
            ],
            [
             1,
             "#f0f921"
            ]
           ],
           "sequentialminus": [
            [
             0,
             "#0d0887"
            ],
            [
             0.1111111111111111,
             "#46039f"
            ],
            [
             0.2222222222222222,
             "#7201a8"
            ],
            [
             0.3333333333333333,
             "#9c179e"
            ],
            [
             0.4444444444444444,
             "#bd3786"
            ],
            [
             0.5555555555555556,
             "#d8576b"
            ],
            [
             0.6666666666666666,
             "#ed7953"
            ],
            [
             0.7777777777777778,
             "#fb9f3a"
            ],
            [
             0.8888888888888888,
             "#fdca26"
            ],
            [
             1,
             "#f0f921"
            ]
           ]
          },
          "colorway": [
           "#636efa",
           "#EF553B",
           "#00cc96",
           "#ab63fa",
           "#FFA15A",
           "#19d3f3",
           "#FF6692",
           "#B6E880",
           "#FF97FF",
           "#FECB52"
          ],
          "font": {
           "color": "#2a3f5f"
          },
          "geo": {
           "bgcolor": "white",
           "lakecolor": "white",
           "landcolor": "#E5ECF6",
           "showlakes": true,
           "showland": true,
           "subunitcolor": "white"
          },
          "hoverlabel": {
           "align": "left"
          },
          "hovermode": "closest",
          "mapbox": {
           "style": "light"
          },
          "paper_bgcolor": "white",
          "plot_bgcolor": "#E5ECF6",
          "polar": {
           "angularaxis": {
            "gridcolor": "white",
            "linecolor": "white",
            "ticks": ""
           },
           "bgcolor": "#E5ECF6",
           "radialaxis": {
            "gridcolor": "white",
            "linecolor": "white",
            "ticks": ""
           }
          },
          "scene": {
           "xaxis": {
            "backgroundcolor": "#E5ECF6",
            "gridcolor": "white",
            "gridwidth": 2,
            "linecolor": "white",
            "showbackground": true,
            "ticks": "",
            "zerolinecolor": "white"
           },
           "yaxis": {
            "backgroundcolor": "#E5ECF6",
            "gridcolor": "white",
            "gridwidth": 2,
            "linecolor": "white",
            "showbackground": true,
            "ticks": "",
            "zerolinecolor": "white"
           },
           "zaxis": {
            "backgroundcolor": "#E5ECF6",
            "gridcolor": "white",
            "gridwidth": 2,
            "linecolor": "white",
            "showbackground": true,
            "ticks": "",
            "zerolinecolor": "white"
           }
          },
          "shapedefaults": {
           "line": {
            "color": "#2a3f5f"
           }
          },
          "ternary": {
           "aaxis": {
            "gridcolor": "white",
            "linecolor": "white",
            "ticks": ""
           },
           "baxis": {
            "gridcolor": "white",
            "linecolor": "white",
            "ticks": ""
           },
           "bgcolor": "#E5ECF6",
           "caxis": {
            "gridcolor": "white",
            "linecolor": "white",
            "ticks": ""
           }
          },
          "title": {
           "x": 0.05
          },
          "xaxis": {
           "automargin": true,
           "gridcolor": "white",
           "linecolor": "white",
           "ticks": "",
           "title": {
            "standoff": 15
           },
           "zerolinecolor": "white",
           "zerolinewidth": 2
          },
          "yaxis": {
           "automargin": true,
           "gridcolor": "white",
           "linecolor": "white",
           "ticks": "",
           "title": {
            "standoff": 15
           },
           "zerolinecolor": "white",
           "zerolinewidth": 2
          }
         }
        },
        "title": {
         "text": "Mean Probability by Player"
        },
        "width": 1200,
        "xaxis": {
         "anchor": "y",
         "categoryarray": [
          "K.Tsunemoto",
          "A.Antunes",
          "D.Kutesa",
          "S.Rouiller",
          "B.Mazikou",
          "A.Baron",
          "M.Stevanovic",
          "J.Guillemenot",
          "D.Bronn",
          "Y.Severin",
          "E.Crivelli",
          "D.Douline",
          "T.Cognat",
          "G.Ondoua",
          "T.Magnin",
          "A.Salihi",
          "R.Abdullah",
          "S.Lele diba",
          "M.Diallo",
          "S.Baddy",
          "R.Gaud",
          "B.Fofana",
          "R.Philippin",
          "N.Vlasenko",
          "M.Leclercq",
          "N.Heller",
          "Y.Lahiouel",
          "L.Tafaj",
          "L.Srdanovic",
          "L.Scandurra",
          "J.Simo",
          "A.Selimi",
          "R.Guillaume",
          "K.Pereira",
          "M.Rizvanovic",
          "C.Routis",
          "V.Berhami",
          "I.Petrisot",
          "L.Sestito",
          "N.Henchoz",
          "M.Clavel",
          "R.Benammar",
          "P.Weber",
          "A.Dias patricio",
          "M.Anselme",
          "O.Daf",
          "A.Mhoumadi",
          "S.Fankhauser",
          "F.Annor-mensah",
          "L.Ndema",
          "L.Zuka",
          "V.Tritten",
          "I.Kaloga",
          "M.Miguel",
          "F.Ortiz",
          "A.Lyng",
          "T.Ouattara",
          "R.Ouchard",
          "M.Batista",
          "E.Tsimba",
          "R.Rodelin",
          "H.Touati",
          "D.Trillo",
          "E.Salihu",
          "J.Fonseca costa",
          "I.Ouchard",
          "K.Tologo",
          "O.Sene",
          "L.Vilar",
          "M.Ishuayed",
          "E.Januario"
         ],
         "categoryorder": "array",
         "domain": [
          0,
          1
         ],
         "title": {
          "text": "Player Name"
         }
        },
        "yaxis": {
         "anchor": "x",
         "domain": [
          0,
          1
         ],
         "title": {
          "text": "Mean Probability (proba_pro)"
         }
        }
       }
      }
     },
     "metadata": {},
     "output_type": "display_data"
    }
   ],
   "source": [
    "\n",
    "# Assurez-vous que la colonne PLAYER_NAME est unique (sélectionnez une moyenne si nécessaire)\n",
    "proba_means = data.groupby('PLAYER_NAME')['proba_pro'].mean().reset_index()\n",
    "\n",
    "#print(len(proba_means))\n",
    "\n",
    "\n",
    "# Créez le bar plot avec Plotly Express\n",
    "fig = px.bar(\n",
    "    proba_means.sort_values('proba_pro', ascending=False),\n",
    "    x='PLAYER_NAME',\n",
    "    y='proba_pro',\n",
    "    color='PLAYER_NAME',\n",
    "    hover_name='PLAYER_NAME',\n",
    "    labels={\n",
    "        'proba_pro': 'Mean Probability (proba_pro)',\n",
    "        'PLAYER_NAME': 'Player Name'\n",
    "    },\n",
    "    title='Mean Probability by Player',\n",
    "    height=800,\n",
    "    width=1200\n",
    ")\n",
    "\n",
    "fig.show()\n",
    "\n"
   ]
  },
  {
   "cell_type": "code",
   "execution_count": 247,
   "metadata": {},
   "outputs": [
    {
     "data": {
      "application/vnd.plotly.v1+json": {
       "config": {
        "plotlyServerURL": "https://plot.ly"
       },
       "data": [
        {
         "alignmentgroup": "True",
         "hovertemplate": "Team ID=%{x}<br>Probability (proba_pro)=%{y}<extra></extra>",
         "legendgroup": "",
         "marker": {
          "color": "#636efa"
         },
         "name": "",
         "notched": false,
         "offsetgroup": "",
         "orientation": "v",
         "showlegend": false,
         "type": "box",
         "x": [
          "Servette PRO",
          "Servette PRO",
          "Servette PRO",
          "Servette PRO",
          "Servette PRO",
          "Servette PRO",
          "Servette PRO",
          "Servette PRO",
          "Servette PRO",
          "Servette PRO",
          "Servette PRO",
          "Servette PRO",
          "Servette PRO",
          "Servette PRO",
          "Servette PRO",
          "Servette PRO",
          "Servette PRO",
          "Servette PRO",
          "Servette PRO",
          "Servette PRO",
          "Servette PRO",
          "Servette PRO",
          "Servette PRO",
          "Servette PRO",
          "Servette PRO",
          "Servette PRO",
          "Servette PRO",
          "Servette PRO",
          "Servette PRO",
          "Servette PRO",
          "Servette PRO",
          "Servette PRO",
          "Servette PRO",
          "Servette PRO",
          "Servette PRO",
          "Servette PRO",
          "Servette PRO",
          "Servette PRO",
          "Servette PRO",
          "Servette PRO",
          "Servette PRO",
          "Servette PRO",
          "Servette PRO",
          "Servette PRO",
          "Servette PRO",
          "Servette PRO",
          "Servette PRO",
          "Servette PRO",
          "Servette PRO",
          "Servette PRO",
          "Servette PRO",
          "Servette PRO",
          "Servette PRO",
          "Servette PRO",
          "Servette PRO",
          "Servette PRO",
          "Servette PRO",
          "Servette PRO",
          "Servette PRO",
          "Servette PRO",
          "Servette PRO",
          "Servette PRO",
          "Servette PRO",
          "Servette PRO",
          "Servette PRO",
          "Servette PRO",
          "Servette PRO",
          "Servette PRO",
          "Servette PRO",
          "Servette PRO",
          "Servette PRO",
          "Servette PRO",
          "Servette PRO",
          "Servette PRO",
          "Servette PRO",
          "Servette PRO",
          "Servette PRO",
          "Servette PRO",
          "Servette PRO",
          "Servette PRO",
          "Servette PRO",
          "Servette PRO",
          "Servette PRO",
          "Servette PRO",
          "Servette PRO",
          "Servette PRO",
          "Servette PRO",
          "Servette PRO",
          "Servette PRO",
          "Servette PRO",
          "Servette PRO",
          "Servette PRO",
          "Servette PRO",
          "Servette PRO",
          "Servette PRO",
          "Servette PRO",
          "Servette PRO",
          "Servette PRO",
          "Servette PRO",
          "Servette PRO",
          "Servette PRO",
          "Servette PRO",
          "Servette PRO",
          "Servette PRO",
          "Servette PRO",
          "Servette PRO",
          "Servette PRO",
          "Servette PRO",
          "Servette PRO",
          "Servette PRO",
          "Servette PRO",
          "Servette PRO",
          "Servette PRO",
          "Servette PRO",
          "Servette PRO",
          "Servette PRO",
          "Servette PRO",
          "Servette PRO",
          "Servette PRO",
          "Servette PRO",
          "Servette PRO",
          "Servette PRO",
          "Servette PRO",
          "Servette PRO",
          "Servette PRO",
          "Servette PRO",
          "Servette PRO",
          "Servette PRO",
          "Servette PRO",
          "Servette PRO",
          "Servette PRO",
          "Servette PRO",
          "Servette PRO",
          "Servette PRO",
          "Servette PRO",
          "Servette PRO",
          "Servette PRO",
          "Servette PRO",
          "Servette PRO",
          "Servette PRO",
          "Servette PRO",
          "Servette PRO",
          "Servette PRO",
          "Servette PRO",
          "Servette PRO",
          "Servette PRO",
          "Servette PRO",
          "Servette PRO",
          "Servette PRO",
          "Servette PRO",
          "Servette PRO",
          "Servette PRO",
          "Servette PRO",
          "Servette PRO",
          "Servette PRO",
          "Servette PRO",
          "Servette PRO",
          "Servette PRO",
          "Servette PRO",
          "Servette PRO",
          "Servette PRO",
          "Servette PRO",
          "Servette PRO",
          "Servette PRO",
          "Servette PRO",
          "Servette PRO",
          "Servette PRO",
          "Servette PRO",
          "Servette PRO",
          "Servette PRO",
          "Servette PRO",
          "Servette PRO",
          "Servette PRO",
          "Servette PRO",
          "Servette PRO",
          "Servette PRO",
          "Servette PRO",
          "Servette PRO",
          "Servette PRO",
          "Servette PRO",
          "Servette PRO",
          "Servette PRO",
          "Servette PRO",
          "Servette PRO",
          "Servette PRO",
          "Servette PRO",
          "Servette PRO",
          "Servette PRO",
          "Servette PRO",
          "Servette PRO",
          "Servette PRO",
          "Servette PRO",
          "Servette PRO",
          "Servette PRO",
          "Servette PRO",
          "Servette PRO",
          "Servette PRO",
          "Servette PRO",
          "Servette PRO",
          "Servette PRO",
          "Servette PRO",
          "Servette PRO",
          "Servette PRO",
          "Servette PRO",
          "Servette PRO",
          "Servette PRO",
          "Servette PRO",
          "Servette PRO",
          "Servette PRO",
          "Servette PRO",
          "Servette PRO",
          "Servette PRO",
          "Servette PRO",
          "Servette PRO",
          "Servette PRO",
          "Servette PRO",
          "Servette PRO",
          "Servette PRO",
          "Servette PRO",
          "Servette PRO",
          "Servette PRO",
          "Servette PRO",
          "Servette PRO",
          "Servette PRO",
          "Servette PRO",
          "Servette PRO",
          "Servette PRO",
          "Servette PRO",
          "Servette PRO",
          "Servette PRO",
          "Servette PRO",
          "Servette PRO",
          "Servette PRO",
          "Servette PRO",
          "Servette PRO",
          "Servette PRO",
          "Servette PRO",
          "Servette PRO",
          "Servette PRO",
          "Servette PRO",
          "Servette PRO",
          "Servette PRO",
          "Servette PRO",
          "Servette PRO",
          "Servette PRO",
          "Servette PRO",
          "Servette PRO",
          "Servette PRO",
          "Servette PRO",
          "Servette PRO",
          "Servette PRO",
          "Servette PRO",
          "Servette PRO",
          "Servette PRO",
          "Servette PRO",
          "Servette PRO",
          "Servette PRO",
          "Servette PRO",
          "Servette PRO",
          "Servette PRO",
          "Servette PRO",
          "Servette PRO",
          "Servette PRO",
          "Servette PRO",
          "Servette PRO",
          "Servette PRO",
          "Servette PRO",
          "Servette PRO",
          "Servette PRO",
          "Servette PRO",
          "Servette PRO",
          "Servette PRO",
          "Servette PRO",
          "Servette PRO",
          "Servette PRO",
          "Servette PRO",
          "Servette PRO",
          "Servette PRO",
          "Servette PRO",
          "Servette PRO",
          "Servette PRO",
          "Servette PRO",
          "Servette PRO",
          "Servette PRO",
          "Servette PRO",
          "Servette PRO",
          "Servette PRO",
          "Servette PRO",
          "Servette PRO",
          "Servette PRO",
          "Servette PRO",
          "Servette PRO",
          "Servette PRO",
          "Servette PRO",
          "Servette PRO",
          "Servette PRO",
          "Servette PRO",
          "Servette PRO",
          "Servette PRO",
          "Servette PRO",
          "Servette PRO",
          "Servette PRO",
          "Servette PRO",
          "Servette PRO",
          "Servette PRO",
          "Servette PRO",
          "Servette PRO",
          "Servette PRO",
          "Servette PRO",
          "Servette PRO",
          "Servette PRO",
          "Servette PRO",
          "Servette PRO",
          "Servette PRO",
          "Servette PRO",
          "Servette PRO",
          "Servette PRO",
          "Servette PRO",
          "Servette PRO",
          "Servette PRO",
          "Servette PRO",
          "Servette PRO",
          "Servette PRO",
          "Servette PRO",
          "Servette PRO",
          "Servette PRO",
          "Servette PRO",
          "Servette PRO",
          "Servette PRO",
          "Servette PRO",
          "Servette PRO",
          "Servette PRO",
          "Servette PRO",
          "Servette PRO",
          "Servette PRO",
          "Servette PRO",
          "Servette PRO",
          "Servette PRO",
          "Servette PRO",
          "Servette PRO",
          "Servette PRO",
          "Servette PRO",
          "Servette PRO",
          "Servette PRO",
          "Servette PRO",
          "Servette PRO",
          "Servette PRO",
          "Servette PRO",
          "Servette PRO",
          "Servette PRO",
          "Servette PRO",
          "Servette PRO",
          "Servette PRO",
          "Servette PRO",
          "Servette PRO",
          "Servette PRO",
          "Servette PRO",
          "Servette PRO",
          "Servette PRO",
          "Servette PRO",
          "Servette PRO",
          "Servette PRO",
          "Servette PRO",
          "Servette PRO",
          "Servette PRO",
          "Servette PRO",
          "Servette PRO",
          "Servette PRO",
          "Servette PRO",
          "Servette PRO",
          "Servette PRO",
          "Servette PRO",
          "Servette PRO",
          "Servette PRO",
          "Servette PRO",
          "Servette PRO",
          "Servette PRO",
          "Servette PRO",
          "Servette PRO",
          "Servette PRO",
          "Servette PRO",
          "Servette PRO",
          "Servette PRO",
          "Servette PRO",
          "Servette PRO",
          "Servette PRO",
          "Servette PRO",
          "Servette PRO",
          "Servette PRO",
          "Servette PRO",
          "Servette PRO",
          "Servette PRO",
          "Servette PRO",
          "Servette PRO",
          "Servette PRO",
          "Servette PRO",
          "Servette PRO",
          "Servette PRO",
          "Servette PRO",
          "Servette PRO",
          "Servette PRO",
          "Servette PRO",
          "Servette PRO",
          "Servette PRO",
          "Servette PRO",
          "Servette PRO",
          "Servette PRO",
          "Servette PRO",
          "Servette PRO",
          "Servette PRO",
          "Servette PRO",
          "Servette PRO",
          "Servette PRO",
          "Servette PRO",
          "Servette PRO",
          "Servette PRO",
          "Servette PRO",
          "Servette PRO",
          "Servette PRO",
          "Servette PRO",
          "Servette PRO",
          "Servette PRO",
          "Servette PRO",
          "Servette PRO",
          "Servette PRO",
          "Servette PRO",
          "Servette PRO",
          "Servette PRO",
          "Servette PRO",
          "Servette PRO",
          "Servette PRO",
          "Servette PRO",
          "Servette PRO",
          "Servette PRO",
          "Servette PRO",
          "Servette PRO",
          "Servette PRO",
          "Servette PRO",
          "Servette PRO",
          "Servette PRO",
          "Servette PRO",
          "Servette PRO",
          "Servette PRO",
          "Servette PRO",
          "Servette PRO",
          "Servette PRO",
          "Servette PRO",
          "Servette PRO",
          "Servette PRO",
          "Servette PRO",
          "Servette PRO",
          "Servette PRO",
          "Servette PRO",
          "Servette PRO",
          "Servette PRO",
          "Servette PRO",
          "Servette PRO",
          "Servette PRO",
          "Servette PRO",
          "Servette PRO",
          "Servette PRO",
          "Servette PRO",
          "Servette PRO",
          "Servette PRO",
          "Servette PRO",
          "Servette PRO",
          "Servette PRO",
          "Servette PRO",
          "Servette PRO",
          "Servette PRO",
          "Servette PRO",
          "Servette PRO",
          "Servette PRO",
          "Servette PRO",
          "Servette PRO",
          "Servette PRO",
          "Servette PRO",
          "Servette PRO",
          "Servette PRO",
          "Servette PRO",
          "Servette PRO",
          "Servette PRO",
          "M21",
          "M21",
          "M21",
          "M21",
          "M21",
          "M21",
          "M21",
          "M21",
          "M21",
          "M21",
          "M21",
          "M21",
          "M21",
          "M21",
          "M21",
          "M21",
          "M21",
          "M21",
          "M21",
          "M21",
          "M21",
          "M21",
          "M21",
          "M21",
          "M21",
          "M21",
          "M21",
          "M21",
          "M21",
          "M21",
          "M21",
          "M21",
          "M21",
          "M21",
          "M21",
          "M21",
          "M21",
          "M21",
          "M21",
          "M21",
          "M21",
          "M21",
          "M21",
          "M21",
          "M21",
          "M21",
          "M21",
          "M21",
          "M21",
          "M21",
          "M21",
          "M21",
          "M21",
          "M21",
          "M21",
          "M21",
          "M21",
          "M21",
          "M21",
          "M21",
          "M21",
          "M21",
          "M21",
          "M21",
          "M21",
          "M21",
          "M21",
          "M21",
          "M21",
          "M21",
          "M21",
          "M21",
          "M21",
          "M21",
          "M21",
          "M21",
          "M21",
          "M21",
          "M21",
          "M21",
          "M21",
          "M21",
          "M21",
          "M21",
          "M21",
          "M21",
          "M21",
          "M21",
          "M21",
          "M21",
          "M21",
          "M21",
          "M21",
          "M21",
          "M21",
          "M21",
          "M21",
          "M21",
          "M21",
          "M21",
          "M21",
          "M21",
          "M21",
          "M21",
          "M21",
          "M21",
          "M21",
          "M21",
          "M21",
          "M21",
          "M21",
          "M21",
          "M21",
          "M21",
          "M21",
          "M21",
          "M21",
          "M21",
          "M21",
          "M21",
          "M21",
          "M21",
          "M21",
          "M21",
          "M21",
          "M21",
          "M21",
          "M21",
          "M21",
          "M21",
          "M21",
          "M21",
          "M21",
          "M21",
          "M21",
          "M21",
          "M21",
          "M21",
          "M21",
          "M21",
          "M21",
          "M21",
          "M21",
          "M21",
          "M21",
          "M21",
          "M21",
          "M21",
          "M21",
          "M21",
          "M21",
          "M21",
          "M21",
          "M21",
          "M21",
          "M21",
          "M21",
          "M21",
          "M21",
          "M21",
          "M21",
          "M21",
          "M21",
          "M21",
          "M21",
          "M21",
          "M21",
          "M21",
          "M21",
          "M21",
          "M21",
          "M21",
          "M21",
          "M21",
          "M21",
          "M21",
          "M21",
          "M21",
          "M21",
          "M21",
          "M21",
          "M21",
          "M21",
          "M21",
          "M21",
          "M21",
          "M21",
          "M21",
          "M21",
          "M21",
          "M21",
          "M21",
          "M21",
          "M21",
          "M21",
          "M21",
          "M21",
          "M21",
          "M21",
          "M21",
          "M21",
          "M21",
          "M21",
          "M21",
          "M21",
          "M21",
          "M21",
          "M21",
          "M21",
          "M21",
          "M21",
          "M21",
          "M21",
          "M21",
          "M21",
          "M21",
          "M21",
          "M21",
          "M21",
          "M21",
          "M21",
          "M21",
          "M21",
          "M21",
          "M21",
          "M21",
          "M21",
          "M21",
          "M21",
          "M21",
          "M21",
          "M21",
          "M21",
          "M21",
          "M21",
          "M21",
          "M21",
          "M21",
          "M21",
          "M21",
          "M21",
          "M21",
          "M21",
          "M21",
          "M21",
          "M21",
          "M21",
          "M21",
          "M21",
          "M21",
          "M21",
          "M21",
          "M21",
          "M21",
          "M21",
          "M21",
          "M21",
          "M21",
          "M21",
          "M21",
          "M21",
          "M21",
          "M21",
          "M21",
          "M21",
          "M21",
          "M21",
          "M21",
          "M21",
          "M21",
          "M21",
          "M21",
          "M21",
          "M21",
          "M21",
          "M21",
          "M21",
          "M21",
          "M21",
          "M21",
          "M21",
          "M21",
          "M21",
          "M21",
          "M21",
          "M21",
          "M21",
          "M21",
          "M21",
          "M21",
          "M21",
          "M21",
          "M21",
          "M21",
          "M21",
          "M21",
          "M21",
          "M21",
          "M21",
          "M21",
          "M21",
          "M21",
          "M21",
          "M21",
          "M21",
          "M21",
          "M21",
          "M21",
          "M21",
          "M21",
          "M21",
          "M21",
          "M21",
          "M21",
          "M21",
          "M21",
          "M21",
          "M21",
          "M21",
          "M21",
          "M21",
          "M21",
          "M21",
          "M21",
          "M21",
          "M21",
          "M21",
          "M21",
          "M21",
          "M21",
          "M21",
          "M21",
          "M21",
          "M21",
          "M21",
          "M21",
          "M21",
          "M21",
          "M21",
          "M21",
          "M21",
          "M21",
          "M21",
          "M21",
          "M21",
          "M21",
          "M21",
          "M21",
          "M21",
          "M21",
          "M21",
          "M21",
          "M21",
          "M21",
          "M21",
          "M21",
          "M21",
          "M21",
          "M21",
          "M21",
          "M21",
          "M21",
          "M21",
          "M21",
          "M21",
          "M21",
          "M21",
          "M21",
          "M21",
          "M21",
          "M21",
          "M21",
          "M21",
          "M21",
          "M21",
          "M21",
          "M21",
          "M21",
          "M21",
          "M21",
          "M21",
          "M21",
          "M21",
          "M21",
          "M21",
          "M21",
          "M21",
          "M21",
          "M21",
          "M21",
          "M21",
          "M21",
          "M21",
          "M21",
          "M21",
          "M21",
          "M21",
          "M21",
          "M21",
          "M21",
          "M21",
          "M21",
          "M21",
          "M21",
          "M21",
          "M21",
          "M21",
          "M21",
          "M21",
          "M21",
          "M21",
          "M21",
          "M21",
          "M21",
          "M21",
          "M21",
          "M21",
          "M21",
          "M21",
          "M21",
          "M21",
          "M21",
          "M21",
          "M21",
          "M21",
          "M21",
          "M21",
          "M21",
          "M21",
          "M21",
          "M21",
          "M21",
          "M21",
          "M21",
          "M21",
          "M21",
          "M21",
          "M21",
          "M21",
          "M21",
          "M21",
          "M21",
          "M21",
          "M21",
          "M21",
          "M21",
          "M21",
          "M21",
          "M21",
          "M21",
          "M21",
          "M21",
          "M21",
          "M21",
          "M21",
          "M21",
          "M21",
          "M21",
          "M21",
          "M21",
          "M21",
          "M21",
          "M21",
          "M21",
          "M21",
          "M21",
          "M21",
          "M21",
          "M21",
          "M21",
          "M21",
          "M21",
          "M21",
          "M21",
          "M21",
          "M21",
          "M21",
          "M21",
          "M21",
          "M21",
          "M21",
          "M21",
          "M21",
          "M21",
          "M19",
          "M19",
          "M19",
          "M19",
          "M19",
          "M19",
          "M19",
          "M19",
          "M19",
          "M19",
          "M19",
          "M19",
          "M19",
          "M19",
          "M19",
          "M19",
          "M19",
          "M19",
          "M19",
          "M19",
          "M19",
          "M19",
          "M19",
          "M19",
          "M19",
          "M19",
          "M19",
          "M19",
          "M19",
          "M19",
          "M19",
          "M19",
          "M19",
          "M19",
          "M19",
          "M19",
          "M19",
          "M19",
          "M19",
          "M19",
          "M19",
          "M19",
          "M19",
          "M19",
          "M19",
          "M19",
          "M19",
          "M19",
          "M19",
          "M19",
          "M19",
          "M19",
          "M19",
          "M19",
          "M19",
          "M19",
          "M19",
          "M19",
          "M19",
          "M19",
          "M19",
          "M19",
          "M19",
          "M19",
          "M19",
          "M19",
          "M19",
          "M19",
          "M19",
          "M19",
          "M19",
          "M19",
          "M19",
          "M19",
          "M19",
          "M19",
          "M19",
          "M19",
          "M19",
          "M19",
          "M19",
          "M19",
          "M19",
          "M19",
          "M19",
          "M19",
          "M19",
          "M19",
          "M19",
          "M19",
          "M19",
          "M19",
          "M19",
          "M19",
          "M19",
          "M19",
          "M19",
          "M19",
          "M19",
          "M19",
          "M19",
          "M19",
          "M19",
          "M19",
          "M19",
          "M19",
          "M19",
          "M19",
          "M19",
          "M19"
         ],
         "x0": " ",
         "xaxis": "x",
         "y": [
          0.9388269675515871,
          0.9973665903314812,
          0.9481985403185901,
          0.9998442947687136,
          0.9963456024793285,
          0.5911317683419585,
          0.9994037719703505,
          0.9452686820099495,
          0.9268062563025898,
          0.7940049893810606,
          0.7844069086054517,
          0.6465626286150176,
          0.9559430551806748,
          0.7671262090114603,
          0.8436252841614591,
          0.9924106518060634,
          0.704796810482504,
          0.9250991224788002,
          0.8802549251948653,
          0.8354646328828779,
          0.9997376375571015,
          0.84211456292141,
          0.9766830062590303,
          0.6172572131421105,
          0.6991976093506183,
          0.5726162491372112,
          0.7845431017577461,
          0.9344821966990124,
          0.8140031457636046,
          0.9189655007711794,
          0.8269322825114729,
          0.47477356561469897,
          0.8405940751699118,
          0.09645109448509254,
          0.9962954160509944,
          0.4278224938727327,
          0.9802903950971696,
          0.960662265558168,
          0.9778532585764244,
          0.6997735094169215,
          0.9885713832928807,
          0.9716642705441745,
          0.6153493226303797,
          0.9238718322824506,
          0.9880994233357908,
          0.9739944211407047,
          0.9791686943283571,
          0.43336647144244833,
          0.9985911004903705,
          0.4614582088337629,
          0.4021833234494368,
          0.825569027054787,
          0.8279239506021703,
          0.9903664765199914,
          0.848879371567718,
          0.20868920412770128,
          0.9980581323042764,
          0.9686979005603853,
          0.9597800851634821,
          0.9238885775210789,
          0.6455294286065508,
          0.7476489513570814,
          0.9795300955065336,
          0.9203689183117009,
          0.9491307431772342,
          0.5999042232354044,
          0.3978585285838446,
          0.8473230755045531,
          0.6054131467303068,
          0.7335275261267127,
          0.9685111213292115,
          0.6284350339791148,
          0.514304727435629,
          0.8683097284237907,
          0.4667924456717979,
          0.914301925562865,
          0.8375205305841469,
          0.9945981168478566,
          0.9431850486551652,
          0.916489477085389,
          0.9878091696135228,
          0.8302251953227963,
          0.87903057785262,
          0.796103827084744,
          0.9866035908988441,
          0.8163781387228548,
          0.4479083700586614,
          0.978649137672521,
          0.9049042646227425,
          0.9878236566096747,
          0.8536792650324484,
          0.9922075834099291,
          0.5396422620510258,
          0.9992955262855365,
          0.8183156420589796,
          0.48613780067717566,
          0.9836678905278621,
          0.8411496369962848,
          0.9958226548004119,
          0.999818624289952,
          0.9889675629818978,
          0.859383513173216,
          0.7102105273935548,
          0.9146837464856604,
          0.8884563643595965,
          0.9235327282591408,
          0.9854501541160419,
          0.4230884504421842,
          0.8152604550569033,
          0.6362749478398255,
          0.024528005378744104,
          0.9906880584403764,
          0.9857207954498354,
          0.9535782593131037,
          0.967504498800011,
          0.12422522336601227,
          0.9351401718818758,
          0.9898338994199477,
          0.7037680961504413,
          0.8729262089058608,
          0.9549054781136563,
          0.9980770933176718,
          0.9869869219132152,
          0.6340697354794714,
          0.8742587372799348,
          0.5961244778016724,
          0.9286306605416361,
          0.6906578263331267,
          0.9853704755287661,
          0.8456000659831375,
          0.9986766192074604,
          0.7805703317793417,
          0.9957385985731763,
          0.9818020783701399,
          0.948415736553941,
          0.7524283805029739,
          0.8015043325516469,
          0.9654690901913355,
          0.9652902190518245,
          0.9329089133057845,
          0.9776821747826941,
          0.9987631064590519,
          0.9788537785183283,
          0.9773408321218471,
          0.7269750880633699,
          0.9854441796645148,
          0.9101002695088093,
          0.9328492850524132,
          0.7894620184801234,
          0.9998615498581997,
          0.9248985545629287,
          0.9918039608488304,
          0.823055419488139,
          0.9620827539511655,
          0.9916882834502863,
          0.8348556473239881,
          0.9905298374250131,
          0.929678061701996,
          0.9908940131341719,
          0.05099790271744594,
          0.9702878599947311,
          0.9686784839345243,
          0.9954598752218268,
          0.8817721219626163,
          0.9469109741389218,
          0.994173825391623,
          0.10268585005154073,
          0.5856256676547592,
          0.9867367873665502,
          0.99259481169024,
          0.8596879295615703,
          0.9255783335454876,
          0.9928624971969371,
          0.9429229405126042,
          0.9821978999842071,
          0.9798249162657431,
          0.17762942006673113,
          0.9789608226595691,
          0.997537461739572,
          0.39496314084639744,
          0.1383651560413177,
          0.9058719138709972,
          0.4868144199587121,
          0.6613511495873544,
          0.5648810385407549,
          0.695192998329064,
          0.8499847718772187,
          0.9823510965280767,
          0.8652988295460151,
          0.9409234500274487,
          0.8899441998032598,
          0.1795639108751617,
          0.9366742703936947,
          0.45360219630124554,
          0.9274064971772398,
          0.9900699759670089,
          0.9586976585076811,
          0.6863857647590587,
          0.6848100048351883,
          0.9974895319495852,
          0.5745991308384921,
          0.6540133404281478,
          0.7458809869549815,
          0.9354297153429568,
          0.9470605186100326,
          0.6225139061504396,
          0.9783428291495758,
          0.8921009067981205,
          0.8287284471373295,
          0.9976495282283778,
          0.9305338021639024,
          0.8322411408370002,
          0.9411480723739957,
          0.9999262521784605,
          0.9895342666744754,
          0.9731272501162027,
          0.9994600468251499,
          0.9257545512799357,
          0.8134402129974653,
          0.568692082133213,
          0.9429633478853694,
          0.9949841779674814,
          0.6415600308806221,
          0.967033856063435,
          0.038231359867795196,
          0.7595576586071454,
          0.9758898506873454,
          0.8334329067142883,
          0.6439419538102332,
          0.640818669496448,
          0.975736424149437,
          0.7091687521015125,
          0.37710976903513777,
          0.624906135696078,
          0.5161168059667793,
          0.9858373515405415,
          0.001534361496862147,
          0.9325346417462648,
          0.6907278524192171,
          0.785898328930858,
          0.9965684975467517,
          0.360311390609958,
          0.6889169202687182,
          0.42790655585872484,
          0.6149250967770377,
          0.7855641997382454,
          0.5604810661077069,
          0.4024525781512998,
          0.9794283583243527,
          0.9604890029726475,
          0.9537797284080194,
          0.9451594768171295,
          0.9164102691476876,
          0.9011495034139567,
          0.9997224445900291,
          0.9751933669778781,
          0.9956127687492141,
          0.9886897999071226,
          0.8544302523467547,
          0.9210139146959241,
          0.9567289516291825,
          0.9523897617577995,
          0.9889109126033584,
          0.6777244409911932,
          0.996001395646886,
          0.5365849352524638,
          0.9394202702870021,
          0.9288659809631494,
          0.4179257006961773,
          0.999399389810545,
          0.8546593982116734,
          0.9918936569193141,
          0.9856441995589589,
          0.906774257826774,
          0.9950791691317844,
          0.9146037417258799,
          0.9999220385180979,
          0.8974950321846188,
          0.9915535626815836,
          0.7482392305033649,
          0.5747697406164654,
          0.5651331652159758,
          0.9749194174122326,
          0.9045058291508353,
          0.07361831166563136,
          0.8895101977683324,
          0.9942332063018178,
          0.8512392912012378,
          0.749179228745691,
          0.9442063213690524,
          0.2446716717911368,
          0.9675378542897435,
          0.9881083053421739,
          0.35016077328197287,
          0.9369466878523677,
          0.35776765321733195,
          0.5405415860502983,
          0.9836254371020887,
          0.7825299040730286,
          0.9860837997533792,
          0.9863498795189289,
          0.1837534502674172,
          0.8661786717608708,
          0.9951986679813124,
          0.7271766291428431,
          0.6447853802862823,
          0.9727152050142398,
          0.9823818207950937,
          0.792554131841033,
          0.31521357477132994,
          0.9843881037346216,
          0.950316754557994,
          0.9646284015071608,
          0.9594530744435824,
          0.2646951886024474,
          0.8924887016313052,
          0.8085795174545347,
          0.9737995336044473,
          0.9905641809230189,
          0.9239748862292365,
          0.9932442240988674,
          0.9698693985842485,
          0.9964965607978854,
          0.006374248391898862,
          0.00007442992543722383,
          0.8065498443774007,
          0.9962541200193451,
          0.9937906207463953,
          0.9967295083458484,
          0.960676997055868,
          0.9997464348052432,
          0.8994858986371737,
          0.9999757164543108,
          0.8282023176769985,
          0.9047975945884152,
          0.9771214750724035,
          0.8019973519653448,
          0.9458123682262339,
          0.9244126337478614,
          0.9833423509448311,
          0.9906630543806233,
          0.809701685243706,
          0.9976479248329763,
          0.9960524307276858,
          0.8146855403218846,
          0.9701785114728579,
          0.404425222593953,
          0.7166122172910804,
          0.8693833257640173,
          0.737855165047726,
          0.9745436382135111,
          0.6578179078967271,
          0.9964244671360907,
          0.7486349406315804,
          0.9979423604396174,
          0.7671067655469591,
          0.9983686054833125,
          0.9882423313702139,
          0.975868564338499,
          0.9190959820989395,
          0.847646312147462,
          0.44533273859659755,
          0.9966892224024813,
          0.9934611561765386,
          0.9095518220610523,
          0.999988755743565,
          0.9618395856506112,
          0.9999750744430372,
          0.9585770128999209,
          0.9920380942127038,
          0.8947880867410908,
          0.9361541789286669,
          0.9999876704420089,
          0.9860459792319898,
          0.9991373922742173,
          0.9856778223528994,
          0.10395718269583185,
          0.9989885315465276,
          0.9987349537249681,
          0.9713785050964567,
          0.9704710134944706,
          0.9933173895854868,
          0.593395814211459,
          0.9995546418359411,
          0.9168874334562968,
          0.837487064579161,
          0.9972647882352668,
          0.7236730273295169,
          0.9992324351079185,
          0.1871973187301973,
          0.555056883593056,
          0.611727781670799,
          0.7768891679000869,
          0.9927608210126618,
          0.1449181140245487,
          0.848849827523265,
          0.9914753463132471,
          0.7607029011955809,
          0.411404594554509,
          0.2901980355181916,
          0.9796337906681417,
          0.9946060527936352,
          0.9161447411501787,
          0.4731816050560504,
          0.5719572015857922,
          0.9832100586858066,
          0.9990308399416158,
          0.9904876462791607,
          0.9271909041934769,
          0.8027186345282666,
          0.9994791534164247,
          0.9954085410964744,
          0.9486414231497131,
          0.0254439104249135,
          0.968996679982205,
          0.9923278416331303,
          0.9502056783902496,
          0.6892054132016348,
          0.9436998372121186,
          0.9509662077985496,
          0.999240643727327,
          0.8140725632421544,
          0.9682886220890959,
          0.9984537344474217,
          0.6509882853968131,
          0.9676660887805528,
          0.9666876121093771,
          0.9989700592595885,
          0.9353492717617323,
          0.9523355052870807,
          0.5950576086260067,
          0.980989247605166,
          0.9817414438524065,
          0.04463757222408101,
          0.9673648631077545,
          0.9270225901816591,
          0.8038304910558526,
          0.4237875521416453,
          0.9752369562781341,
          0.7728199473750034,
          0.7722945056929612,
          0.9935481574818654,
          0.9992366567039352,
          0.9924155581292989,
          0.9865613093730625,
          0.8289434764258145,
          0.562176353258152,
          0.9991058181439024,
          0.06083165320116568,
          0.8848951005236275,
          0.8442743086317431,
          0.999051698133922,
          0.9845312122358153,
          0.8904267031268308,
          0.7008655456413001,
          0.6708082288431306,
          0.9892295002744494,
          0.9306777226947729,
          0.8218639197026513,
          0.8416791047073011,
          0.9468349141760887,
          0.998569052661264,
          0.9798666431284021,
          0.9713622928467922,
          0.9991023656423285,
          0.045496482056162434,
          0.859227319610436,
          0.9976321704822316,
          0.9167686530148124,
          0.9997566720237796,
          0.9996464704394655,
          0.9660796614093953,
          0.9951789415408098,
          0.7279144913293519,
          0.8377176775576727,
          0.6841071396097851,
          0.8824798582238866,
          0.998118070066099,
          0.985178345440532,
          0.9715568094165351,
          0.7738508445193075,
          0.9837017507713584,
          0.936966318767658,
          0.23384470690796488,
          0.014926358605178311,
          0.9422095643140455,
          0.3392445670907518,
          0.8477338824063053,
          0.18944608614729866,
          0.2626337143377651,
          0.6635027992790388,
          0.2460682869538276,
          0.9864799669174811,
          0.5556301260845742,
          0.06934127505582612,
          0.2747616305940092,
          0.4430957204994873,
          0.000928677673233943,
          0.6723001038838449,
          0.3145401382408867,
          0.1744149873164725,
          0.00014811576281492547,
          0.01859519312706493,
          0.3218785668833992,
          0.02033847202253456,
          0.0026333131577889204,
          0.023772139010831302,
          0.2948961225858207,
          0.17359307040226915,
          0.010165680144262572,
          0.005521491811672186,
          0.00007084221874031933,
          0.00023844745472803512,
          0.862946973716702,
          0.026744651649116238,
          0.04651546864113596,
          0.655363057217574,
          0.4680722327032135,
          0.006660553749384957,
          0.01483619042944306,
          0.00009314471425213095,
          0.0015130127628399557,
          0.000008020713584853544,
          0.16891996276332474,
          0.000011100498980808453,
          0.0006961596973678793,
          0.0016534077402585278,
          0.9126097638234335,
          0.7258663101778464,
          0.8028272953797783,
          0.5526438600727022,
          0.000044558600493548064,
          0.06963421461677749,
          0.001169379946651548,
          0.004345516184310921,
          0.0030895121170866784,
          0.0002983118844476203,
          0.06824687381098857,
          0.1109127783598998,
          0.0005722361733686441,
          0.0010091119608719025,
          0.001897968204950583,
          0.006705193561450488,
          0.0010225309074545273,
          0.03491019827309713,
          0.0001345254407199165,
          0.0013197114681340926,
          0.4024104208237711,
          0.02968776652453926,
          0.004052680421626026,
          0.005489441328426162,
          0.19844203080230977,
          0.029376008415963505,
          0.08389278317948345,
          0.09646918776427445,
          0.00005212639639519609,
          0.008816258755429126,
          0.1281641503331229,
          0.00005490503426399718,
          0.03645717651589858,
          0.013117694682338626,
          0.007295956952939935,
          0.024567679174713274,
          0.0011787828294175838,
          0.0006388170145646949,
          0.00559872361077294,
          0.06694865834044644,
          0.04937016502524247,
          0.048813639088399606,
          0.002458121069071798,
          0.0018192140593991544,
          0.19089747281210623,
          0.7864853893122643,
          0.014408046673280286,
          0.0018114791320415133,
          0.15152502902526171,
          0.024607190612879724,
          0.70289350119884,
          0.005113662895685676,
          0.00018813372627606072,
          0.0009831966402693404,
          0.027298362492354428,
          0.0006719319509994975,
          0.026669667114505694,
          0.00021078342170350413,
          0.0058006121164025275,
          0.0019422935100145977,
          0.0002846827853242861,
          0.0042732790231444,
          0.01356436811675559,
          0.14427474988222955,
          0.1489010905913358,
          0.0005652356891346396,
          0.01153594756340794,
          0.04344535158243863,
          0.21767704744275437,
          0.4187107942260094,
          0.00014295656206407886,
          0.015070351049387172,
          0.08457670358004064,
          0.013246517828993293,
          0.025291480709425298,
          0.000473789973682104,
          0.10989389872100509,
          0.037853209573653956,
          0.0006520546229942133,
          0.0020135645915244087,
          0.00030506129493624066,
          0.00006288841453479939,
          0.0037314367592157765,
          0.003223466456355513,
          0.005270272361576551,
          0.7803149822929893,
          0.02530870995384939,
          0.151907663803837,
          0.03752802342480539,
          0.026263950446632923,
          0.05029987516565005,
          0.03569526582363912,
          0.00005990020120457724,
          0.036583431209031375,
          0.5128202750004888,
          0.09535090586117514,
          0.17823932310148438,
          0.021309604877585736,
          0.00017605598203751188,
          0.07637210967120626,
          0.003142359415618064,
          0.007768792712574442,
          0.028003963910337645,
          0.002124052516665523,
          0.020736149875459634,
          0.003788052858404688,
          0.013736707702397615,
          0.0004045773920505234,
          0.18310339837313572,
          0.1726391897088657,
          0.002326707322080187,
          0.023239213943661106,
          0.0021246149843705845,
          0.2524592093578492,
          0.5180915646716907,
          0.02699809498275499,
          0.0000438875457533464,
          0.5123043537110377,
          0.15941626483254562,
          0.04568053320921998,
          0.18546195318618097,
          0.0021514690317587085,
          0.0006146095190107924,
          0.008205959502087102,
          0.011634148276733973,
          0.03005899842406832,
          0.07087820920799795,
          0.002239013621000859,
          0.004663075746899631,
          0.026009092620672795,
          0.019053152881474168,
          0.16193661216924585,
          0.00009274394115192377,
          0.0024087957487707082,
          0.0020360819768198337,
          0.3179452208876273,
          0.0005284445331479431,
          0.008722321133646448,
          0.05041744869195175,
          0.02246635527033238,
          0.015320343917165014,
          0.01621529989596818,
          0.01521805903199157,
          0.02235179136630845,
          0.011135061197448223,
          5.983132733730951e-8,
          0.3956671209086302,
          0.18327503871754208,
          0.1337903110163012,
          0.023251888221196827,
          0.04408391065427772,
          0.005925164980519203,
          0.00003727384316982102,
          0.2216529004918039,
          0.026816543580274597,
          0.0024339848263602287,
          0.21250795126491526,
          0.036908319089411376,
          0.007195235629150585,
          0.5779754485834654,
          0.0012435565099703865,
          0.31628173781418856,
          0.013013988209037687,
          0.1182168204104252,
          0.004101572315724244,
          0.004303682781108345,
          0.12668855265285034,
          0.0182281757888502,
          0.0179160064522801,
          0.005393648552376155,
          0.001753664616416802,
          0.05818845712523231,
          0.013154538095714536,
          0.008269883226987958,
          0.0008065174375059734,
          0.005972016756487302,
          0.009753803411760223,
          0.000029364945907167513,
          0.007984076012767087,
          0.03682686362990839,
          0.00026822233334055355,
          0.0070587836865556525,
          0.021684008783980222,
          0.059190838626367155,
          0.15932444903517284,
          0.22361736754350678,
          0.0006296031107454701,
          0.00001551861131645743,
          0.030095032352092557,
          0.018047874502110154,
          0.3329115519637929,
          0.000012641559361074606,
          0.0000013270154009592541,
          0.00035309583919181326,
          0.007959634245259545,
          0.075265772717818,
          0.0819943191284986,
          0.034197941560378864,
          0.04531620252590076,
          0.018615851029155847,
          0.14801104133512683,
          0.000324376440417077,
          0.010167291063391693,
          0.06072617477656243,
          0.8176598089898734,
          0.0007340037522711228,
          0.3600616011652355,
          0.000015184556436130315,
          0.032603937861687325,
          0.8791106558885248,
          0.19699616391816013,
          0.14564306757152545,
          0.0009383697720939596,
          0.00034529618939185895,
          0.036873714226834206,
          0.0005705423779811786,
          0.2393336495022439,
          0.4987366017262403,
          0.22041999827196188,
          0.07935938942683636,
          0.00004929070808286539,
          0.4753646006761556,
          0.0652141034222263,
          0.3515014406631235,
          0.038940862098152035,
          0.03529819055663243,
          0.17074317809704162,
          0.0019313028696196994,
          0.3726161520619185,
          0.00004246263424011821,
          0.30577825995003804,
          0.2171487109850408,
          0.24943326873344676,
          0.004708707479150427,
          0.03595627565892206,
          0.006484955999000865,
          0.12449969847885109,
          0.005359671851690655,
          0.002619899615201969,
          0.41211317317471924,
          0.1524165551697099,
          0.06039969938537654,
          0.00004311484511583202,
          0.0359423649825636,
          0.2429907961942172,
          0.11837241080180659,
          0.00043861337938518643,
          0.007482481186972853,
          0.06368621041849097,
          0.020691878844269266,
          0.060866973501152714,
          0.0005613950180926897,
          0.8473803827130327,
          0.016005998828784073,
          0.07225197351048092,
          0.00193206577311281,
          0.027159303191833302,
          0.0025115231651117657,
          0.006492295829793593,
          0.10831056631797946,
          0.0000027043896321115737,
          0.00033679215896034194,
          0.16754333365881052,
          0.0009850815761133246,
          0.013071334680807567,
          0.00011505782307682629,
          0.00016421404888658218,
          0.000003675130546519775,
          0.08314563099763922,
          0.00035341092483846863,
          0.0006874034259358707,
          0.599955896342118,
          0.01937843699208707,
          0.08141177086972066,
          0.0031265656397181547,
          0.5384151832822086,
          0.02589047692812976,
          0.01849875501187713,
          0.47411547724131287,
          0.8177120482984668,
          0.008855552951672778,
          0.8199861852178948,
          0.013013391197864307,
          0.18256278953499872,
          0.07570015409167079,
          0.004095738162906862,
          0.008083703911249771,
          0.3553935459100768,
          0.006411735186635457,
          0.021325730070719848,
          0.05509385314913386,
          0.007790210545244077,
          0.029044357424672707,
          0.008283877402116422,
          0.5779778694516844,
          0.25859649021155023,
          0.01053153424350831,
          0.03261277490295604,
          0.12204760730676294,
          0.39637691704295047,
          0.398402716729849,
          0.12930871810992897,
          0.04825700063595221,
          0.000028443021848245966,
          0.005482187660118084,
          0.0626193884389878,
          0.02632613934147877,
          0.2773457977579455,
          0.2849787402744948,
          0.7771410540154363,
          0.48553367076023646,
          0.4921238419095289,
          0.23133808134673206,
          0.31782402676925137,
          0.29406424519981006,
          0.6249754392906179,
          0.00018737801327318963,
          0.2506266669374389,
          0.1768766858432491,
          0.16132098909272014,
          0.04118851363922114,
          0.10593110619021787,
          0.27962144327614763,
          0.36860898604271036,
          0.8728273659082398,
          0.08295620231824387,
          0.00043686233101102,
          0.0020564986155816264,
          0.06515129791104866,
          0.0356431525240948,
          0.7213569555766103,
          0.5066294155169038,
          0.5740313098531541,
          0.10620796277003992,
          0.19238592150398426,
          0.04368508445760538,
          0.319912051393804,
          0.21213269316848143,
          0.0047975505330180674,
          0.007655153345454578,
          0.009225380503245029,
          0.0689132927188647,
          0.07410583801284758,
          0.3401825144703088,
          0.00035915469520073176,
          0.0000627716271295507,
          0.5955264607892866,
          0.04952341043289398,
          0.8036016365227758,
          0.21606550603121802,
          0.6491175941316832,
          0.846111389670529,
          0.017727748866499544,
          0.32674967626518325,
          0.6439193735130837,
          0.20118569556121269,
          0.002092118310031291,
          0.006741245138624904,
          0.07313790834528906,
          0.0007781174462172624,
          0.1982675026611012,
          0.0007052667584824703,
          0.09942763500765732,
          0.0006947281575041733,
          0.6863945080200522,
          0.006865343882326846,
          0.06442628439516575,
          0.0000021447612365645443,
          0.0021101267567784736,
          0.0014122379928292786,
          0.015322300115871207,
          0.12652670379702044,
          0.05405521756227628,
          0.7151462678680905,
          0.006173784758292,
          0.0003499973314629355,
          0.6985507092696168,
          0.3004035486874051,
          0.20641510746296354,
          0.19069547664085654,
          0.8567089635641568,
          0.0007396321511167616,
          0.40208692236039895,
          0.05386905988879777,
          0.014845924528593395,
          0.12547617474090608,
          0.4294063346975564,
          0.025027196159942967,
          0.8602283559735973,
          0.4848219349653231,
          0.20608354374724122,
          0.017714531822429817,
          0.026947788731856978,
          0.5548531910045384,
          0.002575566519308553,
          0.15475088752660346,
          0.228127667748016,
          0.024488697090463352,
          0.015341313392115122,
          0.07970755139115794,
          0.01609912509814533,
          0.8418784884795829,
          0.7165708530408467,
          0.0024605673017727755,
          0.08411501298317488,
          0.02700814395728999,
          0.11148935869972908,
          0.00440196101997701,
          0.00010083462276735435,
          0.318717695101052,
          0.484927173419246,
          0.8236899075990882,
          0.07017967334558341,
          0.11495347991257142,
          0.0004573300951191147,
          0.5118288511763713,
          0.26049563620651656,
          0.06886355172049019,
          0.009860612903310527,
          0.00005572415149097217,
          0.00011522921323585972,
          0.008570840174547038,
          0.005124940760795161,
          0.11818252749748302,
          0.0025178778697296793,
          0.001994443978815271,
          0.05237219282463614,
          0.38618151956736047,
          0.2357083829964052,
          0.007107851666494279,
          0.6025935281595279,
          0.12763239326823927,
          0.08043362291478703,
          0.08945787434389697,
          0.0015146420466719324,
          0.007714478872078709,
          0.4728725373763384,
          0.16885369889049917,
          0.01099396921538116,
          0.6041936792415612,
          0.005248425622212628,
          0.07379079242844916,
          0.050421580641159175,
          0.04204704955979783,
          0.008336124254079988,
          0.00006247687791234284,
          0.05023520729926902,
          0.6041936792415612,
          0.025883191721536084,
          0.018412626793725514,
          0.022752013345726047,
          0.07996240022034246,
          0.0019053758833184303,
          0.061092498608467646,
          0.00039465139356619053,
          0.08497839665725158,
          0.020031959361829995,
          0.0038623765471058826,
          0.14907996713704014,
          0.0016566057841224406,
          0.09342448492286709,
          0.007516414427920781,
          0.008873648890276888,
          0.6100511937895097,
          0.011759563758478152,
          0.1891691440282798,
          0.00003737752603708292,
          0.13296139582458383,
          0.00001589097586454516,
          0.00002750319197173317,
          1.7691239834903843e-7,
          0.46165025634901663,
          0.10890258143591278,
          0.006780202703141975,
          0.03216414816031315,
          0.05752038927935008,
          0.6217093459818188,
          0.00004479482610466349,
          0.07832499793593468,
          0.4892041588955105,
          0.06564644660834763,
          0.2800882635643225,
          0.3904268367893661,
          0.46995891913240756,
          0.00001912305485545059,
          0.04514654049000718,
          0.0012950500564801763,
          0.0000022954697053900146,
          0.46840529856751434,
          0.5668654517172604,
          0.6702072321200251,
          0.6233526255380584,
          9.288325706592257e-7,
          0.005200725803802042,
          0.008399456856113034,
          0.008377253177362539,
          0.002072680010591775,
          0.24323410443295151,
          0.05292094422690455,
          0.009232598404660909,
          0.5007441067264868,
          0.0011420517277883745,
          0.00015396793497717467,
          0.0006246141575102462,
          0.6666124309138217,
          0.3881579895966209,
          0.0009299546745407631,
          0.0011782290154857048,
          0.00004109160927651342,
          0.14624349736908795,
          0.008638409487868905,
          0.006400541679626355,
          0.00017363606891916098,
          0.0104654877076651,
          0.0007849622162397259,
          0.0001020235908841395,
          0.0170382084005526,
          0.05124084831752414,
          0.01144693121673542,
          0.031637591277574574,
          0.05395557109782829,
          0.012439812614881899,
          0.00044905637408428084,
          0.02322267317573356,
          0.1397333302605426,
          0.0012706510726259131,
          0.0000752945759638092,
          0.4115496087540258,
          0.20810375951944013,
          0.02783531679541003,
          0.00014763485062826352,
          0.004726083214566474,
          0.021443640471447048,
          0.10712025891097622,
          0.03512920462116393,
          0.00033959542725929705,
          0.022618769381269943,
          0.019985259620773067,
          0.02943153762449776,
          0.04848729668171548,
          0.24232328512812937,
          0.023920191339917327,
          0.49357195331812126,
          0.00012080809563882161,
          0.0006438456969706962,
          0.012657604278159984,
          0.05881393563252557,
          0.701329642569213,
          0.010800032110887358
         ],
         "y0": " ",
         "yaxis": "y"
        }
       ],
       "layout": {
        "boxmode": "group",
        "legend": {
         "tracegroupgap": 0
        },
        "template": {
         "data": {
          "bar": [
           {
            "error_x": {
             "color": "#2a3f5f"
            },
            "error_y": {
             "color": "#2a3f5f"
            },
            "marker": {
             "line": {
              "color": "#E5ECF6",
              "width": 0.5
             },
             "pattern": {
              "fillmode": "overlay",
              "size": 10,
              "solidity": 0.2
             }
            },
            "type": "bar"
           }
          ],
          "barpolar": [
           {
            "marker": {
             "line": {
              "color": "#E5ECF6",
              "width": 0.5
             },
             "pattern": {
              "fillmode": "overlay",
              "size": 10,
              "solidity": 0.2
             }
            },
            "type": "barpolar"
           }
          ],
          "carpet": [
           {
            "aaxis": {
             "endlinecolor": "#2a3f5f",
             "gridcolor": "white",
             "linecolor": "white",
             "minorgridcolor": "white",
             "startlinecolor": "#2a3f5f"
            },
            "baxis": {
             "endlinecolor": "#2a3f5f",
             "gridcolor": "white",
             "linecolor": "white",
             "minorgridcolor": "white",
             "startlinecolor": "#2a3f5f"
            },
            "type": "carpet"
           }
          ],
          "choropleth": [
           {
            "colorbar": {
             "outlinewidth": 0,
             "ticks": ""
            },
            "type": "choropleth"
           }
          ],
          "contour": [
           {
            "colorbar": {
             "outlinewidth": 0,
             "ticks": ""
            },
            "colorscale": [
             [
              0,
              "#0d0887"
             ],
             [
              0.1111111111111111,
              "#46039f"
             ],
             [
              0.2222222222222222,
              "#7201a8"
             ],
             [
              0.3333333333333333,
              "#9c179e"
             ],
             [
              0.4444444444444444,
              "#bd3786"
             ],
             [
              0.5555555555555556,
              "#d8576b"
             ],
             [
              0.6666666666666666,
              "#ed7953"
             ],
             [
              0.7777777777777778,
              "#fb9f3a"
             ],
             [
              0.8888888888888888,
              "#fdca26"
             ],
             [
              1,
              "#f0f921"
             ]
            ],
            "type": "contour"
           }
          ],
          "contourcarpet": [
           {
            "colorbar": {
             "outlinewidth": 0,
             "ticks": ""
            },
            "type": "contourcarpet"
           }
          ],
          "heatmap": [
           {
            "colorbar": {
             "outlinewidth": 0,
             "ticks": ""
            },
            "colorscale": [
             [
              0,
              "#0d0887"
             ],
             [
              0.1111111111111111,
              "#46039f"
             ],
             [
              0.2222222222222222,
              "#7201a8"
             ],
             [
              0.3333333333333333,
              "#9c179e"
             ],
             [
              0.4444444444444444,
              "#bd3786"
             ],
             [
              0.5555555555555556,
              "#d8576b"
             ],
             [
              0.6666666666666666,
              "#ed7953"
             ],
             [
              0.7777777777777778,
              "#fb9f3a"
             ],
             [
              0.8888888888888888,
              "#fdca26"
             ],
             [
              1,
              "#f0f921"
             ]
            ],
            "type": "heatmap"
           }
          ],
          "heatmapgl": [
           {
            "colorbar": {
             "outlinewidth": 0,
             "ticks": ""
            },
            "colorscale": [
             [
              0,
              "#0d0887"
             ],
             [
              0.1111111111111111,
              "#46039f"
             ],
             [
              0.2222222222222222,
              "#7201a8"
             ],
             [
              0.3333333333333333,
              "#9c179e"
             ],
             [
              0.4444444444444444,
              "#bd3786"
             ],
             [
              0.5555555555555556,
              "#d8576b"
             ],
             [
              0.6666666666666666,
              "#ed7953"
             ],
             [
              0.7777777777777778,
              "#fb9f3a"
             ],
             [
              0.8888888888888888,
              "#fdca26"
             ],
             [
              1,
              "#f0f921"
             ]
            ],
            "type": "heatmapgl"
           }
          ],
          "histogram": [
           {
            "marker": {
             "pattern": {
              "fillmode": "overlay",
              "size": 10,
              "solidity": 0.2
             }
            },
            "type": "histogram"
           }
          ],
          "histogram2d": [
           {
            "colorbar": {
             "outlinewidth": 0,
             "ticks": ""
            },
            "colorscale": [
             [
              0,
              "#0d0887"
             ],
             [
              0.1111111111111111,
              "#46039f"
             ],
             [
              0.2222222222222222,
              "#7201a8"
             ],
             [
              0.3333333333333333,
              "#9c179e"
             ],
             [
              0.4444444444444444,
              "#bd3786"
             ],
             [
              0.5555555555555556,
              "#d8576b"
             ],
             [
              0.6666666666666666,
              "#ed7953"
             ],
             [
              0.7777777777777778,
              "#fb9f3a"
             ],
             [
              0.8888888888888888,
              "#fdca26"
             ],
             [
              1,
              "#f0f921"
             ]
            ],
            "type": "histogram2d"
           }
          ],
          "histogram2dcontour": [
           {
            "colorbar": {
             "outlinewidth": 0,
             "ticks": ""
            },
            "colorscale": [
             [
              0,
              "#0d0887"
             ],
             [
              0.1111111111111111,
              "#46039f"
             ],
             [
              0.2222222222222222,
              "#7201a8"
             ],
             [
              0.3333333333333333,
              "#9c179e"
             ],
             [
              0.4444444444444444,
              "#bd3786"
             ],
             [
              0.5555555555555556,
              "#d8576b"
             ],
             [
              0.6666666666666666,
              "#ed7953"
             ],
             [
              0.7777777777777778,
              "#fb9f3a"
             ],
             [
              0.8888888888888888,
              "#fdca26"
             ],
             [
              1,
              "#f0f921"
             ]
            ],
            "type": "histogram2dcontour"
           }
          ],
          "mesh3d": [
           {
            "colorbar": {
             "outlinewidth": 0,
             "ticks": ""
            },
            "type": "mesh3d"
           }
          ],
          "parcoords": [
           {
            "line": {
             "colorbar": {
              "outlinewidth": 0,
              "ticks": ""
             }
            },
            "type": "parcoords"
           }
          ],
          "pie": [
           {
            "automargin": true,
            "type": "pie"
           }
          ],
          "scatter": [
           {
            "fillpattern": {
             "fillmode": "overlay",
             "size": 10,
             "solidity": 0.2
            },
            "type": "scatter"
           }
          ],
          "scatter3d": [
           {
            "line": {
             "colorbar": {
              "outlinewidth": 0,
              "ticks": ""
             }
            },
            "marker": {
             "colorbar": {
              "outlinewidth": 0,
              "ticks": ""
             }
            },
            "type": "scatter3d"
           }
          ],
          "scattercarpet": [
           {
            "marker": {
             "colorbar": {
              "outlinewidth": 0,
              "ticks": ""
             }
            },
            "type": "scattercarpet"
           }
          ],
          "scattergeo": [
           {
            "marker": {
             "colorbar": {
              "outlinewidth": 0,
              "ticks": ""
             }
            },
            "type": "scattergeo"
           }
          ],
          "scattergl": [
           {
            "marker": {
             "colorbar": {
              "outlinewidth": 0,
              "ticks": ""
             }
            },
            "type": "scattergl"
           }
          ],
          "scattermapbox": [
           {
            "marker": {
             "colorbar": {
              "outlinewidth": 0,
              "ticks": ""
             }
            },
            "type": "scattermapbox"
           }
          ],
          "scatterpolar": [
           {
            "marker": {
             "colorbar": {
              "outlinewidth": 0,
              "ticks": ""
             }
            },
            "type": "scatterpolar"
           }
          ],
          "scatterpolargl": [
           {
            "marker": {
             "colorbar": {
              "outlinewidth": 0,
              "ticks": ""
             }
            },
            "type": "scatterpolargl"
           }
          ],
          "scatterternary": [
           {
            "marker": {
             "colorbar": {
              "outlinewidth": 0,
              "ticks": ""
             }
            },
            "type": "scatterternary"
           }
          ],
          "surface": [
           {
            "colorbar": {
             "outlinewidth": 0,
             "ticks": ""
            },
            "colorscale": [
             [
              0,
              "#0d0887"
             ],
             [
              0.1111111111111111,
              "#46039f"
             ],
             [
              0.2222222222222222,
              "#7201a8"
             ],
             [
              0.3333333333333333,
              "#9c179e"
             ],
             [
              0.4444444444444444,
              "#bd3786"
             ],
             [
              0.5555555555555556,
              "#d8576b"
             ],
             [
              0.6666666666666666,
              "#ed7953"
             ],
             [
              0.7777777777777778,
              "#fb9f3a"
             ],
             [
              0.8888888888888888,
              "#fdca26"
             ],
             [
              1,
              "#f0f921"
             ]
            ],
            "type": "surface"
           }
          ],
          "table": [
           {
            "cells": {
             "fill": {
              "color": "#EBF0F8"
             },
             "line": {
              "color": "white"
             }
            },
            "header": {
             "fill": {
              "color": "#C8D4E3"
             },
             "line": {
              "color": "white"
             }
            },
            "type": "table"
           }
          ]
         },
         "layout": {
          "annotationdefaults": {
           "arrowcolor": "#2a3f5f",
           "arrowhead": 0,
           "arrowwidth": 1
          },
          "autotypenumbers": "strict",
          "coloraxis": {
           "colorbar": {
            "outlinewidth": 0,
            "ticks": ""
           }
          },
          "colorscale": {
           "diverging": [
            [
             0,
             "#8e0152"
            ],
            [
             0.1,
             "#c51b7d"
            ],
            [
             0.2,
             "#de77ae"
            ],
            [
             0.3,
             "#f1b6da"
            ],
            [
             0.4,
             "#fde0ef"
            ],
            [
             0.5,
             "#f7f7f7"
            ],
            [
             0.6,
             "#e6f5d0"
            ],
            [
             0.7,
             "#b8e186"
            ],
            [
             0.8,
             "#7fbc41"
            ],
            [
             0.9,
             "#4d9221"
            ],
            [
             1,
             "#276419"
            ]
           ],
           "sequential": [
            [
             0,
             "#0d0887"
            ],
            [
             0.1111111111111111,
             "#46039f"
            ],
            [
             0.2222222222222222,
             "#7201a8"
            ],
            [
             0.3333333333333333,
             "#9c179e"
            ],
            [
             0.4444444444444444,
             "#bd3786"
            ],
            [
             0.5555555555555556,
             "#d8576b"
            ],
            [
             0.6666666666666666,
             "#ed7953"
            ],
            [
             0.7777777777777778,
             "#fb9f3a"
            ],
            [
             0.8888888888888888,
             "#fdca26"
            ],
            [
             1,
             "#f0f921"
            ]
           ],
           "sequentialminus": [
            [
             0,
             "#0d0887"
            ],
            [
             0.1111111111111111,
             "#46039f"
            ],
            [
             0.2222222222222222,
             "#7201a8"
            ],
            [
             0.3333333333333333,
             "#9c179e"
            ],
            [
             0.4444444444444444,
             "#bd3786"
            ],
            [
             0.5555555555555556,
             "#d8576b"
            ],
            [
             0.6666666666666666,
             "#ed7953"
            ],
            [
             0.7777777777777778,
             "#fb9f3a"
            ],
            [
             0.8888888888888888,
             "#fdca26"
            ],
            [
             1,
             "#f0f921"
            ]
           ]
          },
          "colorway": [
           "#636efa",
           "#EF553B",
           "#00cc96",
           "#ab63fa",
           "#FFA15A",
           "#19d3f3",
           "#FF6692",
           "#B6E880",
           "#FF97FF",
           "#FECB52"
          ],
          "font": {
           "color": "#2a3f5f"
          },
          "geo": {
           "bgcolor": "white",
           "lakecolor": "white",
           "landcolor": "#E5ECF6",
           "showlakes": true,
           "showland": true,
           "subunitcolor": "white"
          },
          "hoverlabel": {
           "align": "left"
          },
          "hovermode": "closest",
          "mapbox": {
           "style": "light"
          },
          "paper_bgcolor": "white",
          "plot_bgcolor": "#E5ECF6",
          "polar": {
           "angularaxis": {
            "gridcolor": "white",
            "linecolor": "white",
            "ticks": ""
           },
           "bgcolor": "#E5ECF6",
           "radialaxis": {
            "gridcolor": "white",
            "linecolor": "white",
            "ticks": ""
           }
          },
          "scene": {
           "xaxis": {
            "backgroundcolor": "#E5ECF6",
            "gridcolor": "white",
            "gridwidth": 2,
            "linecolor": "white",
            "showbackground": true,
            "ticks": "",
            "zerolinecolor": "white"
           },
           "yaxis": {
            "backgroundcolor": "#E5ECF6",
            "gridcolor": "white",
            "gridwidth": 2,
            "linecolor": "white",
            "showbackground": true,
            "ticks": "",
            "zerolinecolor": "white"
           },
           "zaxis": {
            "backgroundcolor": "#E5ECF6",
            "gridcolor": "white",
            "gridwidth": 2,
            "linecolor": "white",
            "showbackground": true,
            "ticks": "",
            "zerolinecolor": "white"
           }
          },
          "shapedefaults": {
           "line": {
            "color": "#2a3f5f"
           }
          },
          "ternary": {
           "aaxis": {
            "gridcolor": "white",
            "linecolor": "white",
            "ticks": ""
           },
           "baxis": {
            "gridcolor": "white",
            "linecolor": "white",
            "ticks": ""
           },
           "bgcolor": "#E5ECF6",
           "caxis": {
            "gridcolor": "white",
            "linecolor": "white",
            "ticks": ""
           }
          },
          "title": {
           "x": 0.05
          },
          "xaxis": {
           "automargin": true,
           "gridcolor": "white",
           "linecolor": "white",
           "ticks": "",
           "title": {
            "standoff": 15
           },
           "zerolinecolor": "white",
           "zerolinewidth": 2
          },
          "yaxis": {
           "automargin": true,
           "gridcolor": "white",
           "linecolor": "white",
           "ticks": "",
           "title": {
            "standoff": 15
           },
           "zerolinecolor": "white",
           "zerolinewidth": 2
          }
         }
        },
        "title": {
         "text": "Box Plot of Probability by Team"
        },
        "xaxis": {
         "anchor": "y",
         "domain": [
          0,
          1
         ],
         "title": {
          "text": "Team ID"
         }
        },
        "yaxis": {
         "anchor": "x",
         "domain": [
          0,
          1
         ],
         "title": {
          "text": "Probability (proba_pro)"
         }
        }
       }
      }
     },
     "metadata": {},
     "output_type": "display_data"
    }
   ],
   "source": [
    "import plotly.express as px\n",
    "import pandas as pd\n",
    "\n",
    "# Créer le box plot avec Plotly Express\n",
    "fig = px.box(\n",
    "    data,\n",
    "    x='TEAM_ID',\n",
    "    y='proba_pro',\n",
    "    labels={\n",
    "        'proba_pro': 'Probability (proba_pro)',\n",
    "        'TEAM_ID': 'Team ID'\n",
    "    },\n",
    "    title='Box Plot of Probability by Team'\n",
    ")\n",
    "\n",
    "fig.show()\n"
   ]
  },
  {
   "cell_type": "code",
   "execution_count": 248,
   "metadata": {},
   "outputs": [],
   "source": [
    "# Determine the number of matches of pro players\n",
    "num_matches = len(data[data['TEAM_ID'] == 'Servette PRO']['SESSION_ID'].unique())\n",
    "\n",
    "# Determine the number of matches of M21\n",
    "num_matches_m21 = len(data[data['TEAM_ID'] == 'M21']['SESSION_ID'].unique())\n",
    "\n",
    "# Determine the number of matches of M19\n",
    "num_matches_m19 = len(data[data['TEAM_ID'] == 'M19']['SESSION_ID'].unique())\n",
    "\n",
    "# SESSION_ID is unique for each match and team renamining it by \"match 1 of servette pro\" or \"match 1 of M21\" etc\n",
    "# session id renaming in match + number \n",
    "\n",
    "for team in data['TEAM_ID'].unique():\n",
    "    team_matches = data[data['TEAM_ID'] == team]['SESSION_ID'].unique()\n",
    "    for idx, match in enumerate(team_matches):\n",
    "        data.loc[(data['TEAM_ID'] == team) & (data['SESSION_ID'] == match), 'SESSION_ID'] = f'Match {idx + 1} of {team}'\n",
    "\n",
    "\n"
   ]
  },
  {
   "cell_type": "code",
   "execution_count": 249,
   "metadata": {},
   "outputs": [
    {
     "data": {
      "application/vnd.plotly.v1+json": {
       "config": {
        "plotlyServerURL": "https://plot.ly"
       },
       "data": [
        {
         "alignmentgroup": "True",
         "hovertemplate": "Player Name=S.Rouiller<br>SESSION_ID=%{x}<br>proba_pro=%{y}<extra></extra>",
         "legendgroup": "S.Rouiller",
         "marker": {
          "color": "#636efa",
          "pattern": {
           "shape": ""
          }
         },
         "name": "S.Rouiller",
         "offsetgroup": "S.Rouiller",
         "orientation": "v",
         "showlegend": true,
         "textposition": "auto",
         "type": "bar",
         "x": [
          "Match 1 of Servette PRO",
          "Match 2 of Servette PRO",
          "Match 3 of Servette PRO",
          "Match 4 of Servette PRO",
          "Match 5 of Servette PRO",
          "Match 6 of Servette PRO",
          "Match 7 of Servette PRO",
          "Match 9 of Servette PRO",
          "Match 10 of Servette PRO",
          "Match 11 of Servette PRO",
          "Match 12 of Servette PRO",
          "Match 13 of Servette PRO",
          "Match 14 of Servette PRO",
          "Match 18 of Servette PRO",
          "Match 20 of Servette PRO",
          "Match 21 of Servette PRO",
          "Match 22 of Servette PRO",
          "Match 23 of Servette PRO",
          "Match 24 of Servette PRO",
          "Match 25 of Servette PRO",
          "Match 26 of Servette PRO",
          "Match 27 of Servette PRO",
          "Match 28 of Servette PRO",
          "Match 30 of Servette PRO",
          "Match 31 of Servette PRO",
          "Match 32 of Servette PRO",
          "Match 33 of Servette PRO",
          "Match 34 of Servette PRO",
          "Match 36 of Servette PRO",
          "Match 37 of Servette PRO",
          "Match 38 of Servette PRO",
          "Match 39 of Servette PRO",
          "Match 41 of Servette PRO",
          "Match 42 of Servette PRO",
          "Match 43 of Servette PRO",
          "Match 44 of Servette PRO",
          "Match 45 of Servette PRO",
          "Match 46 of Servette PRO",
          "Match 47 of Servette PRO",
          "Match 48 of Servette PRO",
          "Match 49 of Servette PRO",
          "Match 50 of Servette PRO",
          "Match 51 of Servette PRO",
          "Match 52 of Servette PRO",
          "Match 53 of Servette PRO",
          "Match 54 of Servette PRO"
         ],
         "xaxis": "x",
         "y": [
          0.9388269675515871,
          0.7671262090114603,
          0.6991976093506183,
          0.5726162491372112,
          0.9778532585764244,
          0.9880994233357908,
          0.8279239506021703,
          0.9203689183117009,
          0.4667924456717979,
          0.9878091696135228,
          0.978649137672521,
          0.999818624289952,
          0.4230884504421842,
          0.9652902190518245,
          0.9916882834502863,
          0.9954598752218268,
          0.8596879295615703,
          0.8499847718772187,
          0.8652988295460151,
          0.9354297153429568,
          0.8921009067981205,
          0.9411480723739957,
          0.640818669496448,
          0.5604810661077069,
          0.9451594768171295,
          0.9889109126033584,
          0.8974950321846188,
          0.9942332063018178,
          0.35776765321733195,
          0.8924887016313052,
          0.9239748862292365,
          0.9962541200193451,
          0.9701785114728579,
          0.9095518220610523,
          0.9860459792319898,
          0.9856778223528994,
          0.9168874334562968,
          0.9914753463132471,
          0.9946060527936352,
          0.999240643727327,
          0.8140725632421544,
          0.8038304910558526,
          0.9752369562781341,
          0.9845312122358153,
          0.7008655456413001,
          0.9951789415408098
         ],
         "yaxis": "y"
        },
        {
         "alignmentgroup": "True",
         "hovertemplate": "Player Name=B.Mazikou<br>SESSION_ID=%{x}<br>proba_pro=%{y}<extra></extra>",
         "legendgroup": "B.Mazikou",
         "marker": {
          "color": "#EF553B",
          "pattern": {
           "shape": ""
          }
         },
         "name": "B.Mazikou",
         "offsetgroup": "B.Mazikou",
         "orientation": "v",
         "showlegend": true,
         "textposition": "auto",
         "type": "bar",
         "x": [
          "Match 1 of Servette PRO",
          "Match 2 of Servette PRO",
          "Match 3 of Servette PRO",
          "Match 5 of Servette PRO",
          "Match 7 of Servette PRO",
          "Match 8 of Servette PRO",
          "Match 9 of Servette PRO",
          "Match 11 of Servette PRO",
          "Match 12 of Servette PRO",
          "Match 14 of Servette PRO",
          "Match 15 of Servette PRO",
          "Match 16 of Servette PRO",
          "Match 17 of Servette PRO",
          "Match 18 of Servette PRO",
          "Match 19 of Servette PRO",
          "Match 20 of Servette PRO",
          "Match 21 of Servette PRO",
          "Match 22 of Servette PRO",
          "Match 23 of Servette PRO",
          "Match 24 of Servette PRO",
          "Match 27 of Servette PRO",
          "Match 30 of Servette PRO",
          "Match 31 of Servette PRO",
          "Match 32 of Servette PRO",
          "Match 33 of Servette PRO",
          "Match 34 of Servette PRO",
          "Match 35 of Servette PRO",
          "Match 36 of Servette PRO",
          "Match 37 of Servette PRO",
          "Match 38 of Servette PRO",
          "Match 39 of Servette PRO",
          "Match 41 of Servette PRO",
          "Match 43 of Servette PRO",
          "Match 44 of Servette PRO",
          "Match 45 of Servette PRO",
          "Match 46 of Servette PRO",
          "Match 47 of Servette PRO",
          "Match 48 of Servette PRO",
          "Match 49 of Servette PRO",
          "Match 50 of Servette PRO",
          "Match 54 of Servette PRO",
          "Match 55 of Servette PRO"
         ],
         "xaxis": "x",
         "y": [
          0.9973665903314812,
          0.9250991224788002,
          0.9766830062590303,
          0.960662265558168,
          0.4614582088337629,
          0.7476489513570814,
          0.9491307431772342,
          0.9431850486551652,
          0.9922075834099291,
          0.9235327282591408,
          0.967504498800011,
          0.6340697354794714,
          0.7805703317793417,
          0.7524283805029739,
          0.9101002695088093,
          0.9620827539511655,
          0.9702878599947311,
          0.9789608226595691,
          0.9823510965280767,
          0.9409234500274487,
          0.9895342666744754,
          0.6149250967770377,
          0.9604890029726475,
          0.9567289516291825,
          0.9915535626815836,
          0.8895101977683324,
          0.9369466878523677,
          0.5405415860502983,
          0.950316754557994,
          0.00007442992543722383,
          0.9967295083458484,
          0.9745436382135111,
          0.9361541789286669,
          0.9989885315465276,
          0.9972647882352668,
          0.411404594554509,
          0.4731816050560504,
          0.9436998372121186,
          0.9984537344474217,
          0.9673648631077545,
          0.9997566720237796,
          0.8377176775576727
         ],
         "yaxis": "y"
        },
        {
         "alignmentgroup": "True",
         "hovertemplate": "Player Name=Y.Severin<br>SESSION_ID=%{x}<br>proba_pro=%{y}<extra></extra>",
         "legendgroup": "Y.Severin",
         "marker": {
          "color": "#00cc96",
          "pattern": {
           "shape": ""
          }
         },
         "name": "Y.Severin",
         "offsetgroup": "Y.Severin",
         "orientation": "v",
         "showlegend": true,
         "textposition": "auto",
         "type": "bar",
         "x": [
          "Match 1 of Servette PRO",
          "Match 2 of Servette PRO",
          "Match 3 of Servette PRO",
          "Match 4 of Servette PRO",
          "Match 5 of Servette PRO",
          "Match 7 of Servette PRO",
          "Match 9 of Servette PRO",
          "Match 10 of Servette PRO",
          "Match 11 of Servette PRO",
          "Match 12 of Servette PRO",
          "Match 13 of Servette PRO",
          "Match 14 of Servette PRO",
          "Match 15 of Servette PRO",
          "Match 16 of Servette PRO",
          "Match 17 of Servette PRO",
          "Match 18 of Servette PRO",
          "Match 19 of Servette PRO",
          "Match 20 of Servette PRO",
          "Match 22 of Servette PRO",
          "Match 23 of Servette PRO",
          "Match 24 of Servette PRO",
          "Match 25 of Servette PRO",
          "Match 26 of Servette PRO",
          "Match 27 of Servette PRO",
          "Match 28 of Servette PRO",
          "Match 29 of Servette PRO",
          "Match 30 of Servette PRO",
          "Match 31 of Servette PRO",
          "Match 32 of Servette PRO",
          "Match 33 of Servette PRO",
          "Match 34 of Servette PRO",
          "Match 35 of Servette PRO",
          "Match 36 of Servette PRO",
          "Match 38 of Servette PRO",
          "Match 39 of Servette PRO",
          "Match 40 of Servette PRO",
          "Match 42 of Servette PRO",
          "Match 43 of Servette PRO",
          "Match 44 of Servette PRO",
          "Match 45 of Servette PRO",
          "Match 47 of Servette PRO",
          "Match 48 of Servette PRO",
          "Match 49 of Servette PRO",
          "Match 50 of Servette PRO",
          "Match 51 of Servette PRO",
          "Match 52 of Servette PRO",
          "Match 53 of Servette PRO",
          "Match 55 of Servette PRO"
         ],
         "xaxis": "x",
         "y": [
          0.9481985403185901,
          0.7940049893810606,
          0.8354646328828779,
          0.47477356561469897,
          0.9802903950971696,
          0.4021833234494368,
          0.8473230755045531,
          0.8375205305841469,
          0.796103827084744,
          0.9878236566096747,
          0.48613780067717566,
          0.8152604550569033,
          0.9535782593131037,
          0.8729262089058608,
          0.8456000659831375,
          0.948415736553941,
          0.9248985545629287,
          0.8348556473239881,
          0.9429229405126042,
          0.9058719138709972,
          0.45360219630124554,
          0.5745991308384921,
          0.9305338021639024,
          0.9257545512799357,
          0.7595576586071454,
          0.6907278524192171,
          0.4024525781512998,
          0.9164102691476876,
          0.6777244409911932,
          0.8546593982116734,
          0.9749194174122326,
          0.9675378542897435,
          0.8661786717608708,
          0.8085795174545347,
          0.8994858986371737,
          0.9244126337478614,
          0.975868564338499,
          0.9585770128999209,
          0.9704710134944706,
          0.611727781670799,
          0.9904876462791607,
          0.9923278416331303,
          0.9676660887805528,
          0.5950576086260067,
          0.7722945056929612,
          0.8442743086317431,
          0.6708082288431306,
          0.8824798582238866
         ],
         "yaxis": "y"
        },
        {
         "alignmentgroup": "True",
         "hovertemplate": "Player Name=A.Antunes<br>SESSION_ID=%{x}<br>proba_pro=%{y}<extra></extra>",
         "legendgroup": "A.Antunes",
         "marker": {
          "color": "#ab63fa",
          "pattern": {
           "shape": ""
          }
         },
         "name": "A.Antunes",
         "offsetgroup": "A.Antunes",
         "orientation": "v",
         "showlegend": true,
         "textposition": "auto",
         "type": "bar",
         "x": [
          "Match 1 of Servette PRO",
          "Match 2 of Servette PRO",
          "Match 3 of Servette PRO",
          "Match 11 of Servette PRO",
          "Match 12 of Servette PRO",
          "Match 13 of Servette PRO",
          "Match 15 of Servette PRO",
          "Match 16 of Servette PRO",
          "Match 17 of Servette PRO",
          "Match 18 of Servette PRO",
          "Match 19 of Servette PRO",
          "Match 20 of Servette PRO",
          "Match 27 of Servette PRO",
          "Match 29 of Servette PRO",
          "Match 30 of Servette PRO",
          "Match 31 of Servette PRO",
          "Match 32 of Servette PRO",
          "Match 33 of Servette PRO",
          "Match 34 of Servette PRO",
          "Match 35 of Servette PRO",
          "Match 36 of Servette PRO",
          "Match 37 of Servette PRO",
          "Match 38 of Servette PRO",
          "Match 39 of Servette PRO",
          "Match 40 of Servette PRO",
          "Match 41 of Servette PRO",
          "Match 43 of Servette PRO",
          "Match 44 of Servette PRO",
          "Match 45 of Servette PRO",
          "Match 46 of Servette PRO",
          "Match 47 of Servette PRO",
          "Match 48 of Servette PRO",
          "Match 49 of Servette PRO",
          "Match 51 of Servette PRO",
          "Match 52 of Servette PRO",
          "Match 53 of Servette PRO"
         ],
         "xaxis": "x",
         "y": [
          0.9998442947687136,
          0.7844069086054517,
          0.9997376375571015,
          0.87903057785262,
          0.8536792650324484,
          0.8183156420589796,
          0.9351401718818758,
          0.9549054781136563,
          0.9853704755287661,
          0.9987631064590519,
          0.9998615498581997,
          0.9905298374250131,
          0.8134402129974653,
          0.5161168059667793,
          0.785898328930858,
          0.9997224445900291,
          0.996001395646886,
          0.4179257006961773,
          0.5651331652159758,
          0.9442063213690524,
          0.9863498795189289,
          0.9727152050142398,
          0.8065498443774007,
          0.9999757164543108,
          0.9960524307276858,
          0.9979423604396174,
          0.9999750744430372,
          0.9933173895854868,
          0.555056883593056,
          0.848849827523265,
          0.9990308399416158,
          0.968996679982205,
          0.9989700592595885,
          0.9935481574818654,
          0.8848951005236275,
          0.9306777226947729
         ],
         "yaxis": "y"
        },
        {
         "alignmentgroup": "True",
         "hovertemplate": "Player Name=T.Cognat<br>SESSION_ID=%{x}<br>proba_pro=%{y}<extra></extra>",
         "legendgroup": "T.Cognat",
         "marker": {
          "color": "#FFA15A",
          "pattern": {
           "shape": ""
          }
         },
         "name": "T.Cognat",
         "offsetgroup": "T.Cognat",
         "orientation": "v",
         "showlegend": true,
         "textposition": "auto",
         "type": "bar",
         "x": [
          "Match 1 of Servette PRO",
          "Match 2 of Servette PRO",
          "Match 3 of Servette PRO",
          "Match 5 of Servette PRO",
          "Match 6 of Servette PRO",
          "Match 7 of Servette PRO",
          "Match 8 of Servette PRO",
          "Match 9 of Servette PRO",
          "Match 10 of Servette PRO",
          "Match 11 of Servette PRO",
          "Match 12 of Servette PRO",
          "Match 13 of Servette PRO",
          "Match 14 of Servette PRO",
          "Match 15 of Servette PRO",
          "Match 16 of Servette PRO",
          "Match 17 of Servette PRO",
          "Match 18 of Servette PRO",
          "Match 20 of Servette PRO",
          "Match 21 of Servette PRO",
          "Match 22 of Servette PRO",
          "Match 23 of Servette PRO",
          "Match 24 of Servette PRO",
          "Match 25 of Servette PRO",
          "Match 26 of Servette PRO",
          "Match 27 of Servette PRO",
          "Match 28 of Servette PRO",
          "Match 29 of Servette PRO",
          "Match 30 of Servette PRO",
          "Match 31 of Servette PRO",
          "Match 32 of Servette PRO",
          "Match 33 of Servette PRO",
          "Match 34 of Servette PRO",
          "Match 35 of Servette PRO",
          "Match 36 of Servette PRO",
          "Match 37 of Servette PRO",
          "Match 38 of Servette PRO",
          "Match 39 of Servette PRO",
          "Match 40 of Servette PRO",
          "Match 41 of Servette PRO",
          "Match 43 of Servette PRO",
          "Match 44 of Servette PRO",
          "Match 45 of Servette PRO",
          "Match 46 of Servette PRO",
          "Match 47 of Servette PRO",
          "Match 48 of Servette PRO",
          "Match 49 of Servette PRO",
          "Match 50 of Servette PRO",
          "Match 51 of Servette PRO",
          "Match 52 of Servette PRO",
          "Match 53 of Servette PRO",
          "Match 54 of Servette PRO",
          "Match 55 of Servette PRO"
         ],
         "xaxis": "x",
         "y": [
          0.9963456024793285,
          0.6465626286150176,
          0.84211456292141,
          0.4278224938727327,
          0.9885713832928807,
          0.9903664765199914,
          0.9980581323042764,
          0.6054131467303068,
          0.514304727435629,
          0.916489477085389,
          0.8163781387228548,
          0.9992955262855365,
          0.859383513173216,
          0.9906880584403764,
          0.9898338994199477,
          0.6906578263331267,
          0.9776821747826941,
          0.929678061701996,
          0.5856256676547592,
          0.9255783335454876,
          0.39496314084639744,
          0.9586976585076811,
          0.9470605186100326,
          0.8287284471373295,
          0.568692082133213,
          0.038231359867795196,
          0.9858373515405415,
          0.360311390609958,
          0.9751933669778781,
          0.5365849352524638,
          0.9950791691317844,
          0.5747697406164654,
          0.749179228745691,
          0.1837534502674172,
          0.31521357477132994,
          0.9932442240988674,
          0.8282023176769985,
          0.9906630543806233,
          0.6578179078967271,
          0.9618395856506112,
          0.593395814211459,
          0.1871973187301973,
          0.1449181140245487,
          0.9271909041934769,
          0.0254439104249135,
          0.9666876121093771,
          0.04463757222408101,
          0.9992366567039352,
          0.8904267031268308,
          0.8218639197026513,
          0.9660796614093953,
          0.998118070066099
         ],
         "yaxis": "y"
        },
        {
         "alignmentgroup": "True",
         "hovertemplate": "Player Name=D.Douline<br>SESSION_ID=%{x}<br>proba_pro=%{y}<extra></extra>",
         "legendgroup": "D.Douline",
         "marker": {
          "color": "#19d3f3",
          "pattern": {
           "shape": ""
          }
         },
         "name": "D.Douline",
         "offsetgroup": "D.Douline",
         "orientation": "v",
         "showlegend": true,
         "textposition": "auto",
         "type": "bar",
         "x": [
          "Match 1 of Servette PRO",
          "Match 2 of Servette PRO",
          "Match 3 of Servette PRO",
          "Match 4 of Servette PRO",
          "Match 5 of Servette PRO",
          "Match 6 of Servette PRO",
          "Match 8 of Servette PRO",
          "Match 10 of Servette PRO",
          "Match 11 of Servette PRO",
          "Match 12 of Servette PRO",
          "Match 15 of Servette PRO",
          "Match 17 of Servette PRO",
          "Match 18 of Servette PRO",
          "Match 19 of Servette PRO",
          "Match 20 of Servette PRO",
          "Match 22 of Servette PRO",
          "Match 46 of Servette PRO",
          "Match 51 of Servette PRO",
          "Match 53 of Servette PRO",
          "Match 54 of Servette PRO"
         ],
         "xaxis": "x",
         "y": [
          0.5911317683419585,
          0.8436252841614591,
          0.6172572131421105,
          0.8269322825114729,
          0.09645109448509254,
          0.6153493226303797,
          0.9597800851634821,
          0.8683097284237907,
          0.9866035908988441,
          0.4479083700586614,
          0.6362749478398255,
          0.9818020783701399,
          0.9788537785183283,
          0.9773408321218471,
          0.05099790271744594,
          0.9928624971969371,
          0.9927608210126618,
          0.9865613093730625,
          0.998569052661264,
          0.9991023656423285
         ],
         "yaxis": "y"
        },
        {
         "alignmentgroup": "True",
         "hovertemplate": "Player Name=E.Crivelli<br>SESSION_ID=%{x}<br>proba_pro=%{y}<extra></extra>",
         "legendgroup": "E.Crivelli",
         "marker": {
          "color": "#FF6692",
          "pattern": {
           "shape": ""
          }
         },
         "name": "E.Crivelli",
         "offsetgroup": "E.Crivelli",
         "orientation": "v",
         "showlegend": true,
         "textposition": "auto",
         "type": "bar",
         "x": [
          "Match 1 of Servette PRO",
          "Match 2 of Servette PRO",
          "Match 4 of Servette PRO",
          "Match 6 of Servette PRO",
          "Match 7 of Servette PRO",
          "Match 8 of Servette PRO",
          "Match 9 of Servette PRO",
          "Match 10 of Servette PRO",
          "Match 13 of Servette PRO",
          "Match 14 of Servette PRO",
          "Match 16 of Servette PRO",
          "Match 17 of Servette PRO",
          "Match 19 of Servette PRO",
          "Match 21 of Servette PRO",
          "Match 23 of Servette PRO",
          "Match 24 of Servette PRO",
          "Match 33 of Servette PRO",
          "Match 34 of Servette PRO",
          "Match 36 of Servette PRO",
          "Match 38 of Servette PRO",
          "Match 41 of Servette PRO",
          "Match 42 of Servette PRO",
          "Match 46 of Servette PRO",
          "Match 47 of Servette PRO",
          "Match 51 of Servette PRO"
         ],
         "xaxis": "x",
         "y": [
          0.9994037719703505,
          0.9268062563025898,
          0.8140031457636046,
          0.9716642705441745,
          0.825569027054787,
          0.6455294286065508,
          0.3978585285838446,
          0.9685111213292115,
          0.9836678905278621,
          0.7102105273935548,
          0.7037680961504413,
          0.9986766192074604,
          0.7269750880633699,
          0.8817721219626163,
          0.4868144199587121,
          0.1795639108751617,
          0.9918936569193141,
          0.9045058291508353,
          0.9951986679813124,
          0.9964965607978854,
          0.8693833257640173,
          0.9882423313702139,
          0.2901980355181916,
          0.9832100586858066,
          0.7728199473750034
         ],
         "yaxis": "y"
        },
        {
         "alignmentgroup": "True",
         "hovertemplate": "Player Name=K.Tsunemoto<br>SESSION_ID=%{x}<br>proba_pro=%{y}<extra></extra>",
         "legendgroup": "K.Tsunemoto",
         "marker": {
          "color": "#B6E880",
          "pattern": {
           "shape": ""
          }
         },
         "name": "K.Tsunemoto",
         "offsetgroup": "K.Tsunemoto",
         "orientation": "v",
         "showlegend": true,
         "textposition": "auto",
         "type": "bar",
         "x": [
          "Match 1 of Servette PRO",
          "Match 2 of Servette PRO",
          "Match 15 of Servette PRO",
          "Match 16 of Servette PRO",
          "Match 17 of Servette PRO",
          "Match 18 of Servette PRO",
          "Match 20 of Servette PRO",
          "Match 21 of Servette PRO",
          "Match 22 of Servette PRO",
          "Match 24 of Servette PRO",
          "Match 25 of Servette PRO",
          "Match 26 of Servette PRO",
          "Match 27 of Servette PRO",
          "Match 28 of Servette PRO",
          "Match 29 of Servette PRO",
          "Match 30 of Servette PRO",
          "Match 31 of Servette PRO",
          "Match 32 of Servette PRO",
          "Match 33 of Servette PRO",
          "Match 34 of Servette PRO",
          "Match 35 of Servette PRO",
          "Match 36 of Servette PRO",
          "Match 37 of Servette PRO",
          "Match 38 of Servette PRO",
          "Match 39 of Servette PRO",
          "Match 41 of Servette PRO",
          "Match 42 of Servette PRO",
          "Match 43 of Servette PRO",
          "Match 44 of Servette PRO",
          "Match 45 of Servette PRO",
          "Match 47 of Servette PRO",
          "Match 48 of Servette PRO",
          "Match 49 of Servette PRO",
          "Match 50 of Servette PRO",
          "Match 51 of Servette PRO",
          "Match 52 of Servette PRO",
          "Match 54 of Servette PRO",
          "Match 55 of Servette PRO"
         ],
         "xaxis": "x",
         "y": [
          0.9452686820099495,
          0.704796810482504,
          0.9857207954498354,
          0.9980770933176718,
          0.9286306605416361,
          0.9329089133057845,
          0.9908940131341719,
          0.994173825391623,
          0.9821978999842071,
          0.9274064971772398,
          0.9974895319495852,
          0.9976495282283778,
          0.9429633478853694,
          0.967033856063435,
          0.001534361496862147,
          0.9965684975467517,
          0.9956127687492141,
          0.9394202702870021,
          0.9146037417258799,
          0.7482392305033649,
          0.8512392912012378,
          0.9860837997533792,
          0.792554131841033,
          0.9905641809230189,
          0.9047975945884152,
          0.9964244671360907,
          0.44533273859659755,
          0.9991373922742173,
          0.9995546418359411,
          0.9992324351079185,
          0.8027186345282666,
          0.9486414231497131,
          0.9523355052870807,
          0.980989247605166,
          0.9924155581292989,
          0.9991058181439024,
          0.859227319610436,
          0.7738508445193075
         ],
         "yaxis": "y"
        },
        {
         "alignmentgroup": "True",
         "hovertemplate": "Player Name=J.Guillemenot<br>SESSION_ID=%{x}<br>proba_pro=%{y}<extra></extra>",
         "legendgroup": "J.Guillemenot",
         "marker": {
          "color": "#FF97FF",
          "pattern": {
           "shape": ""
          }
         },
         "name": "J.Guillemenot",
         "offsetgroup": "J.Guillemenot",
         "orientation": "v",
         "showlegend": true,
         "textposition": "auto",
         "type": "bar",
         "x": [
          "Match 2 of Servette PRO",
          "Match 4 of Servette PRO",
          "Match 5 of Servette PRO",
          "Match 6 of Servette PRO",
          "Match 7 of Servette PRO",
          "Match 8 of Servette PRO",
          "Match 9 of Servette PRO",
          "Match 15 of Servette PRO",
          "Match 16 of Servette PRO",
          "Match 19 of Servette PRO",
          "Match 21 of Servette PRO",
          "Match 24 of Servette PRO",
          "Match 25 of Servette PRO",
          "Match 27 of Servette PRO",
          "Match 31 of Servette PRO",
          "Match 32 of Servette PRO",
          "Match 33 of Servette PRO",
          "Match 36 of Servette PRO",
          "Match 37 of Servette PRO",
          "Match 40 of Servette PRO",
          "Match 42 of Servette PRO",
          "Match 43 of Servette PRO",
          "Match 47 of Servette PRO",
          "Match 52 of Servette PRO",
          "Match 53 of Servette PRO",
          "Match 54 of Servette PRO",
          "Match 55 of Servette PRO"
         ],
         "xaxis": "x",
         "y": [
          0.9559430551806748,
          0.9189655007711794,
          0.9962954160509944,
          0.6997735094169215,
          0.9985911004903705,
          0.9686979005603853,
          0.7335275261267127,
          0.024528005378744104,
          0.9869869219132152,
          0.7894620184801234,
          0.9867367873665502,
          0.9900699759670089,
          0.6848100048351883,
          0.9949841779674814,
          0.9886897999071226,
          0.9288659809631494,
          0.9999220385180979,
          0.7825299040730286,
          0.9823818207950937,
          0.809701685243706,
          0.9966892224024813,
          0.999988755743565,
          0.9994791534164247,
          0.562176353258152,
          0.9468349141760887,
          0.045496482056162434,
          0.985178345440532
         ],
         "yaxis": "y"
        },
        {
         "alignmentgroup": "True",
         "hovertemplate": "Player Name=A.Baron<br>SESSION_ID=%{x}<br>proba_pro=%{y}<extra></extra>",
         "legendgroup": "A.Baron",
         "marker": {
          "color": "#FECB52",
          "pattern": {
           "shape": ""
          }
         },
         "name": "A.Baron",
         "offsetgroup": "A.Baron",
         "orientation": "v",
         "showlegend": true,
         "textposition": "auto",
         "type": "bar",
         "x": [
          "Match 2 of Servette PRO",
          "Match 4 of Servette PRO",
          "Match 6 of Servette PRO",
          "Match 8 of Servette PRO",
          "Match 9 of Servette PRO",
          "Match 10 of Servette PRO",
          "Match 13 of Servette PRO",
          "Match 25 of Servette PRO",
          "Match 26 of Servette PRO",
          "Match 28 of Servette PRO",
          "Match 29 of Servette PRO",
          "Match 40 of Servette PRO",
          "Match 48 of Servette PRO",
          "Match 53 of Servette PRO"
         ],
         "xaxis": "x",
         "y": [
          0.9924106518060634,
          0.8405940751699118,
          0.9739944211407047,
          0.9238885775210789,
          0.9795300955065336,
          0.914301925562865,
          0.5396422620510258,
          0.6863857647590587,
          0.8322411408370002,
          0.6415600308806221,
          0.9325346417462648,
          0.8019973519653448,
          0.9954085410964744,
          0.9798666431284021
         ],
         "yaxis": "y"
        },
        {
         "alignmentgroup": "True",
         "hovertemplate": "Player Name=D.Kutesa<br>SESSION_ID=%{x}<br>proba_pro=%{y}<extra></extra>",
         "legendgroup": "D.Kutesa",
         "marker": {
          "color": "#636efa",
          "pattern": {
           "shape": ""
          }
         },
         "name": "D.Kutesa",
         "offsetgroup": "D.Kutesa",
         "orientation": "v",
         "showlegend": true,
         "textposition": "auto",
         "type": "bar",
         "x": [
          "Match 3 of Servette PRO",
          "Match 4 of Servette PRO",
          "Match 6 of Servette PRO",
          "Match 9 of Servette PRO",
          "Match 11 of Servette PRO",
          "Match 13 of Servette PRO",
          "Match 14 of Servette PRO",
          "Match 18 of Servette PRO",
          "Match 22 of Servette PRO",
          "Match 23 of Servette PRO",
          "Match 24 of Servette PRO",
          "Match 25 of Servette PRO",
          "Match 27 of Servette PRO",
          "Match 28 of Servette PRO",
          "Match 30 of Servette PRO",
          "Match 31 of Servette PRO",
          "Match 32 of Servette PRO",
          "Match 33 of Servette PRO",
          "Match 35 of Servette PRO",
          "Match 37 of Servette PRO",
          "Match 39 of Servette PRO",
          "Match 41 of Servette PRO",
          "Match 42 of Servette PRO",
          "Match 43 of Servette PRO",
          "Match 44 of Servette PRO",
          "Match 48 of Servette PRO",
          "Match 49 of Servette PRO"
         ],
         "xaxis": "x",
         "y": [
          0.8802549251948653,
          0.9344821966990124,
          0.9791686943283571,
          0.5999042232354044,
          0.9945981168478566,
          0.9889675629818978,
          0.9146837464856604,
          0.9654690901913355,
          0.9798249162657431,
          0.6613511495873544,
          0.8899441998032598,
          0.6540133404281478,
          0.9994600468251499,
          0.9758898506873454,
          0.42790655585872484,
          0.9794283583243527,
          0.8544302523467547,
          0.9856441995589589,
          0.9881083053421739,
          0.9594530744435824,
          0.9997464348052432,
          0.7166122172910804,
          0.9983686054833125,
          0.9920380942127038,
          0.9987349537249681,
          0.9502056783902496,
          0.6509882853968131
         ],
         "yaxis": "y"
        },
        {
         "alignmentgroup": "True",
         "hovertemplate": "Player Name=G.Ondoua<br>SESSION_ID=%{x}<br>proba_pro=%{y}<extra></extra>",
         "legendgroup": "G.Ondoua",
         "marker": {
          "color": "#EF553B",
          "pattern": {
           "shape": ""
          }
         },
         "name": "G.Ondoua",
         "offsetgroup": "G.Ondoua",
         "orientation": "v",
         "showlegend": true,
         "textposition": "auto",
         "type": "bar",
         "x": [
          "Match 4 of Servette PRO",
          "Match 6 of Servette PRO",
          "Match 7 of Servette PRO",
          "Match 10 of Servette PRO",
          "Match 13 of Servette PRO",
          "Match 14 of Servette PRO",
          "Match 16 of Servette PRO",
          "Match 19 of Servette PRO",
          "Match 20 of Servette PRO",
          "Match 21 of Servette PRO",
          "Match 22 of Servette PRO",
          "Match 23 of Servette PRO",
          "Match 25 of Servette PRO",
          "Match 26 of Servette PRO",
          "Match 27 of Servette PRO",
          "Match 28 of Servette PRO",
          "Match 29 of Servette PRO",
          "Match 30 of Servette PRO",
          "Match 32 of Servette PRO",
          "Match 33 of Servette PRO",
          "Match 34 of Servette PRO",
          "Match 35 of Servette PRO",
          "Match 36 of Servette PRO",
          "Match 37 of Servette PRO",
          "Match 38 of Servette PRO",
          "Match 39 of Servette PRO",
          "Match 40 of Servette PRO",
          "Match 41 of Servette PRO",
          "Match 42 of Servette PRO",
          "Match 43 of Servette PRO",
          "Match 44 of Servette PRO",
          "Match 45 of Servette PRO",
          "Match 47 of Servette PRO",
          "Match 48 of Servette PRO",
          "Match 54 of Servette PRO",
          "Match 55 of Servette PRO"
         ],
         "xaxis": "x",
         "y": [
          0.7845431017577461,
          0.9238718322824506,
          0.43336647144244833,
          0.6284350339791148,
          0.8411496369962848,
          0.8884563643595965,
          0.5961244778016724,
          0.9328492850524132,
          0.9918039608488304,
          0.99259481169024,
          0.17762942006673113,
          0.5648810385407549,
          0.7458809869549815,
          0.6225139061504396,
          0.9731272501162027,
          0.8334329067142883,
          0.37710976903513777,
          0.6889169202687182,
          0.9210139146959241,
          0.906774257826774,
          0.07361831166563136,
          0.35016077328197287,
          0.7271766291428431,
          0.9646284015071608,
          0.006374248391898862,
          0.960676997055868,
          0.9458123682262339,
          0.404425222593953,
          0.7671067655469591,
          0.8947880867410908,
          0.9713785050964567,
          0.7236730273295169,
          0.5719572015857922,
          0.6892054132016348,
          0.9167686530148124,
          0.6841071396097851
         ],
         "yaxis": "y"
        },
        {
         "alignmentgroup": "True",
         "hovertemplate": "Player Name=S.Lele diba<br>SESSION_ID=%{x}<br>proba_pro=%{y}<extra></extra>",
         "legendgroup": "S.Lele diba",
         "marker": {
          "color": "#00cc96",
          "pattern": {
           "shape": ""
          }
         },
         "name": "S.Lele diba",
         "offsetgroup": "S.Lele diba",
         "orientation": "v",
         "showlegend": true,
         "textposition": "auto",
         "type": "bar",
         "x": [
          "Match 8 of Servette PRO",
          "Match 21 of Servette PRO",
          "Match 24 of Servette PRO",
          "Match 29 of Servette PRO",
          "Match 42 of Servette PRO",
          "Match 15 of M21",
          "Match 20 of M21",
          "Match 32 of M21",
          "Match 35 of M21",
          "Match 36 of M21",
          "Match 39 of M21",
          "Match 40 of M21"
         ],
         "xaxis": "x",
         "y": [
          0.848879371567718,
          0.9469109741389218,
          0.9366742703936947,
          0.975736424149437,
          0.847646312147462,
          0.036583431209031375,
          0.18327503871754208,
          0.23133808134673206,
          0.04952341043289398,
          0.1982675026611012,
          0.228127667748016,
          0.5118288511763713
         ],
         "yaxis": "y"
        },
        {
         "alignmentgroup": "True",
         "hovertemplate": "Player Name=M.Stevanovic<br>SESSION_ID=%{x}<br>proba_pro=%{y}<extra></extra>",
         "legendgroup": "M.Stevanovic",
         "marker": {
          "color": "#ab63fa",
          "pattern": {
           "shape": ""
          }
         },
         "name": "M.Stevanovic",
         "offsetgroup": "M.Stevanovic",
         "orientation": "v",
         "showlegend": true,
         "textposition": "auto",
         "type": "bar",
         "x": [
          "Match 8 of Servette PRO",
          "Match 11 of Servette PRO",
          "Match 12 of Servette PRO",
          "Match 13 of Servette PRO",
          "Match 14 of Servette PRO",
          "Match 15 of Servette PRO",
          "Match 16 of Servette PRO",
          "Match 17 of Servette PRO",
          "Match 18 of Servette PRO",
          "Match 19 of Servette PRO",
          "Match 20 of Servette PRO",
          "Match 21 of Servette PRO",
          "Match 22 of Servette PRO",
          "Match 23 of Servette PRO",
          "Match 26 of Servette PRO",
          "Match 27 of Servette PRO",
          "Match 28 of Servette PRO",
          "Match 29 of Servette PRO",
          "Match 30 of Servette PRO",
          "Match 31 of Servette PRO",
          "Match 32 of Servette PRO",
          "Match 36 of Servette PRO",
          "Match 37 of Servette PRO",
          "Match 38 of Servette PRO",
          "Match 39 of Servette PRO",
          "Match 40 of Servette PRO",
          "Match 41 of Servette PRO",
          "Match 42 of Servette PRO",
          "Match 43 of Servette PRO",
          "Match 44 of Servette PRO",
          "Match 45 of Servette PRO",
          "Match 46 of Servette PRO",
          "Match 47 of Servette PRO",
          "Match 48 of Servette PRO",
          "Match 49 of Servette PRO",
          "Match 50 of Servette PRO",
          "Match 51 of Servette PRO",
          "Match 52 of Servette PRO",
          "Match 53 of Servette PRO",
          "Match 54 of Servette PRO",
          "Match 55 of Servette PRO"
         ],
         "xaxis": "x",
         "y": [
          0.20868920412770128,
          0.8302251953227963,
          0.9049042646227425,
          0.9958226548004119,
          0.9854501541160419,
          0.12422522336601227,
          0.8742587372799348,
          0.9957385985731763,
          0.8015043325516469,
          0.9854441796645148,
          0.823055419488139,
          0.9686784839345243,
          0.997537461739572,
          0.695192998329064,
          0.9783428291495758,
          0.9999262521784605,
          0.6439419538102332,
          0.7091687521015125,
          0.7855641997382454,
          0.9537797284080194,
          0.9523897617577995,
          0.9836254371020887,
          0.9843881037346216,
          0.9737995336044473,
          0.9937906207463953,
          0.9771214750724035,
          0.8146855403218846,
          0.9934611561765386,
          0.9999876704420089,
          0.10395718269583185,
          0.837487064579161,
          0.7607029011955809,
          0.9161447411501787,
          0.9509662077985496,
          0.9682886220890959,
          0.9270225901816591,
          0.4237875521416453,
          0.999051698133922,
          0.8416791047073011,
          0.9996464704394655,
          0.9837017507713584
         ],
         "yaxis": "y"
        },
        {
         "alignmentgroup": "True",
         "hovertemplate": "Player Name=T.Magnin<br>SESSION_ID=%{x}<br>proba_pro=%{y}<extra></extra>",
         "legendgroup": "T.Magnin",
         "marker": {
          "color": "#FFA15A",
          "pattern": {
           "shape": ""
          }
         },
         "name": "T.Magnin",
         "offsetgroup": "T.Magnin",
         "orientation": "v",
         "showlegend": true,
         "textposition": "auto",
         "type": "bar",
         "x": [
          "Match 21 of Servette PRO",
          "Match 23 of Servette PRO",
          "Match 29 of Servette PRO",
          "Match 31 of Servette PRO",
          "Match 33 of Servette PRO",
          "Match 35 of Servette PRO",
          "Match 36 of Servette PRO",
          "Match 38 of Servette PRO",
          "Match 40 of Servette PRO",
          "Match 41 of Servette PRO",
          "Match 42 of Servette PRO",
          "Match 46 of Servette PRO",
          "Match 52 of Servette PRO",
          "Match 53 of Servette PRO",
          "Match 54 of Servette PRO",
          "Match 55 of Servette PRO",
          "Match 24 of M21"
         ],
         "xaxis": "x",
         "y": [
          0.10268585005154073,
          0.1383651560413177,
          0.624906135696078,
          0.9011495034139567,
          0.999399389810545,
          0.2446716717911368,
          0.6447853802862823,
          0.9698693985842485,
          0.9833423509448311,
          0.737855165047726,
          0.9190959820989395,
          0.9796337906681417,
          0.06083165320116568,
          0.9892295002744494,
          0.9976321704822316,
          0.7279144913293519,
          0.075265772717818
         ],
         "yaxis": "y"
        },
        {
         "alignmentgroup": "True",
         "hovertemplate": "Player Name=D.Bronn<br>SESSION_ID=%{x}<br>proba_pro=%{y}<extra></extra>",
         "legendgroup": "D.Bronn",
         "marker": {
          "color": "#19d3f3",
          "pattern": {
           "shape": ""
          }
         },
         "name": "D.Bronn",
         "offsetgroup": "D.Bronn",
         "orientation": "v",
         "showlegend": true,
         "textposition": "auto",
         "type": "bar",
         "x": [
          "Match 37 of Servette PRO",
          "Match 40 of Servette PRO",
          "Match 41 of Servette PRO",
          "Match 46 of Servette PRO",
          "Match 49 of Servette PRO",
          "Match 50 of Servette PRO",
          "Match 52 of Servette PRO",
          "Match 54 of Servette PRO",
          "Match 55 of Servette PRO"
         ],
         "xaxis": "x",
         "y": [
          0.2646951886024474,
          0.9976479248329763,
          0.7486349406315804,
          0.7768891679000869,
          0.9353492717617323,
          0.9817414438524065,
          0.8289434764258145,
          0.9713622928467922,
          0.9715568094165351
         ],
         "yaxis": "y"
        },
        {
         "alignmentgroup": "True",
         "hovertemplate": "Player Name=J.Simo<br>SESSION_ID=%{x}<br>proba_pro=%{y}<extra></extra>",
         "legendgroup": "J.Simo",
         "marker": {
          "color": "#FF6692",
          "pattern": {
           "shape": ""
          }
         },
         "name": "J.Simo",
         "offsetgroup": "J.Simo",
         "orientation": "v",
         "showlegend": true,
         "textposition": "auto",
         "type": "bar",
         "x": [
          "Match 1 of M21",
          "Match 2 of M21",
          "Match 3 of M21",
          "Match 5 of M21",
          "Match 6 of M21",
          "Match 7 of M21",
          "Match 9 of M21",
          "Match 11 of M21",
          "Match 12 of M21",
          "Match 13 of M21",
          "Match 14 of M21",
          "Match 15 of M21",
          "Match 16 of M21",
          "Match 18 of M21",
          "Match 19 of M21",
          "Match 21 of M21",
          "Match 22 of M21",
          "Match 23 of M21",
          "Match 24 of M21",
          "Match 25 of M21",
          "Match 26 of M21",
          "Match 27 of M21",
          "Match 28 of M21",
          "Match 29 of M21",
          "Match 30 of M21",
          "Match 31 of M21",
          "Match 32 of M21",
          "Match 33 of M21",
          "Match 34 of M21",
          "Match 35 of M21",
          "Match 37 of M21",
          "Match 39 of M21",
          "Match 40 of M21",
          "Match 41 of M21",
          "Match 42 of M21"
         ],
         "xaxis": "x",
         "y": [
          0.936966318767658,
          0.00023844745472803512,
          0.9126097638234335,
          0.004345516184310921,
          0.1109127783598998,
          0.09646918776427445,
          0.1281641503331229,
          0.7864853893122643,
          0.005113662895685676,
          0.4187107942260094,
          0.10989389872100509,
          0.17823932310148438,
          0.07637210967120626,
          0.16193661216924585,
          0.01621529989596818,
          0.21250795126491526,
          0.007984076012767087,
          0.018047874502110154,
          0.06072617477656243,
          0.000015184556436130315,
          0.30577825995003804,
          0.0025115231651117657,
          0.00033679215896034194,
          0.599955896342118,
          0.029044357424672707,
          0.5779778694516844,
          0.31782402676925137,
          0.6249754392906179,
          0.21213269316848143,
          0.07410583801284758,
          0.3004035486874051,
          0.15475088752660346,
          0.02700814395728999,
          0.06886355172049019,
          0.16885369889049917
         ],
         "yaxis": "y"
        },
        {
         "alignmentgroup": "True",
         "hovertemplate": "Player Name=P.Weber<br>SESSION_ID=%{x}<br>proba_pro=%{y}<extra></extra>",
         "legendgroup": "P.Weber",
         "marker": {
          "color": "#B6E880",
          "pattern": {
           "shape": ""
          }
         },
         "name": "P.Weber",
         "offsetgroup": "P.Weber",
         "orientation": "v",
         "showlegend": true,
         "textposition": "auto",
         "type": "bar",
         "x": [
          "Match 1 of M21",
          "Match 2 of M21",
          "Match 3 of M21",
          "Match 5 of M21",
          "Match 9 of M21",
          "Match 11 of M21",
          "Match 12 of M21",
          "Match 13 of M21",
          "Match 14 of M21",
          "Match 15 of M21",
          "Match 16 of M21",
          "Match 17 of M21",
          "Match 18 of M21",
          "Match 19 of M21",
          "Match 20 of M21",
          "Match 21 of M21",
          "Match 22 of M21",
          "Match 23 of M21",
          "Match 24 of M21",
          "Match 25 of M21",
          "Match 26 of M21",
          "Match 27 of M21",
          "Match 28 of M21"
         ],
         "xaxis": "x",
         "y": [
          0.23384470690796488,
          0.2948961225858207,
          0.0006961596973678793,
          0.06824687381098857,
          0.00559872361077294,
          0.002458121069071798,
          0.70289350119884,
          0.0002846827853242861,
          0.00030506129493624066,
          0.02530870995384939,
          0.0004045773920505234,
          0.023239213943661106,
          0.011634148276733973,
          0.0005284445331479431,
          0.0024339848263602287,
          0.007195235629150585,
          0.001753664616416802,
          0.15932444903517284,
          0.14801104133512683,
          0.3600616011652355,
          0.17074317809704162,
          0.00004311484511583202,
          0.10831056631797946
         ],
         "yaxis": "y"
        },
        {
         "alignmentgroup": "True",
         "hovertemplate": "Player Name=O.Sene<br>SESSION_ID=%{x}<br>proba_pro=%{y}<extra></extra>",
         "legendgroup": "O.Sene",
         "marker": {
          "color": "#FF97FF",
          "pattern": {
           "shape": ""
          }
         },
         "name": "O.Sene",
         "offsetgroup": "O.Sene",
         "orientation": "v",
         "showlegend": true,
         "textposition": "auto",
         "type": "bar",
         "x": [
          "Match 1 of M21",
          "Match 2 of M21",
          "Match 3 of M21",
          "Match 5 of M21",
          "Match 9 of M21",
          "Match 12 of M21",
          "Match 13 of M21",
          "Match 16 of M21",
          "Match 17 of M21",
          "Match 18 of M21",
          "Match 19 of M21",
          "Match 20 of M21",
          "Match 22 of M21",
          "Match 23 of M21",
          "Match 24 of M21",
          "Match 25 of M21",
          "Match 26 of M21",
          "Match 27 of M21",
          "Match 28 of M21",
          "Match 30 of M21",
          "Match 33 of M21",
          "Match 34 of M21",
          "Match 35 of M21",
          "Match 36 of M21",
          "Match 37 of M21",
          "Match 38 of M21",
          "Match 39 of M21",
          "Match 40 of M21",
          "Match 41 of M21"
         ],
         "xaxis": "x",
         "y": [
          0.014926358605178311,
          0.00014811576281492547,
          0.0016534077402585278,
          0.0002983118844476203,
          0.00005490503426399718,
          0.0019422935100145977,
          0.0005652356891346396,
          0.002124052516665523,
          0.002326707322080187,
          0.008205959502087102,
          0.0024087957487707082,
          5.983132733730951e-8,
          0.005972016756487302,
          0.0000013270154009592541,
          0.000324376440417077,
          0.0007340037522711228,
          0.0019313028696196994,
          0.00193206577311281,
          0.006492295829793593,
          0.013013391197864307,
          0.0020564986155816264,
          0.0047975505330180674,
          0.009225380503245029,
          0.06442628439516575,
          0.0003499973314629355,
          0.014845924528593395,
          0.0024605673017727755,
          0.00010083462276735435,
          0.001994443978815271
         ],
         "yaxis": "y"
        },
        {
         "alignmentgroup": "True",
         "hovertemplate": "Player Name=A.Salihi<br>SESSION_ID=%{x}<br>proba_pro=%{y}<extra></extra>",
         "legendgroup": "A.Salihi",
         "marker": {
          "color": "#FECB52",
          "pattern": {
           "shape": ""
          }
         },
         "name": "A.Salihi",
         "offsetgroup": "A.Salihi",
         "orientation": "v",
         "showlegend": true,
         "textposition": "auto",
         "type": "bar",
         "x": [
          "Match 1 of M21",
          "Match 2 of M21",
          "Match 4 of M21",
          "Match 10 of M21"
         ],
         "xaxis": "x",
         "y": [
          0.9422095643140455,
          0.862946973716702,
          0.5526438600727022,
          0.048813639088399606
         ],
         "yaxis": "y"
        },
        {
         "alignmentgroup": "True",
         "hovertemplate": "Player Name=M.Rizvanovic<br>SESSION_ID=%{x}<br>proba_pro=%{y}<extra></extra>",
         "legendgroup": "M.Rizvanovic",
         "marker": {
          "color": "#636efa",
          "pattern": {
           "shape": ""
          }
         },
         "name": "M.Rizvanovic",
         "offsetgroup": "M.Rizvanovic",
         "orientation": "v",
         "showlegend": true,
         "textposition": "auto",
         "type": "bar",
         "x": [
          "Match 1 of M21",
          "Match 2 of M21",
          "Match 3 of M21",
          "Match 7 of M21",
          "Match 11 of M21",
          "Match 12 of M21",
          "Match 14 of M21",
          "Match 15 of M21",
          "Match 16 of M21",
          "Match 17 of M21",
          "Match 22 of M21",
          "Match 25 of M21",
          "Match 26 of M21",
          "Match 27 of M21",
          "Match 37 of M21",
          "Match 40 of M21",
          "Match 42 of M21",
          "Match 9 of M19",
          "Match 11 of M19"
         ],
         "xaxis": "x",
         "y": [
          0.3392445670907518,
          0.026744651649116238,
          0.16891996276332474,
          0.08389278317948345,
          0.19089747281210623,
          0.00018813372627606072,
          0.037853209573653956,
          0.09535090586117514,
          0.003142359415618064,
          0.5123043537110377,
          0.03682686362990839,
          0.032603937861687325,
          0.2171487109850408,
          0.06368621041849097,
          0.6985507092696168,
          0.08411501298317488,
          0.4728725373763384,
          0.021443640471447048,
          0.012657604278159984
         ],
         "yaxis": "y"
        },
        {
         "alignmentgroup": "True",
         "hovertemplate": "Player Name=R.Guillaume<br>SESSION_ID=%{x}<br>proba_pro=%{y}<extra></extra>",
         "legendgroup": "R.Guillaume",
         "marker": {
          "color": "#EF553B",
          "pattern": {
           "shape": ""
          }
         },
         "name": "R.Guillaume",
         "offsetgroup": "R.Guillaume",
         "orientation": "v",
         "showlegend": true,
         "textposition": "auto",
         "type": "bar",
         "x": [
          "Match 1 of M21",
          "Match 2 of M21",
          "Match 7 of M21",
          "Match 9 of M21",
          "Match 25 of M21",
          "Match 26 of M21",
          "Match 27 of M21",
          "Match 30 of M21"
         ],
         "xaxis": "x",
         "y": [
          0.8477338824063053,
          0.4680722327032135,
          0.029376008415963505,
          0.03645717651589858,
          0.0009383697720939596,
          0.03595627565892206,
          0.0359423649825636,
          0.008283877402116422
         ],
         "yaxis": "y"
        },
        {
         "alignmentgroup": "True",
         "hovertemplate": "Player Name=M.Leclercq<br>SESSION_ID=%{x}<br>proba_pro=%{y}<extra></extra>",
         "legendgroup": "M.Leclercq",
         "marker": {
          "color": "#00cc96",
          "pattern": {
           "shape": ""
          }
         },
         "name": "M.Leclercq",
         "offsetgroup": "M.Leclercq",
         "orientation": "v",
         "showlegend": true,
         "textposition": "auto",
         "type": "bar",
         "x": [
          "Match 1 of M21",
          "Match 2 of M21",
          "Match 7 of M21",
          "Match 24 of M21",
          "Match 25 of M21",
          "Match 26 of M21",
          "Match 27 of M21",
          "Match 28 of M21",
          "Match 34 of M21",
          "Match 36 of M21",
          "Match 38 of M21"
         ],
         "xaxis": "x",
         "y": [
          0.18944608614729866,
          0.04651546864113596,
          0.19844203080230977,
          0.010167291063391693,
          0.8791106558885248,
          0.004708707479150427,
          0.2429907961942172,
          0.16754333365881052,
          0.319912051393804,
          0.09942763500765732,
          0.8567089635641568
         ],
         "yaxis": "y"
        },
        {
         "alignmentgroup": "True",
         "hovertemplate": "Player Name=L.Scandurra<br>SESSION_ID=%{x}<br>proba_pro=%{y}<extra></extra>",
         "legendgroup": "L.Scandurra",
         "marker": {
          "color": "#ab63fa",
          "pattern": {
           "shape": ""
          }
         },
         "name": "L.Scandurra",
         "offsetgroup": "L.Scandurra",
         "orientation": "v",
         "showlegend": true,
         "textposition": "auto",
         "type": "bar",
         "x": [
          "Match 1 of M21",
          "Match 4 of M21",
          "Match 8 of M21",
          "Match 10 of M21",
          "Match 13 of M21",
          "Match 19 of M21",
          "Match 25 of M21",
          "Match 33 of M21",
          "Match 9 of M19",
          "Match 11 of M19"
         ],
         "xaxis": "x",
         "y": [
          0.2626337143377651,
          0.8028272953797783,
          0.008816258755429126,
          0.04937016502524247,
          0.21767704744275437,
          0.01521805903199157,
          0.19699616391816013,
          0.00018737801327318963,
          0.02783531679541003,
          0.701329642569213
         ],
         "yaxis": "y"
        },
        {
         "alignmentgroup": "True",
         "hovertemplate": "Player Name=L.Srdanovic<br>SESSION_ID=%{x}<br>proba_pro=%{y}<extra></extra>",
         "legendgroup": "L.Srdanovic",
         "marker": {
          "color": "#FFA15A",
          "pattern": {
           "shape": ""
          }
         },
         "name": "L.Srdanovic",
         "offsetgroup": "L.Srdanovic",
         "orientation": "v",
         "showlegend": true,
         "textposition": "auto",
         "type": "bar",
         "x": [
          "Match 1 of M21",
          "Match 2 of M21",
          "Match 3 of M21",
          "Match 4 of M21",
          "Match 8 of M21",
          "Match 9 of M21",
          "Match 11 of M21",
          "Match 12 of M21",
          "Match 17 of M21"
         ],
         "xaxis": "x",
         "y": [
          0.6635027992790388,
          0.655363057217574,
          0.01483619042944306,
          0.7258663101778464,
          0.00005212639639519609,
          0.013117694682338626,
          0.024607190612879724,
          0.0009831966402693404,
          0.0000438875457533464
         ],
         "yaxis": "y"
        },
        {
         "alignmentgroup": "True",
         "hovertemplate": "Player Name=L.Zuka<br>SESSION_ID=%{x}<br>proba_pro=%{y}<extra></extra>",
         "legendgroup": "L.Zuka",
         "marker": {
          "color": "#19d3f3",
          "pattern": {
           "shape": ""
          }
         },
         "name": "L.Zuka",
         "offsetgroup": "L.Zuka",
         "orientation": "v",
         "showlegend": true,
         "textposition": "auto",
         "type": "bar",
         "x": [
          "Match 1 of M21",
          "Match 2 of M21",
          "Match 3 of M21",
          "Match 5 of M21",
          "Match 6 of M21",
          "Match 7 of M21",
          "Match 14 of M21",
          "Match 15 of M21",
          "Match 16 of M21",
          "Match 18 of M21",
          "Match 22 of M21",
          "Match 24 of M21",
          "Match 25 of M21",
          "Match 26 of M21",
          "Match 27 of M21",
          "Match 28 of M21",
          "Match 30 of M21",
          "Match 37 of M21",
          "Match 38 of M21"
         ],
         "xaxis": "x",
         "y": [
          0.2460682869538276,
          0.005521491811672186,
          0.00009314471425213095,
          0.000044558600493548064,
          0.0010225309074545273,
          0.005489441328426162,
          0.0006520546229942133,
          0.5128202750004888,
          0.021309604877585736,
          0.00009274394115192377,
          0.00026822233334055355,
          0.00035309583919181326,
          0.00034529618939185895,
          0.06039969938537654,
          0.11837241080180659,
          0.0009850815761133246,
          0.05509385314913386,
          0.0021101267567784736,
          0.0007396321511167616
         ],
         "yaxis": "y"
        },
        {
         "alignmentgroup": "True",
         "hovertemplate": "Player Name=L.Sestito<br>SESSION_ID=%{x}<br>proba_pro=%{y}<extra></extra>",
         "legendgroup": "L.Sestito",
         "marker": {
          "color": "#FF6692",
          "pattern": {
           "shape": ""
          }
         },
         "name": "L.Sestito",
         "offsetgroup": "L.Sestito",
         "orientation": "v",
         "showlegend": true,
         "textposition": "auto",
         "type": "bar",
         "x": [
          "Match 1 of M21",
          "Match 2 of M21",
          "Match 3 of M21",
          "Match 5 of M21",
          "Match 6 of M21",
          "Match 11 of M21",
          "Match 12 of M21",
          "Match 13 of M21",
          "Match 25 of M21",
          "Match 26 of M21",
          "Match 28 of M21",
          "Match 29 of M21",
          "Match 30 of M21",
          "Match 33 of M21",
          "Match 34 of M21",
          "Match 35 of M21",
          "Match 36 of M21",
          "Match 38 of M21",
          "Match 40 of M21",
          "Match 41 of M21",
          "Match 42 of M21"
         ],
         "xaxis": "x",
         "y": [
          0.9864799669174811,
          0.00007084221874031933,
          0.006660553749384957,
          0.06963421461677749,
          0.001897968204950583,
          0.014408046673280286,
          0.027298362492354428,
          0.04344535158243863,
          0.4753646006761556,
          0.1524165551697099,
          0.0000027043896321115737,
          0.08141177086972066,
          0.18256278953499872,
          0.1768766858432491,
          0.04368508445760538,
          0.00035915469520073176,
          0.0007052667584824703,
          0.40208692236039895,
          0.00440196101997701,
          0.009860612903310527,
          0.007714478872078709
         ],
         "yaxis": "y"
        },
        {
         "alignmentgroup": "True",
         "hovertemplate": "Player Name=A.Dias patricio<br>SESSION_ID=%{x}<br>proba_pro=%{y}<extra></extra>",
         "legendgroup": "A.Dias patricio",
         "marker": {
          "color": "#B6E880",
          "pattern": {
           "shape": ""
          }
         },
         "name": "A.Dias patricio",
         "offsetgroup": "A.Dias patricio",
         "orientation": "v",
         "showlegend": true,
         "textposition": "auto",
         "type": "bar",
         "x": [
          "Match 1 of M21",
          "Match 2 of M21",
          "Match 5 of M21",
          "Match 7 of M21",
          "Match 17 of M21",
          "Match 18 of M21",
          "Match 20 of M21",
          "Match 22 of M21",
          "Match 28 of M21",
          "Match 42 of M21"
         ],
         "xaxis": "x",
         "y": [
          0.5556301260845742,
          0.17359307040226915,
          0.001169379946651548,
          0.004052680421626026,
          0.0021514690317587085,
          0.026009092620672795,
          0.1337903110163012,
          0.05818845712523231,
          0.013071334680807567,
          0.0015146420466719324
         ],
         "yaxis": "y"
        },
        {
         "alignmentgroup": "True",
         "hovertemplate": "Player Name=M.Clavel<br>SESSION_ID=%{x}<br>proba_pro=%{y}<extra></extra>",
         "legendgroup": "M.Clavel",
         "marker": {
          "color": "#FF97FF",
          "pattern": {
           "shape": ""
          }
         },
         "name": "M.Clavel",
         "offsetgroup": "M.Clavel",
         "orientation": "v",
         "showlegend": true,
         "textposition": "auto",
         "type": "bar",
         "x": [
          "Match 1 of M21",
          "Match 2 of M21",
          "Match 26 of M21",
          "Match 42 of M21"
         ],
         "xaxis": "x",
         "y": [
          0.06934127505582612,
          0.01859519312706493,
          0.24943326873344676,
          0.12763239326823927
         ],
         "yaxis": "y"
        },
        {
         "alignmentgroup": "True",
         "hovertemplate": "Player Name=A.Mhoumadi<br>SESSION_ID=%{x}<br>proba_pro=%{y}<extra></extra>",
         "legendgroup": "A.Mhoumadi",
         "marker": {
          "color": "#FECB52",
          "pattern": {
           "shape": ""
          }
         },
         "name": "A.Mhoumadi",
         "offsetgroup": "A.Mhoumadi",
         "orientation": "v",
         "showlegend": true,
         "textposition": "auto",
         "type": "bar",
         "x": [
          "Match 1 of M21",
          "Match 6 of M21",
          "Match 7 of M21",
          "Match 9 of M21",
          "Match 11 of M21",
          "Match 12 of M21",
          "Match 13 of M21",
          "Match 17 of M21"
         ],
         "xaxis": "x",
         "y": [
          0.2747616305940092,
          0.0005722361733686441,
          0.02968776652453926,
          0.007295956952939935,
          0.0018114791320415133,
          0.0006719319509994975,
          0.1489010905913358,
          0.18546195318618097
         ],
         "yaxis": "y"
        },
        {
         "alignmentgroup": "True",
         "hovertemplate": "Player Name=O.Daf<br>SESSION_ID=%{x}<br>proba_pro=%{y}<extra></extra>",
         "legendgroup": "O.Daf",
         "marker": {
          "color": "#636efa",
          "pattern": {
           "shape": ""
          }
         },
         "name": "O.Daf",
         "offsetgroup": "O.Daf",
         "orientation": "v",
         "showlegend": true,
         "textposition": "auto",
         "type": "bar",
         "x": [
          "Match 1 of M21",
          "Match 2 of M21",
          "Match 3 of M21",
          "Match 9 of M21",
          "Match 13 of M21",
          "Match 15 of M21",
          "Match 16 of M21",
          "Match 23 of M21",
          "Match 26 of M21",
          "Match 27 of M21"
         ],
         "xaxis": "x",
         "y": [
          0.4430957204994873,
          0.023772139010831302,
          0.000011100498980808453,
          0.0011787828294175838,
          0.08457670358004064,
          0.03752802342480539,
          0.013736707702397615,
          0.22361736754350678,
          0.00004246263424011821,
          0.0005613950180926897
         ],
         "yaxis": "y"
        },
        {
         "alignmentgroup": "True",
         "hovertemplate": "Player Name=S.Fankhauser<br>SESSION_ID=%{x}<br>proba_pro=%{y}<extra></extra>",
         "legendgroup": "S.Fankhauser",
         "marker": {
          "color": "#EF553B",
          "pattern": {
           "shape": ""
          }
         },
         "name": "S.Fankhauser",
         "offsetgroup": "S.Fankhauser",
         "orientation": "v",
         "showlegend": true,
         "textposition": "auto",
         "type": "bar",
         "x": [
          "Match 1 of M21",
          "Match 2 of M21",
          "Match 12 of M21",
          "Match 13 of M21",
          "Match 14 of M21",
          "Match 18 of M21",
          "Match 19 of M21",
          "Match 20 of M21",
          "Match 21 of M21",
          "Match 22 of M21",
          "Match 23 of M21",
          "Match 24 of M21",
          "Match 25 of M21",
          "Match 26 of M21",
          "Match 27 of M21",
          "Match 28 of M21",
          "Match 29 of M21",
          "Match 30 of M21",
          "Match 31 of M21",
          "Match 32 of M21",
          "Match 33 of M21",
          "Match 34 of M21",
          "Match 35 of M21",
          "Match 36 of M21",
          "Match 37 of M21",
          "Match 38 of M21",
          "Match 39 of M21",
          "Match 41 of M21"
         ],
         "xaxis": "x",
         "y": [
          0.000928677673233943,
          0.0026333131577889204,
          0.00021078342170350413,
          0.0042732790231444,
          0.025291480709425298,
          0.03005899842406832,
          0.011135061197448223,
          0.026816543580274597,
          0.004101572315724244,
          0.0179160064522801,
          0.030095032352092557,
          0.018615851029155847,
          0.2393336495022439,
          0.005359671851690655,
          0.020691878844269266,
          0.00016421404888658218,
          0.02589047692812976,
          0.006411735186635457,
          0.04825700063595221,
          0.48553367076023646,
          0.06515129791104866,
          0.10620796277003992,
          0.017727748866499544,
          0.07313790834528906,
          0.12652670379702044,
          0.4294063346975564,
          0.07970755139115794,
          0.008570840174547038
         ],
         "yaxis": "y"
        },
        {
         "alignmentgroup": "True",
         "hovertemplate": "Player Name=L.Ndema<br>SESSION_ID=%{x}<br>proba_pro=%{y}<extra></extra>",
         "legendgroup": "L.Ndema",
         "marker": {
          "color": "#00cc96",
          "pattern": {
           "shape": ""
          }
         },
         "name": "L.Ndema",
         "offsetgroup": "L.Ndema",
         "orientation": "v",
         "showlegend": true,
         "textposition": "auto",
         "type": "bar",
         "x": [
          "Match 1 of M21",
          "Match 2 of M21",
          "Match 3 of M21",
          "Match 6 of M21",
          "Match 7 of M21",
          "Match 13 of M21",
          "Match 14 of M21",
          "Match 16 of M21",
          "Match 18 of M21",
          "Match 19 of M21",
          "Match 20 of M21"
         ],
         "xaxis": "x",
         "y": [
          0.6723001038838449,
          0.010165680144262572,
          0.000008020713584853544,
          0.006705193561450488,
          0.0013197114681340926,
          0.01356436811675559,
          0.003223466456355513,
          0.00017605598203751188,
          0.0006146095190107924,
          0.015320343917165014,
          0.00003727384316982102
         ],
         "yaxis": "y"
        },
        {
         "alignmentgroup": "True",
         "hovertemplate": "Player Name=C.Routis<br>SESSION_ID=%{x}<br>proba_pro=%{y}<extra></extra>",
         "legendgroup": "C.Routis",
         "marker": {
          "color": "#ab63fa",
          "pattern": {
           "shape": ""
          }
         },
         "name": "C.Routis",
         "offsetgroup": "C.Routis",
         "orientation": "v",
         "showlegend": true,
         "textposition": "auto",
         "type": "bar",
         "x": [
          "Match 1 of M21",
          "Match 2 of M21",
          "Match 3 of M21",
          "Match 5 of M21",
          "Match 6 of M21",
          "Match 7 of M21",
          "Match 9 of M21",
          "Match 11 of M21",
          "Match 12 of M21",
          "Match 13 of M21",
          "Match 14 of M21",
          "Match 15 of M21",
          "Match 16 of M21",
          "Match 17 of M21",
          "Match 19 of M21",
          "Match 22 of M21",
          "Match 25 of M21",
          "Match 26 of M21",
          "Match 27 of M21",
          "Match 29 of M21",
          "Match 38 of M21",
          "Match 41 of M21"
         ],
         "xaxis": "x",
         "y": [
          0.3145401382408867,
          0.3218785668833992,
          0.0015130127628399557,
          0.0030895121170866784,
          0.03491019827309713,
          0.4024104208237711,
          0.024567679174713274,
          0.15152502902526171,
          0.026669667114505694,
          0.14427474988222955,
          0.000473789973682104,
          0.03569526582363912,
          0.028003963910337645,
          0.02699809498275499,
          0.05041744869195175,
          0.008269883226987958,
          0.0652141034222263,
          0.41211317317471924,
          0.027159303191833302,
          0.8199861852178948,
          0.12547617474090608,
          0.26049563620651656
         ],
         "yaxis": "y"
        },
        {
         "alignmentgroup": "True",
         "hovertemplate": "Player Name=R.Benammar<br>SESSION_ID=%{x}<br>proba_pro=%{y}<extra></extra>",
         "legendgroup": "R.Benammar",
         "marker": {
          "color": "#FFA15A",
          "pattern": {
           "shape": ""
          }
         },
         "name": "R.Benammar",
         "offsetgroup": "R.Benammar",
         "orientation": "v",
         "showlegend": true,
         "textposition": "auto",
         "type": "bar",
         "x": [
          "Match 1 of M21",
          "Match 2 of M21",
          "Match 10 of M21",
          "Match 22 of M21",
          "Match 24 of M21",
          "Match 25 of M21",
          "Match 26 of M21",
          "Match 11 of M19"
         ],
         "xaxis": "x",
         "y": [
          0.1744149873164725,
          0.02033847202253456,
          0.06694865834044644,
          0.005393648552376155,
          0.0819943191284986,
          0.4987366017262403,
          0.002619899615201969,
          0.02943153762449776
         ],
         "yaxis": "y"
        },
        {
         "alignmentgroup": "True",
         "hovertemplate": "Player Name=V.Tritten<br>SESSION_ID=%{x}<br>proba_pro=%{y}<extra></extra>",
         "legendgroup": "V.Tritten",
         "marker": {
          "color": "#19d3f3",
          "pattern": {
           "shape": ""
          }
         },
         "name": "V.Tritten",
         "offsetgroup": "V.Tritten",
         "orientation": "v",
         "showlegend": true,
         "textposition": "auto",
         "type": "bar",
         "x": [
          "Match 6 of M21",
          "Match 7 of M21",
          "Match 9 of M21",
          "Match 11 of M21",
          "Match 12 of M21",
          "Match 13 of M21",
          "Match 14 of M21",
          "Match 15 of M21",
          "Match 17 of M21",
          "Match 19 of M21",
          "Match 21 of M21",
          "Match 22 of M21",
          "Match 23 of M21",
          "Match 26 of M21",
          "Match 27 of M21",
          "Match 28 of M21",
          "Match 29 of M21",
          "Match 30 of M21",
          "Match 31 of M21",
          "Match 32 of M21",
          "Match 33 of M21",
          "Match 34 of M21",
          "Match 35 of M21",
          "Match 36 of M21",
          "Match 37 of M21",
          "Match 38 of M21",
          "Match 39 of M21"
         ],
         "xaxis": "x",
         "y": [
          0.0010091119608719025,
          0.0001345254407199165,
          0.0006388170145646949,
          0.0018192140593991544,
          0.0058006121164025275,
          0.00014295656206407886,
          0.00006288841453479939,
          0.151907663803837,
          0.0021246149843705845,
          0.008722321133646448,
          0.013013988209037687,
          0.0008065174375059734,
          0.0006296031107454701,
          0.03529819055663243,
          0.07225197351048092,
          0.0006874034259358707,
          0.008855552951672778,
          0.07570015409167079,
          0.398402716729849,
          0.0626193884389878,
          0.08295620231824387,
          0.0356431525240948,
          0.0689132927188647,
          0.32674967626518325,
          0.006173784758292,
          0.017714531822429817,
          0.01609912509814533
         ],
         "yaxis": "y"
        },
        {
         "alignmentgroup": "True",
         "hovertemplate": "Player Name=I.Kaloga<br>SESSION_ID=%{x}<br>proba_pro=%{y}<extra></extra>",
         "legendgroup": "I.Kaloga",
         "marker": {
          "color": "#FF6692",
          "pattern": {
           "shape": ""
          }
         },
         "name": "I.Kaloga",
         "offsetgroup": "I.Kaloga",
         "orientation": "v",
         "showlegend": true,
         "textposition": "auto",
         "type": "bar",
         "x": [
          "Match 13 of M21",
          "Match 14 of M21",
          "Match 15 of M21",
          "Match 16 of M21",
          "Match 17 of M21",
          "Match 18 of M21",
          "Match 20 of M21",
          "Match 21 of M21",
          "Match 22 of M21",
          "Match 23 of M21",
          "Match 24 of M21",
          "Match 25 of M21",
          "Match 26 of M21",
          "Match 27 of M21",
          "Match 28 of M21",
          "Match 29 of M21",
          "Match 30 of M21",
          "Match 32 of M21",
          "Match 33 of M21",
          "Match 35 of M21",
          "Match 36 of M21",
          "Match 37 of M21",
          "Match 38 of M21",
          "Match 39 of M21",
          "Match 40 of M21",
          "Match 41 of M21",
          "Match 42 of M21"
         ],
         "xaxis": "x",
         "y": [
          0.01153594756340794,
          0.013246517828993293,
          0.00005990020120457724,
          0.007768792712574442,
          0.15941626483254562,
          0.019053152881474168,
          0.023251888221196827,
          0.12668855265285034,
          0.013154538095714536,
          0.0070587836865556525,
          0.007959634245259545,
          0.00004929070808286539,
          0.006484955999000865,
          0.00043861337938518643,
          0.00011505782307682629,
          0.0031265656397181547,
          0.021325730070719848,
          0.4921238419095289,
          0.16132098909272014,
          0.0000627716271295507,
          0.0007781174462172624,
          0.0014122379928292786,
          0.05386905988879777,
          0.024488697090463352,
          0.0004573300951191147,
          0.00005572415149097217,
          0.08945787434389697
         ],
         "yaxis": "y"
        },
        {
         "alignmentgroup": "True",
         "hovertemplate": "Player Name=F.Annor-mensah<br>SESSION_ID=%{x}<br>proba_pro=%{y}<extra></extra>",
         "legendgroup": "F.Annor-mensah",
         "marker": {
          "color": "#B6E880",
          "pattern": {
           "shape": ""
          }
         },
         "name": "F.Annor-mensah",
         "offsetgroup": "F.Annor-mensah",
         "orientation": "v",
         "showlegend": true,
         "textposition": "auto",
         "type": "bar",
         "x": [
          "Match 13 of M21",
          "Match 14 of M21",
          "Match 15 of M21",
          "Match 16 of M21",
          "Match 17 of M21",
          "Match 25 of M21",
          "Match 26 of M21",
          "Match 27 of M21",
          "Match 28 of M21",
          "Match 31 of M21",
          "Match 36 of M21",
          "Match 37 of M21",
          "Match 38 of M21"
         ],
         "xaxis": "x",
         "y": [
          0.015070351049387172,
          0.0037314367592157765,
          0.026263950446632923,
          0.003788052858404688,
          0.2524592093578492,
          0.22041999827196188,
          0.12449969847885109,
          0.060866973501152714,
          0.000003675130546519775,
          0.12930871810992897,
          0.006741245138624904,
          0.015322300115871207,
          0.025027196159942967
         ],
         "yaxis": "y"
        },
        {
         "alignmentgroup": "True",
         "hovertemplate": "Player Name=T.Ouattara<br>SESSION_ID=%{x}<br>proba_pro=%{y}<extra></extra>",
         "legendgroup": "T.Ouattara",
         "marker": {
          "color": "#FF97FF",
          "pattern": {
           "shape": ""
          }
         },
         "name": "T.Ouattara",
         "offsetgroup": "T.Ouattara",
         "orientation": "v",
         "showlegend": true,
         "textposition": "auto",
         "type": "bar",
         "x": [
          "Match 14 of M21",
          "Match 15 of M21",
          "Match 16 of M21",
          "Match 19 of M21",
          "Match 20 of M21",
          "Match 21 of M21",
          "Match 22 of M21",
          "Match 23 of M21",
          "Match 32 of M21",
          "Match 33 of M21",
          "Match 34 of M21",
          "Match 40 of M21",
          "Match 41 of M21",
          "Match 42 of M21"
         ],
         "xaxis": "x",
         "y": [
          0.0020135645915244087,
          0.005270272361576551,
          0.1726391897088657,
          0.0020360819768198337,
          0.04408391065427772,
          0.0012435565099703865,
          0.009753803411760223,
          0.00001551861131645743,
          0.02632613934147877,
          0.00043686233101102,
          0.007655153345454578,
          0.07017967334558341,
          0.0025178778697296793,
          0.05237219282463614
         ],
         "yaxis": "y"
        },
        {
         "alignmentgroup": "True",
         "hovertemplate": "Player Name=B.Fofana<br>SESSION_ID=%{x}<br>proba_pro=%{y}<extra></extra>",
         "legendgroup": "B.Fofana",
         "marker": {
          "color": "#FECB52",
          "pattern": {
           "shape": ""
          }
         },
         "name": "B.Fofana",
         "offsetgroup": "B.Fofana",
         "orientation": "v",
         "showlegend": true,
         "textposition": "auto",
         "type": "bar",
         "x": [
          "Match 15 of M21",
          "Match 16 of M21",
          "Match 19 of M21",
          "Match 20 of M21",
          "Match 21 of M21"
         ],
         "xaxis": "x",
         "y": [
          0.7803149822929893,
          0.18310339837313572,
          0.3179452208876273,
          0.3956671209086302,
          0.31628173781418856
         ],
         "yaxis": "y"
        },
        {
         "alignmentgroup": "True",
         "hovertemplate": "Player Name=N.Henchoz<br>SESSION_ID=%{x}<br>proba_pro=%{y}<extra></extra>",
         "legendgroup": "N.Henchoz",
         "marker": {
          "color": "#636efa",
          "pattern": {
           "shape": ""
          }
         },
         "name": "N.Henchoz",
         "offsetgroup": "N.Henchoz",
         "orientation": "v",
         "showlegend": true,
         "textposition": "auto",
         "type": "bar",
         "x": [
          "Match 15 of M21",
          "Match 16 of M21",
          "Match 17 of M21",
          "Match 18 of M21",
          "Match 19 of M21",
          "Match 20 of M21",
          "Match 21 of M21",
          "Match 23 of M21",
          "Match 24 of M21"
         ],
         "xaxis": "x",
         "y": [
          0.05029987516565005,
          0.020736149875459634,
          0.5180915646716907,
          0.07087820920799795,
          0.02246635527033238,
          0.2216529004918039,
          0.1182168204104252,
          0.059190838626367155,
          0.04531620252590076
         ],
         "yaxis": "y"
        },
        {
         "alignmentgroup": "True",
         "hovertemplate": "Player Name=V.Berhami<br>SESSION_ID=%{x}<br>proba_pro=%{y}<extra></extra>",
         "legendgroup": "V.Berhami",
         "marker": {
          "color": "#EF553B",
          "pattern": {
           "shape": ""
          }
         },
         "name": "V.Berhami",
         "offsetgroup": "V.Berhami",
         "orientation": "v",
         "showlegend": true,
         "textposition": "auto",
         "type": "bar",
         "x": [
          "Match 17 of M21",
          "Match 18 of M21",
          "Match 19 of M21",
          "Match 20 of M21",
          "Match 21 of M21",
          "Match 23 of M21",
          "Match 25 of M21",
          "Match 26 of M21",
          "Match 27 of M21",
          "Match 29 of M21",
          "Match 31 of M21",
          "Match 32 of M21",
          "Match 34 of M21",
          "Match 35 of M21",
          "Match 36 of M21",
          "Match 38 of M21",
          "Match 39 of M21",
          "Match 40 of M21",
          "Match 41 of M21",
          "Match 42 of M21"
         ],
         "xaxis": "x",
         "y": [
          0.04568053320921998,
          0.004663075746899631,
          0.02235179136630845,
          0.005925164980519203,
          0.004303682781108345,
          0.021684008783980222,
          0.07935938942683636,
          0.3726161520619185,
          0.007482481186972853,
          0.5384151832822086,
          0.25859649021155023,
          0.29406424519981006,
          0.19238592150398426,
          0.5955264607892866,
          0.006865343882326846,
          0.20608354374724122,
          0.015341313392115122,
          0.11495347991257142,
          0.00011522921323585972,
          0.08043362291478703
         ],
         "yaxis": "y"
        },
        {
         "alignmentgroup": "True",
         "hovertemplate": "Player Name=H.Touati<br>SESSION_ID=%{x}<br>proba_pro=%{y}<extra></extra>",
         "legendgroup": "H.Touati",
         "marker": {
          "color": "#00cc96",
          "pattern": {
           "shape": ""
          }
         },
         "name": "H.Touati",
         "offsetgroup": "H.Touati",
         "orientation": "v",
         "showlegend": true,
         "textposition": "auto",
         "type": "bar",
         "x": [
          "Match 18 of M21",
          "Match 24 of M21"
         ],
         "xaxis": "x",
         "y": [
          0.002239013621000859,
          0.034197941560378864
         ],
         "yaxis": "y"
        },
        {
         "alignmentgroup": "True",
         "hovertemplate": "Player Name=A.Lyng<br>SESSION_ID=%{x}<br>proba_pro=%{y}<extra></extra>",
         "legendgroup": "A.Lyng",
         "marker": {
          "color": "#ab63fa",
          "pattern": {
           "shape": ""
          }
         },
         "name": "A.Lyng",
         "offsetgroup": "A.Lyng",
         "orientation": "v",
         "showlegend": true,
         "textposition": "auto",
         "type": "bar",
         "x": [
          "Match 21 of M21",
          "Match 22 of M21",
          "Match 23 of M21",
          "Match 31 of M21",
          "Match 32 of M21",
          "Match 33 of M21",
          "Match 36 of M21",
          "Match 37 of M21",
          "Match 38 of M21",
          "Match 42 of M21"
         ],
         "xaxis": "x",
         "y": [
          0.036908319089411376,
          0.000029364945907167513,
          0.000012641559361074606,
          0.000028443021848245966,
          0.005482187660118084,
          0.04118851363922114,
          0.0006947281575041733,
          0.0000021447612365645443,
          0.19069547664085654,
          0.01099396921538116
         ],
         "yaxis": "y"
        },
        {
         "alignmentgroup": "True",
         "hovertemplate": "Player Name=M.Diallo<br>SESSION_ID=%{x}<br>proba_pro=%{y}<extra></extra>",
         "legendgroup": "M.Diallo",
         "marker": {
          "color": "#FFA15A",
          "pattern": {
           "shape": ""
          }
         },
         "name": "M.Diallo",
         "offsetgroup": "M.Diallo",
         "orientation": "v",
         "showlegend": true,
         "textposition": "auto",
         "type": "bar",
         "x": [
          "Match 21 of M21",
          "Match 23 of M21"
         ],
         "xaxis": "x",
         "y": [
          0.5779754485834654,
          0.3329115519637929
         ],
         "yaxis": "y"
        },
        {
         "alignmentgroup": "True",
         "hovertemplate": "Player Name=R.Rodelin<br>SESSION_ID=%{x}<br>proba_pro=%{y}<extra></extra>",
         "legendgroup": "R.Rodelin",
         "marker": {
          "color": "#19d3f3",
          "pattern": {
           "shape": ""
          }
         },
         "name": "R.Rodelin",
         "offsetgroup": "R.Rodelin",
         "orientation": "v",
         "showlegend": true,
         "textposition": "auto",
         "type": "bar",
         "x": [
          "Match 21 of M21"
         ],
         "xaxis": "x",
         "y": [
          0.0182281757888502
         ],
         "yaxis": "y"
        },
        {
         "alignmentgroup": "True",
         "hovertemplate": "Player Name=R.Abdullah<br>SESSION_ID=%{x}<br>proba_pro=%{y}<extra></extra>",
         "legendgroup": "R.Abdullah",
         "marker": {
          "color": "#FF6692",
          "pattern": {
           "shape": ""
          }
         },
         "name": "R.Abdullah",
         "offsetgroup": "R.Abdullah",
         "orientation": "v",
         "showlegend": true,
         "textposition": "auto",
         "type": "bar",
         "x": [
          "Match 25 of M21",
          "Match 29 of M21",
          "Match 30 of M21",
          "Match 31 of M21",
          "Match 33 of M21",
          "Match 34 of M21",
          "Match 35 of M21",
          "Match 36 of M21",
          "Match 37 of M21",
          "Match 38 of M21",
          "Match 39 of M21",
          "Match 40 of M21",
          "Match 42 of M21"
         ],
         "xaxis": "x",
         "y": [
          0.8176598089898734,
          0.8177120482984668,
          0.004095738162906862,
          0.03261277490295604,
          0.8728273659082398,
          0.7213569555766103,
          0.846111389670529,
          0.6863945080200522,
          0.7151462678680905,
          0.026947788731856978,
          0.8418784884795829,
          0.318717695101052,
          0.6025935281595279
         ],
         "yaxis": "y"
        },
        {
         "alignmentgroup": "True",
         "hovertemplate": "Player Name=I.Petrisot<br>SESSION_ID=%{x}<br>proba_pro=%{y}<extra></extra>",
         "legendgroup": "I.Petrisot",
         "marker": {
          "color": "#B6E880",
          "pattern": {
           "shape": ""
          }
         },
         "name": "I.Petrisot",
         "offsetgroup": "I.Petrisot",
         "orientation": "v",
         "showlegend": true,
         "textposition": "auto",
         "type": "bar",
         "x": [
          "Match 25 of M21",
          "Match 29 of M21",
          "Match 30 of M21",
          "Match 31 of M21",
          "Match 33 of M21",
          "Match 35 of M21"
         ],
         "xaxis": "x",
         "y": [
          0.14564306757152545,
          0.01937843699208707,
          0.007790210545244077,
          0.01053153424350831,
          0.2506266669374389,
          0.3401825144703088
         ],
         "yaxis": "y"
        },
        {
         "alignmentgroup": "True",
         "hovertemplate": "Player Name=Y.Lahiouel<br>SESSION_ID=%{x}<br>proba_pro=%{y}<extra></extra>",
         "legendgroup": "Y.Lahiouel",
         "marker": {
          "color": "#FF97FF",
          "pattern": {
           "shape": ""
          }
         },
         "name": "Y.Lahiouel",
         "offsetgroup": "Y.Lahiouel",
         "orientation": "v",
         "showlegend": true,
         "textposition": "auto",
         "type": "bar",
         "x": [
          "Match 25 of M21",
          "Match 26 of M21",
          "Match 27 of M21",
          "Match 28 of M21",
          "Match 29 of M21",
          "Match 30 of M21",
          "Match 31 of M21",
          "Match 32 of M21",
          "Match 33 of M21",
          "Match 35 of M21",
          "Match 36 of M21",
          "Match 37 of M21",
          "Match 38 of M21",
          "Match 39 of M21",
          "Match 40 of M21",
          "Match 42 of M21"
         ],
         "xaxis": "x",
         "y": [
          0.036873714226834206,
          0.038940862098152035,
          0.016005998828784073,
          0.00035341092483846863,
          0.47411547724131287,
          0.008083703911249771,
          0.12204760730676294,
          0.2773457977579455,
          0.36860898604271036,
          0.6491175941316832,
          0.6439193735130837,
          0.05405521756227628,
          0.5548531910045384,
          0.002575566519308553,
          0.484927173419246,
          0.38618151956736047
         ],
         "yaxis": "y"
        },
        {
         "alignmentgroup": "True",
         "hovertemplate": "Player Name=N.Vlasenko<br>SESSION_ID=%{x}<br>proba_pro=%{y}<extra></extra>",
         "legendgroup": "N.Vlasenko",
         "marker": {
          "color": "#FECB52",
          "pattern": {
           "shape": ""
          }
         },
         "name": "N.Vlasenko",
         "offsetgroup": "N.Vlasenko",
         "orientation": "v",
         "showlegend": true,
         "textposition": "auto",
         "type": "bar",
         "x": [
          "Match 25 of M21",
          "Match 26 of M21",
          "Match 27 of M21",
          "Match 28 of M21",
          "Match 29 of M21",
          "Match 30 of M21",
          "Match 31 of M21",
          "Match 32 of M21",
          "Match 33 of M21",
          "Match 34 of M21",
          "Match 35 of M21",
          "Match 36 of M21",
          "Match 37 of M21",
          "Match 38 of M21",
          "Match 39 of M21",
          "Match 40 of M21",
          "Match 41 of M21",
          "Match 42 of M21"
         ],
         "xaxis": "x",
         "y": [
          0.0005705423779811786,
          0.3515014406631235,
          0.8473803827130327,
          0.08314563099763922,
          0.01849875501187713,
          0.3553935459100768,
          0.39637691704295047,
          0.2849787402744948,
          0.27962144327614763,
          0.5066294155169038,
          0.21606550603121802,
          0.20118569556121269,
          0.20641510746296354,
          0.4848219349653231,
          0.7165708530408467,
          0.11148935869972908,
          0.11818252749748302,
          0.2357083829964052
         ],
         "yaxis": "y"
        },
        {
         "alignmentgroup": "True",
         "hovertemplate": "Player Name=S.Baddy<br>SESSION_ID=%{x}<br>proba_pro=%{y}<extra></extra>",
         "legendgroup": "S.Baddy",
         "marker": {
          "color": "#636efa",
          "pattern": {
           "shape": ""
          }
         },
         "name": "S.Baddy",
         "offsetgroup": "S.Baddy",
         "orientation": "v",
         "showlegend": true,
         "textposition": "auto",
         "type": "bar",
         "x": [
          "Match 32 of M21",
          "Match 33 of M21",
          "Match 34 of M21",
          "Match 35 of M21",
          "Match 36 of M21",
          "Match 38 of M21",
          "Match 40 of M21",
          "Match 41 of M21",
          "Match 42 of M21"
         ],
         "xaxis": "x",
         "y": [
          0.7771410540154363,
          0.10593110619021787,
          0.5740313098531541,
          0.8036016365227758,
          0.002092118310031291,
          0.8602283559735973,
          0.8236899075990882,
          0.005124940760795161,
          0.007107851666494279
         ],
         "yaxis": "y"
        },
        {
         "alignmentgroup": "True",
         "hovertemplate": "Player Name=R.Gaud<br>SESSION_ID=%{x}<br>proba_pro=%{y}<extra></extra>",
         "legendgroup": "R.Gaud",
         "marker": {
          "color": "#EF553B",
          "pattern": {
           "shape": ""
          }
         },
         "name": "R.Gaud",
         "offsetgroup": "R.Gaud",
         "orientation": "v",
         "showlegend": true,
         "textposition": "auto",
         "type": "bar",
         "x": [
          "Match 1 of M19",
          "Match 4 of M19",
          "Match 5 of M19",
          "Match 6 of M19",
          "Match 7 of M19",
          "Match 9 of M19"
         ],
         "xaxis": "x",
         "y": [
          0.6041936792415612,
          0.10890258143591278,
          0.5668654517172604,
          0.6233526255380584,
          0.5007441067264868,
          0.10712025891097622
         ],
         "yaxis": "y"
        },
        {
         "alignmentgroup": "True",
         "hovertemplate": "Player Name=A.Selimi<br>SESSION_ID=%{x}<br>proba_pro=%{y}<extra></extra>",
         "legendgroup": "A.Selimi",
         "marker": {
          "color": "#00cc96",
          "pattern": {
           "shape": ""
          }
         },
         "name": "A.Selimi",
         "offsetgroup": "A.Selimi",
         "orientation": "v",
         "showlegend": true,
         "textposition": "auto",
         "type": "bar",
         "x": [
          "Match 1 of M19",
          "Match 3 of M19",
          "Match 4 of M19",
          "Match 5 of M19",
          "Match 6 of M19",
          "Match 7 of M19",
          "Match 8 of M19",
          "Match 9 of M19",
          "Match 11 of M19"
         ],
         "xaxis": "x",
         "y": [
          0.005248425622212628,
          0.0016566057841224406,
          0.4892041588955105,
          0.46995891913240756,
          0.008399456856113034,
          0.0006246141575102462,
          0.05124084831752414,
          0.4115496087540258,
          0.49357195331812126
         ],
         "yaxis": "y"
        },
        {
         "alignmentgroup": "True",
         "hovertemplate": "Player Name=M.Anselme<br>SESSION_ID=%{x}<br>proba_pro=%{y}<extra></extra>",
         "legendgroup": "M.Anselme",
         "marker": {
          "color": "#ab63fa",
          "pattern": {
           "shape": ""
          }
         },
         "name": "M.Anselme",
         "offsetgroup": "M.Anselme",
         "orientation": "v",
         "showlegend": true,
         "textposition": "auto",
         "type": "bar",
         "x": [
          "Match 1 of M19",
          "Match 2 of M19",
          "Match 3 of M19",
          "Match 4 of M19",
          "Match 5 of M19",
          "Match 6 of M19",
          "Match 7 of M19",
          "Match 11 of M19"
         ],
         "xaxis": "x",
         "y": [
          0.07379079242844916,
          0.061092498608467646,
          0.14907996713704014,
          0.006780202703141975,
          0.3904268367893661,
          0.005200725803802042,
          0.009232598404660909,
          0.00012080809563882161
         ],
         "yaxis": "y"
        },
        {
         "alignmentgroup": "True",
         "hovertemplate": "Player Name=R.Ouchard<br>SESSION_ID=%{x}<br>proba_pro=%{y}<extra></extra>",
         "legendgroup": "R.Ouchard",
         "marker": {
          "color": "#FFA15A",
          "pattern": {
           "shape": ""
          }
         },
         "name": "R.Ouchard",
         "offsetgroup": "R.Ouchard",
         "orientation": "v",
         "showlegend": true,
         "textposition": "auto",
         "type": "bar",
         "x": [
          "Match 1 of M19",
          "Match 2 of M19",
          "Match 8 of M19"
         ],
         "xaxis": "x",
         "y": [
          0.050421580641159175,
          0.025883191721536084,
          0.00044905637408428084
         ],
         "yaxis": "y"
        },
        {
         "alignmentgroup": "True",
         "hovertemplate": "Player Name=E.Tsimba<br>SESSION_ID=%{x}<br>proba_pro=%{y}<extra></extra>",
         "legendgroup": "E.Tsimba",
         "marker": {
          "color": "#19d3f3",
          "pattern": {
           "shape": ""
          }
         },
         "name": "E.Tsimba",
         "offsetgroup": "E.Tsimba",
         "orientation": "v",
         "showlegend": true,
         "textposition": "auto",
         "type": "bar",
         "x": [
          "Match 1 of M19",
          "Match 4 of M19",
          "Match 5 of M19",
          "Match 6 of M19",
          "Match 7 of M19",
          "Match 8 of M19",
          "Match 9 of M19"
         ],
         "xaxis": "x",
         "y": [
          0.04204704955979783,
          0.05752038927935008,
          0.04514654049000718,
          0.002072680010591775,
          0.00004109160927651342,
          0.008638409487868905,
          0.004726083214566474
         ],
         "yaxis": "y"
        },
        {
         "alignmentgroup": "True",
         "hovertemplate": "Player Name=I.Ouchard<br>SESSION_ID=%{x}<br>proba_pro=%{y}<extra></extra>",
         "legendgroup": "I.Ouchard",
         "marker": {
          "color": "#FF6692",
          "pattern": {
           "shape": ""
          }
         },
         "name": "I.Ouchard",
         "offsetgroup": "I.Ouchard",
         "orientation": "v",
         "showlegend": true,
         "textposition": "auto",
         "type": "bar",
         "x": [
          "Match 1 of M19",
          "Match 2 of M19",
          "Match 8 of M19"
         ],
         "xaxis": "x",
         "y": [
          0.008336124254079988,
          0.022752013345726047,
          0.0007849622162397259
         ],
         "yaxis": "y"
        },
        {
         "alignmentgroup": "True",
         "hovertemplate": "Player Name=M.Ishuayed<br>SESSION_ID=%{x}<br>proba_pro=%{y}<extra></extra>",
         "legendgroup": "M.Ishuayed",
         "marker": {
          "color": "#B6E880",
          "pattern": {
           "shape": ""
          }
         },
         "name": "M.Ishuayed",
         "offsetgroup": "M.Ishuayed",
         "orientation": "v",
         "showlegend": true,
         "textposition": "auto",
         "type": "bar",
         "x": [
          "Match 1 of M19",
          "Match 2 of M19",
          "Match 4 of M19",
          "Match 5 of M19",
          "Match 8 of M19",
          "Match 9 of M19",
          "Match 11 of M19"
         ],
         "xaxis": "x",
         "y": [
          0.00006247687791234284,
          0.00039465139356619053,
          0.00004479482610466349,
          0.0012950500564801763,
          0.00017363606891916098,
          0.00033959542725929705,
          0.019985259620773067
         ],
         "yaxis": "y"
        },
        {
         "alignmentgroup": "True",
         "hovertemplate": "Player Name=M.Batista<br>SESSION_ID=%{x}<br>proba_pro=%{y}<extra></extra>",
         "legendgroup": "M.Batista",
         "marker": {
          "color": "#FF97FF",
          "pattern": {
           "shape": ""
          }
         },
         "name": "M.Batista",
         "offsetgroup": "M.Batista",
         "orientation": "v",
         "showlegend": true,
         "textposition": "auto",
         "type": "bar",
         "x": [
          "Match 1 of M19",
          "Match 2 of M19",
          "Match 3 of M19",
          "Match 4 of M19",
          "Match 5 of M19",
          "Match 7 of M19",
          "Match 8 of M19"
         ],
         "xaxis": "x",
         "y": [
          0.05023520729926902,
          0.020031959361829995,
          0.011759563758478152,
          0.07832499793593468,
          0.0000022954697053900146,
          0.0011782290154857048,
          0.012439812614881899
         ],
         "yaxis": "y"
        },
        {
         "alignmentgroup": "True",
         "hovertemplate": "Player Name=L.Tafaj<br>SESSION_ID=%{x}<br>proba_pro=%{y}<extra></extra>",
         "legendgroup": "L.Tafaj",
         "marker": {
          "color": "#FECB52",
          "pattern": {
           "shape": ""
          }
         },
         "name": "L.Tafaj",
         "offsetgroup": "L.Tafaj",
         "orientation": "v",
         "showlegend": true,
         "textposition": "auto",
         "type": "bar",
         "x": [
          "Match 1 of M19",
          "Match 2 of M19",
          "Match 3 of M19",
          "Match 5 of M19",
          "Match 8 of M19",
          "Match 11 of M19"
         ],
         "xaxis": "x",
         "y": [
          0.6041936792415612,
          0.08497839665725158,
          0.1891691440282798,
          0.46840529856751434,
          0.02322267317573356,
          0.04848729668171548
         ],
         "yaxis": "y"
        },
        {
         "alignmentgroup": "True",
         "hovertemplate": "Player Name=K.Pereira<br>SESSION_ID=%{x}<br>proba_pro=%{y}<extra></extra>",
         "legendgroup": "K.Pereira",
         "marker": {
          "color": "#636efa",
          "pattern": {
           "shape": ""
          }
         },
         "name": "K.Pereira",
         "offsetgroup": "K.Pereira",
         "orientation": "v",
         "showlegend": true,
         "textposition": "auto",
         "type": "bar",
         "x": [
          "Match 2 of M19",
          "Match 3 of M19",
          "Match 4 of M19",
          "Match 5 of M19",
          "Match 6 of M19",
          "Match 7 of M19",
          "Match 8 of M19",
          "Match 9 of M19",
          "Match 11 of M19"
         ],
         "xaxis": "x",
         "y": [
          0.018412626793725514,
          0.13296139582458383,
          0.46165025634901663,
          0.2800882635643225,
          9.288325706592257e-7,
          0.3881579895966209,
          0.01144693121673542,
          0.20810375951944013,
          0.023920191339917327
         ],
         "yaxis": "y"
        },
        {
         "alignmentgroup": "True",
         "hovertemplate": "Player Name=N.Heller<br>SESSION_ID=%{x}<br>proba_pro=%{y}<extra></extra>",
         "legendgroup": "N.Heller",
         "marker": {
          "color": "#EF553B",
          "pattern": {
           "shape": ""
          }
         },
         "name": "N.Heller",
         "offsetgroup": "N.Heller",
         "orientation": "v",
         "showlegend": true,
         "textposition": "auto",
         "type": "bar",
         "x": [
          "Match 2 of M19",
          "Match 3 of M19",
          "Match 6 of M19",
          "Match 7 of M19",
          "Match 8 of M19",
          "Match 11 of M19"
         ],
         "xaxis": "x",
         "y": [
          0.07996240022034246,
          0.008873648890276888,
          0.6702072321200251,
          0.6666124309138217,
          0.1397333302605426,
          0.0006438456969706962
         ],
         "yaxis": "y"
        },
        {
         "alignmentgroup": "True",
         "hovertemplate": "Player Name=M.Miguel<br>SESSION_ID=%{x}<br>proba_pro=%{y}<extra></extra>",
         "legendgroup": "M.Miguel",
         "marker": {
          "color": "#00cc96",
          "pattern": {
           "shape": ""
          }
         },
         "name": "M.Miguel",
         "offsetgroup": "M.Miguel",
         "orientation": "v",
         "showlegend": true,
         "textposition": "auto",
         "type": "bar",
         "x": [
          "Match 2 of M19",
          "Match 3 of M19",
          "Match 6 of M19",
          "Match 8 of M19",
          "Match 9 of M19",
          "Match 11 of M19"
         ],
         "xaxis": "x",
         "y": [
          0.0019053758833184303,
          0.09342448492286709,
          0.05292094422690455,
          0.05395557109782829,
          0.0000752945759638092,
          0.05881393563252557
         ],
         "yaxis": "y"
        },
        {
         "alignmentgroup": "True",
         "hovertemplate": "Player Name=J.Fonseca costa<br>SESSION_ID=%{x}<br>proba_pro=%{y}<extra></extra>",
         "legendgroup": "J.Fonseca costa",
         "marker": {
          "color": "#ab63fa",
          "pattern": {
           "shape": ""
          }
         },
         "name": "J.Fonseca costa",
         "offsetgroup": "J.Fonseca costa",
         "orientation": "v",
         "showlegend": true,
         "textposition": "auto",
         "type": "bar",
         "x": [
          "Match 2 of M19",
          "Match 8 of M19",
          "Match 9 of M19"
         ],
         "xaxis": "x",
         "y": [
          0.0038623765471058826,
          0.006400541679626355,
          0.03512920462116393
         ],
         "yaxis": "y"
        },
        {
         "alignmentgroup": "True",
         "hovertemplate": "Player Name=K.Tologo<br>SESSION_ID=%{x}<br>proba_pro=%{y}<extra></extra>",
         "legendgroup": "K.Tologo",
         "marker": {
          "color": "#FFA15A",
          "pattern": {
           "shape": ""
          }
         },
         "name": "K.Tologo",
         "offsetgroup": "K.Tologo",
         "orientation": "v",
         "showlegend": true,
         "textposition": "auto",
         "type": "bar",
         "x": [
          "Match 3 of M19",
          "Match 4 of M19",
          "Match 5 of M19",
          "Match 6 of M19",
          "Match 7 of M19",
          "Match 8 of M19",
          "Match 9 of M19"
         ],
         "xaxis": "x",
         "y": [
          0.007516414427920781,
          0.03216414816031315,
          0.00001912305485545059,
          0.008377253177362539,
          0.0009299546745407631,
          0.0001020235908841395,
          0.0012706510726259131
         ],
         "yaxis": "y"
        },
        {
         "alignmentgroup": "True",
         "hovertemplate": "Player Name=R.Philippin<br>SESSION_ID=%{x}<br>proba_pro=%{y}<extra></extra>",
         "legendgroup": "R.Philippin",
         "marker": {
          "color": "#19d3f3",
          "pattern": {
           "shape": ""
          }
         },
         "name": "R.Philippin",
         "offsetgroup": "R.Philippin",
         "orientation": "v",
         "showlegend": true,
         "textposition": "auto",
         "type": "bar",
         "x": [
          "Match 3 of M19",
          "Match 4 of M19",
          "Match 6 of M19",
          "Match 7 of M19",
          "Match 8 of M19",
          "Match 11 of M19"
         ],
         "xaxis": "x",
         "y": [
          0.6100511937895097,
          0.6217093459818188,
          0.24323410443295151,
          0.14624349736908795,
          0.0104654877076651,
          0.24232328512812937
         ],
         "yaxis": "y"
        },
        {
         "alignmentgroup": "True",
         "hovertemplate": "Player Name=F.Ortiz<br>SESSION_ID=%{x}<br>proba_pro=%{y}<extra></extra>",
         "legendgroup": "F.Ortiz",
         "marker": {
          "color": "#FF6692",
          "pattern": {
           "shape": ""
          }
         },
         "name": "F.Ortiz",
         "offsetgroup": "F.Ortiz",
         "orientation": "v",
         "showlegend": true,
         "textposition": "auto",
         "type": "bar",
         "x": [
          "Match 3 of M19",
          "Match 5 of M19"
         ],
         "xaxis": "x",
         "y": [
          0.00003737752603708292,
          0.06564644660834763
         ],
         "yaxis": "y"
        },
        {
         "alignmentgroup": "True",
         "hovertemplate": "Player Name=L.Vilar<br>SESSION_ID=%{x}<br>proba_pro=%{y}<extra></extra>",
         "legendgroup": "L.Vilar",
         "marker": {
          "color": "#B6E880",
          "pattern": {
           "shape": ""
          }
         },
         "name": "L.Vilar",
         "offsetgroup": "L.Vilar",
         "orientation": "v",
         "showlegend": true,
         "textposition": "auto",
         "type": "bar",
         "x": [
          "Match 3 of M19",
          "Match 4 of M19",
          "Match 7 of M19",
          "Match 8 of M19",
          "Match 9 of M19"
         ],
         "xaxis": "x",
         "y": [
          0.00001589097586454516,
          0.00002750319197173317,
          0.00015396793497717467,
          0.0170382084005526,
          0.00014763485062826352
         ],
         "yaxis": "y"
        },
        {
         "alignmentgroup": "True",
         "hovertemplate": "Player Name=E.Januario<br>SESSION_ID=%{x}<br>proba_pro=%{y}<extra></extra>",
         "legendgroup": "E.Januario",
         "marker": {
          "color": "#FF97FF",
          "pattern": {
           "shape": ""
          }
         },
         "name": "E.Januario",
         "offsetgroup": "E.Januario",
         "orientation": "v",
         "showlegend": true,
         "textposition": "auto",
         "type": "bar",
         "x": [
          "Match 4 of M19"
         ],
         "xaxis": "x",
         "y": [
          1.7691239834903843e-7
         ],
         "yaxis": "y"
        },
        {
         "alignmentgroup": "True",
         "hovertemplate": "Player Name=E.Salihu<br>SESSION_ID=%{x}<br>proba_pro=%{y}<extra></extra>",
         "legendgroup": "E.Salihu",
         "marker": {
          "color": "#FECB52",
          "pattern": {
           "shape": ""
          }
         },
         "name": "E.Salihu",
         "offsetgroup": "E.Salihu",
         "orientation": "v",
         "showlegend": true,
         "textposition": "auto",
         "type": "bar",
         "x": [
          "Match 7 of M19",
          "Match 8 of M19"
         ],
         "xaxis": "x",
         "y": [
          0.0011420517277883745,
          0.031637591277574574
         ],
         "yaxis": "y"
        },
        {
         "alignmentgroup": "True",
         "hovertemplate": "Player Name=D.Trillo<br>SESSION_ID=%{x}<br>proba_pro=%{y}<extra></extra>",
         "legendgroup": "D.Trillo",
         "marker": {
          "color": "#636efa",
          "pattern": {
           "shape": ""
          }
         },
         "name": "D.Trillo",
         "offsetgroup": "D.Trillo",
         "orientation": "v",
         "showlegend": true,
         "textposition": "auto",
         "type": "bar",
         "x": [
          "Match 10 of M19",
          "Match 12 of M19"
         ],
         "xaxis": "x",
         "y": [
          0.022618769381269943,
          0.010800032110887358
         ],
         "yaxis": "y"
        }
       ],
       "layout": {
        "barmode": "relative",
        "legend": {
         "title": {
          "text": "Player Name"
         },
         "tracegroupgap": 0
        },
        "template": {
         "data": {
          "bar": [
           {
            "error_x": {
             "color": "#2a3f5f"
            },
            "error_y": {
             "color": "#2a3f5f"
            },
            "marker": {
             "line": {
              "color": "#E5ECF6",
              "width": 0.5
             },
             "pattern": {
              "fillmode": "overlay",
              "size": 10,
              "solidity": 0.2
             }
            },
            "type": "bar"
           }
          ],
          "barpolar": [
           {
            "marker": {
             "line": {
              "color": "#E5ECF6",
              "width": 0.5
             },
             "pattern": {
              "fillmode": "overlay",
              "size": 10,
              "solidity": 0.2
             }
            },
            "type": "barpolar"
           }
          ],
          "carpet": [
           {
            "aaxis": {
             "endlinecolor": "#2a3f5f",
             "gridcolor": "white",
             "linecolor": "white",
             "minorgridcolor": "white",
             "startlinecolor": "#2a3f5f"
            },
            "baxis": {
             "endlinecolor": "#2a3f5f",
             "gridcolor": "white",
             "linecolor": "white",
             "minorgridcolor": "white",
             "startlinecolor": "#2a3f5f"
            },
            "type": "carpet"
           }
          ],
          "choropleth": [
           {
            "colorbar": {
             "outlinewidth": 0,
             "ticks": ""
            },
            "type": "choropleth"
           }
          ],
          "contour": [
           {
            "colorbar": {
             "outlinewidth": 0,
             "ticks": ""
            },
            "colorscale": [
             [
              0,
              "#0d0887"
             ],
             [
              0.1111111111111111,
              "#46039f"
             ],
             [
              0.2222222222222222,
              "#7201a8"
             ],
             [
              0.3333333333333333,
              "#9c179e"
             ],
             [
              0.4444444444444444,
              "#bd3786"
             ],
             [
              0.5555555555555556,
              "#d8576b"
             ],
             [
              0.6666666666666666,
              "#ed7953"
             ],
             [
              0.7777777777777778,
              "#fb9f3a"
             ],
             [
              0.8888888888888888,
              "#fdca26"
             ],
             [
              1,
              "#f0f921"
             ]
            ],
            "type": "contour"
           }
          ],
          "contourcarpet": [
           {
            "colorbar": {
             "outlinewidth": 0,
             "ticks": ""
            },
            "type": "contourcarpet"
           }
          ],
          "heatmap": [
           {
            "colorbar": {
             "outlinewidth": 0,
             "ticks": ""
            },
            "colorscale": [
             [
              0,
              "#0d0887"
             ],
             [
              0.1111111111111111,
              "#46039f"
             ],
             [
              0.2222222222222222,
              "#7201a8"
             ],
             [
              0.3333333333333333,
              "#9c179e"
             ],
             [
              0.4444444444444444,
              "#bd3786"
             ],
             [
              0.5555555555555556,
              "#d8576b"
             ],
             [
              0.6666666666666666,
              "#ed7953"
             ],
             [
              0.7777777777777778,
              "#fb9f3a"
             ],
             [
              0.8888888888888888,
              "#fdca26"
             ],
             [
              1,
              "#f0f921"
             ]
            ],
            "type": "heatmap"
           }
          ],
          "heatmapgl": [
           {
            "colorbar": {
             "outlinewidth": 0,
             "ticks": ""
            },
            "colorscale": [
             [
              0,
              "#0d0887"
             ],
             [
              0.1111111111111111,
              "#46039f"
             ],
             [
              0.2222222222222222,
              "#7201a8"
             ],
             [
              0.3333333333333333,
              "#9c179e"
             ],
             [
              0.4444444444444444,
              "#bd3786"
             ],
             [
              0.5555555555555556,
              "#d8576b"
             ],
             [
              0.6666666666666666,
              "#ed7953"
             ],
             [
              0.7777777777777778,
              "#fb9f3a"
             ],
             [
              0.8888888888888888,
              "#fdca26"
             ],
             [
              1,
              "#f0f921"
             ]
            ],
            "type": "heatmapgl"
           }
          ],
          "histogram": [
           {
            "marker": {
             "pattern": {
              "fillmode": "overlay",
              "size": 10,
              "solidity": 0.2
             }
            },
            "type": "histogram"
           }
          ],
          "histogram2d": [
           {
            "colorbar": {
             "outlinewidth": 0,
             "ticks": ""
            },
            "colorscale": [
             [
              0,
              "#0d0887"
             ],
             [
              0.1111111111111111,
              "#46039f"
             ],
             [
              0.2222222222222222,
              "#7201a8"
             ],
             [
              0.3333333333333333,
              "#9c179e"
             ],
             [
              0.4444444444444444,
              "#bd3786"
             ],
             [
              0.5555555555555556,
              "#d8576b"
             ],
             [
              0.6666666666666666,
              "#ed7953"
             ],
             [
              0.7777777777777778,
              "#fb9f3a"
             ],
             [
              0.8888888888888888,
              "#fdca26"
             ],
             [
              1,
              "#f0f921"
             ]
            ],
            "type": "histogram2d"
           }
          ],
          "histogram2dcontour": [
           {
            "colorbar": {
             "outlinewidth": 0,
             "ticks": ""
            },
            "colorscale": [
             [
              0,
              "#0d0887"
             ],
             [
              0.1111111111111111,
              "#46039f"
             ],
             [
              0.2222222222222222,
              "#7201a8"
             ],
             [
              0.3333333333333333,
              "#9c179e"
             ],
             [
              0.4444444444444444,
              "#bd3786"
             ],
             [
              0.5555555555555556,
              "#d8576b"
             ],
             [
              0.6666666666666666,
              "#ed7953"
             ],
             [
              0.7777777777777778,
              "#fb9f3a"
             ],
             [
              0.8888888888888888,
              "#fdca26"
             ],
             [
              1,
              "#f0f921"
             ]
            ],
            "type": "histogram2dcontour"
           }
          ],
          "mesh3d": [
           {
            "colorbar": {
             "outlinewidth": 0,
             "ticks": ""
            },
            "type": "mesh3d"
           }
          ],
          "parcoords": [
           {
            "line": {
             "colorbar": {
              "outlinewidth": 0,
              "ticks": ""
             }
            },
            "type": "parcoords"
           }
          ],
          "pie": [
           {
            "automargin": true,
            "type": "pie"
           }
          ],
          "scatter": [
           {
            "fillpattern": {
             "fillmode": "overlay",
             "size": 10,
             "solidity": 0.2
            },
            "type": "scatter"
           }
          ],
          "scatter3d": [
           {
            "line": {
             "colorbar": {
              "outlinewidth": 0,
              "ticks": ""
             }
            },
            "marker": {
             "colorbar": {
              "outlinewidth": 0,
              "ticks": ""
             }
            },
            "type": "scatter3d"
           }
          ],
          "scattercarpet": [
           {
            "marker": {
             "colorbar": {
              "outlinewidth": 0,
              "ticks": ""
             }
            },
            "type": "scattercarpet"
           }
          ],
          "scattergeo": [
           {
            "marker": {
             "colorbar": {
              "outlinewidth": 0,
              "ticks": ""
             }
            },
            "type": "scattergeo"
           }
          ],
          "scattergl": [
           {
            "marker": {
             "colorbar": {
              "outlinewidth": 0,
              "ticks": ""
             }
            },
            "type": "scattergl"
           }
          ],
          "scattermapbox": [
           {
            "marker": {
             "colorbar": {
              "outlinewidth": 0,
              "ticks": ""
             }
            },
            "type": "scattermapbox"
           }
          ],
          "scatterpolar": [
           {
            "marker": {
             "colorbar": {
              "outlinewidth": 0,
              "ticks": ""
             }
            },
            "type": "scatterpolar"
           }
          ],
          "scatterpolargl": [
           {
            "marker": {
             "colorbar": {
              "outlinewidth": 0,
              "ticks": ""
             }
            },
            "type": "scatterpolargl"
           }
          ],
          "scatterternary": [
           {
            "marker": {
             "colorbar": {
              "outlinewidth": 0,
              "ticks": ""
             }
            },
            "type": "scatterternary"
           }
          ],
          "surface": [
           {
            "colorbar": {
             "outlinewidth": 0,
             "ticks": ""
            },
            "colorscale": [
             [
              0,
              "#0d0887"
             ],
             [
              0.1111111111111111,
              "#46039f"
             ],
             [
              0.2222222222222222,
              "#7201a8"
             ],
             [
              0.3333333333333333,
              "#9c179e"
             ],
             [
              0.4444444444444444,
              "#bd3786"
             ],
             [
              0.5555555555555556,
              "#d8576b"
             ],
             [
              0.6666666666666666,
              "#ed7953"
             ],
             [
              0.7777777777777778,
              "#fb9f3a"
             ],
             [
              0.8888888888888888,
              "#fdca26"
             ],
             [
              1,
              "#f0f921"
             ]
            ],
            "type": "surface"
           }
          ],
          "table": [
           {
            "cells": {
             "fill": {
              "color": "#EBF0F8"
             },
             "line": {
              "color": "white"
             }
            },
            "header": {
             "fill": {
              "color": "#C8D4E3"
             },
             "line": {
              "color": "white"
             }
            },
            "type": "table"
           }
          ]
         },
         "layout": {
          "annotationdefaults": {
           "arrowcolor": "#2a3f5f",
           "arrowhead": 0,
           "arrowwidth": 1
          },
          "autotypenumbers": "strict",
          "coloraxis": {
           "colorbar": {
            "outlinewidth": 0,
            "ticks": ""
           }
          },
          "colorscale": {
           "diverging": [
            [
             0,
             "#8e0152"
            ],
            [
             0.1,
             "#c51b7d"
            ],
            [
             0.2,
             "#de77ae"
            ],
            [
             0.3,
             "#f1b6da"
            ],
            [
             0.4,
             "#fde0ef"
            ],
            [
             0.5,
             "#f7f7f7"
            ],
            [
             0.6,
             "#e6f5d0"
            ],
            [
             0.7,
             "#b8e186"
            ],
            [
             0.8,
             "#7fbc41"
            ],
            [
             0.9,
             "#4d9221"
            ],
            [
             1,
             "#276419"
            ]
           ],
           "sequential": [
            [
             0,
             "#0d0887"
            ],
            [
             0.1111111111111111,
             "#46039f"
            ],
            [
             0.2222222222222222,
             "#7201a8"
            ],
            [
             0.3333333333333333,
             "#9c179e"
            ],
            [
             0.4444444444444444,
             "#bd3786"
            ],
            [
             0.5555555555555556,
             "#d8576b"
            ],
            [
             0.6666666666666666,
             "#ed7953"
            ],
            [
             0.7777777777777778,
             "#fb9f3a"
            ],
            [
             0.8888888888888888,
             "#fdca26"
            ],
            [
             1,
             "#f0f921"
            ]
           ],
           "sequentialminus": [
            [
             0,
             "#0d0887"
            ],
            [
             0.1111111111111111,
             "#46039f"
            ],
            [
             0.2222222222222222,
             "#7201a8"
            ],
            [
             0.3333333333333333,
             "#9c179e"
            ],
            [
             0.4444444444444444,
             "#bd3786"
            ],
            [
             0.5555555555555556,
             "#d8576b"
            ],
            [
             0.6666666666666666,
             "#ed7953"
            ],
            [
             0.7777777777777778,
             "#fb9f3a"
            ],
            [
             0.8888888888888888,
             "#fdca26"
            ],
            [
             1,
             "#f0f921"
            ]
           ]
          },
          "colorway": [
           "#636efa",
           "#EF553B",
           "#00cc96",
           "#ab63fa",
           "#FFA15A",
           "#19d3f3",
           "#FF6692",
           "#B6E880",
           "#FF97FF",
           "#FECB52"
          ],
          "font": {
           "color": "#2a3f5f"
          },
          "geo": {
           "bgcolor": "white",
           "lakecolor": "white",
           "landcolor": "#E5ECF6",
           "showlakes": true,
           "showland": true,
           "subunitcolor": "white"
          },
          "hoverlabel": {
           "align": "left"
          },
          "hovermode": "closest",
          "mapbox": {
           "style": "light"
          },
          "paper_bgcolor": "white",
          "plot_bgcolor": "#E5ECF6",
          "polar": {
           "angularaxis": {
            "gridcolor": "white",
            "linecolor": "white",
            "ticks": ""
           },
           "bgcolor": "#E5ECF6",
           "radialaxis": {
            "gridcolor": "white",
            "linecolor": "white",
            "ticks": ""
           }
          },
          "scene": {
           "xaxis": {
            "backgroundcolor": "#E5ECF6",
            "gridcolor": "white",
            "gridwidth": 2,
            "linecolor": "white",
            "showbackground": true,
            "ticks": "",
            "zerolinecolor": "white"
           },
           "yaxis": {
            "backgroundcolor": "#E5ECF6",
            "gridcolor": "white",
            "gridwidth": 2,
            "linecolor": "white",
            "showbackground": true,
            "ticks": "",
            "zerolinecolor": "white"
           },
           "zaxis": {
            "backgroundcolor": "#E5ECF6",
            "gridcolor": "white",
            "gridwidth": 2,
            "linecolor": "white",
            "showbackground": true,
            "ticks": "",
            "zerolinecolor": "white"
           }
          },
          "shapedefaults": {
           "line": {
            "color": "#2a3f5f"
           }
          },
          "ternary": {
           "aaxis": {
            "gridcolor": "white",
            "linecolor": "white",
            "ticks": ""
           },
           "baxis": {
            "gridcolor": "white",
            "linecolor": "white",
            "ticks": ""
           },
           "bgcolor": "#E5ECF6",
           "caxis": {
            "gridcolor": "white",
            "linecolor": "white",
            "ticks": ""
           }
          },
          "title": {
           "x": 0.05
          },
          "xaxis": {
           "automargin": true,
           "gridcolor": "white",
           "linecolor": "white",
           "ticks": "",
           "title": {
            "standoff": 15
           },
           "zerolinecolor": "white",
           "zerolinewidth": 2
          },
          "yaxis": {
           "automargin": true,
           "gridcolor": "white",
           "linecolor": "white",
           "ticks": "",
           "title": {
            "standoff": 15
           },
           "zerolinecolor": "white",
           "zerolinewidth": 2
          }
         }
        },
        "title": {
         "text": "Performance by Match and Player"
        },
        "xaxis": {
         "anchor": "y",
         "domain": [
          0,
          1
         ],
         "title": {
          "text": "SESSION_ID"
         }
        },
        "yaxis": {
         "anchor": "x",
         "domain": [
          0,
          1
         ],
         "title": {
          "text": "proba_pro"
         }
        }
       }
      }
     },
     "metadata": {},
     "output_type": "display_data"
    }
   ],
   "source": [
    "import plotly.express as px\n",
    "import pandas as pd\n",
    "\n",
    "# Créer le bar plot avec Plotly Express \n",
    "# sorting par proba_pro\n",
    "fig = px.bar(\n",
    "    data,\n",
    "    x='SESSION_ID',\n",
    "    y='proba_pro',\n",
    "    color='PLAYER_NAME',\n",
    "    labels={\n",
    "        'performance': 'Performance',\n",
    "        'MATCH_ID': 'Match ID',\n",
    "        'PLAYER_NAME': 'Player Name'\n",
    "    },\n",
    "    title='Performance by Match and Player'\n",
    ")\n",
    "\n",
    "fig.show()\n"
   ]
  },
  {
   "cell_type": "code",
   "execution_count": 250,
   "metadata": {},
   "outputs": [
    {
     "data": {
      "application/vnd.plotly.v1+json": {
       "config": {
        "plotlyServerURL": "https://plot.ly"
       },
       "data": [
        {
         "alignmentgroup": "True",
         "hovertemplate": "Team ID=Servette PRO<br>Player Name=%{x}<br>Probability (proba_pro)=%{y}<extra></extra>",
         "legendgroup": "Servette PRO",
         "marker": {
          "color": "#636efa"
         },
         "name": "Servette PRO",
         "notched": false,
         "offsetgroup": "Servette PRO",
         "orientation": "v",
         "showlegend": true,
         "type": "box",
         "x": [
          "S.Rouiller",
          "B.Mazikou",
          "Y.Severin",
          "A.Antunes",
          "T.Cognat",
          "D.Douline",
          "E.Crivelli",
          "K.Tsunemoto",
          "E.Crivelli",
          "Y.Severin",
          "A.Antunes",
          "T.Cognat",
          "J.Guillemenot",
          "S.Rouiller",
          "D.Douline",
          "A.Baron",
          "K.Tsunemoto",
          "B.Mazikou",
          "D.Kutesa",
          "Y.Severin",
          "A.Antunes",
          "T.Cognat",
          "B.Mazikou",
          "D.Douline",
          "S.Rouiller",
          "S.Rouiller",
          "G.Ondoua",
          "D.Kutesa",
          "E.Crivelli",
          "J.Guillemenot",
          "D.Douline",
          "Y.Severin",
          "A.Baron",
          "D.Douline",
          "J.Guillemenot",
          "T.Cognat",
          "Y.Severin",
          "B.Mazikou",
          "S.Rouiller",
          "J.Guillemenot",
          "T.Cognat",
          "E.Crivelli",
          "D.Douline",
          "G.Ondoua",
          "S.Rouiller",
          "A.Baron",
          "D.Kutesa",
          "G.Ondoua",
          "J.Guillemenot",
          "B.Mazikou",
          "Y.Severin",
          "E.Crivelli",
          "S.Rouiller",
          "T.Cognat",
          "S.Lele diba",
          "M.Stevanovic",
          "T.Cognat",
          "J.Guillemenot",
          "D.Douline",
          "A.Baron",
          "E.Crivelli",
          "B.Mazikou",
          "A.Baron",
          "S.Rouiller",
          "B.Mazikou",
          "D.Kutesa",
          "E.Crivelli",
          "Y.Severin",
          "T.Cognat",
          "J.Guillemenot",
          "E.Crivelli",
          "G.Ondoua",
          "T.Cognat",
          "D.Douline",
          "S.Rouiller",
          "A.Baron",
          "Y.Severin",
          "D.Kutesa",
          "B.Mazikou",
          "T.Cognat",
          "S.Rouiller",
          "M.Stevanovic",
          "A.Antunes",
          "Y.Severin",
          "D.Douline",
          "T.Cognat",
          "D.Douline",
          "S.Rouiller",
          "M.Stevanovic",
          "Y.Severin",
          "A.Antunes",
          "B.Mazikou",
          "A.Baron",
          "T.Cognat",
          "A.Antunes",
          "Y.Severin",
          "E.Crivelli",
          "G.Ondoua",
          "M.Stevanovic",
          "S.Rouiller",
          "D.Kutesa",
          "T.Cognat",
          "E.Crivelli",
          "D.Kutesa",
          "G.Ondoua",
          "B.Mazikou",
          "M.Stevanovic",
          "S.Rouiller",
          "Y.Severin",
          "D.Douline",
          "J.Guillemenot",
          "T.Cognat",
          "K.Tsunemoto",
          "Y.Severin",
          "B.Mazikou",
          "M.Stevanovic",
          "A.Antunes",
          "T.Cognat",
          "E.Crivelli",
          "Y.Severin",
          "A.Antunes",
          "K.Tsunemoto",
          "J.Guillemenot",
          "B.Mazikou",
          "M.Stevanovic",
          "G.Ondoua",
          "K.Tsunemoto",
          "T.Cognat",
          "A.Antunes",
          "Y.Severin",
          "E.Crivelli",
          "B.Mazikou",
          "M.Stevanovic",
          "D.Douline",
          "Y.Severin",
          "B.Mazikou",
          "M.Stevanovic",
          "D.Kutesa",
          "S.Rouiller",
          "K.Tsunemoto",
          "T.Cognat",
          "A.Antunes",
          "D.Douline",
          "D.Douline",
          "E.Crivelli",
          "M.Stevanovic",
          "B.Mazikou",
          "G.Ondoua",
          "J.Guillemenot",
          "A.Antunes",
          "Y.Severin",
          "G.Ondoua",
          "M.Stevanovic",
          "B.Mazikou",
          "S.Rouiller",
          "Y.Severin",
          "A.Antunes",
          "T.Cognat",
          "K.Tsunemoto",
          "D.Douline",
          "B.Mazikou",
          "M.Stevanovic",
          "S.Rouiller",
          "E.Crivelli",
          "S.Lele diba",
          "K.Tsunemoto",
          "T.Magnin",
          "T.Cognat",
          "J.Guillemenot",
          "G.Ondoua",
          "S.Rouiller",
          "T.Cognat",
          "D.Douline",
          "Y.Severin",
          "K.Tsunemoto",
          "D.Kutesa",
          "G.Ondoua",
          "B.Mazikou",
          "M.Stevanovic",
          "T.Cognat",
          "T.Magnin",
          "Y.Severin",
          "E.Crivelli",
          "D.Kutesa",
          "G.Ondoua",
          "M.Stevanovic",
          "S.Rouiller",
          "B.Mazikou",
          "S.Rouiller",
          "B.Mazikou",
          "D.Kutesa",
          "E.Crivelli",
          "S.Lele diba",
          "Y.Severin",
          "K.Tsunemoto",
          "J.Guillemenot",
          "T.Cognat",
          "A.Baron",
          "J.Guillemenot",
          "K.Tsunemoto",
          "Y.Severin",
          "D.Kutesa",
          "G.Ondoua",
          "S.Rouiller",
          "T.Cognat",
          "G.Ondoua",
          "M.Stevanovic",
          "S.Rouiller",
          "T.Cognat",
          "K.Tsunemoto",
          "Y.Severin",
          "A.Baron",
          "S.Rouiller",
          "M.Stevanovic",
          "B.Mazikou",
          "G.Ondoua",
          "D.Kutesa",
          "Y.Severin",
          "A.Antunes",
          "T.Cognat",
          "K.Tsunemoto",
          "J.Guillemenot",
          "A.Baron",
          "K.Tsunemoto",
          "T.Cognat",
          "Y.Severin",
          "D.Kutesa",
          "G.Ondoua",
          "M.Stevanovic",
          "S.Rouiller",
          "S.Lele diba",
          "M.Stevanovic",
          "G.Ondoua",
          "T.Magnin",
          "A.Antunes",
          "T.Cognat",
          "K.Tsunemoto",
          "A.Baron",
          "Y.Severin",
          "A.Antunes",
          "K.Tsunemoto",
          "T.Cognat",
          "G.Ondoua",
          "D.Kutesa",
          "B.Mazikou",
          "M.Stevanovic",
          "S.Rouiller",
          "Y.Severin",
          "D.Kutesa",
          "B.Mazikou",
          "M.Stevanovic",
          "S.Rouiller",
          "Y.Severin",
          "T.Magnin",
          "A.Antunes",
          "T.Cognat",
          "K.Tsunemoto",
          "J.Guillemenot",
          "D.Kutesa",
          "G.Ondoua",
          "B.Mazikou",
          "M.Stevanovic",
          "S.Rouiller",
          "Y.Severin",
          "A.Antunes",
          "T.Cognat",
          "K.Tsunemoto",
          "J.Guillemenot",
          "A.Antunes",
          "T.Magnin",
          "Y.Severin",
          "E.Crivelli",
          "D.Kutesa",
          "G.Ondoua",
          "T.Cognat",
          "K.Tsunemoto",
          "J.Guillemenot",
          "S.Rouiller",
          "B.Mazikou",
          "K.Tsunemoto",
          "T.Cognat",
          "A.Antunes",
          "Y.Severin",
          "E.Crivelli",
          "G.Ondoua",
          "B.Mazikou",
          "S.Rouiller",
          "K.Tsunemoto",
          "T.Cognat",
          "A.Antunes",
          "T.Magnin",
          "Y.Severin",
          "D.Kutesa",
          "G.Ondoua",
          "B.Mazikou",
          "S.Rouiller",
          "B.Mazikou",
          "M.Stevanovic",
          "J.Guillemenot",
          "K.Tsunemoto",
          "A.Antunes",
          "T.Cognat",
          "Y.Severin",
          "E.Crivelli",
          "G.Ondoua",
          "T.Magnin",
          "A.Antunes",
          "J.Guillemenot",
          "K.Tsunemoto",
          "T.Cognat",
          "M.Stevanovic",
          "B.Mazikou",
          "G.Ondoua",
          "D.Kutesa",
          "D.Bronn",
          "S.Rouiller",
          "Y.Severin",
          "M.Stevanovic",
          "K.Tsunemoto",
          "S.Rouiller",
          "T.Cognat",
          "T.Magnin",
          "E.Crivelli",
          "G.Ondoua",
          "B.Mazikou",
          "A.Antunes",
          "S.Rouiller",
          "M.Stevanovic",
          "B.Mazikou",
          "G.Ondoua",
          "D.Kutesa",
          "Y.Severin",
          "A.Antunes",
          "T.Cognat",
          "K.Tsunemoto",
          "M.Stevanovic",
          "A.Baron",
          "G.Ondoua",
          "Y.Severin",
          "T.Magnin",
          "T.Cognat",
          "J.Guillemenot",
          "D.Bronn",
          "A.Antunes",
          "M.Stevanovic",
          "S.Rouiller",
          "G.Ondoua",
          "D.Kutesa",
          "E.Crivelli",
          "T.Magnin",
          "B.Mazikou",
          "T.Cognat",
          "K.Tsunemoto",
          "D.Bronn",
          "A.Antunes",
          "G.Ondoua",
          "D.Kutesa",
          "E.Crivelli",
          "Y.Severin",
          "T.Magnin",
          "S.Lele diba",
          "K.Tsunemoto",
          "J.Guillemenot",
          "M.Stevanovic",
          "S.Rouiller",
          "J.Guillemenot",
          "T.Cognat",
          "A.Antunes",
          "Y.Severin",
          "D.Kutesa",
          "G.Ondoua",
          "B.Mazikou",
          "M.Stevanovic",
          "S.Rouiller",
          "K.Tsunemoto",
          "S.Rouiller",
          "M.Stevanovic",
          "B.Mazikou",
          "D.Kutesa",
          "G.Ondoua",
          "Y.Severin",
          "A.Antunes",
          "T.Cognat",
          "K.Tsunemoto",
          "S.Rouiller",
          "M.Stevanovic",
          "B.Mazikou",
          "G.Ondoua",
          "K.Tsunemoto",
          "T.Cognat",
          "A.Antunes",
          "Y.Severin",
          "D.Bronn",
          "D.Douline",
          "T.Cognat",
          "A.Antunes",
          "S.Rouiller",
          "M.Stevanovic",
          "B.Mazikou",
          "E.Crivelli",
          "T.Magnin",
          "S.Rouiller",
          "M.Stevanovic",
          "B.Mazikou",
          "G.Ondoua",
          "E.Crivelli",
          "A.Antunes",
          "Y.Severin",
          "T.Cognat",
          "K.Tsunemoto",
          "J.Guillemenot",
          "A.Baron",
          "K.Tsunemoto",
          "T.Cognat",
          "A.Antunes",
          "Y.Severin",
          "D.Kutesa",
          "G.Ondoua",
          "B.Mazikou",
          "M.Stevanovic",
          "S.Rouiller",
          "S.Rouiller",
          "M.Stevanovic",
          "B.Mazikou",
          "D.Kutesa",
          "Y.Severin",
          "T.Cognat",
          "A.Antunes",
          "D.Bronn",
          "K.Tsunemoto",
          "Y.Severin",
          "K.Tsunemoto",
          "D.Bronn",
          "T.Cognat",
          "B.Mazikou",
          "M.Stevanovic",
          "S.Rouiller",
          "M.Stevanovic",
          "S.Rouiller",
          "E.Crivelli",
          "Y.Severin",
          "A.Antunes",
          "T.Cognat",
          "K.Tsunemoto",
          "D.Douline",
          "D.Bronn",
          "J.Guillemenot",
          "K.Tsunemoto",
          "T.Magnin",
          "A.Antunes",
          "Y.Severin",
          "M.Stevanovic",
          "S.Rouiller",
          "T.Cognat",
          "S.Rouiller",
          "Y.Severin",
          "T.Magnin",
          "A.Antunes",
          "T.Cognat",
          "M.Stevanovic",
          "J.Guillemenot",
          "D.Douline",
          "A.Baron",
          "D.Bronn",
          "D.Douline",
          "J.Guillemenot",
          "K.Tsunemoto",
          "T.Magnin",
          "G.Ondoua",
          "B.Mazikou",
          "M.Stevanovic",
          "T.Cognat",
          "S.Rouiller",
          "T.Magnin",
          "B.Mazikou",
          "G.Ondoua",
          "Y.Severin",
          "T.Cognat",
          "J.Guillemenot",
          "D.Bronn",
          "K.Tsunemoto",
          "M.Stevanovic"
         ],
         "x0": " ",
         "xaxis": "x",
         "y": [
          0.9388269675515871,
          0.9973665903314812,
          0.9481985403185901,
          0.9998442947687136,
          0.9963456024793285,
          0.5911317683419585,
          0.9994037719703505,
          0.9452686820099495,
          0.9268062563025898,
          0.7940049893810606,
          0.7844069086054517,
          0.6465626286150176,
          0.9559430551806748,
          0.7671262090114603,
          0.8436252841614591,
          0.9924106518060634,
          0.704796810482504,
          0.9250991224788002,
          0.8802549251948653,
          0.8354646328828779,
          0.9997376375571015,
          0.84211456292141,
          0.9766830062590303,
          0.6172572131421105,
          0.6991976093506183,
          0.5726162491372112,
          0.7845431017577461,
          0.9344821966990124,
          0.8140031457636046,
          0.9189655007711794,
          0.8269322825114729,
          0.47477356561469897,
          0.8405940751699118,
          0.09645109448509254,
          0.9962954160509944,
          0.4278224938727327,
          0.9802903950971696,
          0.960662265558168,
          0.9778532585764244,
          0.6997735094169215,
          0.9885713832928807,
          0.9716642705441745,
          0.6153493226303797,
          0.9238718322824506,
          0.9880994233357908,
          0.9739944211407047,
          0.9791686943283571,
          0.43336647144244833,
          0.9985911004903705,
          0.4614582088337629,
          0.4021833234494368,
          0.825569027054787,
          0.8279239506021703,
          0.9903664765199914,
          0.848879371567718,
          0.20868920412770128,
          0.9980581323042764,
          0.9686979005603853,
          0.9597800851634821,
          0.9238885775210789,
          0.6455294286065508,
          0.7476489513570814,
          0.9795300955065336,
          0.9203689183117009,
          0.9491307431772342,
          0.5999042232354044,
          0.3978585285838446,
          0.8473230755045531,
          0.6054131467303068,
          0.7335275261267127,
          0.9685111213292115,
          0.6284350339791148,
          0.514304727435629,
          0.8683097284237907,
          0.4667924456717979,
          0.914301925562865,
          0.8375205305841469,
          0.9945981168478566,
          0.9431850486551652,
          0.916489477085389,
          0.9878091696135228,
          0.8302251953227963,
          0.87903057785262,
          0.796103827084744,
          0.9866035908988441,
          0.8163781387228548,
          0.4479083700586614,
          0.978649137672521,
          0.9049042646227425,
          0.9878236566096747,
          0.8536792650324484,
          0.9922075834099291,
          0.5396422620510258,
          0.9992955262855365,
          0.8183156420589796,
          0.48613780067717566,
          0.9836678905278621,
          0.8411496369962848,
          0.9958226548004119,
          0.999818624289952,
          0.9889675629818978,
          0.859383513173216,
          0.7102105273935548,
          0.9146837464856604,
          0.8884563643595965,
          0.9235327282591408,
          0.9854501541160419,
          0.4230884504421842,
          0.8152604550569033,
          0.6362749478398255,
          0.024528005378744104,
          0.9906880584403764,
          0.9857207954498354,
          0.9535782593131037,
          0.967504498800011,
          0.12422522336601227,
          0.9351401718818758,
          0.9898338994199477,
          0.7037680961504413,
          0.8729262089058608,
          0.9549054781136563,
          0.9980770933176718,
          0.9869869219132152,
          0.6340697354794714,
          0.8742587372799348,
          0.5961244778016724,
          0.9286306605416361,
          0.6906578263331267,
          0.9853704755287661,
          0.8456000659831375,
          0.9986766192074604,
          0.7805703317793417,
          0.9957385985731763,
          0.9818020783701399,
          0.948415736553941,
          0.7524283805029739,
          0.8015043325516469,
          0.9654690901913355,
          0.9652902190518245,
          0.9329089133057845,
          0.9776821747826941,
          0.9987631064590519,
          0.9788537785183283,
          0.9773408321218471,
          0.7269750880633699,
          0.9854441796645148,
          0.9101002695088093,
          0.9328492850524132,
          0.7894620184801234,
          0.9998615498581997,
          0.9248985545629287,
          0.9918039608488304,
          0.823055419488139,
          0.9620827539511655,
          0.9916882834502863,
          0.8348556473239881,
          0.9905298374250131,
          0.929678061701996,
          0.9908940131341719,
          0.05099790271744594,
          0.9702878599947311,
          0.9686784839345243,
          0.9954598752218268,
          0.8817721219626163,
          0.9469109741389218,
          0.994173825391623,
          0.10268585005154073,
          0.5856256676547592,
          0.9867367873665502,
          0.99259481169024,
          0.8596879295615703,
          0.9255783335454876,
          0.9928624971969371,
          0.9429229405126042,
          0.9821978999842071,
          0.9798249162657431,
          0.17762942006673113,
          0.9789608226595691,
          0.997537461739572,
          0.39496314084639744,
          0.1383651560413177,
          0.9058719138709972,
          0.4868144199587121,
          0.6613511495873544,
          0.5648810385407549,
          0.695192998329064,
          0.8499847718772187,
          0.9823510965280767,
          0.8652988295460151,
          0.9409234500274487,
          0.8899441998032598,
          0.1795639108751617,
          0.9366742703936947,
          0.45360219630124554,
          0.9274064971772398,
          0.9900699759670089,
          0.9586976585076811,
          0.6863857647590587,
          0.6848100048351883,
          0.9974895319495852,
          0.5745991308384921,
          0.6540133404281478,
          0.7458809869549815,
          0.9354297153429568,
          0.9470605186100326,
          0.6225139061504396,
          0.9783428291495758,
          0.8921009067981205,
          0.8287284471373295,
          0.9976495282283778,
          0.9305338021639024,
          0.8322411408370002,
          0.9411480723739957,
          0.9999262521784605,
          0.9895342666744754,
          0.9731272501162027,
          0.9994600468251499,
          0.9257545512799357,
          0.8134402129974653,
          0.568692082133213,
          0.9429633478853694,
          0.9949841779674814,
          0.6415600308806221,
          0.967033856063435,
          0.038231359867795196,
          0.7595576586071454,
          0.9758898506873454,
          0.8334329067142883,
          0.6439419538102332,
          0.640818669496448,
          0.975736424149437,
          0.7091687521015125,
          0.37710976903513777,
          0.624906135696078,
          0.5161168059667793,
          0.9858373515405415,
          0.001534361496862147,
          0.9325346417462648,
          0.6907278524192171,
          0.785898328930858,
          0.9965684975467517,
          0.360311390609958,
          0.6889169202687182,
          0.42790655585872484,
          0.6149250967770377,
          0.7855641997382454,
          0.5604810661077069,
          0.4024525781512998,
          0.9794283583243527,
          0.9604890029726475,
          0.9537797284080194,
          0.9451594768171295,
          0.9164102691476876,
          0.9011495034139567,
          0.9997224445900291,
          0.9751933669778781,
          0.9956127687492141,
          0.9886897999071226,
          0.8544302523467547,
          0.9210139146959241,
          0.9567289516291825,
          0.9523897617577995,
          0.9889109126033584,
          0.6777244409911932,
          0.996001395646886,
          0.5365849352524638,
          0.9394202702870021,
          0.9288659809631494,
          0.4179257006961773,
          0.999399389810545,
          0.8546593982116734,
          0.9918936569193141,
          0.9856441995589589,
          0.906774257826774,
          0.9950791691317844,
          0.9146037417258799,
          0.9999220385180979,
          0.8974950321846188,
          0.9915535626815836,
          0.7482392305033649,
          0.5747697406164654,
          0.5651331652159758,
          0.9749194174122326,
          0.9045058291508353,
          0.07361831166563136,
          0.8895101977683324,
          0.9942332063018178,
          0.8512392912012378,
          0.749179228745691,
          0.9442063213690524,
          0.2446716717911368,
          0.9675378542897435,
          0.9881083053421739,
          0.35016077328197287,
          0.9369466878523677,
          0.35776765321733195,
          0.5405415860502983,
          0.9836254371020887,
          0.7825299040730286,
          0.9860837997533792,
          0.9863498795189289,
          0.1837534502674172,
          0.8661786717608708,
          0.9951986679813124,
          0.7271766291428431,
          0.6447853802862823,
          0.9727152050142398,
          0.9823818207950937,
          0.792554131841033,
          0.31521357477132994,
          0.9843881037346216,
          0.950316754557994,
          0.9646284015071608,
          0.9594530744435824,
          0.2646951886024474,
          0.8924887016313052,
          0.8085795174545347,
          0.9737995336044473,
          0.9905641809230189,
          0.9239748862292365,
          0.9932442240988674,
          0.9698693985842485,
          0.9964965607978854,
          0.006374248391898862,
          0.00007442992543722383,
          0.8065498443774007,
          0.9962541200193451,
          0.9937906207463953,
          0.9967295083458484,
          0.960676997055868,
          0.9997464348052432,
          0.8994858986371737,
          0.9999757164543108,
          0.8282023176769985,
          0.9047975945884152,
          0.9771214750724035,
          0.8019973519653448,
          0.9458123682262339,
          0.9244126337478614,
          0.9833423509448311,
          0.9906630543806233,
          0.809701685243706,
          0.9976479248329763,
          0.9960524307276858,
          0.8146855403218846,
          0.9701785114728579,
          0.404425222593953,
          0.7166122172910804,
          0.8693833257640173,
          0.737855165047726,
          0.9745436382135111,
          0.6578179078967271,
          0.9964244671360907,
          0.7486349406315804,
          0.9979423604396174,
          0.7671067655469591,
          0.9983686054833125,
          0.9882423313702139,
          0.975868564338499,
          0.9190959820989395,
          0.847646312147462,
          0.44533273859659755,
          0.9966892224024813,
          0.9934611561765386,
          0.9095518220610523,
          0.999988755743565,
          0.9618395856506112,
          0.9999750744430372,
          0.9585770128999209,
          0.9920380942127038,
          0.8947880867410908,
          0.9361541789286669,
          0.9999876704420089,
          0.9860459792319898,
          0.9991373922742173,
          0.9856778223528994,
          0.10395718269583185,
          0.9989885315465276,
          0.9987349537249681,
          0.9713785050964567,
          0.9704710134944706,
          0.9933173895854868,
          0.593395814211459,
          0.9995546418359411,
          0.9168874334562968,
          0.837487064579161,
          0.9972647882352668,
          0.7236730273295169,
          0.9992324351079185,
          0.1871973187301973,
          0.555056883593056,
          0.611727781670799,
          0.7768891679000869,
          0.9927608210126618,
          0.1449181140245487,
          0.848849827523265,
          0.9914753463132471,
          0.7607029011955809,
          0.411404594554509,
          0.2901980355181916,
          0.9796337906681417,
          0.9946060527936352,
          0.9161447411501787,
          0.4731816050560504,
          0.5719572015857922,
          0.9832100586858066,
          0.9990308399416158,
          0.9904876462791607,
          0.9271909041934769,
          0.8027186345282666,
          0.9994791534164247,
          0.9954085410964744,
          0.9486414231497131,
          0.0254439104249135,
          0.968996679982205,
          0.9923278416331303,
          0.9502056783902496,
          0.6892054132016348,
          0.9436998372121186,
          0.9509662077985496,
          0.999240643727327,
          0.8140725632421544,
          0.9682886220890959,
          0.9984537344474217,
          0.6509882853968131,
          0.9676660887805528,
          0.9666876121093771,
          0.9989700592595885,
          0.9353492717617323,
          0.9523355052870807,
          0.5950576086260067,
          0.980989247605166,
          0.9817414438524065,
          0.04463757222408101,
          0.9673648631077545,
          0.9270225901816591,
          0.8038304910558526,
          0.4237875521416453,
          0.9752369562781341,
          0.7728199473750034,
          0.7722945056929612,
          0.9935481574818654,
          0.9992366567039352,
          0.9924155581292989,
          0.9865613093730625,
          0.8289434764258145,
          0.562176353258152,
          0.9991058181439024,
          0.06083165320116568,
          0.8848951005236275,
          0.8442743086317431,
          0.999051698133922,
          0.9845312122358153,
          0.8904267031268308,
          0.7008655456413001,
          0.6708082288431306,
          0.9892295002744494,
          0.9306777226947729,
          0.8218639197026513,
          0.8416791047073011,
          0.9468349141760887,
          0.998569052661264,
          0.9798666431284021,
          0.9713622928467922,
          0.9991023656423285,
          0.045496482056162434,
          0.859227319610436,
          0.9976321704822316,
          0.9167686530148124,
          0.9997566720237796,
          0.9996464704394655,
          0.9660796614093953,
          0.9951789415408098,
          0.7279144913293519,
          0.8377176775576727,
          0.6841071396097851,
          0.8824798582238866,
          0.998118070066099,
          0.985178345440532,
          0.9715568094165351,
          0.7738508445193075,
          0.9837017507713584
         ],
         "y0": " ",
         "yaxis": "y"
        },
        {
         "alignmentgroup": "True",
         "hovertemplate": "Team ID=M21<br>Player Name=%{x}<br>Probability (proba_pro)=%{y}<extra></extra>",
         "legendgroup": "M21",
         "marker": {
          "color": "#EF553B"
         },
         "name": "M21",
         "notched": false,
         "offsetgroup": "M21",
         "orientation": "v",
         "showlegend": true,
         "type": "box",
         "x": [
          "J.Simo",
          "P.Weber",
          "O.Sene",
          "A.Salihi",
          "M.Rizvanovic",
          "R.Guillaume",
          "M.Leclercq",
          "L.Scandurra",
          "L.Srdanovic",
          "L.Zuka",
          "L.Sestito",
          "A.Dias patricio",
          "M.Clavel",
          "A.Mhoumadi",
          "O.Daf",
          "S.Fankhauser",
          "L.Ndema",
          "C.Routis",
          "R.Benammar",
          "O.Sene",
          "M.Clavel",
          "C.Routis",
          "R.Benammar",
          "S.Fankhauser",
          "O.Daf",
          "P.Weber",
          "A.Dias patricio",
          "L.Ndema",
          "L.Zuka",
          "L.Sestito",
          "J.Simo",
          "A.Salihi",
          "M.Rizvanovic",
          "M.Leclercq",
          "L.Srdanovic",
          "R.Guillaume",
          "L.Sestito",
          "L.Srdanovic",
          "L.Zuka",
          "C.Routis",
          "L.Ndema",
          "M.Rizvanovic",
          "O.Daf",
          "P.Weber",
          "O.Sene",
          "J.Simo",
          "L.Srdanovic",
          "L.Scandurra",
          "A.Salihi",
          "L.Zuka",
          "L.Sestito",
          "A.Dias patricio",
          "J.Simo",
          "C.Routis",
          "O.Sene",
          "P.Weber",
          "J.Simo",
          "A.Mhoumadi",
          "V.Tritten",
          "L.Sestito",
          "L.Ndema",
          "L.Zuka",
          "C.Routis",
          "V.Tritten",
          "L.Ndema",
          "C.Routis",
          "A.Mhoumadi",
          "A.Dias patricio",
          "L.Zuka",
          "M.Leclercq",
          "R.Guillaume",
          "M.Rizvanovic",
          "J.Simo",
          "L.Srdanovic",
          "L.Scandurra",
          "J.Simo",
          "O.Sene",
          "R.Guillaume",
          "L.Srdanovic",
          "A.Mhoumadi",
          "C.Routis",
          "O.Daf",
          "V.Tritten",
          "P.Weber",
          "R.Benammar",
          "L.Scandurra",
          "A.Salihi",
          "P.Weber",
          "V.Tritten",
          "M.Rizvanovic",
          "J.Simo",
          "L.Sestito",
          "A.Mhoumadi",
          "C.Routis",
          "L.Srdanovic",
          "P.Weber",
          "J.Simo",
          "M.Rizvanovic",
          "L.Srdanovic",
          "L.Sestito",
          "A.Mhoumadi",
          "C.Routis",
          "S.Fankhauser",
          "V.Tritten",
          "O.Sene",
          "P.Weber",
          "S.Fankhauser",
          "L.Ndema",
          "C.Routis",
          "A.Mhoumadi",
          "O.Sene",
          "I.Kaloga",
          "L.Sestito",
          "L.Scandurra",
          "J.Simo",
          "V.Tritten",
          "F.Annor-mensah",
          "O.Daf",
          "I.Kaloga",
          "S.Fankhauser",
          "C.Routis",
          "J.Simo",
          "M.Rizvanovic",
          "L.Zuka",
          "T.Ouattara",
          "P.Weber",
          "V.Tritten",
          "F.Annor-mensah",
          "L.Ndema",
          "T.Ouattara",
          "B.Fofana",
          "P.Weber",
          "V.Tritten",
          "O.Daf",
          "F.Annor-mensah",
          "N.Henchoz",
          "C.Routis",
          "I.Kaloga",
          "S.Lele diba",
          "L.Zuka",
          "M.Rizvanovic",
          "J.Simo",
          "L.Zuka",
          "L.Ndema",
          "J.Simo",
          "M.Rizvanovic",
          "I.Kaloga",
          "C.Routis",
          "O.Sene",
          "N.Henchoz",
          "F.Annor-mensah",
          "O.Daf",
          "P.Weber",
          "B.Fofana",
          "T.Ouattara",
          "O.Sene",
          "P.Weber",
          "V.Tritten",
          "F.Annor-mensah",
          "N.Henchoz",
          "C.Routis",
          "L.Srdanovic",
          "M.Rizvanovic",
          "I.Kaloga",
          "V.Berhami",
          "A.Mhoumadi",
          "A.Dias patricio",
          "L.Ndema",
          "O.Sene",
          "P.Weber",
          "S.Fankhauser",
          "N.Henchoz",
          "H.Touati",
          "V.Berhami",
          "A.Dias patricio",
          "I.Kaloga",
          "J.Simo",
          "L.Zuka",
          "O.Sene",
          "T.Ouattara",
          "B.Fofana",
          "P.Weber",
          "V.Tritten",
          "C.Routis",
          "N.Henchoz",
          "L.Ndema",
          "J.Simo",
          "L.Scandurra",
          "V.Berhami",
          "S.Fankhauser",
          "O.Sene",
          "B.Fofana",
          "S.Lele diba",
          "A.Dias patricio",
          "I.Kaloga",
          "T.Ouattara",
          "V.Berhami",
          "L.Ndema",
          "N.Henchoz",
          "S.Fankhauser",
          "P.Weber",
          "J.Simo",
          "A.Lyng",
          "P.Weber",
          "M.Diallo",
          "T.Ouattara",
          "B.Fofana",
          "V.Tritten",
          "N.Henchoz",
          "S.Fankhauser",
          "V.Berhami",
          "I.Kaloga",
          "R.Rodelin",
          "S.Fankhauser",
          "R.Benammar",
          "P.Weber",
          "A.Dias patricio",
          "I.Kaloga",
          "C.Routis",
          "V.Tritten",
          "O.Sene",
          "T.Ouattara",
          "A.Lyng",
          "J.Simo",
          "M.Rizvanovic",
          "L.Zuka",
          "I.Kaloga",
          "V.Berhami",
          "N.Henchoz",
          "P.Weber",
          "O.Daf",
          "V.Tritten",
          "T.Ouattara",
          "S.Fankhauser",
          "J.Simo",
          "M.Diallo",
          "A.Lyng",
          "O.Sene",
          "L.Zuka",
          "I.Kaloga",
          "T.Magnin",
          "R.Benammar",
          "H.Touati",
          "N.Henchoz",
          "S.Fankhauser",
          "P.Weber",
          "O.Sene",
          "M.Leclercq",
          "J.Simo",
          "R.Abdullah",
          "O.Sene",
          "P.Weber",
          "J.Simo",
          "M.Rizvanovic",
          "M.Leclercq",
          "L.Scandurra",
          "I.Petrisot",
          "R.Guillaume",
          "L.Zuka",
          "Y.Lahiouel",
          "N.Vlasenko",
          "S.Fankhauser",
          "R.Benammar",
          "F.Annor-mensah",
          "V.Berhami",
          "I.Kaloga",
          "L.Sestito",
          "C.Routis",
          "N.Vlasenko",
          "Y.Lahiouel",
          "V.Tritten",
          "P.Weber",
          "O.Sene",
          "V.Berhami",
          "O.Daf",
          "J.Simo",
          "M.Rizvanovic",
          "M.Clavel",
          "M.Leclercq",
          "R.Guillaume",
          "I.Kaloga",
          "F.Annor-mensah",
          "S.Fankhauser",
          "R.Benammar",
          "C.Routis",
          "L.Sestito",
          "L.Zuka",
          "P.Weber",
          "R.Guillaume",
          "M.Leclercq",
          "L.Zuka",
          "I.Kaloga",
          "V.Berhami",
          "M.Rizvanovic",
          "S.Fankhauser",
          "F.Annor-mensah",
          "O.Daf",
          "N.Vlasenko",
          "Y.Lahiouel",
          "V.Tritten",
          "O.Sene",
          "C.Routis",
          "J.Simo",
          "O.Sene",
          "P.Weber",
          "L.Sestito",
          "J.Simo",
          "M.Leclercq",
          "L.Zuka",
          "A.Dias patricio",
          "I.Kaloga",
          "S.Fankhauser",
          "F.Annor-mensah",
          "N.Vlasenko",
          "Y.Lahiouel",
          "V.Tritten",
          "J.Simo",
          "I.Petrisot",
          "L.Sestito",
          "I.Kaloga",
          "V.Berhami",
          "S.Fankhauser",
          "N.Vlasenko",
          "Y.Lahiouel",
          "R.Abdullah",
          "V.Tritten",
          "C.Routis",
          "O.Sene",
          "L.Sestito",
          "V.Tritten",
          "R.Abdullah",
          "Y.Lahiouel",
          "N.Vlasenko",
          "S.Fankhauser",
          "I.Kaloga",
          "L.Zuka",
          "I.Petrisot",
          "J.Simo",
          "R.Guillaume",
          "J.Simo",
          "V.Berhami",
          "I.Petrisot",
          "R.Abdullah",
          "Y.Lahiouel",
          "N.Vlasenko",
          "V.Tritten",
          "F.Annor-mensah",
          "S.Fankhauser",
          "A.Lyng",
          "A.Lyng",
          "V.Tritten",
          "T.Ouattara",
          "Y.Lahiouel",
          "N.Vlasenko",
          "S.Baddy",
          "S.Fankhauser",
          "I.Kaloga",
          "S.Lele diba",
          "J.Simo",
          "V.Berhami",
          "J.Simo",
          "L.Scandurra",
          "I.Petrisot",
          "L.Sestito",
          "I.Kaloga",
          "A.Lyng",
          "S.Baddy",
          "N.Vlasenko",
          "Y.Lahiouel",
          "R.Abdullah",
          "V.Tritten",
          "T.Ouattara",
          "O.Sene",
          "S.Fankhauser",
          "V.Tritten",
          "R.Abdullah",
          "N.Vlasenko",
          "S.Baddy",
          "S.Fankhauser",
          "V.Berhami",
          "L.Sestito",
          "M.Leclercq",
          "J.Simo",
          "O.Sene",
          "T.Ouattara",
          "O.Sene",
          "V.Tritten",
          "J.Simo",
          "I.Petrisot",
          "L.Sestito",
          "I.Kaloga",
          "V.Berhami",
          "S.Lele diba",
          "S.Baddy",
          "N.Vlasenko",
          "Y.Lahiouel",
          "R.Abdullah",
          "S.Fankhauser",
          "V.Tritten",
          "Y.Lahiouel",
          "N.Vlasenko",
          "S.Baddy",
          "F.Annor-mensah",
          "S.Fankhauser",
          "I.Kaloga",
          "S.Lele diba",
          "L.Sestito",
          "M.Leclercq",
          "A.Lyng",
          "R.Abdullah",
          "V.Berhami",
          "O.Sene",
          "A.Lyng",
          "L.Zuka",
          "I.Kaloga",
          "F.Annor-mensah",
          "S.Fankhauser",
          "Y.Lahiouel",
          "R.Abdullah",
          "V.Tritten",
          "O.Sene",
          "M.Rizvanovic",
          "J.Simo",
          "N.Vlasenko",
          "A.Lyng",
          "M.Leclercq",
          "L.Zuka",
          "L.Sestito",
          "I.Kaloga",
          "O.Sene",
          "C.Routis",
          "S.Fankhauser",
          "F.Annor-mensah",
          "S.Baddy",
          "N.Vlasenko",
          "V.Berhami",
          "V.Tritten",
          "R.Abdullah",
          "Y.Lahiouel",
          "Y.Lahiouel",
          "J.Simo",
          "S.Lele diba",
          "I.Kaloga",
          "V.Berhami",
          "S.Fankhauser",
          "V.Tritten",
          "R.Abdullah",
          "N.Vlasenko",
          "O.Sene",
          "M.Rizvanovic",
          "J.Simo",
          "N.Vlasenko",
          "L.Sestito",
          "O.Sene",
          "R.Abdullah",
          "Y.Lahiouel",
          "S.Baddy",
          "T.Ouattara",
          "V.Berhami",
          "I.Kaloga",
          "S.Lele diba",
          "C.Routis",
          "J.Simo",
          "L.Sestito",
          "I.Kaloga",
          "V.Berhami",
          "S.Fankhauser",
          "S.Baddy",
          "N.Vlasenko",
          "T.Ouattara",
          "O.Sene",
          "T.Ouattara",
          "Y.Lahiouel",
          "N.Vlasenko",
          "S.Baddy",
          "R.Abdullah",
          "M.Clavel",
          "V.Berhami",
          "I.Kaloga",
          "A.Dias patricio",
          "L.Sestito",
          "M.Rizvanovic",
          "J.Simo",
          "A.Lyng"
         ],
         "x0": " ",
         "xaxis": "x",
         "y": [
          0.936966318767658,
          0.23384470690796488,
          0.014926358605178311,
          0.9422095643140455,
          0.3392445670907518,
          0.8477338824063053,
          0.18944608614729866,
          0.2626337143377651,
          0.6635027992790388,
          0.2460682869538276,
          0.9864799669174811,
          0.5556301260845742,
          0.06934127505582612,
          0.2747616305940092,
          0.4430957204994873,
          0.000928677673233943,
          0.6723001038838449,
          0.3145401382408867,
          0.1744149873164725,
          0.00014811576281492547,
          0.01859519312706493,
          0.3218785668833992,
          0.02033847202253456,
          0.0026333131577889204,
          0.023772139010831302,
          0.2948961225858207,
          0.17359307040226915,
          0.010165680144262572,
          0.005521491811672186,
          0.00007084221874031933,
          0.00023844745472803512,
          0.862946973716702,
          0.026744651649116238,
          0.04651546864113596,
          0.655363057217574,
          0.4680722327032135,
          0.006660553749384957,
          0.01483619042944306,
          0.00009314471425213095,
          0.0015130127628399557,
          0.000008020713584853544,
          0.16891996276332474,
          0.000011100498980808453,
          0.0006961596973678793,
          0.0016534077402585278,
          0.9126097638234335,
          0.7258663101778464,
          0.8028272953797783,
          0.5526438600727022,
          0.000044558600493548064,
          0.06963421461677749,
          0.001169379946651548,
          0.004345516184310921,
          0.0030895121170866784,
          0.0002983118844476203,
          0.06824687381098857,
          0.1109127783598998,
          0.0005722361733686441,
          0.0010091119608719025,
          0.001897968204950583,
          0.006705193561450488,
          0.0010225309074545273,
          0.03491019827309713,
          0.0001345254407199165,
          0.0013197114681340926,
          0.4024104208237711,
          0.02968776652453926,
          0.004052680421626026,
          0.005489441328426162,
          0.19844203080230977,
          0.029376008415963505,
          0.08389278317948345,
          0.09646918776427445,
          0.00005212639639519609,
          0.008816258755429126,
          0.1281641503331229,
          0.00005490503426399718,
          0.03645717651589858,
          0.013117694682338626,
          0.007295956952939935,
          0.024567679174713274,
          0.0011787828294175838,
          0.0006388170145646949,
          0.00559872361077294,
          0.06694865834044644,
          0.04937016502524247,
          0.048813639088399606,
          0.002458121069071798,
          0.0018192140593991544,
          0.19089747281210623,
          0.7864853893122643,
          0.014408046673280286,
          0.0018114791320415133,
          0.15152502902526171,
          0.024607190612879724,
          0.70289350119884,
          0.005113662895685676,
          0.00018813372627606072,
          0.0009831966402693404,
          0.027298362492354428,
          0.0006719319509994975,
          0.026669667114505694,
          0.00021078342170350413,
          0.0058006121164025275,
          0.0019422935100145977,
          0.0002846827853242861,
          0.0042732790231444,
          0.01356436811675559,
          0.14427474988222955,
          0.1489010905913358,
          0.0005652356891346396,
          0.01153594756340794,
          0.04344535158243863,
          0.21767704744275437,
          0.4187107942260094,
          0.00014295656206407886,
          0.015070351049387172,
          0.08457670358004064,
          0.013246517828993293,
          0.025291480709425298,
          0.000473789973682104,
          0.10989389872100509,
          0.037853209573653956,
          0.0006520546229942133,
          0.0020135645915244087,
          0.00030506129493624066,
          0.00006288841453479939,
          0.0037314367592157765,
          0.003223466456355513,
          0.005270272361576551,
          0.7803149822929893,
          0.02530870995384939,
          0.151907663803837,
          0.03752802342480539,
          0.026263950446632923,
          0.05029987516565005,
          0.03569526582363912,
          0.00005990020120457724,
          0.036583431209031375,
          0.5128202750004888,
          0.09535090586117514,
          0.17823932310148438,
          0.021309604877585736,
          0.00017605598203751188,
          0.07637210967120626,
          0.003142359415618064,
          0.007768792712574442,
          0.028003963910337645,
          0.002124052516665523,
          0.020736149875459634,
          0.003788052858404688,
          0.013736707702397615,
          0.0004045773920505234,
          0.18310339837313572,
          0.1726391897088657,
          0.002326707322080187,
          0.023239213943661106,
          0.0021246149843705845,
          0.2524592093578492,
          0.5180915646716907,
          0.02699809498275499,
          0.0000438875457533464,
          0.5123043537110377,
          0.15941626483254562,
          0.04568053320921998,
          0.18546195318618097,
          0.0021514690317587085,
          0.0006146095190107924,
          0.008205959502087102,
          0.011634148276733973,
          0.03005899842406832,
          0.07087820920799795,
          0.002239013621000859,
          0.004663075746899631,
          0.026009092620672795,
          0.019053152881474168,
          0.16193661216924585,
          0.00009274394115192377,
          0.0024087957487707082,
          0.0020360819768198337,
          0.3179452208876273,
          0.0005284445331479431,
          0.008722321133646448,
          0.05041744869195175,
          0.02246635527033238,
          0.015320343917165014,
          0.01621529989596818,
          0.01521805903199157,
          0.02235179136630845,
          0.011135061197448223,
          5.983132733730951e-8,
          0.3956671209086302,
          0.18327503871754208,
          0.1337903110163012,
          0.023251888221196827,
          0.04408391065427772,
          0.005925164980519203,
          0.00003727384316982102,
          0.2216529004918039,
          0.026816543580274597,
          0.0024339848263602287,
          0.21250795126491526,
          0.036908319089411376,
          0.007195235629150585,
          0.5779754485834654,
          0.0012435565099703865,
          0.31628173781418856,
          0.013013988209037687,
          0.1182168204104252,
          0.004101572315724244,
          0.004303682781108345,
          0.12668855265285034,
          0.0182281757888502,
          0.0179160064522801,
          0.005393648552376155,
          0.001753664616416802,
          0.05818845712523231,
          0.013154538095714536,
          0.008269883226987958,
          0.0008065174375059734,
          0.005972016756487302,
          0.009753803411760223,
          0.000029364945907167513,
          0.007984076012767087,
          0.03682686362990839,
          0.00026822233334055355,
          0.0070587836865556525,
          0.021684008783980222,
          0.059190838626367155,
          0.15932444903517284,
          0.22361736754350678,
          0.0006296031107454701,
          0.00001551861131645743,
          0.030095032352092557,
          0.018047874502110154,
          0.3329115519637929,
          0.000012641559361074606,
          0.0000013270154009592541,
          0.00035309583919181326,
          0.007959634245259545,
          0.075265772717818,
          0.0819943191284986,
          0.034197941560378864,
          0.04531620252590076,
          0.018615851029155847,
          0.14801104133512683,
          0.000324376440417077,
          0.010167291063391693,
          0.06072617477656243,
          0.8176598089898734,
          0.0007340037522711228,
          0.3600616011652355,
          0.000015184556436130315,
          0.032603937861687325,
          0.8791106558885248,
          0.19699616391816013,
          0.14564306757152545,
          0.0009383697720939596,
          0.00034529618939185895,
          0.036873714226834206,
          0.0005705423779811786,
          0.2393336495022439,
          0.4987366017262403,
          0.22041999827196188,
          0.07935938942683636,
          0.00004929070808286539,
          0.4753646006761556,
          0.0652141034222263,
          0.3515014406631235,
          0.038940862098152035,
          0.03529819055663243,
          0.17074317809704162,
          0.0019313028696196994,
          0.3726161520619185,
          0.00004246263424011821,
          0.30577825995003804,
          0.2171487109850408,
          0.24943326873344676,
          0.004708707479150427,
          0.03595627565892206,
          0.006484955999000865,
          0.12449969847885109,
          0.005359671851690655,
          0.002619899615201969,
          0.41211317317471924,
          0.1524165551697099,
          0.06039969938537654,
          0.00004311484511583202,
          0.0359423649825636,
          0.2429907961942172,
          0.11837241080180659,
          0.00043861337938518643,
          0.007482481186972853,
          0.06368621041849097,
          0.020691878844269266,
          0.060866973501152714,
          0.0005613950180926897,
          0.8473803827130327,
          0.016005998828784073,
          0.07225197351048092,
          0.00193206577311281,
          0.027159303191833302,
          0.0025115231651117657,
          0.006492295829793593,
          0.10831056631797946,
          0.0000027043896321115737,
          0.00033679215896034194,
          0.16754333365881052,
          0.0009850815761133246,
          0.013071334680807567,
          0.00011505782307682629,
          0.00016421404888658218,
          0.000003675130546519775,
          0.08314563099763922,
          0.00035341092483846863,
          0.0006874034259358707,
          0.599955896342118,
          0.01937843699208707,
          0.08141177086972066,
          0.0031265656397181547,
          0.5384151832822086,
          0.02589047692812976,
          0.01849875501187713,
          0.47411547724131287,
          0.8177120482984668,
          0.008855552951672778,
          0.8199861852178948,
          0.013013391197864307,
          0.18256278953499872,
          0.07570015409167079,
          0.004095738162906862,
          0.008083703911249771,
          0.3553935459100768,
          0.006411735186635457,
          0.021325730070719848,
          0.05509385314913386,
          0.007790210545244077,
          0.029044357424672707,
          0.008283877402116422,
          0.5779778694516844,
          0.25859649021155023,
          0.01053153424350831,
          0.03261277490295604,
          0.12204760730676294,
          0.39637691704295047,
          0.398402716729849,
          0.12930871810992897,
          0.04825700063595221,
          0.000028443021848245966,
          0.005482187660118084,
          0.0626193884389878,
          0.02632613934147877,
          0.2773457977579455,
          0.2849787402744948,
          0.7771410540154363,
          0.48553367076023646,
          0.4921238419095289,
          0.23133808134673206,
          0.31782402676925137,
          0.29406424519981006,
          0.6249754392906179,
          0.00018737801327318963,
          0.2506266669374389,
          0.1768766858432491,
          0.16132098909272014,
          0.04118851363922114,
          0.10593110619021787,
          0.27962144327614763,
          0.36860898604271036,
          0.8728273659082398,
          0.08295620231824387,
          0.00043686233101102,
          0.0020564986155816264,
          0.06515129791104866,
          0.0356431525240948,
          0.7213569555766103,
          0.5066294155169038,
          0.5740313098531541,
          0.10620796277003992,
          0.19238592150398426,
          0.04368508445760538,
          0.319912051393804,
          0.21213269316848143,
          0.0047975505330180674,
          0.007655153345454578,
          0.009225380503245029,
          0.0689132927188647,
          0.07410583801284758,
          0.3401825144703088,
          0.00035915469520073176,
          0.0000627716271295507,
          0.5955264607892866,
          0.04952341043289398,
          0.8036016365227758,
          0.21606550603121802,
          0.6491175941316832,
          0.846111389670529,
          0.017727748866499544,
          0.32674967626518325,
          0.6439193735130837,
          0.20118569556121269,
          0.002092118310031291,
          0.006741245138624904,
          0.07313790834528906,
          0.0007781174462172624,
          0.1982675026611012,
          0.0007052667584824703,
          0.09942763500765732,
          0.0006947281575041733,
          0.6863945080200522,
          0.006865343882326846,
          0.06442628439516575,
          0.0000021447612365645443,
          0.0021101267567784736,
          0.0014122379928292786,
          0.015322300115871207,
          0.12652670379702044,
          0.05405521756227628,
          0.7151462678680905,
          0.006173784758292,
          0.0003499973314629355,
          0.6985507092696168,
          0.3004035486874051,
          0.20641510746296354,
          0.19069547664085654,
          0.8567089635641568,
          0.0007396321511167616,
          0.40208692236039895,
          0.05386905988879777,
          0.014845924528593395,
          0.12547617474090608,
          0.4294063346975564,
          0.025027196159942967,
          0.8602283559735973,
          0.4848219349653231,
          0.20608354374724122,
          0.017714531822429817,
          0.026947788731856978,
          0.5548531910045384,
          0.002575566519308553,
          0.15475088752660346,
          0.228127667748016,
          0.024488697090463352,
          0.015341313392115122,
          0.07970755139115794,
          0.01609912509814533,
          0.8418784884795829,
          0.7165708530408467,
          0.0024605673017727755,
          0.08411501298317488,
          0.02700814395728999,
          0.11148935869972908,
          0.00440196101997701,
          0.00010083462276735435,
          0.318717695101052,
          0.484927173419246,
          0.8236899075990882,
          0.07017967334558341,
          0.11495347991257142,
          0.0004573300951191147,
          0.5118288511763713,
          0.26049563620651656,
          0.06886355172049019,
          0.009860612903310527,
          0.00005572415149097217,
          0.00011522921323585972,
          0.008570840174547038,
          0.005124940760795161,
          0.11818252749748302,
          0.0025178778697296793,
          0.001994443978815271,
          0.05237219282463614,
          0.38618151956736047,
          0.2357083829964052,
          0.007107851666494279,
          0.6025935281595279,
          0.12763239326823927,
          0.08043362291478703,
          0.08945787434389697,
          0.0015146420466719324,
          0.007714478872078709,
          0.4728725373763384,
          0.16885369889049917,
          0.01099396921538116
         ],
         "y0": " ",
         "yaxis": "y"
        },
        {
         "alignmentgroup": "True",
         "hovertemplate": "Team ID=M19<br>Player Name=%{x}<br>Probability (proba_pro)=%{y}<extra></extra>",
         "legendgroup": "M19",
         "marker": {
          "color": "#00cc96"
         },
         "name": "M19",
         "notched": false,
         "offsetgroup": "M19",
         "orientation": "v",
         "showlegend": true,
         "type": "box",
         "x": [
          "R.Gaud",
          "A.Selimi",
          "M.Anselme",
          "R.Ouchard",
          "E.Tsimba",
          "I.Ouchard",
          "M.Ishuayed",
          "M.Batista",
          "L.Tafaj",
          "R.Ouchard",
          "K.Pereira",
          "I.Ouchard",
          "N.Heller",
          "M.Miguel",
          "M.Anselme",
          "M.Ishuayed",
          "L.Tafaj",
          "M.Batista",
          "J.Fonseca costa",
          "M.Anselme",
          "A.Selimi",
          "M.Miguel",
          "K.Tologo",
          "N.Heller",
          "R.Philippin",
          "M.Batista",
          "L.Tafaj",
          "F.Ortiz",
          "K.Pereira",
          "L.Vilar",
          "L.Vilar",
          "E.Januario",
          "K.Pereira",
          "R.Gaud",
          "M.Anselme",
          "K.Tologo",
          "E.Tsimba",
          "R.Philippin",
          "M.Ishuayed",
          "M.Batista",
          "A.Selimi",
          "F.Ortiz",
          "K.Pereira",
          "M.Anselme",
          "A.Selimi",
          "K.Tologo",
          "E.Tsimba",
          "M.Ishuayed",
          "M.Batista",
          "L.Tafaj",
          "R.Gaud",
          "N.Heller",
          "R.Gaud",
          "K.Pereira",
          "M.Anselme",
          "A.Selimi",
          "K.Tologo",
          "E.Tsimba",
          "R.Philippin",
          "M.Miguel",
          "M.Anselme",
          "R.Gaud",
          "E.Salihu",
          "L.Vilar",
          "A.Selimi",
          "N.Heller",
          "K.Pereira",
          "K.Tologo",
          "M.Batista",
          "E.Tsimba",
          "R.Philippin",
          "E.Tsimba",
          "J.Fonseca costa",
          "M.Ishuayed",
          "R.Philippin",
          "I.Ouchard",
          "K.Tologo",
          "L.Vilar",
          "A.Selimi",
          "K.Pereira",
          "E.Salihu",
          "M.Miguel",
          "M.Batista",
          "R.Ouchard",
          "L.Tafaj",
          "N.Heller",
          "K.Tologo",
          "M.Miguel",
          "A.Selimi",
          "K.Pereira",
          "L.Scandurra",
          "L.Vilar",
          "E.Tsimba",
          "M.Rizvanovic",
          "R.Gaud",
          "J.Fonseca costa",
          "M.Ishuayed",
          "D.Trillo",
          "M.Ishuayed",
          "R.Benammar",
          "L.Tafaj",
          "R.Philippin",
          "K.Pereira",
          "A.Selimi",
          "M.Anselme",
          "N.Heller",
          "M.Rizvanovic",
          "M.Miguel",
          "L.Scandurra",
          "D.Trillo"
         ],
         "x0": " ",
         "xaxis": "x",
         "y": [
          0.6041936792415612,
          0.005248425622212628,
          0.07379079242844916,
          0.050421580641159175,
          0.04204704955979783,
          0.008336124254079988,
          0.00006247687791234284,
          0.05023520729926902,
          0.6041936792415612,
          0.025883191721536084,
          0.018412626793725514,
          0.022752013345726047,
          0.07996240022034246,
          0.0019053758833184303,
          0.061092498608467646,
          0.00039465139356619053,
          0.08497839665725158,
          0.020031959361829995,
          0.0038623765471058826,
          0.14907996713704014,
          0.0016566057841224406,
          0.09342448492286709,
          0.007516414427920781,
          0.008873648890276888,
          0.6100511937895097,
          0.011759563758478152,
          0.1891691440282798,
          0.00003737752603708292,
          0.13296139582458383,
          0.00001589097586454516,
          0.00002750319197173317,
          1.7691239834903843e-7,
          0.46165025634901663,
          0.10890258143591278,
          0.006780202703141975,
          0.03216414816031315,
          0.05752038927935008,
          0.6217093459818188,
          0.00004479482610466349,
          0.07832499793593468,
          0.4892041588955105,
          0.06564644660834763,
          0.2800882635643225,
          0.3904268367893661,
          0.46995891913240756,
          0.00001912305485545059,
          0.04514654049000718,
          0.0012950500564801763,
          0.0000022954697053900146,
          0.46840529856751434,
          0.5668654517172604,
          0.6702072321200251,
          0.6233526255380584,
          9.288325706592257e-7,
          0.005200725803802042,
          0.008399456856113034,
          0.008377253177362539,
          0.002072680010591775,
          0.24323410443295151,
          0.05292094422690455,
          0.009232598404660909,
          0.5007441067264868,
          0.0011420517277883745,
          0.00015396793497717467,
          0.0006246141575102462,
          0.6666124309138217,
          0.3881579895966209,
          0.0009299546745407631,
          0.0011782290154857048,
          0.00004109160927651342,
          0.14624349736908795,
          0.008638409487868905,
          0.006400541679626355,
          0.00017363606891916098,
          0.0104654877076651,
          0.0007849622162397259,
          0.0001020235908841395,
          0.0170382084005526,
          0.05124084831752414,
          0.01144693121673542,
          0.031637591277574574,
          0.05395557109782829,
          0.012439812614881899,
          0.00044905637408428084,
          0.02322267317573356,
          0.1397333302605426,
          0.0012706510726259131,
          0.0000752945759638092,
          0.4115496087540258,
          0.20810375951944013,
          0.02783531679541003,
          0.00014763485062826352,
          0.004726083214566474,
          0.021443640471447048,
          0.10712025891097622,
          0.03512920462116393,
          0.00033959542725929705,
          0.022618769381269943,
          0.019985259620773067,
          0.02943153762449776,
          0.04848729668171548,
          0.24232328512812937,
          0.023920191339917327,
          0.49357195331812126,
          0.00012080809563882161,
          0.0006438456969706962,
          0.012657604278159984,
          0.05881393563252557,
          0.701329642569213,
          0.010800032110887358
         ],
         "y0": " ",
         "yaxis": "y"
        }
       ],
       "layout": {
        "boxmode": "group",
        "height": 600,
        "legend": {
         "title": {
          "text": "Team ID"
         },
         "tracegroupgap": 0
        },
        "template": {
         "data": {
          "bar": [
           {
            "error_x": {
             "color": "#2a3f5f"
            },
            "error_y": {
             "color": "#2a3f5f"
            },
            "marker": {
             "line": {
              "color": "#E5ECF6",
              "width": 0.5
             },
             "pattern": {
              "fillmode": "overlay",
              "size": 10,
              "solidity": 0.2
             }
            },
            "type": "bar"
           }
          ],
          "barpolar": [
           {
            "marker": {
             "line": {
              "color": "#E5ECF6",
              "width": 0.5
             },
             "pattern": {
              "fillmode": "overlay",
              "size": 10,
              "solidity": 0.2
             }
            },
            "type": "barpolar"
           }
          ],
          "carpet": [
           {
            "aaxis": {
             "endlinecolor": "#2a3f5f",
             "gridcolor": "white",
             "linecolor": "white",
             "minorgridcolor": "white",
             "startlinecolor": "#2a3f5f"
            },
            "baxis": {
             "endlinecolor": "#2a3f5f",
             "gridcolor": "white",
             "linecolor": "white",
             "minorgridcolor": "white",
             "startlinecolor": "#2a3f5f"
            },
            "type": "carpet"
           }
          ],
          "choropleth": [
           {
            "colorbar": {
             "outlinewidth": 0,
             "ticks": ""
            },
            "type": "choropleth"
           }
          ],
          "contour": [
           {
            "colorbar": {
             "outlinewidth": 0,
             "ticks": ""
            },
            "colorscale": [
             [
              0,
              "#0d0887"
             ],
             [
              0.1111111111111111,
              "#46039f"
             ],
             [
              0.2222222222222222,
              "#7201a8"
             ],
             [
              0.3333333333333333,
              "#9c179e"
             ],
             [
              0.4444444444444444,
              "#bd3786"
             ],
             [
              0.5555555555555556,
              "#d8576b"
             ],
             [
              0.6666666666666666,
              "#ed7953"
             ],
             [
              0.7777777777777778,
              "#fb9f3a"
             ],
             [
              0.8888888888888888,
              "#fdca26"
             ],
             [
              1,
              "#f0f921"
             ]
            ],
            "type": "contour"
           }
          ],
          "contourcarpet": [
           {
            "colorbar": {
             "outlinewidth": 0,
             "ticks": ""
            },
            "type": "contourcarpet"
           }
          ],
          "heatmap": [
           {
            "colorbar": {
             "outlinewidth": 0,
             "ticks": ""
            },
            "colorscale": [
             [
              0,
              "#0d0887"
             ],
             [
              0.1111111111111111,
              "#46039f"
             ],
             [
              0.2222222222222222,
              "#7201a8"
             ],
             [
              0.3333333333333333,
              "#9c179e"
             ],
             [
              0.4444444444444444,
              "#bd3786"
             ],
             [
              0.5555555555555556,
              "#d8576b"
             ],
             [
              0.6666666666666666,
              "#ed7953"
             ],
             [
              0.7777777777777778,
              "#fb9f3a"
             ],
             [
              0.8888888888888888,
              "#fdca26"
             ],
             [
              1,
              "#f0f921"
             ]
            ],
            "type": "heatmap"
           }
          ],
          "heatmapgl": [
           {
            "colorbar": {
             "outlinewidth": 0,
             "ticks": ""
            },
            "colorscale": [
             [
              0,
              "#0d0887"
             ],
             [
              0.1111111111111111,
              "#46039f"
             ],
             [
              0.2222222222222222,
              "#7201a8"
             ],
             [
              0.3333333333333333,
              "#9c179e"
             ],
             [
              0.4444444444444444,
              "#bd3786"
             ],
             [
              0.5555555555555556,
              "#d8576b"
             ],
             [
              0.6666666666666666,
              "#ed7953"
             ],
             [
              0.7777777777777778,
              "#fb9f3a"
             ],
             [
              0.8888888888888888,
              "#fdca26"
             ],
             [
              1,
              "#f0f921"
             ]
            ],
            "type": "heatmapgl"
           }
          ],
          "histogram": [
           {
            "marker": {
             "pattern": {
              "fillmode": "overlay",
              "size": 10,
              "solidity": 0.2
             }
            },
            "type": "histogram"
           }
          ],
          "histogram2d": [
           {
            "colorbar": {
             "outlinewidth": 0,
             "ticks": ""
            },
            "colorscale": [
             [
              0,
              "#0d0887"
             ],
             [
              0.1111111111111111,
              "#46039f"
             ],
             [
              0.2222222222222222,
              "#7201a8"
             ],
             [
              0.3333333333333333,
              "#9c179e"
             ],
             [
              0.4444444444444444,
              "#bd3786"
             ],
             [
              0.5555555555555556,
              "#d8576b"
             ],
             [
              0.6666666666666666,
              "#ed7953"
             ],
             [
              0.7777777777777778,
              "#fb9f3a"
             ],
             [
              0.8888888888888888,
              "#fdca26"
             ],
             [
              1,
              "#f0f921"
             ]
            ],
            "type": "histogram2d"
           }
          ],
          "histogram2dcontour": [
           {
            "colorbar": {
             "outlinewidth": 0,
             "ticks": ""
            },
            "colorscale": [
             [
              0,
              "#0d0887"
             ],
             [
              0.1111111111111111,
              "#46039f"
             ],
             [
              0.2222222222222222,
              "#7201a8"
             ],
             [
              0.3333333333333333,
              "#9c179e"
             ],
             [
              0.4444444444444444,
              "#bd3786"
             ],
             [
              0.5555555555555556,
              "#d8576b"
             ],
             [
              0.6666666666666666,
              "#ed7953"
             ],
             [
              0.7777777777777778,
              "#fb9f3a"
             ],
             [
              0.8888888888888888,
              "#fdca26"
             ],
             [
              1,
              "#f0f921"
             ]
            ],
            "type": "histogram2dcontour"
           }
          ],
          "mesh3d": [
           {
            "colorbar": {
             "outlinewidth": 0,
             "ticks": ""
            },
            "type": "mesh3d"
           }
          ],
          "parcoords": [
           {
            "line": {
             "colorbar": {
              "outlinewidth": 0,
              "ticks": ""
             }
            },
            "type": "parcoords"
           }
          ],
          "pie": [
           {
            "automargin": true,
            "type": "pie"
           }
          ],
          "scatter": [
           {
            "fillpattern": {
             "fillmode": "overlay",
             "size": 10,
             "solidity": 0.2
            },
            "type": "scatter"
           }
          ],
          "scatter3d": [
           {
            "line": {
             "colorbar": {
              "outlinewidth": 0,
              "ticks": ""
             }
            },
            "marker": {
             "colorbar": {
              "outlinewidth": 0,
              "ticks": ""
             }
            },
            "type": "scatter3d"
           }
          ],
          "scattercarpet": [
           {
            "marker": {
             "colorbar": {
              "outlinewidth": 0,
              "ticks": ""
             }
            },
            "type": "scattercarpet"
           }
          ],
          "scattergeo": [
           {
            "marker": {
             "colorbar": {
              "outlinewidth": 0,
              "ticks": ""
             }
            },
            "type": "scattergeo"
           }
          ],
          "scattergl": [
           {
            "marker": {
             "colorbar": {
              "outlinewidth": 0,
              "ticks": ""
             }
            },
            "type": "scattergl"
           }
          ],
          "scattermapbox": [
           {
            "marker": {
             "colorbar": {
              "outlinewidth": 0,
              "ticks": ""
             }
            },
            "type": "scattermapbox"
           }
          ],
          "scatterpolar": [
           {
            "marker": {
             "colorbar": {
              "outlinewidth": 0,
              "ticks": ""
             }
            },
            "type": "scatterpolar"
           }
          ],
          "scatterpolargl": [
           {
            "marker": {
             "colorbar": {
              "outlinewidth": 0,
              "ticks": ""
             }
            },
            "type": "scatterpolargl"
           }
          ],
          "scatterternary": [
           {
            "marker": {
             "colorbar": {
              "outlinewidth": 0,
              "ticks": ""
             }
            },
            "type": "scatterternary"
           }
          ],
          "surface": [
           {
            "colorbar": {
             "outlinewidth": 0,
             "ticks": ""
            },
            "colorscale": [
             [
              0,
              "#0d0887"
             ],
             [
              0.1111111111111111,
              "#46039f"
             ],
             [
              0.2222222222222222,
              "#7201a8"
             ],
             [
              0.3333333333333333,
              "#9c179e"
             ],
             [
              0.4444444444444444,
              "#bd3786"
             ],
             [
              0.5555555555555556,
              "#d8576b"
             ],
             [
              0.6666666666666666,
              "#ed7953"
             ],
             [
              0.7777777777777778,
              "#fb9f3a"
             ],
             [
              0.8888888888888888,
              "#fdca26"
             ],
             [
              1,
              "#f0f921"
             ]
            ],
            "type": "surface"
           }
          ],
          "table": [
           {
            "cells": {
             "fill": {
              "color": "#EBF0F8"
             },
             "line": {
              "color": "white"
             }
            },
            "header": {
             "fill": {
              "color": "#C8D4E3"
             },
             "line": {
              "color": "white"
             }
            },
            "type": "table"
           }
          ]
         },
         "layout": {
          "annotationdefaults": {
           "arrowcolor": "#2a3f5f",
           "arrowhead": 0,
           "arrowwidth": 1
          },
          "autotypenumbers": "strict",
          "coloraxis": {
           "colorbar": {
            "outlinewidth": 0,
            "ticks": ""
           }
          },
          "colorscale": {
           "diverging": [
            [
             0,
             "#8e0152"
            ],
            [
             0.1,
             "#c51b7d"
            ],
            [
             0.2,
             "#de77ae"
            ],
            [
             0.3,
             "#f1b6da"
            ],
            [
             0.4,
             "#fde0ef"
            ],
            [
             0.5,
             "#f7f7f7"
            ],
            [
             0.6,
             "#e6f5d0"
            ],
            [
             0.7,
             "#b8e186"
            ],
            [
             0.8,
             "#7fbc41"
            ],
            [
             0.9,
             "#4d9221"
            ],
            [
             1,
             "#276419"
            ]
           ],
           "sequential": [
            [
             0,
             "#0d0887"
            ],
            [
             0.1111111111111111,
             "#46039f"
            ],
            [
             0.2222222222222222,
             "#7201a8"
            ],
            [
             0.3333333333333333,
             "#9c179e"
            ],
            [
             0.4444444444444444,
             "#bd3786"
            ],
            [
             0.5555555555555556,
             "#d8576b"
            ],
            [
             0.6666666666666666,
             "#ed7953"
            ],
            [
             0.7777777777777778,
             "#fb9f3a"
            ],
            [
             0.8888888888888888,
             "#fdca26"
            ],
            [
             1,
             "#f0f921"
            ]
           ],
           "sequentialminus": [
            [
             0,
             "#0d0887"
            ],
            [
             0.1111111111111111,
             "#46039f"
            ],
            [
             0.2222222222222222,
             "#7201a8"
            ],
            [
             0.3333333333333333,
             "#9c179e"
            ],
            [
             0.4444444444444444,
             "#bd3786"
            ],
            [
             0.5555555555555556,
             "#d8576b"
            ],
            [
             0.6666666666666666,
             "#ed7953"
            ],
            [
             0.7777777777777778,
             "#fb9f3a"
            ],
            [
             0.8888888888888888,
             "#fdca26"
            ],
            [
             1,
             "#f0f921"
            ]
           ]
          },
          "colorway": [
           "#636efa",
           "#EF553B",
           "#00cc96",
           "#ab63fa",
           "#FFA15A",
           "#19d3f3",
           "#FF6692",
           "#B6E880",
           "#FF97FF",
           "#FECB52"
          ],
          "font": {
           "color": "#2a3f5f"
          },
          "geo": {
           "bgcolor": "white",
           "lakecolor": "white",
           "landcolor": "#E5ECF6",
           "showlakes": true,
           "showland": true,
           "subunitcolor": "white"
          },
          "hoverlabel": {
           "align": "left"
          },
          "hovermode": "closest",
          "mapbox": {
           "style": "light"
          },
          "paper_bgcolor": "white",
          "plot_bgcolor": "#E5ECF6",
          "polar": {
           "angularaxis": {
            "gridcolor": "white",
            "linecolor": "white",
            "ticks": ""
           },
           "bgcolor": "#E5ECF6",
           "radialaxis": {
            "gridcolor": "white",
            "linecolor": "white",
            "ticks": ""
           }
          },
          "scene": {
           "xaxis": {
            "backgroundcolor": "#E5ECF6",
            "gridcolor": "white",
            "gridwidth": 2,
            "linecolor": "white",
            "showbackground": true,
            "ticks": "",
            "zerolinecolor": "white"
           },
           "yaxis": {
            "backgroundcolor": "#E5ECF6",
            "gridcolor": "white",
            "gridwidth": 2,
            "linecolor": "white",
            "showbackground": true,
            "ticks": "",
            "zerolinecolor": "white"
           },
           "zaxis": {
            "backgroundcolor": "#E5ECF6",
            "gridcolor": "white",
            "gridwidth": 2,
            "linecolor": "white",
            "showbackground": true,
            "ticks": "",
            "zerolinecolor": "white"
           }
          },
          "shapedefaults": {
           "line": {
            "color": "#2a3f5f"
           }
          },
          "ternary": {
           "aaxis": {
            "gridcolor": "white",
            "linecolor": "white",
            "ticks": ""
           },
           "baxis": {
            "gridcolor": "white",
            "linecolor": "white",
            "ticks": ""
           },
           "bgcolor": "#E5ECF6",
           "caxis": {
            "gridcolor": "white",
            "linecolor": "white",
            "ticks": ""
           }
          },
          "title": {
           "x": 0.05
          },
          "xaxis": {
           "automargin": true,
           "gridcolor": "white",
           "linecolor": "white",
           "ticks": "",
           "title": {
            "standoff": 15
           },
           "zerolinecolor": "white",
           "zerolinewidth": 2
          },
          "yaxis": {
           "automargin": true,
           "gridcolor": "white",
           "linecolor": "white",
           "ticks": "",
           "title": {
            "standoff": 15
           },
           "zerolinecolor": "white",
           "zerolinewidth": 2
          }
         }
        },
        "title": {
         "text": "Box Plot of Probability by Player"
        },
        "width": 1800,
        "xaxis": {
         "anchor": "y",
         "domain": [
          0,
          1
         ],
         "title": {
          "text": "Player Name"
         }
        },
        "yaxis": {
         "anchor": "x",
         "domain": [
          0,
          1
         ],
         "title": {
          "text": "Probability (proba_pro)"
         }
        }
       }
      }
     },
     "metadata": {},
     "output_type": "display_data"
    }
   ],
   "source": [
    "# box plot par joueur \n",
    "import plotly.express as px\n",
    "import pandas as pd\n",
    "\n",
    "# Créer le box plot avec Plotly Express et mettre une couleur en fonction de la team\n",
    "\n",
    "fig = px.box(\n",
    "    data,\n",
    "    x='PLAYER_NAME',\n",
    "    y='proba_pro',\n",
    "    color='TEAM_ID',\n",
    "    labels={\n",
    "        'proba_pro': 'Probability (proba_pro)',\n",
    "        'PLAYER_NAME': 'Player Name',\n",
    "        'TEAM_ID': 'Team ID'\n",
    "    },\n",
    "    title='Box Plot of Probability by Player',\n",
    "    height=600,\n",
    "    width=1800\n",
    ")\n",
    "\n",
    "fig.show()"
   ]
  },
  {
   "cell_type": "code",
   "execution_count": 251,
   "metadata": {},
   "outputs": [
    {
     "name": "stdout",
     "output_type": "stream",
     "text": [
      "Index(['SESSION_ID', 'PLAYER_ID', 'PLAYER_NAME', 'ATTENDANCE', 'DURATION',\n",
      "       'DATE', 'TEAM_ID', 'TYPE_ID', 'Accélération max',\n",
      "       'Distance [20-25]km/h', 'Distance [25-40]km/h', 'Distance m/min',\n",
      "       'Distance totale', 'Décélération max', 'Nb acc [4/5] ms²',\n",
      "       'Nb dec [-5/-4] ms²', 'Nombre de sprints', 'Vmax', 'Distance en sprint',\n",
      "       'Durée', 'Accélération_max', 'Distance_20_25km_h', 'Distance_2540km_h',\n",
      "       'Distancemmin', 'Distance_totale', 'Deceleration_max', 'Nb_acc_4_5ms',\n",
      "       'Nb_dec_5_4ms', 'Nombre_de_sprints', 'label', 'proba_pro', 'months',\n",
      "       'TEAM_ID_NUMERIC'],\n",
      "      dtype='object')\n"
     ]
    }
   ],
   "source": [
    "print(data.columns)"
   ]
  },
  {
   "cell_type": "code",
   "execution_count": 252,
   "metadata": {},
   "outputs": [],
   "source": [
    "import pandas as pd\n",
    "from sklearn.cluster import KMeans\n",
    "import plotly.express as px\n",
    "\n",
    "\n",
    "X = data[['Accélération_max', 'Distancemmin', 'Vmax']]\n",
    "\n",
    "# Réalisation du clustering K-means\n",
    "kmeans = KMeans(n_clusters=4, random_state=0).fit(X)\n",
    "data['Cluster'] = kmeans.labels_\n",
    "\n",
    "\n",
    "fig = px.scatter_3d(\n",
    "    data, x='Accélération_max', y='Distancemmin', z='Vmax',\n",
    "    color='Cluster', hover_name='PLAYER_NAME', title='K-means Clustering of Players'\n",
    ")\n",
    "\n",
    "\n",
    "fig.write_html('kmeans_clustering_players.html')\n",
    "\n",
    "\n"
   ]
  },
  {
   "cell_type": "code",
   "execution_count": 267,
   "metadata": {},
   "outputs": [
    {
     "name": "stdout",
     "output_type": "stream",
     "text": [
      "Optimization terminated successfully.\n",
      "         Current function value: 0.343402\n",
      "         Iterations 8\n",
      "                          MNLogit Regression Results                          \n",
      "==============================================================================\n",
      "Dep. Variable:      label_multinomial   No. Observations:                 1076\n",
      "Model:                        MNLogit   Df Residuals:                     1060\n",
      "Method:                           MLE   Df Model:                           14\n",
      "Date:                Thu, 27 Jun 2024   Pseudo R-squ.:                  0.6394\n",
      "Time:                        13:28:22   Log-Likelihood:                -369.50\n",
      "converged:                       True   LL-Null:                       -1024.6\n",
      "Covariance Type:            nonrobust   LLR p-value:                3.416e-271\n",
      "=======================================================================================\n",
      "label_multinomial=1       coef    std err          z      P>|z|      [0.025      0.975]\n",
      "---------------------------------------------------------------------------------------\n",
      "Intercept             -10.1513      1.661     -6.110      0.000     -13.408      -6.895\n",
      "Distance_20_25km_h     -0.0128      0.002     -8.351      0.000      -0.016      -0.010\n",
      "Distance_2540km_h       0.0324      0.004      8.183      0.000       0.025       0.040\n",
      "Distancemmin            0.1550      0.015     10.574      0.000       0.126       0.184\n",
      "Deceleration_max        0.1375      0.202      0.682      0.495      -0.258       0.533\n",
      "Nb_acc_4_5ms           -0.0690      0.032     -2.126      0.033      -0.133      -0.005\n",
      "Nb_dec_5_4ms            0.0710      0.031      2.303      0.021       0.011       0.131\n",
      "Nombre_de_sprints      -0.1551      0.050     -3.093      0.002      -0.253      -0.057\n",
      "---------------------------------------------------------------------------------------\n",
      "label_multinomial=2       coef    std err          z      P>|z|      [0.025      0.975]\n",
      "---------------------------------------------------------------------------------------\n",
      "Intercept              -0.6069      1.224     -0.496      0.620      -3.005       1.792\n",
      "Distance_20_25km_h      0.0008      0.001      0.636      0.525      -0.002       0.003\n",
      "Distance_2540km_h       0.0183      0.004      5.039      0.000       0.011       0.025\n",
      "Distancemmin            0.0533      0.011      4.974      0.000       0.032       0.074\n",
      "Deceleration_max       -0.3127      0.188     -1.667      0.096      -0.680       0.055\n",
      "Nb_acc_4_5ms            0.0110      0.030      0.364      0.716      -0.048       0.070\n",
      "Nb_dec_5_4ms            0.0202      0.029      0.699      0.485      -0.036       0.077\n",
      "Nombre_de_sprints      -0.4749      0.050     -9.500      0.000      -0.573      -0.377\n",
      "=======================================================================================\n",
      "AIC: 771.0005341871224\n",
      "BIC: 850.69662603867\n",
      "Null deviance: 2049.222358107823\n",
      "Residual deviance: 739.0005341871224\n"
     ]
    }
   ],
   "source": [
    "# Modèle de régression logistique multinomiale\n",
    "\n",
    "# création d'un label_multinomial pour les 3 catégories de team_id\n",
    "data['label_multinomial'] = data['TEAM_ID'].apply(lambda x: 1 if x == 'Servette PRO' else 2 if x == 'M21' else 0)\n",
    "model = smf.mnlogit(\"label_multinomial ~  Distance_20_25km_h + Distance_2540km_h + Distancemmin + Deceleration_max + Nb_acc_4_5ms + Nb_dec_5_4ms + Nombre_de_sprints \", data)\n",
    "\n",
    "# Ajustement du modèle aux données\n",
    "results = model.fit()\n",
    "\n",
    "# Affichage des résultats du modèle\n",
    "print(results.summary())\n",
    "\n",
    "print(\"AIC:\", results.aic)\n",
    "print(\"BIC:\", results.bic)\n",
    "\n",
    "# null deviance \n",
    "\n",
    "null_deviance = -2 * results.llnull\n",
    "print(\"Null deviance:\", null_deviance)\n",
    "\n",
    "# residual deviance\n",
    "\n",
    "residual_deviance = -2 * results.llf\n",
    "print(\"Residual deviance:\", residual_deviance)"
   ]
  },
  {
   "cell_type": "code",
   "execution_count": 268,
   "metadata": {},
   "outputs": [
    {
     "name": "stdout",
     "output_type": "stream",
     "text": [
      "Chi-deux Statistic: 1310.22\n",
      "Degrees of Freedom: 10\n",
      "P-value: 0.000e+00\n",
      "Le modèle est significatif au niveau de 5%.\n"
     ]
    }
   ],
   "source": [
    "import scipy.stats as stats\n",
    "\n",
    "# Données du modèle\n",
    "null_deviance = 2049.222358107823\n",
    "residual_deviance = 739.0005341871224\n",
    "df_model = 10\n",
    "\n",
    "# Calcul de la statistique du chi-deux\n",
    "chi2_stat = null_deviance - residual_deviance\n",
    "\n",
    "# Calcul du p-value\n",
    "p_value = 1 - stats.chi2.cdf(chi2_stat, df_model)\n",
    "\n",
    "print(f\"Chi-deux Statistic: {chi2_stat:.2f}\")\n",
    "print(f\"Degrees of Freedom: {df_model}\")\n",
    "print(f\"P-value: {p_value:.3e}\")\n",
    "\n",
    "# Interprétation\n",
    "if p_value < 0.05:\n",
    "    print(\"Le modèle est significatif au niveau de 5%.\")\n",
    "else:\n",
    "    print(\"Le modèle n'est pas significatif au niveau de 5%.\")"
   ]
  },
  {
   "cell_type": "code",
   "execution_count": 254,
   "metadata": {},
   "outputs": [],
   "source": [
    "# Prédiction des probabilités pour chaque catégorie\n",
    "\n",
    "data['proba_pro'] = results.predict(data)[1]\n",
    "data['proba_m21'] = results.predict(data)[2]\n",
    "data['proba_m19'] = results.predict(data)[0]\n",
    "\n",
    "# pour un joueur donné\n",
    "data_player = data[data['PLAYER_NAME'] == 'A.Antunes']\n",
    "\n",
    "#print(results.predict(data_player))\n",
    "\n",
    "# faire un fichier csv avec tous les joueurs leurs proba moyennes d'être dans chaque équipes \n",
    "\n",
    "proba_means = data.groupby('PLAYER_NAME')[['proba_pro', 'proba_m21', 'proba_m19']].mean().reset_index()\n",
    "\n",
    "# et les ecart types\n",
    "\n",
    "proba_std = data.groupby('PLAYER_NAME')[['proba_pro', 'proba_m21', 'proba_m19']].std().reset_index()\n",
    "\n",
    "\n",
    "# Fusionner les DataFrames sur 'PLAYER_NAME'\n",
    "merged_data = pd.merge(proba_means, proba_std, on='PLAYER_NAME')\n",
    "\n",
    "# Renommer les colonnes pour plus de clarté\n",
    "merged_data.columns = ['PLAYER_NAME', 'proba_pro_mean', 'proba_m21_mean', 'proba_m19_mean', 'proba_pro_std', 'proba_m21_std', 'proba_m19_std']\n",
    "\n",
    "# Sauvegarder les données fusionnées dans un fichier CSV\n",
    "merged_data.to_csv('proba_means_and_std.csv', index=False)\n",
    "\n"
   ]
  },
  {
   "cell_type": "markdown",
   "metadata": {},
   "source": [
    "# comment l'évolution des performances diffère entre les groupes (M21 et pro au fil du temps)"
   ]
  },
  {
   "cell_type": "code",
   "execution_count": 255,
   "metadata": {},
   "outputs": [],
   "source": [
    "# dans l'idéal créer une varaible potentiel qui est doit représenter le potentiel du joueur pro\n",
    "\n",
    "\n",
    "# créer une variable potentiel qui est doit représenter le potentiel du joueur pro\n",
    "# Intercept : -11.2270\n",
    "#Distance_min : 0.0763\n",
    "#Nombre_de_sprints : 0.1028\n",
    "#Accélération_max : 0.4231\n",
    "#Nb_acc_4_5ms : -0.1305\n",
    "#Vmax : 0.0841\n",
    "\n",
    "data['potentiel'] = -11.2270 + 0.0763 * data['Distancemmin'] + 0.1028 * data['Nombre_de_sprints'] + 0.4231 * data['Accélération_max'] - 0.1305 * data['Nb_acc_4_5ms'] + 0.0841 * data['Vmax']\n"
   ]
  },
  {
   "cell_type": "code",
   "execution_count": 265,
   "metadata": {},
   "outputs": [
    {
     "name": "stdout",
     "output_type": "stream",
     "text": [
      "                            OLS Regression Results                            \n",
      "==============================================================================\n",
      "Dep. Variable:                  label   R-squared:                       0.560\n",
      "Model:                            OLS   Adj. R-squared:                  0.558\n",
      "Method:                 Least Squares   F-statistic:                     194.5\n",
      "Date:                Thu, 27 Jun 2024   Prob (F-statistic):          1.17e-185\n",
      "Time:                        11:08:24   Log-Likelihood:                -332.92\n",
      "No. Observations:                1076   AIC:                             681.8\n",
      "Df Residuals:                    1068   BIC:                             721.7\n",
      "Df Model:                           7                                         \n",
      "Covariance Type:            nonrobust                                         \n",
      "======================================================================================\n",
      "                         coef    std err          t      P>|t|      [0.025      0.975]\n",
      "--------------------------------------------------------------------------------------\n",
      "Intercept             -0.4429      0.090     -4.929      0.000      -0.619      -0.267\n",
      "Distance_20_25km_h    -0.0014    5.5e-05    -24.543      0.000      -0.001      -0.001\n",
      "Distance_2540km_h      0.0018      0.000     13.997      0.000       0.002       0.002\n",
      "Distancemmin           0.0102      0.001     16.958      0.000       0.009       0.011\n",
      "Deceleration_max       0.0444      0.010      4.368      0.000       0.024       0.064\n",
      "Nb_acc_4_5ms          -0.0088      0.002     -5.585      0.000      -0.012      -0.006\n",
      "Nb_dec_5_4ms           0.0060      0.001      4.029      0.000       0.003       0.009\n",
      "Nombre_de_sprints      0.0194      0.002     12.857      0.000       0.016       0.022\n",
      "==============================================================================\n",
      "Omnibus:                       15.785   Durbin-Watson:                   1.066\n",
      "Prob(Omnibus):                  0.000   Jarque-Bera (JB):                9.774\n",
      "Skew:                           0.048   Prob(JB):                      0.00754\n",
      "Kurtosis:                       2.543   Cond. No.                     6.38e+03\n",
      "==============================================================================\n",
      "\n",
      "Notes:\n",
      "[1] Standard Errors assume that the covariance matrix of the errors is correctly specified.\n",
      "[2] The condition number is large, 6.38e+03. This might indicate that there are\n",
      "strong multicollinearity or other numerical problems.\n"
     ]
    },
    {
     "data": {
      "image/png": "[encoded data removed]",
      "text/plain": [
       "<Figure size 640x480 with 1 Axes>"
      ]
     },
     "metadata": {},
     "output_type": "display_data"
    }
   ],
   "source": [
    "import pandas as pd\n",
    "import statsmodels.api as sm\n",
    "import statsmodels.formula.api as smf\n",
    "\n",
    "\n",
    "data['DATE'] = data['DATE'].astype('category')\n",
    "\n",
    "data['TEAM_ID*DATE'] = data['TEAM_ID'].astype(str) + \"*\" + data['DATE'].astype(str)\n",
    "\n",
    "model = smf.ols('label ~ Distance_20_25km_h + Distance_2540km_h + Distancemmin + Deceleration_max + Nb_acc_4_5ms + Nb_dec_5_4ms + Nombre_de_sprints ', data=data).fit()\n",
    "\n",
    "print(model.summary())\n",
    "\n",
    "# plot \n",
    "import matplotlib.pyplot as plt\n",
    "\n",
    "# for one player \n",
    "data_player = data[data['PLAYER_NAME'] == 'T.Magnin']\n",
    "\n",
    "plt.scatter(data_player['DATE'], data_player['proba_pro'])\n",
    "plt.xlabel('DATE')\n",
    "plt.ylabel('Proba_pro')\n",
    "\n",
    "plt.show()\n",
    "\n"
   ]
  }
 ],
 "metadata": {
  "kernelspec": {
   "display_name": "mon_env",
   "language": "python",
   "name": "python3"
  },
  "language_info": {
   "codemirror_mode": {
    "name": "ipython",
    "version": 3
   },
   "file_extension": ".py",
   "mimetype": "text/x-python",
   "name": "python",
   "nbconvert_exporter": "python",
   "pygments_lexer": "ipython3",
   "version": "3.12.0"
  }
 },
 "nbformat": 4,
 "nbformat_minor": 2
}
