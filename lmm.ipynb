{
 "cells": [
  {
   "cell_type": "code",
   "execution_count": 528,
   "metadata": {},
   "outputs": [],
   "source": [
    "import pandas as pd\n",
    "import numpy as np\n",
    "import matplotlib.pyplot as plt\n",
    "import statsmodels.api as sm\n",
    "import statsmodels.formula.api as smf"
   ]
  },
  {
   "cell_type": "code",
   "execution_count": 529,
   "metadata": {},
   "outputs": [],
   "source": [
    "data = pd.read_csv('/Users/cosaph/Desktop/fc servette/data_management/data.csv')\n",
    "#print(data.head())"
   ]
  },
  {
   "cell_type": "code",
   "execution_count": 530,
   "metadata": {},
   "outputs": [
    {
     "name": "stdout",
     "output_type": "stream",
     "text": [
      "84\n"
     ]
    }
   ],
   "source": [
    "print(len(data['PLAYER_NAME'].unique()))"
   ]
  },
  {
   "cell_type": "code",
   "execution_count": 531,
   "metadata": {},
   "outputs": [],
   "source": [
    "# toutes mes va \n",
    "# Accélération max,Distance [20-25]km/h,\n",
    "# Distance [25-40]km/h,Distance m/min,Distance totale,Décélération max,Nb acc [4/5] ms²,\n",
    "# Nb dec [-5/-4] ms²,Nombre de sprints,Vmax,Distance en sprint\n",
    "\n",
    "data['Accélération_max'] = data['Accélération max']\n",
    "data['Distance_20_25km_h'] = data['Distance [20-25]km/h']\n",
    "\n",
    "data['Distance_2540km_h'] = data['Distance [25-40]km/h']\n",
    "data['Distancemmin'] = data['Distance m/min']\n",
    "data['Distance_totale'] = data['Distance totale']\n",
    "data['Deceleration_max'] = data['Décélération max']\n",
    "data['Nb_acc_4_5ms'] = data['Nb acc [4/5] ms²']\n",
    "\n",
    "data['Nb_dec_5_4ms'] = data['Nb dec [-5/-4] ms²']\n",
    "data['Nombre_de_sprints'] = data['Nombre de sprints']\n",
    "#data['Distance_en_sprint'] = data['Distance en sprint']"
   ]
  },
  {
   "cell_type": "code",
   "execution_count": 532,
   "metadata": {},
   "outputs": [
    {
     "data": {
      "text/plain": [
       "' # pour le min group size , on va enlever les joueurs qui ont moins de 10 matchs\\n\\ngroup_sizes = data.groupby(\"PLAYER_NAME\").size()\\n#print(group_sizes)\\n\\ndata = data[data[\"PLAYER_NAME\"].isin(group_sizes[group_sizes > 22].index)]\\n\\n# pour le max group size , on va enlever les joueurs qui ont plus de 50 matchs\\n\\ngroup_sizes = data.groupby(\"PLAYER_NAME\").size()\\n#print(group_sizes)\\n\\n#data = data[data[\"PLAYER_NAME\"].isin(group_sizes[group_sizes < 50].index)] '"
      ]
     },
     "execution_count": 532,
     "metadata": {},
     "output_type": "execute_result"
    }
   ],
   "source": [
    "\"\"\" # pour le min group size , on va enlever les joueurs qui ont moins de 10 matchs\n",
    "\n",
    "group_sizes = data.groupby(\"PLAYER_NAME\").size()\n",
    "#print(group_sizes)\n",
    "\n",
    "data = data[data[\"PLAYER_NAME\"].isin(group_sizes[group_sizes > 22].index)]\n",
    "\n",
    "# pour le max group size , on va enlever les joueurs qui ont plus de 50 matchs\n",
    "\n",
    "group_sizes = data.groupby(\"PLAYER_NAME\").size()\n",
    "#print(group_sizes)\n",
    "\n",
    "#data = data[data[\"PLAYER_NAME\"].isin(group_sizes[group_sizes < 50].index)] \"\"\""
   ]
  },
  {
   "cell_type": "code",
   "execution_count": 533,
   "metadata": {},
   "outputs": [
    {
     "name": "stdout",
     "output_type": "stream",
     "text": [
      "           Mixed Linear Model Regression Results\n",
      "============================================================\n",
      "Model:              MixedLM   Dependent Variable:   label   \n",
      "No. Observations:   1177      Method:               REML    \n",
      "No. Groups:         77        Scale:                0.0086  \n",
      "Min. group size:    1         Log-Likelihood:       893.8421\n",
      "Max. group size:    53        Converged:            Yes     \n",
      "Mean group size:    15.3                                    \n",
      "------------------------------------------------------------\n",
      "                  Coef.  Std.Err.   z    P>|z| [0.025 0.975]\n",
      "------------------------------------------------------------\n",
      "Intercept          0.319    0.065  4.926 0.000  0.192  0.446\n",
      "Vmax              -0.004    0.001 -2.738 0.006 -0.006 -0.001\n",
      "Distancemmin       0.001    0.000  4.172 0.000  0.000  0.001\n",
      "Nombre_de_sprints  0.003    0.001  4.006 0.000  0.001  0.004\n",
      "Nb_acc_4_5ms      -0.001    0.000 -1.908 0.056 -0.002  0.000\n",
      "Group Var          0.189    0.345                           \n",
      "============================================================\n",
      "\n"
     ]
    }
   ],
   "source": [
    "\n",
    "# prendre juste TEAM_ID = ERVETTE PRO\n",
    "data['label'] = data['TEAM_ID'].apply(lambda x: 1 if x == 'Servette PRO' else 0)\n",
    "\n",
    "#print(data.head())\n",
    "\n",
    "# drop na by mean data['Accélération_max'] data['Distancemmin'] data['Accélération_max']\n",
    "\n",
    "data = data.dropna(subset=['Accélération_max', 'Distancemmin', 'Accélération_max'])\n",
    "data = data.reset_index(drop=True)\n",
    "\n",
    "# on va utiliser statsmodels pour la régression logistique\n",
    "# min group size : le nombre minimum d'observations par joueur\n",
    "# max group size : le nombre maximum d'observations par joueur\n",
    "# changer le csv pour avoir plus d'observations par joueur\n",
    "\n",
    "\n",
    "\n",
    "#IndexError: index 1185 is out of bounds for axis 0 with size 1177\n",
    "\n",
    "model_lmm = smf.mixedlm(\"label ~ Vmax + Distancemmin + Nombre_de_sprints + Nb_acc_4_5ms\", data, groups=data[\"PLAYER_NAME\"])\n",
    "results_lmm = model_lmm.fit()\n",
    "print(results_lmm.summary())\n",
    "\n"
   ]
  },
  {
   "cell_type": "code",
   "execution_count": 534,
   "metadata": {},
   "outputs": [
    {
     "name": "stdout",
     "output_type": "stream",
     "text": [
      "Optimization terminated successfully.\n",
      "         Current function value: 0.505377\n",
      "         Iterations 7\n",
      "                           Logit Regression Results                           \n",
      "==============================================================================\n",
      "Dep. Variable:                  label   No. Observations:                 1177\n",
      "Model:                          Logit   Df Residuals:                     1171\n",
      "Method:                           MLE   Df Model:                            5\n",
      "Date:                Mon, 17 Jun 2024   Pseudo R-squ.:                  0.2708\n",
      "Time:                        10:31:53   Log-Likelihood:                -594.83\n",
      "converged:                       True   LL-Null:                       -815.76\n",
      "Covariance Type:            nonrobust   LLR p-value:                 2.789e-93\n",
      "=====================================================================================\n",
      "                        coef    std err          z      P>|z|      [0.025      0.975]\n",
      "-------------------------------------------------------------------------------------\n",
      "Intercept           -10.0411      1.367     -7.347      0.000     -12.720      -7.362\n",
      "Distancemmin          0.0715      0.006     12.765      0.000       0.061       0.082\n",
      "Nombre_de_sprints     0.1058      0.011      9.893      0.000       0.085       0.127\n",
      "Accélération_max      0.4047      0.113      3.582      0.000       0.183       0.626\n",
      "Nb_acc_4_5ms         -0.1177      0.012     -9.954      0.000      -0.141      -0.095\n",
      "Vmax                  0.0633      0.036      1.750      0.080      -0.008       0.134\n",
      "=====================================================================================\n",
      "AIC: 1201.6578328367923\n",
      "BIC: 1232.082177480354\n"
     ]
    }
   ],
   "source": [
    "## modèle logistique simple\n",
    "model = smf.logit(\"label ~ Distancemmin + Nombre_de_sprints + Accélération_max + Nb_acc_4_5ms + Vmax  \", data)\n",
    "results = model.fit()\n",
    "print(results.summary())\n",
    "\n",
    "print(\"AIC:\", results.aic)\n",
    "print(\"BIC:\", results.bic)"
   ]
  },
  {
   "cell_type": "code",
   "execution_count": 535,
   "metadata": {},
   "outputs": [
    {
     "name": "stdout",
     "output_type": "stream",
     "text": [
      "                            OLS Regression Results                            \n",
      "==============================================================================\n",
      "Dep. Variable:                  label   R-squared:                       0.308\n",
      "Model:                            OLS   Adj. R-squared:                  0.305\n",
      "Method:                 Least Squares   F-statistic:                     86.92\n",
      "Date:                Mon, 17 Jun 2024   Prob (F-statistic):           3.69e-90\n",
      "Time:                        10:31:53   Log-Likelihood:                -637.26\n",
      "No. Observations:                1177   AIC:                             1289.\n",
      "Df Residuals:                    1170   BIC:                             1324.\n",
      "Df Model:                           6                                         \n",
      "Covariance Type:            nonrobust                                         \n",
      "=====================================================================================\n",
      "                        coef    std err          t      P>|t|      [0.025      0.975]\n",
      "-------------------------------------------------------------------------------------\n",
      "Intercept            -0.8195      0.124     -6.611      0.000      -1.063      -0.576\n",
      "Distancemmin          0.0108      0.001     14.981      0.000       0.009       0.012\n",
      "Nombre_de_sprints     0.0187      0.002     11.443      0.000       0.015       0.022\n",
      "Accélération_max      0.0445      0.018      2.500      0.013       0.010       0.079\n",
      "Deceleration_max      0.0387      0.012      3.166      0.002       0.015       0.063\n",
      "Nb_acc_4_5ms         -0.0176      0.002     -9.528      0.000      -0.021      -0.014\n",
      "Nb_dec_5_4ms         -0.0041      0.002     -2.383      0.017      -0.008      -0.001\n",
      "==============================================================================\n",
      "Omnibus:                       35.429   Durbin-Watson:                   0.533\n",
      "Prob(Omnibus):                  0.000   Jarque-Bera (JB):               19.029\n",
      "Skew:                          -0.117   Prob(JB):                     7.38e-05\n",
      "Kurtosis:                       2.423   Cond. No.                     1.05e+03\n",
      "==============================================================================\n",
      "\n",
      "Notes:\n",
      "[1] Standard Errors assume that the covariance matrix of the errors is correctly specified.\n",
      "[2] The condition number is large, 1.05e+03. This might indicate that there are\n",
      "strong multicollinearity or other numerical problems.\n"
     ]
    }
   ],
   "source": [
    "# modele linéaire \n",
    "model_lin = smf.ols(\"label ~ Distancemmin + Nombre_de_sprints + Accélération_max + Deceleration_max + Nb_acc_4_5ms + Nb_dec_5_4ms + Nombre_de_sprints \", data)\n",
    "results_lin = model_lin.fit()\n",
    "print(results_lin.summary())"
   ]
  },
  {
   "cell_type": "code",
   "execution_count": 538,
   "metadata": {},
   "outputs": [
    {
     "name": "stdout",
     "output_type": "stream",
     "text": [
      "582     0.306652\n",
      "612     0.242340\n",
      "627     0.316191\n",
      "634     0.260578\n",
      "638     0.288997\n",
      "654     0.270659\n",
      "657     0.277028\n",
      "672     0.291584\n",
      "678     0.270250\n",
      "696     0.268128\n",
      "703     0.271976\n",
      "723     0.269575\n",
      "726     0.272819\n",
      "758     0.265520\n",
      "768     0.263603\n",
      "783     0.273580\n",
      "805     0.271502\n",
      "816     0.272269\n",
      "830     0.277681\n",
      "834     0.253391\n",
      "857     0.294332\n",
      "884     0.276587\n",
      "888     0.253175\n",
      "898     0.293506\n",
      "919     0.258307\n",
      "921     0.288422\n",
      "940     0.291470\n",
      "942     0.292694\n",
      "964     0.280089\n",
      "969     0.290416\n",
      "1004    0.293816\n",
      "1022    0.288644\n",
      "1032    0.297734\n",
      "1044    0.295723\n",
      "1064    0.287137\n",
      "dtype: float64\n",
      "-----------------\n",
      "-----------------\n"
     ]
    }
   ],
   "source": [
    "\n",
    "\n",
    "data_player = data[data['PLAYER_NAME'] == 'J.Simo']\n",
    "# mettre les données dans le model\n",
    "# voir la proba que le joueur soit pro\n",
    "\n",
    "print(results_lmm.predict(data_player))\n",
    "print('-----------------')\n",
    "#print(results.predict(data_player))\n",
    "\n",
    "print('-----------------')\n",
    "#print(results_lin.predict(data_player))\n"
   ]
  }
 ],
 "metadata": {
  "kernelspec": {
   "display_name": "mon_env",
   "language": "python",
   "name": "python3"
  },
  "language_info": {
   "codemirror_mode": {
    "name": "ipython",
    "version": 3
   },
   "file_extension": ".py",
   "mimetype": "text/x-python",
   "name": "python",
   "nbconvert_exporter": "python",
   "pygments_lexer": "ipython3",
   "version": "3.12.0"
  }
 },
 "nbformat": 4,
 "nbformat_minor": 2
}
