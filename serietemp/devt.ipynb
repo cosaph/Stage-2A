{
 "cells": [
  {
   "cell_type": "code",
   "execution_count": 62,
   "metadata": {},
   "outputs": [
    {
     "name": "stdout",
     "output_type": "stream",
     "text": [
      "Valeur initiale: 1.82\n",
      "Valeur finale: 2.40\n",
      "Variation en pourcentage du développement du joueur: 32.46%\n",
      "Variation en pourcentage de la prédiction future: 7.21%\n"
     ]
    },
    {
     "name": "stderr",
     "output_type": "stream",
     "text": [
      "/Users/cosaph/Desktop/fc servette/mon_env/lib/python3.12/site-packages/statsmodels/tsa/base/tsa_model.py:473: ValueWarning:\n",
      "\n",
      "An unsupported index was provided and will be ignored when e.g. forecasting.\n",
      "\n",
      "/Users/cosaph/Desktop/fc servette/mon_env/lib/python3.12/site-packages/statsmodels/tsa/base/tsa_model.py:836: ValueWarning:\n",
      "\n",
      "No supported index is available. Prediction results will be given with an integer index beginning at `start`.\n",
      "\n",
      "/Users/cosaph/Desktop/fc servette/mon_env/lib/python3.12/site-packages/statsmodels/tsa/base/tsa_model.py:836: FutureWarning:\n",
      "\n",
      "No supported index is available. In the next version, calling this method in a model without a supported index will result in an exception.\n",
      "\n"
     ]
    }
   ],
   "source": [
    "import numpy as np\n",
    "import pandas as pd\n",
    "from statsmodels.tsa.holtwinters import ExponentialSmoothing\n",
    "import plotly.graph_objs as go\n",
    "from plotly.subplots import make_subplots\n",
    "\n",
    "# Charger les données\n",
    "data = pd.read_csv('/Users/cosaph/Desktop/fc servette/data_model.csv')\n",
    "\n",
    "player = 'J.Simo'\n",
    "data_player = data[data['PLAYER_NAME'] == player]\n",
    "\n",
    "# Fonction pour générer des sessions futures (à adapter à tes données)\n",
    "def generate_future_sessions(current_sessions, steps):\n",
    "    last_session = current_sessions.iloc[-1]\n",
    "    future_sessions = []\n",
    "    for i in range(1, steps + 1):\n",
    "        new_session = f\"{last_session}_{i}\"\n",
    "        future_sessions.append(new_session)\n",
    "    return pd.Series(future_sessions)\n",
    "\n",
    "features = ['Distance m/min', 'Nombre de sprints', 'Accélération max', 'Nb acc [4/5] ms²', 'Vmax']\n",
    "data = data_player[features]\n",
    "df = pd.DataFrame(data)\n",
    "\n",
    "# Calcul du z-score pour chaque feature\n",
    "df = (df - df.mean()) / df.std()\n",
    "df_normalized = (df - df.min()) / (df.max() - df.min()) # entre 0 et 1\n",
    "\n",
    "# Calcul de la somme des z-scores normalisés\n",
    "df_normalized['sum_z_scores'] = df_normalized.sum(axis=1)\n",
    "#print(df_normalized)\n",
    "\n",
    "# Lissage exponentiel sur la somme des z-scores normalisés\n",
    "# Single Exponential Smoothing\n",
    "model = ExponentialSmoothing(df_normalized['sum_z_scores'], trend='add')\n",
    "model_fit = model.fit()\n",
    "smoothed_data = model_fit.fittedvalues\n",
    "\n",
    "# Prédictions futures\n",
    "future_steps = 10\n",
    "future_predictions = model_fit.forecast(steps=future_steps)\n",
    "future_sessions = generate_future_sessions(data_player['SESSION_ID'], future_steps)\n",
    "\n",
    "# Calcul de la variation en pourcentage relatif de la moyenne glissante\n",
    "initial_value = smoothed_data.iloc[0]\n",
    "final_value = smoothed_data.iloc[-1]\n",
    "print(f\"Valeur initiale: {initial_value:.2f}\")\n",
    "print(f\"Valeur finale: {final_value:.2f}\")\n",
    "\n",
    "percentage_change = ((final_value - initial_value) / initial_value) * 100\n",
    "\n",
    "print(f\"Variation en pourcentage du développement du joueur: {percentage_change:.2f}%\")\n",
    "\n",
    "# calculer la variation en pourcentage pour la prédiction future\n",
    "future_percentage_change = ((future_predictions.iloc[-1] - final_value) / final_value) * 100\n",
    "print(f\"Variation en pourcentage de la prédiction future: {future_percentage_change:.2f}%\")\n",
    "\n"
   ]
  },
  {
   "cell_type": "code",
   "execution_count": 63,
   "metadata": {},
   "outputs": [
    {
     "data": {
      "application/vnd.plotly.v1+json": {
       "config": {
        "plotlyServerURL": "https://plot.ly"
       },
       "data": [
        {
         "mode": "lines",
         "name": "Somme des z-scores normalisés",
         "type": "scatter",
         "x": [
          "match 1",
          "match 2",
          "match 3",
          "match 4",
          "match 5",
          "match 6",
          "match 7",
          "match 8",
          "match 9",
          "match 10",
          "match 11",
          "match 12",
          "match 13",
          "match 14",
          "match 15",
          "match 16",
          "match 17",
          "match 18",
          "match 19",
          "match 20",
          "match 21",
          "match 22",
          "match 23",
          "match 24",
          "match 25",
          "match 26",
          "match 27",
          "match 28",
          "match 29",
          "match 30",
          "match 31",
          "match 32",
          "match 33",
          "match 34",
          "match 35"
         ],
         "xaxis": "x",
         "y": [
          2.4381729378445525,
          1.2362706332992721,
          1.0498540044087963,
          2.0315206114627857,
          1.6803605084905966,
          2.079880642110714,
          1.6208175710148889,
          1.789890176742482,
          1.1189175925506174,
          3.2130960657482603,
          1.5595491701324367,
          2.0858850942813842,
          1.724472553023859,
          3.0854368686953015,
          2.0198248478570027,
          3.452850416246593,
          2.401549085437446,
          3.0277010315927932,
          2.2549432470831574,
          1.2224405207724462,
          2.383656967627509,
          0.8942866004616683,
          1.509542624291472,
          2.485478189890784,
          2.4163205704132684,
          2.296371773152407,
          2.6772903257110734,
          1.7686759530790623,
          2.4298591629376025,
          1.9963369370049804,
          2.330472210614104,
          2.471171457120111,
          1.7924212572953795,
          2.1634000277294185,
          3.1363204098909376
         ],
         "yaxis": "y"
        },
        {
         "mode": "lines",
         "name": "Lissage exponentiel",
         "type": "scatter",
         "x": [
          "match 1",
          "match 2",
          "match 3",
          "match 4",
          "match 5",
          "match 6",
          "match 7",
          "match 8",
          "match 9",
          "match 10",
          "match 11",
          "match 12",
          "match 13",
          "match 14",
          "match 15",
          "match 16",
          "match 17",
          "match 18",
          "match 19",
          "match 20",
          "match 21",
          "match 22",
          "match 23",
          "match 24",
          "match 25",
          "match 26",
          "match 27",
          "match 28",
          "match 29",
          "match 30",
          "match 31",
          "match 32",
          "match 33",
          "match 34",
          "match 35"
         ],
         "xaxis": "x",
         "y": [
          1.815269299137934,
          1.832598068536557,
          1.849926819767215,
          1.8672555679618292,
          1.8845843305262022,
          1.9019130875996613,
          1.9192418503682176,
          1.93657060603798,
          1.9538993639689028,
          1.9712281116433328,
          1.9885568902652457,
          2.0058856439891626,
          2.02321440529788,
          2.04054316096291,
          2.057871936649677,
          2.075200696199363,
          2.092529476844583,
          2.1098582415659672,
          2.127187015359527,
          2.144515777379876,
          2.161844523756512,
          2.179173287178408,
          2.1965020281487306,
          2.2138307780288664,
          2.231159542193362,
          2.2484883050691096,
          2.2658170658992614,
          2.283145832147325,
          2.3004745845977563,
          2.3178033466423695,
          2.335132101968777,
          2.3524608620159713,
          2.36978962390153,
          2.3871183754147003,
          2.404447132197668
         ],
         "yaxis": "y"
        },
        {
         "mode": "lines",
         "name": "Prédictions futures",
         "type": "scatter",
         "x": [
          "1ef0a372b4756a4d91b23f70099cba95_1",
          "1ef0a372b4756a4d91b23f70099cba95_2",
          "1ef0a372b4756a4d91b23f70099cba95_3",
          "1ef0a372b4756a4d91b23f70099cba95_4",
          "1ef0a372b4756a4d91b23f70099cba95_5",
          "1ef0a372b4756a4d91b23f70099cba95_6",
          "1ef0a372b4756a4d91b23f70099cba95_7",
          "1ef0a372b4756a4d91b23f70099cba95_8",
          "1ef0a372b4756a4d91b23f70099cba95_9",
          "1ef0a372b4756a4d91b23f70099cba95_10"
         ],
         "xaxis": "x",
         "y": [
          2.4217759032200656,
          2.439104663336698,
          2.4564334234533303,
          2.4737621835699626,
          2.491090943686595,
          2.508419703803227,
          2.5257484639198595,
          2.543077224036492,
          2.560405984153124,
          2.5777347442697565
         ],
         "yaxis": "y"
        }
       ],
       "layout": {
        "template": {
         "data": {
          "bar": [
           {
            "error_x": {
             "color": "#2a3f5f"
            },
            "error_y": {
             "color": "#2a3f5f"
            },
            "marker": {
             "line": {
              "color": "#E5ECF6",
              "width": 0.5
             },
             "pattern": {
              "fillmode": "overlay",
              "size": 10,
              "solidity": 0.2
             }
            },
            "type": "bar"
           }
          ],
          "barpolar": [
           {
            "marker": {
             "line": {
              "color": "#E5ECF6",
              "width": 0.5
             },
             "pattern": {
              "fillmode": "overlay",
              "size": 10,
              "solidity": 0.2
             }
            },
            "type": "barpolar"
           }
          ],
          "carpet": [
           {
            "aaxis": {
             "endlinecolor": "#2a3f5f",
             "gridcolor": "white",
             "linecolor": "white",
             "minorgridcolor": "white",
             "startlinecolor": "#2a3f5f"
            },
            "baxis": {
             "endlinecolor": "#2a3f5f",
             "gridcolor": "white",
             "linecolor": "white",
             "minorgridcolor": "white",
             "startlinecolor": "#2a3f5f"
            },
            "type": "carpet"
           }
          ],
          "choropleth": [
           {
            "colorbar": {
             "outlinewidth": 0,
             "ticks": ""
            },
            "type": "choropleth"
           }
          ],
          "contour": [
           {
            "colorbar": {
             "outlinewidth": 0,
             "ticks": ""
            },
            "colorscale": [
             [
              0,
              "#0d0887"
             ],
             [
              0.1111111111111111,
              "#46039f"
             ],
             [
              0.2222222222222222,
              "#7201a8"
             ],
             [
              0.3333333333333333,
              "#9c179e"
             ],
             [
              0.4444444444444444,
              "#bd3786"
             ],
             [
              0.5555555555555556,
              "#d8576b"
             ],
             [
              0.6666666666666666,
              "#ed7953"
             ],
             [
              0.7777777777777778,
              "#fb9f3a"
             ],
             [
              0.8888888888888888,
              "#fdca26"
             ],
             [
              1,
              "#f0f921"
             ]
            ],
            "type": "contour"
           }
          ],
          "contourcarpet": [
           {
            "colorbar": {
             "outlinewidth": 0,
             "ticks": ""
            },
            "type": "contourcarpet"
           }
          ],
          "heatmap": [
           {
            "colorbar": {
             "outlinewidth": 0,
             "ticks": ""
            },
            "colorscale": [
             [
              0,
              "#0d0887"
             ],
             [
              0.1111111111111111,
              "#46039f"
             ],
             [
              0.2222222222222222,
              "#7201a8"
             ],
             [
              0.3333333333333333,
              "#9c179e"
             ],
             [
              0.4444444444444444,
              "#bd3786"
             ],
             [
              0.5555555555555556,
              "#d8576b"
             ],
             [
              0.6666666666666666,
              "#ed7953"
             ],
             [
              0.7777777777777778,
              "#fb9f3a"
             ],
             [
              0.8888888888888888,
              "#fdca26"
             ],
             [
              1,
              "#f0f921"
             ]
            ],
            "type": "heatmap"
           }
          ],
          "heatmapgl": [
           {
            "colorbar": {
             "outlinewidth": 0,
             "ticks": ""
            },
            "colorscale": [
             [
              0,
              "#0d0887"
             ],
             [
              0.1111111111111111,
              "#46039f"
             ],
             [
              0.2222222222222222,
              "#7201a8"
             ],
             [
              0.3333333333333333,
              "#9c179e"
             ],
             [
              0.4444444444444444,
              "#bd3786"
             ],
             [
              0.5555555555555556,
              "#d8576b"
             ],
             [
              0.6666666666666666,
              "#ed7953"
             ],
             [
              0.7777777777777778,
              "#fb9f3a"
             ],
             [
              0.8888888888888888,
              "#fdca26"
             ],
             [
              1,
              "#f0f921"
             ]
            ],
            "type": "heatmapgl"
           }
          ],
          "histogram": [
           {
            "marker": {
             "pattern": {
              "fillmode": "overlay",
              "size": 10,
              "solidity": 0.2
             }
            },
            "type": "histogram"
           }
          ],
          "histogram2d": [
           {
            "colorbar": {
             "outlinewidth": 0,
             "ticks": ""
            },
            "colorscale": [
             [
              0,
              "#0d0887"
             ],
             [
              0.1111111111111111,
              "#46039f"
             ],
             [
              0.2222222222222222,
              "#7201a8"
             ],
             [
              0.3333333333333333,
              "#9c179e"
             ],
             [
              0.4444444444444444,
              "#bd3786"
             ],
             [
              0.5555555555555556,
              "#d8576b"
             ],
             [
              0.6666666666666666,
              "#ed7953"
             ],
             [
              0.7777777777777778,
              "#fb9f3a"
             ],
             [
              0.8888888888888888,
              "#fdca26"
             ],
             [
              1,
              "#f0f921"
             ]
            ],
            "type": "histogram2d"
           }
          ],
          "histogram2dcontour": [
           {
            "colorbar": {
             "outlinewidth": 0,
             "ticks": ""
            },
            "colorscale": [
             [
              0,
              "#0d0887"
             ],
             [
              0.1111111111111111,
              "#46039f"
             ],
             [
              0.2222222222222222,
              "#7201a8"
             ],
             [
              0.3333333333333333,
              "#9c179e"
             ],
             [
              0.4444444444444444,
              "#bd3786"
             ],
             [
              0.5555555555555556,
              "#d8576b"
             ],
             [
              0.6666666666666666,
              "#ed7953"
             ],
             [
              0.7777777777777778,
              "#fb9f3a"
             ],
             [
              0.8888888888888888,
              "#fdca26"
             ],
             [
              1,
              "#f0f921"
             ]
            ],
            "type": "histogram2dcontour"
           }
          ],
          "mesh3d": [
           {
            "colorbar": {
             "outlinewidth": 0,
             "ticks": ""
            },
            "type": "mesh3d"
           }
          ],
          "parcoords": [
           {
            "line": {
             "colorbar": {
              "outlinewidth": 0,
              "ticks": ""
             }
            },
            "type": "parcoords"
           }
          ],
          "pie": [
           {
            "automargin": true,
            "type": "pie"
           }
          ],
          "scatter": [
           {
            "fillpattern": {
             "fillmode": "overlay",
             "size": 10,
             "solidity": 0.2
            },
            "type": "scatter"
           }
          ],
          "scatter3d": [
           {
            "line": {
             "colorbar": {
              "outlinewidth": 0,
              "ticks": ""
             }
            },
            "marker": {
             "colorbar": {
              "outlinewidth": 0,
              "ticks": ""
             }
            },
            "type": "scatter3d"
           }
          ],
          "scattercarpet": [
           {
            "marker": {
             "colorbar": {
              "outlinewidth": 0,
              "ticks": ""
             }
            },
            "type": "scattercarpet"
           }
          ],
          "scattergeo": [
           {
            "marker": {
             "colorbar": {
              "outlinewidth": 0,
              "ticks": ""
             }
            },
            "type": "scattergeo"
           }
          ],
          "scattergl": [
           {
            "marker": {
             "colorbar": {
              "outlinewidth": 0,
              "ticks": ""
             }
            },
            "type": "scattergl"
           }
          ],
          "scattermapbox": [
           {
            "marker": {
             "colorbar": {
              "outlinewidth": 0,
              "ticks": ""
             }
            },
            "type": "scattermapbox"
           }
          ],
          "scatterpolar": [
           {
            "marker": {
             "colorbar": {
              "outlinewidth": 0,
              "ticks": ""
             }
            },
            "type": "scatterpolar"
           }
          ],
          "scatterpolargl": [
           {
            "marker": {
             "colorbar": {
              "outlinewidth": 0,
              "ticks": ""
             }
            },
            "type": "scatterpolargl"
           }
          ],
          "scatterternary": [
           {
            "marker": {
             "colorbar": {
              "outlinewidth": 0,
              "ticks": ""
             }
            },
            "type": "scatterternary"
           }
          ],
          "surface": [
           {
            "colorbar": {
             "outlinewidth": 0,
             "ticks": ""
            },
            "colorscale": [
             [
              0,
              "#0d0887"
             ],
             [
              0.1111111111111111,
              "#46039f"
             ],
             [
              0.2222222222222222,
              "#7201a8"
             ],
             [
              0.3333333333333333,
              "#9c179e"
             ],
             [
              0.4444444444444444,
              "#bd3786"
             ],
             [
              0.5555555555555556,
              "#d8576b"
             ],
             [
              0.6666666666666666,
              "#ed7953"
             ],
             [
              0.7777777777777778,
              "#fb9f3a"
             ],
             [
              0.8888888888888888,
              "#fdca26"
             ],
             [
              1,
              "#f0f921"
             ]
            ],
            "type": "surface"
           }
          ],
          "table": [
           {
            "cells": {
             "fill": {
              "color": "#EBF0F8"
             },
             "line": {
              "color": "white"
             }
            },
            "header": {
             "fill": {
              "color": "#C8D4E3"
             },
             "line": {
              "color": "white"
             }
            },
            "type": "table"
           }
          ]
         },
         "layout": {
          "annotationdefaults": {
           "arrowcolor": "#2a3f5f",
           "arrowhead": 0,
           "arrowwidth": 1
          },
          "autotypenumbers": "strict",
          "coloraxis": {
           "colorbar": {
            "outlinewidth": 0,
            "ticks": ""
           }
          },
          "colorscale": {
           "diverging": [
            [
             0,
             "#8e0152"
            ],
            [
             0.1,
             "#c51b7d"
            ],
            [
             0.2,
             "#de77ae"
            ],
            [
             0.3,
             "#f1b6da"
            ],
            [
             0.4,
             "#fde0ef"
            ],
            [
             0.5,
             "#f7f7f7"
            ],
            [
             0.6,
             "#e6f5d0"
            ],
            [
             0.7,
             "#b8e186"
            ],
            [
             0.8,
             "#7fbc41"
            ],
            [
             0.9,
             "#4d9221"
            ],
            [
             1,
             "#276419"
            ]
           ],
           "sequential": [
            [
             0,
             "#0d0887"
            ],
            [
             0.1111111111111111,
             "#46039f"
            ],
            [
             0.2222222222222222,
             "#7201a8"
            ],
            [
             0.3333333333333333,
             "#9c179e"
            ],
            [
             0.4444444444444444,
             "#bd3786"
            ],
            [
             0.5555555555555556,
             "#d8576b"
            ],
            [
             0.6666666666666666,
             "#ed7953"
            ],
            [
             0.7777777777777778,
             "#fb9f3a"
            ],
            [
             0.8888888888888888,
             "#fdca26"
            ],
            [
             1,
             "#f0f921"
            ]
           ],
           "sequentialminus": [
            [
             0,
             "#0d0887"
            ],
            [
             0.1111111111111111,
             "#46039f"
            ],
            [
             0.2222222222222222,
             "#7201a8"
            ],
            [
             0.3333333333333333,
             "#9c179e"
            ],
            [
             0.4444444444444444,
             "#bd3786"
            ],
            [
             0.5555555555555556,
             "#d8576b"
            ],
            [
             0.6666666666666666,
             "#ed7953"
            ],
            [
             0.7777777777777778,
             "#fb9f3a"
            ],
            [
             0.8888888888888888,
             "#fdca26"
            ],
            [
             1,
             "#f0f921"
            ]
           ]
          },
          "colorway": [
           "#636efa",
           "#EF553B",
           "#00cc96",
           "#ab63fa",
           "#FFA15A",
           "#19d3f3",
           "#FF6692",
           "#B6E880",
           "#FF97FF",
           "#FECB52"
          ],
          "font": {
           "color": "#2a3f5f"
          },
          "geo": {
           "bgcolor": "white",
           "lakecolor": "white",
           "landcolor": "#E5ECF6",
           "showlakes": true,
           "showland": true,
           "subunitcolor": "white"
          },
          "hoverlabel": {
           "align": "left"
          },
          "hovermode": "closest",
          "mapbox": {
           "style": "light"
          },
          "paper_bgcolor": "white",
          "plot_bgcolor": "#E5ECF6",
          "polar": {
           "angularaxis": {
            "gridcolor": "white",
            "linecolor": "white",
            "ticks": ""
           },
           "bgcolor": "#E5ECF6",
           "radialaxis": {
            "gridcolor": "white",
            "linecolor": "white",
            "ticks": ""
           }
          },
          "scene": {
           "xaxis": {
            "backgroundcolor": "#E5ECF6",
            "gridcolor": "white",
            "gridwidth": 2,
            "linecolor": "white",
            "showbackground": true,
            "ticks": "",
            "zerolinecolor": "white"
           },
           "yaxis": {
            "backgroundcolor": "#E5ECF6",
            "gridcolor": "white",
            "gridwidth": 2,
            "linecolor": "white",
            "showbackground": true,
            "ticks": "",
            "zerolinecolor": "white"
           },
           "zaxis": {
            "backgroundcolor": "#E5ECF6",
            "gridcolor": "white",
            "gridwidth": 2,
            "linecolor": "white",
            "showbackground": true,
            "ticks": "",
            "zerolinecolor": "white"
           }
          },
          "shapedefaults": {
           "line": {
            "color": "#2a3f5f"
           }
          },
          "ternary": {
           "aaxis": {
            "gridcolor": "white",
            "linecolor": "white",
            "ticks": ""
           },
           "baxis": {
            "gridcolor": "white",
            "linecolor": "white",
            "ticks": ""
           },
           "bgcolor": "#E5ECF6",
           "caxis": {
            "gridcolor": "white",
            "linecolor": "white",
            "ticks": ""
           }
          },
          "title": {
           "x": 0.05
          },
          "xaxis": {
           "automargin": true,
           "gridcolor": "white",
           "linecolor": "white",
           "ticks": "",
           "title": {
            "standoff": 15
           },
           "zerolinecolor": "white",
           "zerolinewidth": 2
          },
          "yaxis": {
           "automargin": true,
           "gridcolor": "white",
           "linecolor": "white",
           "ticks": "",
           "title": {
            "standoff": 15
           },
           "zerolinecolor": "white",
           "zerolinewidth": 2
          }
         }
        },
        "title": {
         "text": "Somme des z-scores normalisés et lissage exponentiel (Variation: 32.46%)"
        },
        "xaxis": {
         "anchor": "y",
         "domain": [
          0,
          1
         ],
         "ticktext": [
          "match 1",
          "match 6",
          "match 11",
          "match 16",
          "match 21",
          "match 26",
          "match 31"
         ],
         "tickvals": [
          "match 1",
          "match 6",
          "match 11",
          "match 16",
          "match 21",
          "match 26",
          "match 31"
         ]
        },
        "yaxis": {
         "anchor": "x",
         "domain": [
          0,
          1
         ]
        }
       }
      }
     },
     "metadata": {},
     "output_type": "display_data"
    }
   ],
   "source": [
    "# Tracé des z-scores en fonction de SESSION_ID\n",
    "\n",
    "# session id renaming in \"match 1\", \"match 2\", etc in len(math_id)\n",
    "data_player['SESSION_ID'] = ['match ' + str(i) for i in range(1, len(data_player['SESSION_ID']) + 1)]\n",
    "\n",
    "\n",
    "fig = make_subplots(rows=1, cols=1)\n",
    "\n",
    "fig.add_trace(go.Scatter(x=data_player['SESSION_ID'], y=df_normalized['sum_z_scores'], mode='lines', name='Somme des z-scores normalisés'), row=1, col=1)\n",
    "fig.add_trace(go.Scatter(x=data_player['SESSION_ID'], y=smoothed_data, mode='lines', name='Lissage exponentiel'), row=1, col=1)\n",
    "fig.add_trace(go.Scatter(x=future_sessions, y=future_predictions, mode='lines', name='Prédictions futures'), row=1, col=1)\n",
    "\n",
    "\n",
    "fig.update_xaxes(tickvals=data_player['SESSION_ID'][::5], ticktext=data_player['SESSION_ID'][::5], row=1, col=1)\n",
    "\n",
    "fig.update_layout(title_text=f'Somme des z-scores normalisés et lissage exponentiel (Variation: {percentage_change:.2f}%)')\n",
    "fig.show()"
   ]
  }
 ],
 "metadata": {
  "kernelspec": {
   "display_name": "mon_env",
   "language": "python",
   "name": "python3"
  },
  "language_info": {
   "codemirror_mode": {
    "name": "ipython",
    "version": 3
   },
   "file_extension": ".py",
   "mimetype": "text/x-python",
   "name": "python",
   "nbconvert_exporter": "python",
   "pygments_lexer": "ipython3",
   "version": "3.12.0"
  }
 },
 "nbformat": 4,
 "nbformat_minor": 2
}
