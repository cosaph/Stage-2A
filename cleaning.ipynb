{
 "cells": [
  {
   "cell_type": "code",
   "execution_count": 494,
   "metadata": {},
   "outputs": [],
   "source": [
    "\n",
    "import pandas as pd"
   ]
  },
  {
   "cell_type": "code",
   "execution_count": 495,
   "metadata": {},
   "outputs": [],
   "source": [
    "match_played = pd.read_csv(\"/Users/cosaph/Desktop/fc servette/Coralie/Match_player/Export Servette Pro - all games.csv\")\n",
    "all_training = pd.read_csv(\"/Users/cosaph/Desktop/fc servette/Coralie/Export Servette Pro - all training.csv\")"
   ]
  },
  {
   "cell_type": "code",
   "execution_count": 496,
   "metadata": {},
   "outputs": [],
   "source": [
    "\n",
    "match_played = match_played[~match_played['PLAYER_NAME'].isin(['P.Pflücke', 'M.Diallo', 'B.Souaré', 'D.Oberlin', 'J.Onguene', 'R.Rodelin', 'B.Ndiaye', 'O.Rekik', 'C.Bedia', 'N.Vouilloz'])]\n",
    "all_training = all_training[~all_training['PLAYER_NAME'].isin(['P.Pflücke', 'M.Diallo', 'B.Souaré', 'D.Oberlin', 'J.Onguene', 'R.Rodelin', 'B.Ndiaye', 'O.Rekik', 'C.Bedia', 'N.Vouilloz'])]\n",
    "\n",
    "# en M21 V.TRITTEN, J.Simo, I.Kaloga, M.AUBERT\n",
    "\"\"\" match_played = match_played[~match_played['PLAYER_NAME'].isin(['V.TRITTEN', 'J.Simo', 'I.Kaloga', 'M.AUBERT'])]\n",
    "all_training = all_training[~all_training['PLAYER_NAME'].isin(['V.TRITTEN', 'J.Simo', 'I.Kaloga', 'M.AUBERT'])] \"\"\"\n",
    "\n",
    "# en prêt dans un autre club E.Omeragic, H.Touati, S.Camara, N.Henchoz, M.Sawadogo\n",
    "\n",
    "match_played = match_played[~match_played['PLAYER_NAME'].isin(['E.Omeragic', 'H.Touati', 'S.Camara', 'N.Henchoz', 'M.Sawadogo'])]\n",
    "all_training = all_training[~all_training['PLAYER_NAME'].isin(['E.Omeragic', 'H.Touati', 'S.Camara', 'N.Henchoz', 'M.Sawadogo'])]\n",
    "\n",
    "\n",
    "# save to a csv name cleaned_data\n",
    "\n",
    "match_played.to_csv(\"cleaned_match_played.csv\", index=False)"
   ]
  },
  {
   "cell_type": "code",
   "execution_count": 497,
   "metadata": {},
   "outputs": [],
   "source": [
    "# regarde combien ils ont joué # en M21 V.TRITTEN, J.Simo, I.Kaloga, M.AUBERT\n",
    "\n",
    "# M.Aubert 4 matchs\n",
    "\n",
    "# J.Simo 2 matchs\n",
    "\n",
    "# V.Tritten 2 matchs\n",
    "\n",
    "# I.Kaloga 7 matchs\n",
    "\n",
    "# vu qu'on fait un fichier commun je les enlève pas ?\n"
   ]
  },
  {
   "cell_type": "code",
   "execution_count": 498,
   "metadata": {},
   "outputs": [],
   "source": [
    "# merge player id et name M19\n",
    "\n",
    "match_played_M19 = pd.read_csv(\"/Users/cosaph/Desktop/fc servette/Coralie/Match_player/Servette Academy M19 - Match 23_24.csv\")\n",
    "all_training_M19 = pd.read_csv(\"/Users/cosaph/Desktop/fc servette/Coralie/Servette Academy M19 - Training 23_24.csv\")\n",
    "\n",
    "correspondance_M19 = pd.read_csv(\"/Users/cosaph/Desktop/fc servette/Coralie/corespondance/Servette Academy M19 - Correspondance.csv\")\n",
    "\n",
    "# merge player id et name M19\n",
    "\n",
    "match_played_M19 = pd.merge(match_played_M19, correspondance_M19, on='PLAYER_ID')\n",
    "all_training_M19 = pd.merge(all_training_M19, correspondance_M19, on='PLAYER_ID')"
   ]
  },
  {
   "cell_type": "code",
   "execution_count": 499,
   "metadata": {},
   "outputs": [],
   "source": [
    "match_played_M21 = pd.read_csv(\"/Users/cosaph/Desktop/fc servette/Coralie/Match_player/Servette Academy M21 - Match 23_24.csv\")\n",
    "\n",
    "all_training = pd.read_csv(\"/Users/cosaph/Desktop/fc servette/Coralie/Export Servette Pro - all training.csv\")\n",
    "all_training_M21 = pd.read_csv(\"/Users/cosaph/Desktop/fc servette/Coralie/Servette Academy M21 - Training 23_24.csv\")\n",
    "\n",
    "# merging the csv to obtain the names \n",
    "\n",
    "correspondance_M21 = pd.read_csv(\"/Users/cosaph/Desktop/fc servette/Coralie/corespondance/Servette Academy M21 - Correspondance.csv\")\n",
    "\n",
    "# merge player id et name M21\n",
    "\n",
    "match_played_M21 = pd.merge(match_played_M21, correspondance_M21, on='PLAYER_ID')\n",
    "all_training_M21 = pd.merge(all_training_M21, correspondance_M21, on='PLAYER_ID')\n"
   ]
  },
  {
   "cell_type": "code",
   "execution_count": 500,
   "metadata": {},
   "outputs": [
    {
     "name": "stdout",
     "output_type": "stream",
     "text": [
      "86.36170212765957\n",
      "4058.9999999999995\n"
     ]
    }
   ],
   "source": [
    "# combien de match y'a-til eu en M21\n",
    "\n",
    "nombre_match = match_played_M21['DATE'].nunique()\n",
    "#print(nombre_match)\n",
    "\n",
    "max_minute = match_played_M21.groupby('DATE')['DURATION'].max()\n",
    "max_minutes = max_minute.mean()\n",
    "# les M21 ont des match qui ont duré en moyenne 86.36 minutes\n",
    "#print(max_minute)\n",
    "print(max_minutes) \n",
    "print(max_minutes*nombre_match) \n",
    "# sur la saison ça fait environ 4059 minutes"
   ]
  },
  {
   "cell_type": "code",
   "execution_count": 501,
   "metadata": {},
   "outputs": [
    {
     "name": "stdout",
     "output_type": "stream",
     "text": [
      "50\n",
      "     PLAYER_NAME  DURATION\n",
      "0     A.OMERAGIC         0\n",
      "1       A.SALIHI       259\n",
      "2        J.TOMAS       169\n",
      "3    L.SCANDURRA       453\n",
      "4    L.SRDANOVIC       550\n",
      "5         L.ZUKA      1417\n",
      "6      M.ANSELME        60\n",
      "7     M.LAPIERRE       386\n",
      "8     M.LECLERCQ       961\n",
      "9   M.RIZVANOVIC      1323\n",
      "10    R.BENAMMAR       571\n"
     ]
    }
   ],
   "source": [
    "# avant on va regarder si il y  a des M19 qui sont en M21\n",
    "\n",
    "print(len(match_played_M21['PLAYER_NAME'].unique()))\n",
    "\n",
    "# contains the players from the M19 category who also appear in the M21 match data.\n",
    "\n",
    "M19_in_M21 = match_played_M21[match_played_M21['PLAYER_NAME'].isin(match_played_M19['PLAYER_NAME'])]\n",
    "\n",
    "#print(len(M19_in_M21['PLAYER_NAME'].unique()))\n",
    "#print(M19_in_M21['PLAYER_NAME'].unique())\n",
    "\n",
    "# pour ces joueurs on va regarder combien de temps ils ont joué en M21.\n",
    "\n",
    "M19_in_M21_duration = M19_in_M21.groupby('PLAYER_NAME').agg({'DURATION': 'sum'}).reset_index()\n",
    "\n",
    "print(M19_in_M21_duration)\n",
    "\n",
    "# A.OMERAGIC à joué 0 minutes en M21 et M.ANSELME 60 minutes sur les 4059 minutes matchs de cette saison. Je propose de les laisser en M19 \n",
    "# les supprimer de la liste des M21.\n",
    "\n",
    "match_played_M21 = match_played_M21[~match_played_M21['PLAYER_NAME'].isin(['A.OMERAGIC', 'M.ANSELME'])] \n",
    "\n",
    "# maintenant on peut merge les M21 et M19\n",
    "\n",
    "match_played_conc = pd.concat([match_played_M19, match_played_M21], ignore_index=True)\n",
    "\n",
    "# supprimer les colonnes vides \n",
    "\n",
    "match_played_conc = match_played_conc.drop(columns=['Distance [0-7]km/h'])\n",
    "match_played_conc = match_played_conc.drop(columns=['THEME'])\n",
    "\n",
    "# save to a csv name cleaned_data\n",
    "\n",
    "match_played_conc.to_csv(\"cleaned_match_played.csv\", index=False)\n",
    "\n",
    "\n"
   ]
  },
  {
   "cell_type": "code",
   "execution_count": 502,
   "metadata": {},
   "outputs": [],
   "source": [
    "# je veux que player_name soit la premiere colonne\n",
    "\n",
    "cols = match_played_conc.columns.tolist()\n",
    "cols = cols[-1:] + cols[:-1]\n",
    "match_played_conc = match_played_conc[cols]\n"
   ]
  },
  {
   "cell_type": "code",
   "execution_count": 503,
   "metadata": {},
   "outputs": [],
   "source": [
    "# il faut renommer certaines colonnes pour les merge\n",
    "\n",
    "# Peak accel devient Accélération max\n",
    "match_played_conc = match_played_conc.rename(columns={\"Peak accel\": \"Accélération max\"})\n",
    "\n",
    "# Peak decel devient Décélération max\n",
    "match_played_conc = match_played_conc.rename(columns={\"Peak decel\": \"Décélération max\"})"
   ]
  },
  {
   "cell_type": "code",
   "execution_count": 504,
   "metadata": {},
   "outputs": [],
   "source": [
    "# merge M21 M19 and pro\n",
    "\n",
    "match_played_all = pd.concat([match_played_conc, match_played], ignore_index=True)\n",
    "\n",
    "# save to a csv name cleaned_data\n",
    "\n",
    "#match_played_all.to_csv(\"cleaned_match_played.csv\", index=False)\n"
   ]
  },
  {
   "cell_type": "code",
   "execution_count": 505,
   "metadata": {},
   "outputs": [
    {
     "name": "stdout",
     "output_type": "stream",
     "text": [
      "                 Max_speed  Accélération max  Décélération max  \\\n",
      "PLAYER_NAME                                                      \n",
      "A.Antunes            34.98              8.35              9.51   \n",
      "A.Baron              32.41              8.12              7.17   \n",
      "A.DIAS PATRICIO      34.80              6.06              8.33   \n",
      "A.LY                   NaN               NaN               NaN   \n",
      "A.Lyng               31.52              6.07              7.43   \n",
      "...                    ...               ...               ...   \n",
      "V.Berhami            33.89              6.54              8.75   \n",
      "V.TRITTEN            34.07              6.34              9.92   \n",
      "Y.Lahiouel           32.97              5.95              8.30   \n",
      "Y.Severin            35.51              8.72              9.47   \n",
      "l.Ndema              32.53              6.21              7.61   \n",
      "\n",
      "                     PLAYER_NAME              TEAM_ID  Distance_m/min  \\\n",
      "PLAYER_NAME                                                             \n",
      "A.Antunes              A.Antunes       [Servette PRO]          131.59   \n",
      "A.Baron                  A.Baron       [Servette PRO]          121.18   \n",
      "A.DIAS PATRICIO  A.DIAS PATRICIO                [M21]          100.44   \n",
      "A.LY                        A.LY                [M21]             NaN   \n",
      "A.Lyng                    A.Lyng  [M21, Servette PRO]          101.85   \n",
      "...                          ...                  ...             ...   \n",
      "V.Berhami              V.Berhami                [M21]          110.38   \n",
      "V.TRITTEN              V.TRITTEN  [M21, Servette PRO]          105.56   \n",
      "Y.Lahiouel            Y.Lahiouel                [M21]          104.38   \n",
      "Y.Severin              Y.Severin       [Servette PRO]          101.28   \n",
      "l.Ndema                  l.Ndema                [M21]           96.25   \n",
      "\n",
      "                 Max_speed_z  Accélération max_z  Décélération max_z  \n",
      "PLAYER_NAME                                                           \n",
      "A.Antunes           0.389838            0.937992            0.928036  \n",
      "A.Baron            -0.198731            0.772859           -1.352741  \n",
      "A.DIAS PATRICIO     0.348616           -0.706163           -0.222100  \n",
      "A.LY                     NaN                 NaN                 NaN  \n",
      "A.Lyng             -0.402555           -0.698983           -1.099322  \n",
      "...                      ...                 ...                 ...  \n",
      "V.Berhami           0.140212           -0.361537            0.187271  \n",
      "V.TRITTEN           0.181434           -0.505131            1.327659  \n",
      "Y.Lahiouel         -0.070482           -0.785140           -0.251340  \n",
      "Y.Severin           0.511216            1.203642            0.889048  \n",
      "l.Ndema            -0.171249           -0.598467           -0.923877  \n",
      "\n",
      "[90 rows x 9 columns]\n"
     ]
    }
   ],
   "source": [
    "# maintenant qu'on les a tous on va faire un fichier clean_data.csv avec les données de tous les joueurs\n",
    "\n",
    "data_clean = pd.DataFrame()\n",
    "data_clean['Max_speed'] = match_played_all.groupby('PLAYER_NAME')['Vmax'].max()\n",
    "data_clean['Accélération max'] = match_played_all.groupby('PLAYER_NAME')['Accélération max'].max()\n",
    "data_clean['Décélération max'] = match_played_all.groupby('PLAYER_NAME')['Décélération max'].max()\n",
    "data_clean['PLAYER_NAME'] = data_clean.index\n",
    "data_clean['TEAM_ID'] = match_played_all.groupby('PLAYER_NAME')['TEAM_ID'].unique()\n",
    "\n",
    "\n",
    "\n",
    "# je veux les distance m/Min ou le joueeur a joué plus de 60 minutes\n",
    "\n",
    "matchs = match_played_all[match_played_all['DURATION'] > 60]\n",
    "\n",
    "# maintenat je veux prendre le max de distance m/min pour chaque joueur\n",
    "\n",
    "distance_mmin = matchs.groupby('PLAYER_NAME')['Distance m/min'].max()\n",
    "#print(distance_mmin)\n",
    "\n",
    "data_clean['Distance_m/min'] = distance_mmin\n",
    "\n",
    "data_clean['Max_speed_z'] = (data_clean['Max_speed'] - data_clean['Max_speed'].mean()) / data_clean['Max_speed'].std()\n",
    "data_clean['Accélération max_z'] = (data_clean['Accélération max'] - data_clean['Accélération max'].mean()) / data_clean['Accélération max'].std()\n",
    "data_clean['Décélération max_z'] = (data_clean['Décélération max'] - data_clean['Décélération max'].mean()) / data_clean['Décélération max'].std()\n",
    "\n",
    "print(data_clean)\n",
    "\n",
    "\n",
    "#df.to_csv(\"data_clean.csv\")\n",
    "\n",
    "\n",
    "\n",
    "# pour attendance c'est encore en suspent (pas de all_training clean) "
   ]
  },
  {
   "cell_type": "code",
   "execution_count": 506,
   "metadata": {},
   "outputs": [],
   "source": [
    "# mettre tout les nom après les 3 premieres lettre en minuscule faire une fonction \n",
    "\n",
    "def lower_case(name):\n",
    "    return name[:3] + name[3:].lower()\n",
    "\n",
    "data_clean['PLAYER_NAME'] = data_clean['PLAYER_NAME'].apply(lower_case)\n",
    "\n",
    "# S.Lele diba en S.Lele-Diba\n",
    "def change_name(name):\n",
    "    if name == 'S.Lele diba':\n",
    "        return 'S.Lele-diba'\n",
    "    else:\n",
    "        return name\n",
    "    \n",
    "# A.Dias patricio devient A.Dias\n",
    "    \n",
    "def change_name_dias(name):\n",
    "    if name == 'A.Dias patricio':\n",
    "        return 'A.Dias'\n",
    "    else:\n",
    "        return name\n",
    "    \n",
    "# F.Annor-mensah devient F.Annor Mensah\n",
    "    \n",
    "def change_name_mensah(name):\n",
    "    if name == 'F.Annor-mensah':\n",
    "        return 'F.Annor Mensah'\n",
    "    else:\n",
    "        return name\n",
    "    \n",
    "# J.Fonseca costa devient J.Fonseca\n",
    "    \n",
    "def change_name_fonseca(name):\n",
    "    if name == 'J.Fonseca costa':\n",
    "        return 'J.Fonseca'\n",
    "    else:\n",
    "        return name\n",
    "    \n",
    "    \n",
    "\n",
    "    \n",
    "data_clean['PLAYER_NAME'] = data_clean['PLAYER_NAME'].apply(change_name)\n",
    "data_clean['PLAYER_NAME'] = data_clean['PLAYER_NAME'].apply(change_name_dias)\n",
    "data_clean['PLAYER_NAME'] = data_clean['PLAYER_NAME'].apply(change_name_mensah)\n",
    "data_clean['PLAYER_NAME'] = data_clean['PLAYER_NAME'].apply(change_name_fonseca)\n",
    "\n",
    "data_clean.to_csv(\"data_clean.csv\", index=False)"
   ]
  },
  {
   "cell_type": "code",
   "execution_count": 507,
   "metadata": {},
   "outputs": [],
   "source": [
    "# TOTAL minutes played\n",
    "\n",
    "total_minutes = match_played_all.groupby('PLAYER_NAME')['DURATION'].sum()\n",
    "\n",
    "data_clean['Total_minutes'] = total_minutes\n",
    "\n",
    "# je veux que la colonne PLAYER_NAME soit la premiere colonne\n",
    "\n",
    "cols = data_clean.columns.tolist()\n",
    "#il faut que la cols[4] soit la premiere colonne\n",
    "cols = cols[3:4] + cols[:3] + cols[4:]\n",
    "data_clean = data_clean[cols]\n",
    "\n",
    "# save \n",
    "\n",
    "data_clean.to_csv(\"data_clean.csv\", index=False)"
   ]
  },
  {
   "cell_type": "code",
   "execution_count": 508,
   "metadata": {},
   "outputs": [
    {
     "name": "stdout",
     "output_type": "stream",
     "text": [
      "    PLAYER_NAME          Profil\n",
      "4     A.Antunes      Initiateur\n",
      "20      A.Baron    Facilitateur\n",
      "30       A.Dias  MobileFinisher\n",
      "8        A.Lyng        Createur\n",
      "35   A.Mhoumadi     Detonnateur\n",
      "..          ...             ...\n",
      "155         NaN             NaN\n",
      "156         NaN             NaN\n",
      "157         NaN             NaN\n",
      "158         NaN             NaN\n",
      "159         NaN             NaN\n",
      "\n",
      "[160 rows x 2 columns]\n"
     ]
    }
   ],
   "source": [
    "# on va prendre le fichier sfc.xlsx\n",
    "\n",
    "sfc = pd.read_csv(\"/Users/cosaph/Desktop/fc servette/sfc.csv\")\n",
    "\n",
    "lettre_prenom = sfc['Prenom'].str[0]\n",
    "\n",
    "# créer une colonne PLAYER_NAME dans sfc qui prend lettre_prenom + . + Nom\n",
    "\n",
    "sfc['PLAYER_NAME'] = lettre_prenom + '.' + sfc['Nom']\n",
    "\n",
    "# modifier V.Behrami en V.Berhami\n",
    "\n",
    "sfc['PLAYER_NAME'] = sfc['PLAYER_NAME'].replace('V.Behrami', 'V.Berhami')\n",
    "\n",
    "# je veux que la colonne Profil de sfc soit merged dans data_clean\n",
    "\n",
    "# juste la colonne Profil trié avec player_name\n",
    "\n",
    "profil = sfc[['PLAYER_NAME', 'Profil']]\n",
    "profil = profil.sort_values(by='PLAYER_NAME')\n",
    "\n",
    "print(profil)\n",
    "\n",
    "# enlever les lignes vides\n",
    "\n",
    "profil = profil.dropna()\n",
    "\n",
    "# Réinitialisez l'index de data_clean si nécessaire\n",
    "if data_clean.index.name == 'PLAYER_NAME':\n",
    "    data_clean.index.name = None  # Supprimez le nom de l'index pour éviter le conflit\n",
    "    data_clean = data_clean.reset_index(drop=True)  # Réinitialisez l'index sans l'ajouter en tant que colonne\n",
    "\n",
    "# Réinitialisez l'index de profil si nécessaire\n",
    "if profil.index.name == 'PLAYER_NAME':\n",
    "    profil.index.name = None  # Supprimez le nom de l'index pour éviter le conflit\n",
    "    profil = profil.reset_index(drop=True)  # Réinitialisez l'index sans l'ajouter en tant que colonne\n",
    "\n",
    "# Fusionnez les données sur 'PLAYER_NAME'\n",
    "data_clean = pd.merge(data_clean, profil, on='PLAYER_NAME', how='left')\n",
    "\n",
    "# Assurez-vous que 'PLAYER_NAME' est la première colonne\n",
    "cols = ['PLAYER_NAME'] + [col for col in data_clean.columns if col != 'PLAYER_NAME']\n",
    "data_clean = data_clean[cols]\n",
    "\n",
    "\n",
    "# save data_clean\n",
    "\n",
    "data_clean.to_csv(\"data_clean.csv\", index=False)\n",
    "\n"
   ]
  },
  {
   "cell_type": "code",
   "execution_count": 509,
   "metadata": {},
   "outputs": [
    {
     "name": "stdout",
     "output_type": "stream",
     "text": [
      "90\n"
     ]
    }
   ],
   "source": [
    "# combien de ligne il y a dans data_clean\n",
    "\n",
    "print(len(data_clean))"
   ]
  }
 ],
 "metadata": {
  "kernelspec": {
   "display_name": "mon_env",
   "language": "python",
   "name": "python3"
  },
  "language_info": {
   "codemirror_mode": {
    "name": "ipython",
    "version": 3
   },
   "file_extension": ".py",
   "mimetype": "text/x-python",
   "name": "python",
   "nbconvert_exporter": "python",
   "pygments_lexer": "ipython3",
   "version": "3.12.0"
  }
 },
 "nbformat": 4,
 "nbformat_minor": 2
}
