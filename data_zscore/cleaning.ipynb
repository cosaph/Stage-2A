{
 "cells": [
  {
   "cell_type": "code",
   "execution_count": 337,
   "metadata": {},
   "outputs": [],
   "source": [
    "\n",
    "import pandas as pd"
   ]
  },
  {
   "cell_type": "markdown",
   "metadata": {},
   "source": [
    "# Importation des csv"
   ]
  },
  {
   "cell_type": "code",
   "execution_count": 338,
   "metadata": {},
   "outputs": [],
   "source": [
    "match_played = pd.read_csv(\"/Users/cosaph/Desktop/fc servette/Coralie/Match_player/Export Servette Pro - all games.csv\")\n",
    "all_training = pd.read_csv(\"/Users/cosaph/Desktop/fc servette/Coralie/Export Servette Pro - all training.csv\")\n"
   ]
  },
  {
   "cell_type": "code",
   "execution_count": 339,
   "metadata": {},
   "outputs": [],
   "source": [
    "# merge player id et name M19\n",
    "\n",
    "match_played_M19 = pd.read_csv(\"/Users/cosaph/Desktop/fc servette/Coralie/Match_player/Servette Academy M19 - Match 23_24.csv\")\n",
    "all_training_M19 = pd.read_csv(\"/Users/cosaph/Desktop/fc servette/Coralie/Servette Academy M19 - Training 23_24.csv\")\n",
    "\n",
    "correspondance_M19 = pd.read_csv(\"/Users/cosaph/Desktop/fc servette/Coralie/corespondance/Servette Academy M19 - Correspondance.csv\")\n",
    "\n",
    "# merge player id et name M19\n",
    "\n",
    "match_played_M19 = pd.merge(match_played_M19, correspondance_M19, on='PLAYER_ID')\n",
    "all_training_M19 = pd.merge(all_training_M19, correspondance_M19, on='PLAYER_ID')"
   ]
  },
  {
   "cell_type": "code",
   "execution_count": 340,
   "metadata": {},
   "outputs": [],
   "source": [
    "match_played_M21 = pd.read_csv(\"/Users/cosaph/Desktop/fc servette/Coralie/Match_player/Servette Academy M21 - Match 23_24.csv\")\n",
    "\n",
    "all_training = pd.read_csv(\"/Users/cosaph/Desktop/fc servette/Coralie/Export Servette Pro - all training.csv\")\n",
    "all_training_M21 = pd.read_csv(\"/Users/cosaph/Desktop/fc servette/Coralie/Servette Academy M21 - Training 23_24.csv\")\n",
    "\n",
    "# merging the csv to obtain the names \n",
    "\n",
    "correspondance_M21 = pd.read_csv(\"/Users/cosaph/Desktop/fc servette/Coralie/corespondance/Servette Academy M21 - Correspondance.csv\")\n",
    "\n",
    "# merge player id et name M21\n",
    "\n",
    "match_played_M21 = pd.merge(match_played_M21, correspondance_M21, on='PLAYER_ID')\n",
    "all_training_M21 = pd.merge(all_training_M21, correspondance_M21, on='PLAYER_ID')"
   ]
  },
  {
   "cell_type": "markdown",
   "metadata": {},
   "source": [
    "# début du cleaning"
   ]
  },
  {
   "cell_type": "markdown",
   "metadata": {},
   "source": [
    "J.Simo n'a pas de data (nan) chez les pros pour les matchs qu'il à joué \n",
    "M.Aubert est un goal"
   ]
  },
  {
   "cell_type": "code",
   "execution_count": 341,
   "metadata": {},
   "outputs": [],
   "source": [
    "\n",
    "match_played = match_played[~match_played['PLAYER_NAME'].isin(['P.Pflücke', 'M.Diallo', 'B.Souaré', 'D.Oberlin', 'J.Onguene', 'R.Rodelin', 'B.Ndiaye', 'O.Rekik', 'C.Bedia', 'N.Vouilloz'])]\n",
    "all_training = all_training[~all_training['PLAYER_NAME'].isin(['P.Pflücke', 'M.Diallo', 'B.Souaré', 'D.Oberlin', 'J.Onguene', 'R.Rodelin', 'B.Ndiaye', 'O.Rekik', 'C.Bedia', 'N.Vouilloz'])]\n",
    "\n",
    "# en M21 V.TRITTEN, J.Simo, I.Kaloga, M.AUBERT\n",
    "match_played = match_played[~match_played['PLAYER_NAME'].isin(['J.Simo', 'M.AUBERT', 'V.TRITTEN'])]\n",
    "all_training = all_training[~all_training['PLAYER_NAME'].isin(['J.Simo', 'M.AUBERT'])]\n",
    "\n",
    "# en prêt dans un autre club E.Omeragic, H.Touati, S.Camara, N.Henchoz, M.Sawadogo\n",
    "\n",
    "match_played = match_played[~match_played['PLAYER_NAME'].isin(['E.Omeragic', 'H.Touati', 'S.Camara', 'N.Henchoz', 'M.Sawadogo'])]\n",
    "all_training = all_training[~all_training['PLAYER_NAME'].isin(['E.Omeragic', 'H.Touati', 'S.Camara', 'N.Henchoz', 'M.Sawadogo'])]\n"
   ]
  },
  {
   "cell_type": "markdown",
   "metadata": {},
   "source": [
    "## le problème de kaloga dans M21 & pro "
   ]
  },
  {
   "cell_type": "code",
   "execution_count": 342,
   "metadata": {},
   "outputs": [
    {
     "name": "stdout",
     "output_type": "stream",
     "text": [
      "33.63\n",
      "5.32\n",
      "6.47\n",
      "90.33\n"
     ]
    }
   ],
   "source": [
    "\n",
    "\n",
    "# I.Kaloga 7 matchs en pro \n",
    "kaloga_imax = match_played[match_played['PLAYER_NAME'] == 'I.Kaloga']\n",
    "kaloga_max = kaloga_imax[['Vmax', 'Accélération max', 'Décélération max', 'Distance m/min']]\n",
    "#print(kaloga_max)\n",
    "\n",
    "kalogavmax = kaloga_max['Vmax'].max()\n",
    "kalogamax = kaloga_max['Accélération max'].max()\n",
    "kalogdmax = kaloga_max['Décélération max'].max()\n",
    "kalodmax = kaloga_max['Distance m/min'].mean()\n",
    "\n",
    "print(kalogavmax)\n",
    "print(kalogamax)\n",
    "print(kalogdmax)\n",
    "print(kalodmax)\n"
   ]
  },
  {
   "cell_type": "code",
   "execution_count": 343,
   "metadata": {},
   "outputs": [
    {
     "name": "stdout",
     "output_type": "stream",
     "text": [
      "37.5\n",
      "7.09\n",
      "9.52\n",
      "81.33035714285714\n"
     ]
    }
   ],
   "source": [
    "# kaloga en m21 \n",
    "\n",
    "kaloga_imax = match_played_M21[match_played_M21['PLAYER_NAME'] == 'I.Kaloga']\n",
    "kaloga_max = kaloga_imax[['Vmax', 'Peak accel','Peak decel', 'Distance m/min']]\n",
    "#print(kaloga_max)\n",
    "\n",
    "kalogavmax = kaloga_max['Vmax'].max()\n",
    "kalogamax = kaloga_max['Peak accel'].max()\n",
    "kalogdmax = kaloga_max['Peak decel'].max()\n",
    "kalodmax = kaloga_max['Distance m/min'].mean()\n",
    "\n",
    "print(kalogavmax)\n",
    "print(kalogamax)\n",
    "print(kalogdmax)\n",
    "print(kalodmax)"
   ]
  },
  {
   "cell_type": "code",
   "execution_count": 344,
   "metadata": {},
   "outputs": [
    {
     "name": "stdout",
     "output_type": "stream",
     "text": [
      "86.36170212765957\n",
      "4058.9999999999995\n"
     ]
    }
   ],
   "source": [
    "# combien de match y'a-til eu en M21\n",
    "\n",
    "nombre_match = match_played_M21['DATE'].nunique()\n",
    "#print(nombre_match)\n",
    "\n",
    "max_minute = match_played_M21.groupby('DATE')['DURATION'].max()\n",
    "max_minutes = max_minute.mean()\n",
    "\n",
    "# les M21 ont des match qui ont duré en moyenne 86.36 minutes\n",
    "#print(max_minute)\n",
    "print(max_minutes) \n",
    "print(max_minutes*nombre_match) \n",
    "\n",
    "# sur la saison ça fait environ 4059 minutes"
   ]
  },
  {
   "cell_type": "code",
   "execution_count": 345,
   "metadata": {},
   "outputs": [
    {
     "name": "stdout",
     "output_type": "stream",
     "text": [
      "11\n",
      "['A.SALIHI' 'M.RIZVANOVIC' 'M.LECLERCQ' 'L.SCANDURRA' 'L.SRDANOVIC'\n",
      " 'L.ZUKA' 'R.BENAMMAR' 'M.LAPIERRE' 'A.OMERAGIC' 'J.TOMAS' 'M.ANSELME']\n"
     ]
    }
   ],
   "source": [
    "# avant on va regarder si il y  a des M19 qui sont en M21\n",
    "\n",
    "#print(len(match_played_M21['PLAYER_NAME'].unique()))\n",
    "\n",
    "# contains the players from the M19 category who also appear in the M21 match data.\n",
    "\n",
    "M19_in_M21 = match_played_M21[match_played_M21['PLAYER_NAME'].isin(match_played_M19['PLAYER_NAME'])]\n",
    "\n",
    "print(len(M19_in_M21['PLAYER_NAME'].unique()))\n",
    "print(M19_in_M21['PLAYER_NAME'].unique())"
   ]
  },
  {
   "cell_type": "markdown",
   "metadata": {},
   "source": [
    "## on supp M.lapierre, j.tomas des M21 car valeurs nan"
   ]
  },
  {
   "cell_type": "code",
   "execution_count": 346,
   "metadata": {},
   "outputs": [],
   "source": [
    "# supprimer M.LAPIERRE des M21\n",
    "\n",
    "match_played_M21 = match_played_M21[~match_played_M21['PLAYER_NAME'].isin(['M.LAPIERRE', 'J.TOMAS'])]\n",
    "\n",
    "#  A.OMERAGIC  a joué 0 minutes en M21 et ANSELME on a pas ces valeurs (nan)\n",
    "match_played_M21 = match_played_M21[~match_played_M21['PLAYER_NAME'].isin(['A.OMERAGIC', 'ANSELME'])]"
   ]
  },
  {
   "cell_type": "code",
   "execution_count": 347,
   "metadata": {},
   "outputs": [
    {
     "name": "stdout",
     "output_type": "stream",
     "text": [
      "32.67\n",
      "6.6\n",
      "7.29\n",
      "125.41\n"
     ]
    }
   ],
   "source": [
    "aslihi_max = match_played_M21[match_played_M21['PLAYER_NAME'] == 'A.SALIHI']\n",
    "aslihi_max = aslihi_max[['Vmax', 'Peak accel', 'Peak decel', 'Distance m/min']]\n",
    "#print(aslihi_max)\n",
    "\n",
    "aslihivmax = aslihi_max['Vmax'].max()\n",
    "aslihimax = aslihi_max['Peak accel'].max()\n",
    "aslihiddmax = aslihi_max['Peak decel'].max()\n",
    "aslihidmax = aslihi_max['Distance m/min'].max()\n",
    "\n",
    "print(aslihivmax)\n",
    "print(aslihimax)\n",
    "print(aslihiddmax)\n",
    "print(aslihidmax)"
   ]
  },
  {
   "cell_type": "code",
   "execution_count": 348,
   "metadata": {},
   "outputs": [
    {
     "name": "stdout",
     "output_type": "stream",
     "text": [
      "nan\n",
      "nan\n",
      "nan\n",
      "nan\n"
     ]
    }
   ],
   "source": [
    "# M.LAPIERRE\n",
    "\n",
    "lapierre_max = match_played_M21[match_played_M21['PLAYER_NAME'] == 'M.LAPIERRE']\n",
    "lapierre_max = lapierre_max[['Vmax', 'Peak accel', 'Peak decel', 'Distance m/min']]\n",
    "#print(lapierre_max)\n",
    "\n",
    "lapierrevmax = lapierre_max['Vmax'].max()\n",
    "lapierremax = lapierre_max['Peak accel'].max()\n",
    "lapierreddmax = lapierre_max['Peak decel'].max()\n",
    "lapierredmax = lapierre_max['Distance m/min'].max()\n",
    "\n",
    "print(lapierrevmax)\n",
    "print(lapierremax)\n",
    "print(lapierreddmax)\n",
    "print(lapierredmax)"
   ]
  },
  {
   "cell_type": "code",
   "execution_count": 349,
   "metadata": {},
   "outputs": [
    {
     "name": "stdout",
     "output_type": "stream",
     "text": [
      "32.48\n",
      "8.54\n",
      "8.92\n",
      "129.89\n"
     ]
    }
   ],
   "source": [
    "# R.BENAMMAR\n",
    "\n",
    "benammar_max = match_played_M21[match_played_M21['PLAYER_NAME'] == 'R.BENAMMAR']\n",
    "benammar_max = benammar_max[['Vmax', 'Peak accel', 'Peak decel', 'Distance m/min']]\n",
    "#print(benammar_max)\n",
    "\n",
    "benammavmax = benammar_max['Vmax'].max()\n",
    "benammax = benammar_max['Peak accel'].max()\n",
    "benamddmax = benammar_max['Peak decel'].max()\n",
    "benamdmax = benammar_max['Distance m/min'].max()\n",
    "\n",
    "print(benammavmax)\n",
    "print(benammax)\n",
    "print(benamddmax)\n",
    "print(benamdmax)"
   ]
  },
  {
   "cell_type": "code",
   "execution_count": 350,
   "metadata": {},
   "outputs": [
    {
     "name": "stdout",
     "output_type": "stream",
     "text": [
      "32.75\n",
      "6.0\n",
      "8.02\n",
      "109.32\n"
     ]
    }
   ],
   "source": [
    "# L.ZUKA\n",
    "\n",
    "zuka_max = match_played_M21[match_played_M21['PLAYER_NAME'] == 'L.ZUKA']\n",
    "zuka_max = zuka_max[['Vmax', 'Peak accel', 'Peak decel', 'Distance m/min']]\n",
    "#print(zuka_max)\n",
    "\n",
    "zukavmax = zuka_max['Vmax'].max()\n",
    "zukamax = zuka_max['Peak accel'].max()\n",
    "zukaddmax = zuka_max['Peak decel'].max()\n",
    "zukadmax = zuka_max['Distance m/min'].max()\n",
    "\n",
    "print(zukavmax)\n",
    "print(zukamax)\n",
    "print(zukaddmax)\n",
    "print(zukadmax)"
   ]
  },
  {
   "cell_type": "code",
   "execution_count": 351,
   "metadata": {},
   "outputs": [
    {
     "name": "stdout",
     "output_type": "stream",
     "text": [
      "34.5\n",
      "5.79\n",
      "7.82\n",
      "112.37\n"
     ]
    }
   ],
   "source": [
    "#L.SRDANOVIC\n",
    "\n",
    "srdanovic_max = match_played_M21[match_played_M21['PLAYER_NAME'] == 'L.SRDANOVIC']\n",
    "srdanovic_max = srdanovic_max[['Vmax', 'Peak accel', 'Peak decel', 'Distance m/min']]\n",
    "\n",
    "srdanovicvmax = srdanovic_max['Vmax'].max()\n",
    "srdanovicmax = srdanovic_max['Peak accel'].max()\n",
    "srdanovicddmax = srdanovic_max['Peak decel'].max()\n",
    "srdanovicdmax = srdanovic_max['Distance m/min'].max()\n",
    "\n",
    "print(srdanovicvmax)\n",
    "print(srdanovicmax)\n",
    "print(srdanovicddmax)\n",
    "print(srdanovicdmax)"
   ]
  },
  {
   "cell_type": "code",
   "execution_count": 352,
   "metadata": {},
   "outputs": [
    {
     "name": "stdout",
     "output_type": "stream",
     "text": [
      "33.11\n",
      "6.51\n",
      "8.38\n",
      "99.45\n"
     ]
    }
   ],
   "source": [
    "# M.RIZVANOVIC\n",
    "\n",
    "rizvanovic_max = match_played_M21[match_played_M21['PLAYER_NAME'] == 'M.RIZVANOVIC']\n",
    "rizvanovic_max = rizvanovic_max[['Vmax', 'Peak accel', 'Peak decel', 'Distance m/min']]\n",
    "\n",
    "rizvanovicvmax = rizvanovic_max['Vmax'].max()\n",
    "rizvanovicmax = rizvanovic_max['Peak accel'].max()\n",
    "rizvanovicddmax = rizvanovic_max['Peak decel'].max()\n",
    "rizvanovicdmax = rizvanovic_max['Distance m/min'].max()\n",
    "\n",
    "print(rizvanovicvmax)\n",
    "print(rizvanovicmax)\n",
    "print(rizvanovicddmax)\n",
    "print(rizvanovicdmax)"
   ]
  },
  {
   "cell_type": "code",
   "execution_count": 353,
   "metadata": {},
   "outputs": [
    {
     "name": "stdout",
     "output_type": "stream",
     "text": [
      "31.63\n",
      "7.14\n",
      "9.97\n",
      "130.34\n"
     ]
    }
   ],
   "source": [
    "# M.LECLERCQ\n",
    "\n",
    "leclercq_max = match_played_M21[match_played_M21['PLAYER_NAME'] == 'M.LECLERCQ']\n",
    "leclercq_max = leclercq_max[['Vmax', 'Peak accel', 'Peak decel', 'Distance m/min']]\n",
    "\n",
    "leclercqvmax = leclercq_max['Vmax'].max()\n",
    "leclercqmax = leclercq_max['Peak accel'].max()\n",
    "leclercqddmax = leclercq_max['Peak decel'].max()\n",
    "leclercqdmax = leclercq_max['Distance m/min'].max()\n",
    "\n",
    "print(leclercqvmax)\n",
    "print(leclercqmax)\n",
    "print(leclercqddmax)\n",
    "print(leclercqdmax)"
   ]
  },
  {
   "cell_type": "code",
   "execution_count": 354,
   "metadata": {},
   "outputs": [
    {
     "name": "stdout",
     "output_type": "stream",
     "text": [
      "32.69\n",
      "5.94\n",
      "8.2\n",
      "111.13\n"
     ]
    }
   ],
   "source": [
    "# L.SCANDURRA\n",
    "\n",
    "scandurra_max = match_played_M21[match_played_M21['PLAYER_NAME'] == 'L.SCANDURRA']\n",
    "scandurra_max = scandurra_max[['Vmax', 'Peak accel', 'Peak decel', 'Distance m/min']]\n",
    "\n",
    "scandurravmax = scandurra_max['Vmax'].max()\n",
    "scandurramax = scandurra_max['Peak accel'].max()\n",
    "scandurraddmax = scandurra_max['Peak decel'].max()\n",
    "scandurradmax = scandurra_max['Distance m/min'].max()\n",
    "\n",
    "print(scandurravmax)\n",
    "print(scandurramax)\n",
    "print(scandurraddmax)\n",
    "print(scandurradmax)"
   ]
  },
  {
   "cell_type": "code",
   "execution_count": 355,
   "metadata": {},
   "outputs": [
    {
     "name": "stdout",
     "output_type": "stream",
     "text": [
      "41.4\n"
     ]
    }
   ],
   "source": [
    "\n",
    "print(match_played_M19['Vmax'].max())\n",
    "\n",
    "valeur_aberrante = match_played_M19['Vmax'].max()\n",
    "valeur_aberrante_2 = 41.37\n",
    "# supprimer cette valeur aberrante\n",
    "\n",
    "match_played_M19 = match_played_M19[match_played_M19['Vmax'] != valeur_aberrante]\n",
    "match_played_M19 = match_played_M19[match_played_M19['Vmax'] != valeur_aberrante_2]\n"
   ]
  },
  {
   "cell_type": "code",
   "execution_count": 356,
   "metadata": {},
   "outputs": [],
   "source": [
    "\n",
    "\n",
    "\n",
    "# maintenant on peut merge les M21 et M19\n",
    "\n",
    "match_played_conc = pd.concat([match_played_M19, match_played_M21], ignore_index=True)\n",
    "\n",
    "# supprimer les colonnes vides \n",
    "\n",
    "match_played_conc = match_played_conc.drop(columns=['Distance [0-7]km/h'])\n",
    "match_played_conc = match_played_conc.drop(columns=['THEME'])\n",
    "\n",
    "\n"
   ]
  },
  {
   "cell_type": "code",
   "execution_count": 357,
   "metadata": {},
   "outputs": [],
   "source": [
    "# je veux que player_name soit la premiere colonne\n",
    "\n",
    "cols = match_played_conc.columns.tolist()\n",
    "cols = cols[-1:] + cols[:-1]\n",
    "match_played_conc = match_played_conc[cols]\n"
   ]
  },
  {
   "cell_type": "code",
   "execution_count": 358,
   "metadata": {},
   "outputs": [],
   "source": [
    "# il faut renommer certaines colonnes pour les merge\n",
    "\n",
    "# Peak accel devient Accélération max\n",
    "match_played_conc = match_played_conc.rename(columns={\"Peak accel\": \"Accélération max\"})\n",
    "\n",
    "# Peak decel devient Décélération max\n",
    "match_played_conc = match_played_conc.rename(columns={\"Peak decel\": \"Décélération max\"})"
   ]
  },
  {
   "cell_type": "code",
   "execution_count": 359,
   "metadata": {},
   "outputs": [],
   "source": [
    "# merge M21 M19 and pro\n",
    "\n",
    "match_played_all = pd.concat([match_played_conc, match_played], ignore_index=True)\n",
    "\n",
    "# save data_clean\n"
   ]
  },
  {
   "cell_type": "code",
   "execution_count": 360,
   "metadata": {},
   "outputs": [],
   "source": [
    "# maintenant qu'on les a tous on va faire un fichier clean_data.csv avec les données de tous les joueurs\n",
    "\n",
    "data_clean = pd.DataFrame()\n",
    "data_clean['Max_speed'] = match_played_all.groupby('PLAYER_NAME')['Vmax'].max()\n",
    "\n",
    "\n",
    "data_clean['Accélération max'] = match_played_all.groupby('PLAYER_NAME')['Accélération max'].max()\n",
    "data_clean['Décélération max'] = match_played_all.groupby('PLAYER_NAME')['Décélération max'].max()\n",
    "data_clean['PLAYER_NAME'] = data_clean.index\n",
    "data_clean['TEAM_ID'] = match_played_all.groupby('PLAYER_NAME')['TEAM_ID'].unique()\n",
    "\n",
    "\n",
    "\n",
    "# je veux les distance m/Min ou le joueeur a joué plus de 60 minutes\n",
    "\n",
    "matchs = match_played_all[match_played_all['DURATION'] > 60]\n",
    "\n",
    "# maintenat je veux prendre le max de distance m/min pour chaque joueur\n",
    "\n",
    "distance_mmin = matchs.groupby('PLAYER_NAME')['Distance m/min'].max()\n",
    "#print(distance_mmin)\n",
    "\n",
    "data_clean['Distance_m/min'] = distance_mmin\n",
    "\n",
    "# pour attendance c'est encore en suspent (pas de all_training clean) "
   ]
  },
  {
   "cell_type": "code",
   "execution_count": 361,
   "metadata": {},
   "outputs": [],
   "source": [
    "# faire une nouvelle colonne pour les joueurs qui font partie de 2 équipes par exemple M19 et M21\n",
    "# un joueuer qui est en M19 et M21 aura sa colonne TEAM_ID qui contiendra son équipe d'origine donc M19\n",
    "# et une colonne TEAM_ID_2 qui contiendra M21\n",
    "\n",
    "data_clean['TEAM_ID_2'] = data_clean['TEAM_ID'].apply(lambda x: x[1] if len(x) > 1 else None)\n",
    "\n",
    "# donc dans TEAM_ID on supp le deuxieme element\n",
    "\n",
    "data_clean['TEAM_ID'] = data_clean['TEAM_ID'].apply(lambda x: x[0])\n"
   ]
  },
  {
   "cell_type": "code",
   "execution_count": null,
   "metadata": {},
   "outputs": [],
   "source": []
  },
  {
   "cell_type": "code",
   "execution_count": 362,
   "metadata": {},
   "outputs": [],
   "source": [
    "# mettre tout les nom après les 3 premieres lettre en minuscule faire une fonction \n",
    "\n",
    "def lower_case(name):\n",
    "    return name[:3] + name[3:].lower()\n",
    "\n",
    "data_clean['PLAYER_NAME'] = data_clean['PLAYER_NAME'].apply(lower_case)\n",
    "\n",
    "# S.Lele diba en S.Lele-Diba\n",
    "def change_name(name):\n",
    "    if name == 'S.Lele diba':\n",
    "        return 'S.Lele-diba'\n",
    "    else:\n",
    "        return name\n",
    "    \n",
    "# A.Dias patricio devient A.Dias\n",
    "    \n",
    "def change_name_dias(name):\n",
    "    if name == 'A.Dias patricio':\n",
    "        return 'A.Dias'\n",
    "    else:\n",
    "        return name\n",
    "    \n",
    "# F.Annor-mensah devient F.Annor Mensah\n",
    "    \n",
    "def change_name_mensah(name):\n",
    "    if name == 'F.Annor-mensah':\n",
    "        return 'F.Annor Mensah'\n",
    "    else:\n",
    "        return name\n",
    "    \n",
    "# J.Fonseca costa devient J.Fonseca\n",
    "    \n",
    "def change_name_fonseca(name):\n",
    "    if name == 'J.Fonseca costa':\n",
    "        return 'J.Fonseca'\n",
    "    else:\n",
    "        return name\n",
    "    \n",
    "    \n",
    "\n",
    "    \n",
    "data_clean['PLAYER_NAME'] = data_clean['PLAYER_NAME'].apply(change_name)\n",
    "data_clean['PLAYER_NAME'] = data_clean['PLAYER_NAME'].apply(change_name_dias)\n",
    "data_clean['PLAYER_NAME'] = data_clean['PLAYER_NAME'].apply(change_name_mensah)\n",
    "data_clean['PLAYER_NAME'] = data_clean['PLAYER_NAME'].apply(change_name_fonseca)\n"
   ]
  },
  {
   "cell_type": "code",
   "execution_count": 363,
   "metadata": {},
   "outputs": [],
   "source": [
    "# TOTAL minutes played\n",
    "\n",
    "total_minutes = match_played_all.groupby('PLAYER_NAME')['DURATION'].sum()\n",
    "\n",
    "data_clean['Total_minutes'] = total_minutes\n",
    "\n",
    "# je veux que la colonne PLAYER_NAME soit la premiere colonne\n",
    "\n",
    "cols = data_clean.columns.tolist()\n",
    "#il faut que la cols[4] soit la premiere colonne\n",
    "cols = cols[3:4] + cols[:3] + cols[4:]\n",
    "data_clean = data_clean[cols]\n",
    "\n"
   ]
  },
  {
   "cell_type": "code",
   "execution_count": 364,
   "metadata": {},
   "outputs": [],
   "source": [
    "# le calcul des z-score se fait en fonction de team_id, les pro avec les pro, les M21 avec les M21 et les M19 avec les M19 (TEAM_ID)\n",
    "data_clean['Max_speed_z'] = data_clean.groupby('TEAM_ID')['Max_speed'].transform(lambda x: (x - x.mean()) / x.std())\n",
    "data_clean['Accélération_max_z'] = data_clean.groupby('TEAM_ID')['Accélération max'].transform(lambda x: (x - x.mean()) / x.std())\n",
    "data_clean['Décélération_max_z'] = data_clean.groupby('TEAM_ID')['Décélération max'].transform(lambda x: (x - x.mean()) / x.std())\n",
    "\n",
    "data_clean['Distance_m/min_z'] = data_clean.groupby('TEAM_ID')['Distance_m/min'].transform(lambda x: (x - x.mean()) / x.std())\n",
    "\n"
   ]
  },
  {
   "cell_type": "code",
   "execution_count": 365,
   "metadata": {},
   "outputs": [
    {
     "name": "stdout",
     "output_type": "stream",
     "text": [
      "    PLAYER_NAME          Profil Prim_pos\n",
      "4     A.Antunes      Initiateur       AM\n",
      "20      A.Baron    Facilitateur       LB\n",
      "30       A.Dias  MobileFinisher       FW\n",
      "8        A.Lyng        Createur       AM\n",
      "35   A.Mhoumadi     Detonnateur       LW\n",
      "..          ...             ...      ...\n",
      "155         NaN             NaN      NaN\n",
      "156         NaN             NaN      NaN\n",
      "157         NaN             NaN      NaN\n",
      "158         NaN             NaN      NaN\n",
      "159         NaN             NaN      NaN\n",
      "\n",
      "[160 rows x 3 columns]\n"
     ]
    }
   ],
   "source": [
    "# on va prendre le fichier sfc.xlsx\n",
    "\n",
    "sfc = pd.read_csv(\"/Users/cosaph/Desktop/fc servette/Coralie/sfc.csv\")\n",
    "\n",
    "lettre_prenom = sfc['Prenom'].str[0]\n",
    "\n",
    "# créer une colonne PLAYER_NAME dans sfc qui prend lettre_prenom + . + Nom\n",
    "\n",
    "sfc['PLAYER_NAME'] = lettre_prenom + '.' + sfc['Nom']\n",
    "\n",
    "# modifier V.Behrami en V.Berhami\n",
    "\n",
    "sfc['PLAYER_NAME'] = sfc['PLAYER_NAME'].replace('V.Behrami', 'V.Berhami')\n",
    "\n",
    "# je veux que la colonne Profil de sfc soit merged dans data_clean\n",
    "\n",
    "# juste la colonne Profil trié avec player_name\n",
    "\n",
    "profil = sfc[['PLAYER_NAME', 'Profil', 'Prim_pos']]\n",
    "profil = profil.sort_values(by='PLAYER_NAME')\n",
    "\n",
    "print(profil)\n",
    "\n",
    "# enlever les lignes vides\n",
    "\n",
    "profil = profil.dropna()\n",
    "\n",
    "# Réinitialisez l'index de data_clean si nécessaire\n",
    "if data_clean.index.name == 'PLAYER_NAME':\n",
    "    data_clean.index.name = None  # Supprimez le nom de l'index pour éviter le conflit\n",
    "    data_clean = data_clean.reset_index(drop=True)  # Réinitialisez l'index sans l'ajouter en tant que colonne\n",
    "\n",
    "# Réinitialisez l'index de profil si nécessaire\n",
    "if profil.index.name == 'PLAYER_NAME':\n",
    "    profil.index.name = None  # Supprimez le nom de l'index pour éviter le conflit\n",
    "    profil = profil.reset_index(drop=True)  # Réinitialisez l'index sans l'ajouter en tant que colonne\n",
    "\n",
    "# Fusionnez les données sur 'PLAYER_NAME'\n",
    "data_clean = pd.merge(data_clean, profil, on='PLAYER_NAME', how='left')\n",
    "\n",
    "# Assurez-vous que 'PLAYER_NAME' est la première colonne\n",
    "cols = ['PLAYER_NAME'] + [col for col in data_clean.columns if col != 'PLAYER_NAME']\n",
    "data_clean = data_clean[cols]\n",
    "\n",
    "\n",
    "# save data_clean\n",
    "\n",
    "\n",
    "\n"
   ]
  },
  {
   "cell_type": "code",
   "execution_count": 366,
   "metadata": {},
   "outputs": [
    {
     "name": "stdout",
     "output_type": "stream",
     "text": [
      "90\n"
     ]
    }
   ],
   "source": [
    "# combien de ligne il y a dans data_clean\n",
    "\n",
    "print(len(data_clean))"
   ]
  },
  {
   "cell_type": "code",
   "execution_count": 367,
   "metadata": {},
   "outputs": [],
   "source": [
    "# virer le GK\n",
    "\n",
    "data_clean = data_clean[~data_clean['Prim_pos'].isin(['GK'])]\n",
    "\n",
    "# VIRER ceux qui ont pas de valeurs dans les colonnes Max_speed && Accélération max && Décélération max && Distance_m/min \n",
    "\n",
    "data_clean = data_clean.dropna(subset=['Max_speed', 'Accélération max', 'Décélération max', 'Distance_m/min'])\n"
   ]
  },
  {
   "cell_type": "code",
   "execution_count": 368,
   "metadata": {},
   "outputs": [],
   "source": [
    "data_clean.to_csv(\"data_zscore.csv\", index=False)"
   ]
  },
  {
   "cell_type": "code",
   "execution_count": 369,
   "metadata": {},
   "outputs": [
    {
     "name": "stdout",
     "output_type": "stream",
     "text": [
      "67\n"
     ]
    }
   ],
   "source": [
    "print(len(data_clean))"
   ]
  }
 ],
 "metadata": {
  "kernelspec": {
   "display_name": "mon_env",
   "language": "python",
   "name": "python3"
  },
  "language_info": {
   "codemirror_mode": {
    "name": "ipython",
    "version": 3
   },
   "file_extension": ".py",
   "mimetype": "text/x-python",
   "name": "python",
   "nbconvert_exporter": "python",
   "pygments_lexer": "ipython3",
   "version": "3.12.0"
  }
 },
 "nbformat": 4,
 "nbformat_minor": 2
}
